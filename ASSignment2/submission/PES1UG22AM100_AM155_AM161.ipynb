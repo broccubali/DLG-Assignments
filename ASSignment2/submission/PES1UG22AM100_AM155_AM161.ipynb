{
  "nbformat": 4,
  "nbformat_minor": 0,
  "metadata": {
    "colab": {
      "provenance": [],
      "gpuType": "T4"
    },
    "kernelspec": {
      "name": "python3",
      "display_name": "Python 3"
    },
    "language_info": {
      "name": "python"
    },
    "accelerator": "GPU"
  },
  "cells": [
    {
      "cell_type": "markdown",
      "source": [
        "# DLG Assignment 2\n",
        "\n",
        "### Submitted by:\n",
        "- Namita Achyuthan: PES1UG22AM100\n",
        "- Shusrith S: PES1UG22AM155\n",
        "- Siddhi Zanwar: PES1UG22AM161\n",
        "\n",
        "##### * Detailed assignment report available [here](https://docs.google.com/document/d/1etideCaU4pXN6Vzvw4E2q9FvwdNfgt0YcsWTcFIjKDw/edit?usp=sharing)"
      ],
      "metadata": {
        "id": "AL7v3YY3VfeH"
      }
    },
    {
      "cell_type": "code",
      "source": [
        "! pip install torch_geometric"
      ],
      "metadata": {
        "colab": {
          "base_uri": "https://localhost:8080/"
        },
        "id": "Pd2SDPQaIA23",
        "outputId": "d0f3a9f9-3567-48af-b179-78af948c7d8d"
      },
      "execution_count": 2,
      "outputs": [
        {
          "output_type": "stream",
          "name": "stdout",
          "text": [
            "Collecting torch_geometric\n",
            "  Downloading torch_geometric-2.6.1-py3-none-any.whl.metadata (63 kB)\n",
            "\u001b[?25l     \u001b[90m━━━━━━━━━━━━━━━━━━━━━━━━━━━━━━━━━━━━━━━━\u001b[0m \u001b[32m0.0/63.1 kB\u001b[0m \u001b[31m?\u001b[0m eta \u001b[36m-:--:--\u001b[0m\r\u001b[2K     \u001b[90m━━━━━━━━━━━━━━━━━━━━━━━━━━━━━━━━━━━━━━━━\u001b[0m \u001b[32m63.1/63.1 kB\u001b[0m \u001b[31m2.5 MB/s\u001b[0m eta \u001b[36m0:00:00\u001b[0m\n",
            "\u001b[?25hRequirement already satisfied: aiohttp in /usr/local/lib/python3.11/dist-packages (from torch_geometric) (3.11.15)\n",
            "Requirement already satisfied: fsspec in /usr/local/lib/python3.11/dist-packages (from torch_geometric) (2025.3.2)\n",
            "Requirement already satisfied: jinja2 in /usr/local/lib/python3.11/dist-packages (from torch_geometric) (3.1.6)\n",
            "Requirement already satisfied: numpy in /usr/local/lib/python3.11/dist-packages (from torch_geometric) (2.0.2)\n",
            "Requirement already satisfied: psutil>=5.8.0 in /usr/local/lib/python3.11/dist-packages (from torch_geometric) (5.9.5)\n",
            "Requirement already satisfied: pyparsing in /usr/local/lib/python3.11/dist-packages (from torch_geometric) (3.2.3)\n",
            "Requirement already satisfied: requests in /usr/local/lib/python3.11/dist-packages (from torch_geometric) (2.32.3)\n",
            "Requirement already satisfied: tqdm in /usr/local/lib/python3.11/dist-packages (from torch_geometric) (4.67.1)\n",
            "Requirement already satisfied: aiohappyeyeballs>=2.3.0 in /usr/local/lib/python3.11/dist-packages (from aiohttp->torch_geometric) (2.6.1)\n",
            "Requirement already satisfied: aiosignal>=1.1.2 in /usr/local/lib/python3.11/dist-packages (from aiohttp->torch_geometric) (1.3.2)\n",
            "Requirement already satisfied: attrs>=17.3.0 in /usr/local/lib/python3.11/dist-packages (from aiohttp->torch_geometric) (25.3.0)\n",
            "Requirement already satisfied: frozenlist>=1.1.1 in /usr/local/lib/python3.11/dist-packages (from aiohttp->torch_geometric) (1.5.0)\n",
            "Requirement already satisfied: multidict<7.0,>=4.5 in /usr/local/lib/python3.11/dist-packages (from aiohttp->torch_geometric) (6.2.0)\n",
            "Requirement already satisfied: propcache>=0.2.0 in /usr/local/lib/python3.11/dist-packages (from aiohttp->torch_geometric) (0.3.1)\n",
            "Requirement already satisfied: yarl<2.0,>=1.17.0 in /usr/local/lib/python3.11/dist-packages (from aiohttp->torch_geometric) (1.18.3)\n",
            "Requirement already satisfied: MarkupSafe>=2.0 in /usr/local/lib/python3.11/dist-packages (from jinja2->torch_geometric) (3.0.2)\n",
            "Requirement already satisfied: charset-normalizer<4,>=2 in /usr/local/lib/python3.11/dist-packages (from requests->torch_geometric) (3.4.1)\n",
            "Requirement already satisfied: idna<4,>=2.5 in /usr/local/lib/python3.11/dist-packages (from requests->torch_geometric) (3.10)\n",
            "Requirement already satisfied: urllib3<3,>=1.21.1 in /usr/local/lib/python3.11/dist-packages (from requests->torch_geometric) (2.3.0)\n",
            "Requirement already satisfied: certifi>=2017.4.17 in /usr/local/lib/python3.11/dist-packages (from requests->torch_geometric) (2025.1.31)\n",
            "Downloading torch_geometric-2.6.1-py3-none-any.whl (1.1 MB)\n",
            "\u001b[?25l   \u001b[90m━━━━━━━━━━━━━━━━━━━━━━━━━━━━━━━━━━━━━━━━\u001b[0m \u001b[32m0.0/1.1 MB\u001b[0m \u001b[31m?\u001b[0m eta \u001b[36m-:--:--\u001b[0m\r\u001b[2K   \u001b[91m━━━━━━━━━━━━━━━━━━━━━━━━━━━━━━━━━━━━━━━\u001b[0m\u001b[91m╸\u001b[0m \u001b[32m1.1/1.1 MB\u001b[0m \u001b[31m42.8 MB/s\u001b[0m eta \u001b[36m0:00:01\u001b[0m\r\u001b[2K   \u001b[90m━━━━━━━━━━━━━━━━━━━━━━━━━━━━━━━━━━━━━━━━\u001b[0m \u001b[32m1.1/1.1 MB\u001b[0m \u001b[31m25.7 MB/s\u001b[0m eta \u001b[36m0:00:00\u001b[0m\n",
            "\u001b[?25hInstalling collected packages: torch_geometric\n",
            "Successfully installed torch_geometric-2.6.1\n"
          ]
        }
      ]
    },
    {
      "cell_type": "code",
      "source": [
        "import pandas as pd\n",
        "import json\n",
        "import matplotlib.pyplot as plt\n",
        "import torch\n",
        "import torch.nn.functional as F\n",
        "from torch_geometric.nn import HypergraphConv\n",
        "from torch_geometric.data import Data\n",
        "from torch_geometric.loader import DataLoader\n",
        "from sklearn.preprocessing import StandardScaler\n",
        "from sklearn.preprocessing import MinMaxScaler, RobustScaler\n",
        "from tqdm import tqdm\n",
        "import numpy as np\n",
        "import networkx as nx\n",
        "import torch\n",
        "import math\n",
        "from copy import deepcopy\n",
        "from sklearn.ensemble import RandomForestRegressor\n",
        "from sklearn.multioutput import MultiOutputRegressor\n",
        "from sklearn.metrics import mean_squared_error, mean_absolute_percentage_error"
      ],
      "metadata": {
        "id": "iwciCuvAIEKJ"
      },
      "execution_count": 87,
      "outputs": []
    },
    {
      "cell_type": "markdown",
      "source": [
        "## Dataset Overview and Preprocessing"
      ],
      "metadata": {
        "id": "YA9NVbASIO4F"
      }
    },
    {
      "cell_type": "markdown",
      "source": [
        "We began our exploration by examining the four provided files: `train_stock_data.csv`, `validation_stock_data.csv`, `hyperedges.json`, and `bling_test_cases.json`. The training and validation datasets contained **20,160** and **2,000** entries, respectively. The `hyperedges.json` file described **eight hyperedges**, and there were **120 test cases** in `bling_test_cases.json`.\n",
        "\n",
        "Upon inspecting the training dataset, we found **20 unique tickers**, each represented by five attributes: **Open, Close, Volume, High, and Low**. This resulted in a sparse structure with **102 columns**. We decoded the hypergraph and assigned numerical identifiers to each ticker for easier referencing.\n",
        "\n",
        "We encountered an issue with the **date format**, which was inconsistent. We resolved this by applying Pandas' `to_datetime` function and sorting by ticker and date. To enhance interpretability, we transformed the data into a more conventional time-series format with clear columns: **Date, Ticker, Open, High, Low, Close, and Volume**.\n",
        "\n",
        "Visualizing the data revealed significant variations across companies, prompting us to consider **normalization techniques**. We tested three primary scaling methods:  \n",
        "- **Standard Scaler**: Removes the mean and scales to unit variance.\n",
        "- **Min-Max Scaler**: Scales features to a given range, typically between 0 and 1.\n",
        "- **Robust Scaler**: Uses the median and interquartile range, making it less sensitive to outliers.\n",
        "\n",
        "\n",
        "\n",
        "We ended up choosing the robust scaler since it gave us the least MAPE upon model evaluation.\n",
        "\n",
        "\n",
        "---\n",
        "\n",
        "At this stage, we had completed the foundational preprocessing steps, marking the point where our approaches began to diverge for downstream experimentation."
      ],
      "metadata": {
        "id": "3dLqlRyoQriC"
      }
    },
    {
      "cell_type": "code",
      "source": [
        "train_data = pd.read_csv('/content/DLG-Assignments/ASSignment2/train_stock_data.csv')\n",
        "train_data['Date'] = pd.to_datetime(train_data['Date'], format='%Y-%m-%d') # date is a string make it a datetime obj\n",
        "train_data.sort_values(['Ticker', 'Date'], inplace=True) # sort the ticker by date"
      ],
      "metadata": {
        "id": "KtB1DDyVINVY"
      },
      "execution_count": 4,
      "outputs": []
    },
    {
      "cell_type": "code",
      "source": [
        "validation_data = pd.read_csv('/content/DLG-Assignments/ASSignment2/validation_stock_data.csv')\n",
        "validation_data['Date'] = pd.to_datetime(validation_data['Date'], format='%Y-%m-%d')\n",
        "validation_data.sort_values(['Ticker', 'Date'], inplace=True)"
      ],
      "metadata": {
        "id": "lh_NJn3NIbFA"
      },
      "execution_count": 5,
      "outputs": []
    },
    {
      "cell_type": "code",
      "source": [
        "with open('/content/DLG-Assignments/ASSignment2/hyperedges.json', 'r') as f:\n",
        "    hyperedges = json.load(f) # load the hyperedge defintions"
      ],
      "metadata": {
        "id": "z-jDvLOXIeM8"
      },
      "execution_count": 6,
      "outputs": []
    },
    {
      "cell_type": "code",
      "source": [
        "with open('/content/DLG-Assignments/ASSignment2/blind_test_cases.json', 'r') as f:\n",
        "    test_cases = json.load(f)"
      ],
      "metadata": {
        "id": "a-dDA3khIjNm"
      },
      "execution_count": 7,
      "outputs": []
    },
    {
      "cell_type": "code",
      "source": [
        "print(f\"Training data shape: {train_data.shape}\")\n",
        "print(f\"Validation data shape: {validation_data.shape}\")\n",
        "print(f\"Number of hyperedges: {len(hyperedges)}\")\n",
        "print(f\"Number of test cases: {len(test_cases)}\")\n",
        "print(\"Available tickers in training data:\", train_data['Ticker'].unique())"
      ],
      "metadata": {
        "colab": {
          "base_uri": "https://localhost:8080/"
        },
        "id": "PXzFmnHFJQtb",
        "outputId": "e7919056-e273-474a-9d1e-aa87438eb9de"
      },
      "execution_count": 8,
      "outputs": [
        {
          "output_type": "stream",
          "name": "stdout",
          "text": [
            "Training data shape: (20160, 102)\n",
            "Validation data shape: (2000, 102)\n",
            "Number of hyperedges: 8\n",
            "Number of test cases: 120\n",
            "Available tickers in training data: ['AAPL' 'AMZN' 'BA' 'BAC' 'C' 'CAT' 'CVX' 'DUK' 'GOOGL' 'JNJ' 'JPM' 'KO'\n",
            " 'MRK' 'MSFT' 'PFE' 'PG' 'T' 'VZ' 'WMT' 'XOM']\n"
          ]
        }
      ]
    },
    {
      "cell_type": "code",
      "source": [
        "l = []  # Initialize an empty list to store preprocessed rows\n",
        "\n",
        "tickers = train_data['Ticker'].unique()  # Get a list of unique tickers\n",
        "\n",
        "for ticker in tickers:\n",
        "    data = train_data[train_data[\"Ticker\"] == ticker]  # Filter data for the current ticker\n",
        "\n",
        "    valid_cols = []  # List to store columns without missing values\n",
        "\n",
        "    for i in data.columns:\n",
        "        if data[i].isna().sum() == 0:  # Check if the column has no NaN values\n",
        "            valid_cols.append(i)  # Add it to the valid columns list\n",
        "\n",
        "    a = data[valid_cols].values  # Extract only the valid columns as a numpy array\n",
        "\n",
        "    for i in a:\n",
        "        l.append(i)  # Add each row to the final preprocessed list\n",
        "\n",
        "# Convert the list of clean rows into a DataFrame with proper column names\n",
        "df = pd.DataFrame(l, columns=[\"Date\", \"Ticker\", \"Open\", \"High\", \"Low\", \"Close\", \"Volume\"])"
      ],
      "metadata": {
        "id": "AiPklARlJSMr"
      },
      "execution_count": 9,
      "outputs": []
    },
    {
      "cell_type": "code",
      "source": [
        "df['Return'] = df.groupby('Ticker')['Close'].pct_change() # percentage change in closing price (i am finance bro now)\n",
        "df['Volatility'] = df.groupby('Ticker')['Return'].rolling(window=30).std().reset_index(0, drop=True) # 30 day window for rolling volatility\n",
        "df['Momentum'] = df.groupby('Ticker')['Close'].pct_change(periods=5) # 5 day momentum (price change)\n",
        "df['Moving_Avg'] = df.groupby('Ticker')['Close'].rolling(window=30).mean().reset_index(0, drop=True)\n",
        "df.fillna(0, inplace=True) # if nan make 0"
      ],
      "metadata": {
        "id": "qWt3zqB1Je60"
      },
      "execution_count": 10,
      "outputs": []
    },
    {
      "cell_type": "code",
      "source": [
        "features = ['Open', 'High', 'Low', 'Close', 'Volume', 'Return', 'Volatility', 'Momentum', 'Moving_Avg']"
      ],
      "metadata": {
        "id": "TouG8AsZJuJB"
      },
      "execution_count": 11,
      "outputs": []
    },
    {
      "cell_type": "code",
      "source": [
        "# scaler = StandardScaler()\n",
        "# scaler = MinMaxScaler() # loss was 52354522137231.3594 gg\n",
        "scaler = RobustScaler() # Val Loss: 0.1693\n",
        "feature_cols = ['Open', 'High', 'Low', 'Close', 'Volume']\n",
        "df[feature_cols] = scaler.fit_transform(df[feature_cols])"
      ],
      "metadata": {
        "id": "3UC0935kJvsR"
      },
      "execution_count": 12,
      "outputs": []
    },
    {
      "cell_type": "code",
      "source": [
        "# ticker to index mapping\n",
        "sorted_tickers = sorted(tickers) # first sort alphabetically\n",
        "ticker_to_idx = {ticker: idx for idx, ticker in enumerate(sorted_tickers)} # dict mapping\n",
        "print(\"Ticker to index mapping:\", ticker_to_idx)"
      ],
      "metadata": {
        "colab": {
          "base_uri": "https://localhost:8080/"
        },
        "id": "KD0pfh_RJ1Dr",
        "outputId": "6e4c6564-879d-45eb-b09f-7f2579f1fa9b"
      },
      "execution_count": 13,
      "outputs": [
        {
          "output_type": "stream",
          "name": "stdout",
          "text": [
            "Ticker to index mapping: {'AAPL': 0, 'AMZN': 1, 'BA': 2, 'BAC': 3, 'C': 4, 'CAT': 5, 'CVX': 6, 'DUK': 7, 'GOOGL': 8, 'JNJ': 9, 'JPM': 10, 'KO': 11, 'MRK': 12, 'MSFT': 13, 'PFE': 14, 'PG': 15, 'T': 16, 'VZ': 17, 'WMT': 18, 'XOM': 19}\n"
          ]
        }
      ]
    },
    {
      "cell_type": "markdown",
      "source": [
        "## HGNN Model"
      ],
      "metadata": {
        "id": "rM3FIZrDJ5za"
      }
    },
    {
      "cell_type": "markdown",
      "source": [
        "### What is a HGNN?  \n",
        "A Hypergraph Neural Network (HGNN) is a graph neural network designed for hypergraphs, where a single hyperedge can connect multiple nodes (unlike traditional graphs that connect only two). This makes HGNNs ideal for modeling higher-order relationships. In our context, stocks are nodes, and industries (like Tech and Healthcare) are hyperedges, connecting all stocks within a sector to capture sector-wise dependencies.\n",
        "\n",
        "### Why HGNN?  \n",
        "We chose HGNN because:  \n",
        "- Sector Influence: Stocks in the same industry often respond similarly to economic or political trends.  \n",
        "- Beyond Pairwise Modeling: Standard GNNs capture only pairwise relationships, while HGNNs model multi-node interactions via shared hyperedges.  \n",
        "- Rich Contextual Learning: HGNNs excel at capturing sector-level co-movements and dependencies, essential for financial prediction tasks.  \n",
        "\n",
        "The incidence matrix ensures industries share information within their hyperedges, leveraging HGNN's strength in higher-order reasoning.\n",
        "\n",
        "---\n",
        "\n",
        "### Implementation Overview  \n",
        "#### Data Structure Preparation:  \n",
        "- Nodes: Represent individual stocks.  \n",
        "- Hyperedges: Connect stocks within the same industry to model group dynamics.  \n",
        "- An incidence matrix encodes multi-node connectivity using `hyperedge_index`.  \n",
        "\n",
        "#### Graph Snapshots (Temporal View):  \n",
        "\n",
        "For each trading date:  \n",
        "- Node features: Stock indicators like returns and volatility.  \n",
        "- Node targets: Actual prices (Open, High, Low, Close, Volume).  \n",
        "\n",
        "These snapshots are wrapped as `torch_geometric.data.Data` objects with consistent `hyperedge_index`.\n",
        "\n",
        "#### Model Architecture:  \n",
        "The model uses two stacked Hypergraph Convolutional Layers:  \n",
        "1. The first layer transforms features into rich representations using ELU activation.  \n",
        "2. The second layer outputs continuous values for the five price attributes.\n",
        "\n",
        "#### Training Setup:  \n",
        "- Loss function: Mean Squared Error (MSE).  \n",
        "- Optimizer: Adam with learning rate scheduling for steady convergence.  \n",
        "- Metrics: Root Mean Squared Error (RMSE) and Mean Absolute Percentage Error (MAPE).\n",
        "\n",
        "### Temporal Handling and Attention Mechanisms  \n",
        "The model treats time as independent static graph snapshots rather than explicitly modeling temporal dependencies (like RNNs or Transformers). Each snapshot captures day-wise spatial dependencies among stocks via hyperedges. Information is aggregated using uniform weights without learnable attention mechanisms over neighbors or hyperedges."
      ],
      "metadata": {
        "id": "1SA7RELmRzVd"
      }
    },
    {
      "cell_type": "code",
      "source": [
        "# node to hyperedge maps (incidence matrix)\n",
        "num_nodes = len(sorted_tickers) # number of stocks (nodes)\n",
        "num_hyperedges = len(hyperedges) # number of hyperedges (industry)"
      ],
      "metadata": {
        "id": "PFwrI_V4J22R"
      },
      "execution_count": 14,
      "outputs": []
    },
    {
      "cell_type": "code",
      "source": [
        "# Create node-to-hyperedge incidence matrix\n",
        "# For HypergraphConv we need:\n",
        "# 1. hyperedge_index: list of [node_idx, hyperedge_idx] pairs\n",
        "# 2. hyperedge_weight: weight for each hyperedge\n",
        "# gpt helped here big time\n",
        "\n",
        "hyperedge_index = [] # pairs of node_index, hyperedge_index\n",
        "for he_idx, (he_name, he_tickers) in enumerate(hyperedges.items()):\n",
        "    for ticker in he_tickers:\n",
        "        node_idx = ticker_to_idx[ticker] # get node index frmo tivker\n",
        "        hyperedge_index.append([node_idx, he_idx]) # add connection between node and hyperedge"
      ],
      "metadata": {
        "id": "McnJXsOCJ8sq"
      },
      "execution_count": 15,
      "outputs": []
    },
    {
      "cell_type": "code",
      "source": [
        "hyperedge_index = torch.tensor(hyperedge_index, dtype=torch.long).t() # transpose for 2*N tensor\n",
        "hyperedge_weight = torch.ones(num_hyperedges, dtype=torch.float) # all hyperedges get weight 1"
      ],
      "metadata": {
        "id": "txAUPDPSJ-My"
      },
      "execution_count": 16,
      "outputs": []
    },
    {
      "cell_type": "code",
      "source": [
        "# double check\n",
        "print(f\"Hyperedge index shape: {hyperedge_index.shape}\")\n",
        "print(f\"Hyperedge weight shape: {hyperedge_weight.shape}\")"
      ],
      "metadata": {
        "colab": {
          "base_uri": "https://localhost:8080/"
        },
        "id": "yK_nqzjHJ_mD",
        "outputId": "97a63ed3-7ad5-40b3-b0db-d07a27d417c7"
      },
      "execution_count": 17,
      "outputs": [
        {
          "output_type": "stream",
          "name": "stdout",
          "text": [
            "Hyperedge index shape: torch.Size([2, 20])\n",
            "Hyperedge weight shape: torch.Size([8])\n"
          ]
        }
      ]
    },
    {
      "cell_type": "code",
      "source": [
        "def get_features_for_date(df, date, tickers, feature_cols):\n",
        "    day_df = df[df['Date'] == date].set_index('Ticker') # filter data fr given date\n",
        "    day_df = day_df.reindex(tickers)\n",
        "    x = day_df[feature_cols].fillna(0).values\n",
        "    y = day_df[['Open', 'High', 'Low', 'Close', 'Volume']].fillna(0).values # target (output)\n",
        "    return torch.tensor(x, dtype=torch.float), torch.tensor(y, dtype=torch.float)"
      ],
      "metadata": {
        "id": "lOfJmdOaKBrg"
      },
      "execution_count": 18,
      "outputs": []
    },
    {
      "cell_type": "code",
      "source": [
        "# make each date a snapshot of the graph\n",
        "dates = sorted(df['Date'].unique())\n",
        "graph_snapshots = []\n",
        "for date in dates:\n",
        "    x_t, y_t = get_features_for_date(df, date, sorted_tickers, features)\n",
        "    graph_snapshots.append((x_t, y_t))"
      ],
      "metadata": {
        "id": "0x5AsCuQKDBX"
      },
      "execution_count": 19,
      "outputs": []
    },
    {
      "cell_type": "code",
      "source": [
        "# graph objects for pytorch geo\n",
        "train_graphs = []\n",
        "for x_t, y_t in graph_snapshots:\n",
        "    # DATA OBJECT with node features, hyperedge\n",
        "    graph = Data(x=x_t, hyperedge_index=hyperedge_index, hyperedge_attr=hyperedge_weight, y=y_t)\n",
        "    train_graphs.append(graph)"
      ],
      "metadata": {
        "id": "xdvTixVBKGdS"
      },
      "execution_count": 20,
      "outputs": []
    },
    {
      "cell_type": "code",
      "source": [
        "l_val = []\n",
        "val_tickers = sorted(validation_data['Ticker'].unique())\n",
        "for ticker in val_tickers:\n",
        "    data = validation_data[validation_data[\"Ticker\"] == ticker] # basically since 8 in the val and 20 in the train, you match the ticker in val to the one in train\n",
        "    # nice\n",
        "    valid_cols = []\n",
        "    for i in data.columns:\n",
        "        if data[i].isna().sum() == 0:\n",
        "            valid_cols.append(i)\n",
        "    a = data[valid_cols].values\n",
        "    for i in a:\n",
        "        l_val.append(i)\n",
        "df_val = pd.DataFrame(l_val, columns=[\"Date\", \"Ticker\", \"Open\", \"High\", \"Low\", \"Close\", \"Volume\"])"
      ],
      "metadata": {
        "id": "Oxw3zVCqKKos"
      },
      "execution_count": 21,
      "outputs": []
    },
    {
      "cell_type": "code",
      "source": [
        "df_val['Return'] = df_val.groupby('Ticker')['Close'].pct_change()\n",
        "df_val['Volatility'] = df_val.groupby('Ticker')['Return'].rolling(window=30).std().reset_index(0, drop=True)\n",
        "df_val['Momentum'] = df_val.groupby('Ticker')['Close'].pct_change(periods=5)\n",
        "df_val['Moving_Avg'] = df_val.groupby('Ticker')['Close'].rolling(window=30).mean().reset_index(0, drop=True)\n",
        "df_val.fillna(0, inplace=True)"
      ],
      "metadata": {
        "id": "TkdcL8ZqKOye"
      },
      "execution_count": 22,
      "outputs": []
    },
    {
      "cell_type": "code",
      "source": [
        "# normalize\n",
        "df_val[feature_cols] = scaler.transform(df_val[feature_cols])"
      ],
      "metadata": {
        "id": "8qVhhyv7KQPk"
      },
      "execution_count": 23,
      "outputs": []
    },
    {
      "cell_type": "code",
      "source": [
        "val_dates = sorted(df_val['Date'].unique())\n",
        "val_graph_snapshots = []\n",
        "for date in val_dates:\n",
        "    x_t, y_t = get_features_for_date(df_val, date, sorted_tickers, features)\n",
        "    val_graph_snapshots.append((x_t, y_t))"
      ],
      "metadata": {
        "id": "m4SXoZBLKReo"
      },
      "execution_count": 24,
      "outputs": []
    },
    {
      "cell_type": "code",
      "source": [
        "val_graphs = []\n",
        "for x_t, y_t in val_graph_snapshots:\n",
        "    graph = Data(x=x_t, hyperedge_index=hyperedge_index, hyperedge_attr=hyperedge_weight, y=y_t)\n",
        "    val_graphs.append(graph)"
      ],
      "metadata": {
        "id": "aXHtv6MqKSlF"
      },
      "execution_count": 25,
      "outputs": []
    },
    {
      "cell_type": "code",
      "source": [
        "class StockHGNN(torch.nn.Module):\n",
        "    def __init__(self, in_channels, hidden_channels, out_channels=5):\n",
        "        super().__init__() # parent class\n",
        "        # first hypergraph convolution layer: input_features -> hidden_features\n",
        "        self.hgconv1 = HypergraphConv(in_channels, hidden_channels)\n",
        "\n",
        "        # second hypergraph convolution layer: hidden_features -> output_features\n",
        "        self.hgconv2 = HypergraphConv(hidden_channels, out_channels)\n",
        "\n",
        "    def forward(self, x, hyperedge_index, hyperedge_weight=None):\n",
        "        # apply first layer with ELU activation function\n",
        "        x = F.elu(self.hgconv1(x, hyperedge_index, hyperedge_weight))\n",
        "\n",
        "        # next is applying second layer (no activation for regression output)\n",
        "        x = self.hgconv2(x, hyperedge_index, hyperedge_weight)\n",
        "        return x"
      ],
      "metadata": {
        "id": "dx_g0yXFKT8p"
      },
      "execution_count": 26,
      "outputs": []
    },
    {
      "cell_type": "code",
      "source": [
        "device = torch.device('cuda' if torch.cuda.is_available() else 'cpu')\n",
        "model = StockHGNN(in_channels=len(features), hidden_channels=32, out_channels=5).to(device)\n",
        "optimizer = torch.optim.Adam(model.parameters(), lr=0.0001, weight_decay=5e-4)\n",
        "loss_fn = torch.nn.MSELoss() # cuz regressuion\n",
        "scheduler = torch.optim.lr_scheduler.StepLR(optimizer, step_size=7, gamma=0.1)"
      ],
      "metadata": {
        "id": "7EdQF5AfKW49"
      },
      "execution_count": 27,
      "outputs": []
    },
    {
      "cell_type": "code",
      "source": [
        "train_loader = DataLoader(train_graphs, batch_size=1, shuffle=True)\n",
        "val_loader = DataLoader(val_graphs, batch_size=1, shuffle=False)"
      ],
      "metadata": {
        "id": "_EB_oKfSKY2K"
      },
      "execution_count": 28,
      "outputs": []
    },
    {
      "cell_type": "code",
      "source": [
        "hyperedge_index = hyperedge_index.to(device)\n",
        "hyperedge_weight = hyperedge_weight.to(device)"
      ],
      "metadata": {
        "id": "4IVGDQjhKZ4p"
      },
      "execution_count": 29,
      "outputs": []
    },
    {
      "cell_type": "code",
      "source": [
        "epochs = 50\n",
        "train_losses, val_losses = [], []"
      ],
      "metadata": {
        "id": "m1azYBv6KiJv"
      },
      "execution_count": 30,
      "outputs": []
    },
    {
      "cell_type": "code",
      "source": [
        "for epoch in range(epochs):\n",
        "    # Training\n",
        "    model.train() # set to training mode\n",
        "    train_loss = 0\n",
        "    for batch in tqdm(train_loader, desc=f\"[Epoch {epoch+1}] Training\", leave=False):\n",
        "        batch = batch.to(device) # bacth data to devoce\n",
        "        optimizer.zero_grad() # clear prev gradients\n",
        "        out = model(batch.x, batch.hyperedge_index, batch.hyperedge_attr) # forward pass\n",
        "        loss = loss_fn(out, batch.y) # get the loss\n",
        "        loss.backward() # back prop\n",
        "        optimizer.step() # update weights\n",
        "        train_loss += loss.item() # accumulate loss\n",
        "    train_loss /= len(train_loader) # avg loss\n",
        "    train_losses.append(train_loss) # store for when we plot\n",
        "\n",
        "    # Validation\n",
        "    model.eval()\n",
        "    val_loss = 0\n",
        "    with torch.no_grad():\n",
        "        for batch in tqdm(val_loader, desc=f\"[Epoch {epoch+1}] Validation\", leave=False):\n",
        "            batch = batch.to(device)\n",
        "            out = model(batch.x, batch.hyperedge_index, batch.hyperedge_attr)\n",
        "            loss = loss_fn(out, batch.y)\n",
        "            val_loss += loss.item()\n",
        "    val_loss /= len(val_loader)\n",
        "    val_losses.append(val_loss)\n",
        "\n",
        "    scheduler.step(val_loss)\n",
        "    print(f\"Epoch {epoch+1} | Train Loss: {train_loss:.4f} | Val Loss: {val_loss:.4f}\")\n"
      ],
      "metadata": {
        "colab": {
          "base_uri": "https://localhost:8080/"
        },
        "id": "a8r_tCKaKjuE",
        "outputId": "0ae96cf9-fc82-49fb-8e44-c14ac077f4eb"
      },
      "execution_count": 31,
      "outputs": [
        {
          "output_type": "stream",
          "name": "stderr",
          "text": [
            "/usr/local/lib/python3.11/dist-packages/torch/optim/lr_scheduler.py:243: UserWarning: The epoch parameter in `scheduler.step()` was not necessary and is being deprecated where possible. Please use `scheduler.step()` to step the scheduler. During the deprecation, if epoch is different from None, the closed form is used instead of the new chainable form, where available. Please open an issue if you are unable to replicate your use case: https://github.com/pytorch/pytorch/issues/new/choose.\n",
            "  warnings.warn(EPOCH_DEPRECATION_WARNING, UserWarning)\n"
          ]
        },
        {
          "output_type": "stream",
          "name": "stdout",
          "text": [
            "Epoch 1 | Train Loss: 53.8344 | Val Loss: 0.5234\n"
          ]
        },
        {
          "output_type": "stream",
          "name": "stderr",
          "text": []
        },
        {
          "output_type": "stream",
          "name": "stdout",
          "text": [
            "Epoch 2 | Train Loss: 0.6554 | Val Loss: 0.5788\n"
          ]
        },
        {
          "output_type": "stream",
          "name": "stderr",
          "text": []
        },
        {
          "output_type": "stream",
          "name": "stdout",
          "text": [
            "Epoch 3 | Train Loss: 0.4424 | Val Loss: 0.4285\n"
          ]
        },
        {
          "output_type": "stream",
          "name": "stderr",
          "text": []
        },
        {
          "output_type": "stream",
          "name": "stdout",
          "text": [
            "Epoch 4 | Train Loss: 0.3575 | Val Loss: 0.4316\n"
          ]
        },
        {
          "output_type": "stream",
          "name": "stderr",
          "text": []
        },
        {
          "output_type": "stream",
          "name": "stdout",
          "text": [
            "Epoch 5 | Train Loss: 0.3454 | Val Loss: 0.4080\n"
          ]
        },
        {
          "output_type": "stream",
          "name": "stderr",
          "text": []
        },
        {
          "output_type": "stream",
          "name": "stdout",
          "text": [
            "Epoch 6 | Train Loss: 0.3409 | Val Loss: 0.3760\n"
          ]
        },
        {
          "output_type": "stream",
          "name": "stderr",
          "text": []
        },
        {
          "output_type": "stream",
          "name": "stdout",
          "text": [
            "Epoch 7 | Train Loss: 0.3386 | Val Loss: 0.3564\n"
          ]
        },
        {
          "output_type": "stream",
          "name": "stderr",
          "text": []
        },
        {
          "output_type": "stream",
          "name": "stdout",
          "text": [
            "Epoch 8 | Train Loss: 0.3368 | Val Loss: 0.3185\n"
          ]
        },
        {
          "output_type": "stream",
          "name": "stderr",
          "text": []
        },
        {
          "output_type": "stream",
          "name": "stdout",
          "text": [
            "Epoch 9 | Train Loss: 0.3350 | Val Loss: 0.2708\n"
          ]
        },
        {
          "output_type": "stream",
          "name": "stderr",
          "text": []
        },
        {
          "output_type": "stream",
          "name": "stdout",
          "text": [
            "Epoch 10 | Train Loss: 0.3329 | Val Loss: 0.2475\n"
          ]
        },
        {
          "output_type": "stream",
          "name": "stderr",
          "text": []
        },
        {
          "output_type": "stream",
          "name": "stdout",
          "text": [
            "Epoch 11 | Train Loss: 0.3314 | Val Loss: 0.2192\n"
          ]
        },
        {
          "output_type": "stream",
          "name": "stderr",
          "text": []
        },
        {
          "output_type": "stream",
          "name": "stdout",
          "text": [
            "Epoch 12 | Train Loss: 0.3304 | Val Loss: 0.2059\n"
          ]
        },
        {
          "output_type": "stream",
          "name": "stderr",
          "text": []
        },
        {
          "output_type": "stream",
          "name": "stdout",
          "text": [
            "Epoch 13 | Train Loss: 0.3300 | Val Loss: 0.1968\n"
          ]
        },
        {
          "output_type": "stream",
          "name": "stderr",
          "text": []
        },
        {
          "output_type": "stream",
          "name": "stdout",
          "text": [
            "Epoch 14 | Train Loss: 0.3298 | Val Loss: 0.1893\n"
          ]
        },
        {
          "output_type": "stream",
          "name": "stderr",
          "text": []
        },
        {
          "output_type": "stream",
          "name": "stdout",
          "text": [
            "Epoch 15 | Train Loss: 0.3296 | Val Loss: 0.1870\n"
          ]
        },
        {
          "output_type": "stream",
          "name": "stderr",
          "text": []
        },
        {
          "output_type": "stream",
          "name": "stdout",
          "text": [
            "Epoch 16 | Train Loss: 0.3294 | Val Loss: 0.1833\n"
          ]
        },
        {
          "output_type": "stream",
          "name": "stderr",
          "text": []
        },
        {
          "output_type": "stream",
          "name": "stdout",
          "text": [
            "Epoch 17 | Train Loss: 0.3293 | Val Loss: 0.1813\n"
          ]
        },
        {
          "output_type": "stream",
          "name": "stderr",
          "text": []
        },
        {
          "output_type": "stream",
          "name": "stdout",
          "text": [
            "Epoch 18 | Train Loss: 0.3292 | Val Loss: 0.1772\n"
          ]
        },
        {
          "output_type": "stream",
          "name": "stderr",
          "text": []
        },
        {
          "output_type": "stream",
          "name": "stdout",
          "text": [
            "Epoch 19 | Train Loss: 0.3291 | Val Loss: 0.1764\n"
          ]
        },
        {
          "output_type": "stream",
          "name": "stderr",
          "text": []
        },
        {
          "output_type": "stream",
          "name": "stdout",
          "text": [
            "Epoch 20 | Train Loss: 0.3291 | Val Loss: 0.1742\n"
          ]
        },
        {
          "output_type": "stream",
          "name": "stderr",
          "text": []
        },
        {
          "output_type": "stream",
          "name": "stdout",
          "text": [
            "Epoch 21 | Train Loss: 0.3290 | Val Loss: 0.1730\n"
          ]
        },
        {
          "output_type": "stream",
          "name": "stderr",
          "text": []
        },
        {
          "output_type": "stream",
          "name": "stdout",
          "text": [
            "Epoch 22 | Train Loss: 0.3290 | Val Loss: 0.1720\n"
          ]
        },
        {
          "output_type": "stream",
          "name": "stderr",
          "text": []
        },
        {
          "output_type": "stream",
          "name": "stdout",
          "text": [
            "Epoch 23 | Train Loss: 0.3290 | Val Loss: 0.1716\n"
          ]
        },
        {
          "output_type": "stream",
          "name": "stderr",
          "text": []
        },
        {
          "output_type": "stream",
          "name": "stdout",
          "text": [
            "Epoch 24 | Train Loss: 0.3290 | Val Loss: 0.1713\n"
          ]
        },
        {
          "output_type": "stream",
          "name": "stderr",
          "text": []
        },
        {
          "output_type": "stream",
          "name": "stdout",
          "text": [
            "Epoch 25 | Train Loss: 0.3289 | Val Loss: 0.1707\n"
          ]
        },
        {
          "output_type": "stream",
          "name": "stderr",
          "text": []
        },
        {
          "output_type": "stream",
          "name": "stdout",
          "text": [
            "Epoch 26 | Train Loss: 0.3289 | Val Loss: 0.1707\n"
          ]
        },
        {
          "output_type": "stream",
          "name": "stderr",
          "text": []
        },
        {
          "output_type": "stream",
          "name": "stdout",
          "text": [
            "Epoch 27 | Train Loss: 0.3289 | Val Loss: 0.1702\n"
          ]
        },
        {
          "output_type": "stream",
          "name": "stderr",
          "text": []
        },
        {
          "output_type": "stream",
          "name": "stdout",
          "text": [
            "Epoch 28 | Train Loss: 0.3289 | Val Loss: 0.1700\n"
          ]
        },
        {
          "output_type": "stream",
          "name": "stderr",
          "text": []
        },
        {
          "output_type": "stream",
          "name": "stdout",
          "text": [
            "Epoch 29 | Train Loss: 0.3289 | Val Loss: 0.1697\n"
          ]
        },
        {
          "output_type": "stream",
          "name": "stderr",
          "text": []
        },
        {
          "output_type": "stream",
          "name": "stdout",
          "text": [
            "Epoch 30 | Train Loss: 0.3289 | Val Loss: 0.1696\n"
          ]
        },
        {
          "output_type": "stream",
          "name": "stderr",
          "text": []
        },
        {
          "output_type": "stream",
          "name": "stdout",
          "text": [
            "Epoch 31 | Train Loss: 0.3289 | Val Loss: 0.1695\n"
          ]
        },
        {
          "output_type": "stream",
          "name": "stderr",
          "text": []
        },
        {
          "output_type": "stream",
          "name": "stdout",
          "text": [
            "Epoch 32 | Train Loss: 0.3289 | Val Loss: 0.1695\n"
          ]
        },
        {
          "output_type": "stream",
          "name": "stderr",
          "text": []
        },
        {
          "output_type": "stream",
          "name": "stdout",
          "text": [
            "Epoch 33 | Train Loss: 0.3289 | Val Loss: 0.1695\n"
          ]
        },
        {
          "output_type": "stream",
          "name": "stderr",
          "text": []
        },
        {
          "output_type": "stream",
          "name": "stdout",
          "text": [
            "Epoch 34 | Train Loss: 0.3288 | Val Loss: 0.1695\n"
          ]
        },
        {
          "output_type": "stream",
          "name": "stderr",
          "text": []
        },
        {
          "output_type": "stream",
          "name": "stdout",
          "text": [
            "Epoch 35 | Train Loss: 0.3289 | Val Loss: 0.1693\n"
          ]
        },
        {
          "output_type": "stream",
          "name": "stderr",
          "text": []
        },
        {
          "output_type": "stream",
          "name": "stdout",
          "text": [
            "Epoch 36 | Train Loss: 0.3289 | Val Loss: 0.1692\n"
          ]
        },
        {
          "output_type": "stream",
          "name": "stderr",
          "text": []
        },
        {
          "output_type": "stream",
          "name": "stdout",
          "text": [
            "Epoch 37 | Train Loss: 0.3288 | Val Loss: 0.1693\n"
          ]
        },
        {
          "output_type": "stream",
          "name": "stderr",
          "text": []
        },
        {
          "output_type": "stream",
          "name": "stdout",
          "text": [
            "Epoch 38 | Train Loss: 0.3288 | Val Loss: 0.1694\n"
          ]
        },
        {
          "output_type": "stream",
          "name": "stderr",
          "text": []
        },
        {
          "output_type": "stream",
          "name": "stdout",
          "text": [
            "Epoch 39 | Train Loss: 0.3288 | Val Loss: 0.1693\n"
          ]
        },
        {
          "output_type": "stream",
          "name": "stderr",
          "text": []
        },
        {
          "output_type": "stream",
          "name": "stdout",
          "text": [
            "Epoch 40 | Train Loss: 0.3288 | Val Loss: 0.1692\n"
          ]
        },
        {
          "output_type": "stream",
          "name": "stderr",
          "text": []
        },
        {
          "output_type": "stream",
          "name": "stdout",
          "text": [
            "Epoch 41 | Train Loss: 0.3288 | Val Loss: 0.1691\n"
          ]
        },
        {
          "output_type": "stream",
          "name": "stderr",
          "text": []
        },
        {
          "output_type": "stream",
          "name": "stdout",
          "text": [
            "Epoch 42 | Train Loss: 0.3288 | Val Loss: 0.1692\n"
          ]
        },
        {
          "output_type": "stream",
          "name": "stderr",
          "text": []
        },
        {
          "output_type": "stream",
          "name": "stdout",
          "text": [
            "Epoch 43 | Train Loss: 0.3288 | Val Loss: 0.1693\n"
          ]
        },
        {
          "output_type": "stream",
          "name": "stderr",
          "text": []
        },
        {
          "output_type": "stream",
          "name": "stdout",
          "text": [
            "Epoch 44 | Train Loss: 0.3288 | Val Loss: 0.1691\n"
          ]
        },
        {
          "output_type": "stream",
          "name": "stderr",
          "text": []
        },
        {
          "output_type": "stream",
          "name": "stdout",
          "text": [
            "Epoch 45 | Train Loss: 0.3288 | Val Loss: 0.1691\n"
          ]
        },
        {
          "output_type": "stream",
          "name": "stderr",
          "text": []
        },
        {
          "output_type": "stream",
          "name": "stdout",
          "text": [
            "Epoch 46 | Train Loss: 0.3288 | Val Loss: 0.1691\n"
          ]
        },
        {
          "output_type": "stream",
          "name": "stderr",
          "text": []
        },
        {
          "output_type": "stream",
          "name": "stdout",
          "text": [
            "Epoch 47 | Train Loss: 0.3288 | Val Loss: 0.1691\n"
          ]
        },
        {
          "output_type": "stream",
          "name": "stderr",
          "text": []
        },
        {
          "output_type": "stream",
          "name": "stdout",
          "text": [
            "Epoch 48 | Train Loss: 0.3288 | Val Loss: 0.1691\n"
          ]
        },
        {
          "output_type": "stream",
          "name": "stderr",
          "text": []
        },
        {
          "output_type": "stream",
          "name": "stdout",
          "text": [
            "Epoch 49 | Train Loss: 0.3288 | Val Loss: 0.1691\n"
          ]
        },
        {
          "output_type": "stream",
          "name": "stderr",
          "text": [
            "                                                                         "
          ]
        },
        {
          "output_type": "stream",
          "name": "stdout",
          "text": [
            "Epoch 50 | Train Loss: 0.3288 | Val Loss: 0.1692\n"
          ]
        },
        {
          "output_type": "stream",
          "name": "stderr",
          "text": [
            "\r"
          ]
        }
      ]
    },
    {
      "cell_type": "code",
      "source": [
        "model.eval() # now set model to evaluation mode\n",
        "preds_list, actuals_list = [], []\n",
        "with torch.no_grad(): # no gradient evaluation\n",
        "    for batch in tqdm(val_loader, desc=\"Making Predictions\", leave=False):\n",
        "        batch = batch.to(device)\n",
        "        preds = model(batch.x, batch.hyperedge_index, batch.hyperedge_attr)\n",
        "        preds_list.append(preds.cpu()) # store preds\n",
        "        actuals_list.append(batch.y.cpu()) # store actual values"
      ],
      "metadata": {
        "colab": {
          "base_uri": "https://localhost:8080/"
        },
        "id": "c51nknmuKlBl",
        "outputId": "4116e9be-ade0-4cd4-e933-9471253da7bc"
      },
      "execution_count": 32,
      "outputs": [
        {
          "output_type": "stream",
          "name": "stderr",
          "text": []
        }
      ]
    },
    {
      "cell_type": "code",
      "source": [
        "preds = torch.cat(preds_list, dim=0)\n",
        "actuals = torch.cat(actuals_list, dim=0)"
      ],
      "metadata": {
        "id": "Vi1Yj-NtLzrN"
      },
      "execution_count": 33,
      "outputs": []
    },
    {
      "cell_type": "code",
      "source": [
        "# kick out zero values\n",
        "mask = actuals.abs().sum(dim=1) > 0  # mask for non-zero rows\n",
        "preds = preds[mask].numpy()  # Apply mask  like we all do in life\n",
        "actuals = actuals[mask].numpy()"
      ],
      "metadata": {
        "id": "7r61vJIgL31X"
      },
      "execution_count": 34,
      "outputs": []
    },
    {
      "cell_type": "code",
      "source": [
        "rmse = np.sqrt(mean_squared_error(actuals, preds))\n",
        "mape = np.mean(np.abs((actuals - preds) / np.clip(np.abs(actuals), 1e-10, None))) * 100"
      ],
      "metadata": {
        "id": "63irCH-PL5Ga"
      },
      "execution_count": 35,
      "outputs": []
    },
    {
      "cell_type": "code",
      "source": [
        "pred_df = pd.DataFrame(preds, columns=[\"Open\", \"High\", \"Low\", \"Close\", \"Volume\"])\n",
        "actual_df = pd.DataFrame(actuals, columns=[\"Open\", \"High\", \"Low\", \"Close\", \"Volume\"])"
      ],
      "metadata": {
        "id": "w4aou5ULL-7c"
      },
      "execution_count": 36,
      "outputs": []
    },
    {
      "cell_type": "code",
      "source": [
        "# scale back up now\n",
        "#copies for the inverse-transformed data\n",
        "pred_df_og = pred_df.copy()\n",
        "actual_df_og = actual_df.copy()"
      ],
      "metadata": {
        "id": "Yq_oubOoMHG5"
      },
      "execution_count": 37,
      "outputs": []
    },
    {
      "cell_type": "code",
      "source": [
        "pred_df_og[feature_cols] = scaler.inverse_transform(pred_df[feature_cols])\n",
        "actual_df_og[feature_cols] = scaler.inverse_transform(actual_df[feature_cols])"
      ],
      "metadata": {
        "id": "PRKCJQi0MNJx"
      },
      "execution_count": 38,
      "outputs": []
    },
    {
      "cell_type": "code",
      "source": [
        "og_rmse = np.sqrt(mean_squared_error(actual_df_og, pred_df_og))\n",
        "og_mape = np.mean(np.abs((actual_df_og - pred_df_og) / np.clip(np.abs(actual_df_og), 1e-10, None))) * 100\n",
        "print(f\"Original Scale RMSE: {og_rmse:.4f}\")\n",
        "print(f\"Original Scale MAPE: {og_mape:.2f}%\")"
      ],
      "metadata": {
        "colab": {
          "base_uri": "https://localhost:8080/"
        },
        "id": "WeNCdFohNPUg",
        "outputId": "21ddcce5-bffe-4a75-92fb-348d41ad261b"
      },
      "execution_count": 39,
      "outputs": [
        {
          "output_type": "stream",
          "name": "stdout",
          "text": [
            "Original Scale RMSE: 5985826.6522\n",
            "Original Scale MAPE: 34.82%\n"
          ]
        }
      ]
    },
    {
      "cell_type": "code",
      "source": [
        "column_names = pred_df_og.columns.tolist()\n",
        "fig, axs = plt.subplots(1, len(column_names), figsize=(20, 4), sharex=True)\n",
        "for i, col in enumerate(column_names):\n",
        "    axs[i].plot(actual_df_og[col], label=\"Actual\", color=\"blue\")\n",
        "    axs[i].plot(pred_df_og[col], label=\"Predicted\", color=\"red\", linestyle='dashed')\n",
        "    axs[i].set_title(f\"{col}\")\n",
        "    axs[i].legend()\n",
        "    axs[i].grid(True)\n",
        "\n",
        "fig.suptitle(\"Actual vs Predicted - All Features (HGNN Model)\", fontsize=16)\n",
        "plt.tight_layout()\n",
        "plt.show()"
      ],
      "metadata": {
        "id": "AAd9FfA5Pbmc",
        "outputId": "811bf7d2-cea5-4134-f131-74ade76c5a44",
        "colab": {
          "base_uri": "https://localhost:8080/",
          "height": 299
        }
      },
      "execution_count": 91,
      "outputs": [
        {
          "output_type": "display_data",
          "data": {
            "text/plain": [
              "<Figure size 2000x400 with 5 Axes>"
            ],
            "image/png": "[encoded data removed]"
          },
          "metadata": {}
        }
      ]
    },
    {
      "cell_type": "markdown",
      "source": [
        "## GAT"
      ],
      "metadata": {
        "id": "UQGVJFHfOdZ6"
      }
    },
    {
      "cell_type": "markdown",
      "source": [
        "### What is a GAT?  \n",
        "A Graph Attention Network (GAT) is a type of neural network designed for graph-structured data. It improves upon traditional Graph Neural Networks (GNNs) by introducing an attention mechanism, which learns to weigh the importance of different nodes (or neighbors) during message-passing. Unlike standard GNNs that treat all neighbors equally, GATs focus more on relevant connections, enabling better aggregation of node information.\n",
        "\n",
        "### Why GAT?  \n",
        "We chose GAT for our stock hypergraph because:  \n",
        "- Heterogeneous Relationships: In financial graphs, the influence of one stock on another varies over time. GAT’s attention mechanism adapts to these dynamic relationships.  \n",
        "- Improved Accuracy: By emphasizing stronger connections, GAT captures nuanced dependencies, enhancing prediction performance.  \n",
        "\n",
        "---\n",
        "\n",
        "### Implementation Overview  \n",
        "#### Model Architecture:  \n",
        "- Two stacked GATConv layers:  \n",
        "  - The first layer applies attention-based message passing to learn node embeddings.  \n",
        "  - The second layer refines these embeddings.  \n",
        "- Activation: ReLU is applied after the second layer.  \n",
        "- Global Mean Pooling: Aggregates node-level information into a graph-level representation.  \n",
        "- Fully Connected Layer: Performs classification based on pooled embeddings.\n",
        "\n",
        "#### Temporal Handling and Attention Mechanism:  \n",
        "- Self-Attention: Nodes learn to weigh their neighbors differently using attention coefficients, enabling localized focus on informative connections.  \n",
        "- Unlike temporal models (e.g., RNNs), GAT operates on static graph snapshots, learning spatial relationships independently for each snapshot.\n",
        "\n",
        "This setup allows the model to capture both local node-wise dependencies and holistic graph-level dynamics without introducing complex temporal layers.\n"
      ],
      "metadata": {
        "id": "_J7qzS9hSkLV"
      }
    },
    {
      "cell_type": "code",
      "source": [
        "hyperedge_indices = []\n",
        "for he_name, ticker in hyperedges.items():\n",
        "    indices = [ticker_to_idx[t] for t in ticker]\n",
        "    print(f\"Hyperedge '{he_name}': {ticker} -> {indices}\")\n",
        "    hyperedge_indices.append(indices)"
      ],
      "metadata": {
        "colab": {
          "base_uri": "https://localhost:8080/"
        },
        "id": "SKHUMLEwOu2Q",
        "outputId": "2d0b1ec0-1ed1-4041-a701-9f94ce53ffa2"
      },
      "execution_count": 42,
      "outputs": [
        {
          "output_type": "stream",
          "name": "stdout",
          "text": [
            "Hyperedge 'Tech': ['AAPL', 'GOOGL', 'MSFT', 'AMZN'] -> [0, 8, 13, 1]\n",
            "Hyperedge 'Finance': ['JPM', 'BAC', 'C'] -> [10, 3, 4]\n",
            "Hyperedge 'Healthcare': ['JNJ', 'PFE', 'MRK'] -> [9, 14, 12]\n",
            "Hyperedge 'Energy': ['XOM', 'CVX'] -> [19, 6]\n",
            "Hyperedge 'Consumer': ['WMT', 'PG', 'KO'] -> [18, 15, 11]\n",
            "Hyperedge 'Industrials': ['BA', 'CAT'] -> [2, 5]\n",
            "Hyperedge 'Communications': ['VZ', 'T'] -> [17, 16]\n",
            "Hyperedge 'Utilities': ['DUK'] -> [7]\n"
          ]
        }
      ]
    },
    {
      "cell_type": "code",
      "source": [
        "hyperedge_indices"
      ],
      "metadata": {
        "colab": {
          "base_uri": "https://localhost:8080/"
        },
        "id": "kYQBPb-TO356",
        "outputId": "87ad7b7e-561f-418e-9a7c-85187c5a710c"
      },
      "execution_count": 43,
      "outputs": [
        {
          "output_type": "execute_result",
          "data": {
            "text/plain": [
              "[[0, 8, 13, 1],\n",
              " [10, 3, 4],\n",
              " [9, 14, 12],\n",
              " [19, 6],\n",
              " [18, 15, 11],\n",
              " [2, 5],\n",
              " [17, 16],\n",
              " [7]]"
            ]
          },
          "metadata": {},
          "execution_count": 43
        }
      ]
    },
    {
      "cell_type": "code",
      "source": [
        "# clique representation\n",
        "adj_matrix = [[0 for i in range(20)] for j in range(20)]\n",
        "for hyperedge in hyperedge_indices:\n",
        "    for i in range(len(hyperedge)):\n",
        "        for j in range(i+1, len(hyperedge)):\n",
        "            adj_matrix[hyperedge[i]][hyperedge[j]] = 1\n",
        "            adj_matrix[hyperedge[j]][hyperedge[i]] = 1\n",
        "adj_matrix = np.array(adj_matrix)\n",
        "adj_matrix"
      ],
      "metadata": {
        "colab": {
          "base_uri": "https://localhost:8080/"
        },
        "id": "C6F41xX9O6yg",
        "outputId": "2495a47a-4d51-4f18-db3c-8b3ee6685c51"
      },
      "execution_count": 44,
      "outputs": [
        {
          "output_type": "execute_result",
          "data": {
            "text/plain": [
              "array([[0, 1, 0, 0, 0, 0, 0, 0, 1, 0, 0, 0, 0, 1, 0, 0, 0, 0, 0, 0],\n",
              "       [1, 0, 0, 0, 0, 0, 0, 0, 1, 0, 0, 0, 0, 1, 0, 0, 0, 0, 0, 0],\n",
              "       [0, 0, 0, 0, 0, 1, 0, 0, 0, 0, 0, 0, 0, 0, 0, 0, 0, 0, 0, 0],\n",
              "       [0, 0, 0, 0, 1, 0, 0, 0, 0, 0, 1, 0, 0, 0, 0, 0, 0, 0, 0, 0],\n",
              "       [0, 0, 0, 1, 0, 0, 0, 0, 0, 0, 1, 0, 0, 0, 0, 0, 0, 0, 0, 0],\n",
              "       [0, 0, 1, 0, 0, 0, 0, 0, 0, 0, 0, 0, 0, 0, 0, 0, 0, 0, 0, 0],\n",
              "       [0, 0, 0, 0, 0, 0, 0, 0, 0, 0, 0, 0, 0, 0, 0, 0, 0, 0, 0, 1],\n",
              "       [0, 0, 0, 0, 0, 0, 0, 0, 0, 0, 0, 0, 0, 0, 0, 0, 0, 0, 0, 0],\n",
              "       [1, 1, 0, 0, 0, 0, 0, 0, 0, 0, 0, 0, 0, 1, 0, 0, 0, 0, 0, 0],\n",
              "       [0, 0, 0, 0, 0, 0, 0, 0, 0, 0, 0, 0, 1, 0, 1, 0, 0, 0, 0, 0],\n",
              "       [0, 0, 0, 1, 1, 0, 0, 0, 0, 0, 0, 0, 0, 0, 0, 0, 0, 0, 0, 0],\n",
              "       [0, 0, 0, 0, 0, 0, 0, 0, 0, 0, 0, 0, 0, 0, 0, 1, 0, 0, 1, 0],\n",
              "       [0, 0, 0, 0, 0, 0, 0, 0, 0, 1, 0, 0, 0, 0, 1, 0, 0, 0, 0, 0],\n",
              "       [1, 1, 0, 0, 0, 0, 0, 0, 1, 0, 0, 0, 0, 0, 0, 0, 0, 0, 0, 0],\n",
              "       [0, 0, 0, 0, 0, 0, 0, 0, 0, 1, 0, 0, 1, 0, 0, 0, 0, 0, 0, 0],\n",
              "       [0, 0, 0, 0, 0, 0, 0, 0, 0, 0, 0, 1, 0, 0, 0, 0, 0, 0, 1, 0],\n",
              "       [0, 0, 0, 0, 0, 0, 0, 0, 0, 0, 0, 0, 0, 0, 0, 0, 0, 1, 0, 0],\n",
              "       [0, 0, 0, 0, 0, 0, 0, 0, 0, 0, 0, 0, 0, 0, 0, 0, 1, 0, 0, 0],\n",
              "       [0, 0, 0, 0, 0, 0, 0, 0, 0, 0, 0, 1, 0, 0, 0, 1, 0, 0, 0, 0],\n",
              "       [0, 0, 0, 0, 0, 0, 1, 0, 0, 0, 0, 0, 0, 0, 0, 0, 0, 0, 0, 0]])"
            ]
          },
          "metadata": {},
          "execution_count": 44
        }
      ]
    },
    {
      "cell_type": "code",
      "source": [
        "edge_index = torch.tensor(np.array(np.nonzero(adj_matrix)), dtype=torch.long)\n",
        "edge_index"
      ],
      "metadata": {
        "colab": {
          "base_uri": "https://localhost:8080/"
        },
        "id": "ZgoaAUqdO-kE",
        "outputId": "ef10a0cd-cc2c-4319-b848-995dddb889b3"
      },
      "execution_count": 45,
      "outputs": [
        {
          "output_type": "execute_result",
          "data": {
            "text/plain": [
              "tensor([[ 0,  0,  0,  1,  1,  1,  2,  3,  3,  4,  4,  5,  6,  8,  8,  8,  9,  9,\n",
              "         10, 10, 11, 11, 12, 12, 13, 13, 13, 14, 14, 15, 15, 16, 17, 18, 18, 19],\n",
              "        [ 1,  8, 13,  0,  8, 13,  5,  4, 10,  3, 10,  2, 19,  0,  1, 13, 12, 14,\n",
              "          3,  4, 15, 18,  9, 14,  0,  1,  8,  9, 12, 11, 18, 17, 16, 11, 15,  6]])"
            ]
          },
          "metadata": {},
          "execution_count": 45
        }
      ]
    },
    {
      "cell_type": "code",
      "source": [
        "def get_features_for_date(df, date, tickers, feature_cols):\n",
        "    day_df = df[df['Date'] == date].set_index('Ticker')\n",
        "    day_df = day_df.reindex(tickers)\n",
        "    x = day_df[feature_cols].fillna(0).values\n",
        "    y = day_df[['Open', 'High', 'Low', 'Close', 'Volume']].fillna(0).values\n",
        "    return torch.tensor(x, dtype=torch.float), torch.tensor(y, dtype=torch.float)\n",
        "\n",
        "target_cols = ['Open', 'High', 'Low', 'Close', 'Volume']\n",
        "dates = sorted(df['Date'].unique())\n",
        "graph_snapshots = []\n",
        "tickers = sorted(df['Ticker'].unique())\n",
        "for date in dates:\n",
        "    x_t, y_t = get_features_for_date(df, date, tickers, target_cols)\n",
        "    graph_snapshots.append((x_t, y_t))"
      ],
      "metadata": {
        "id": "diU0zhikPAOy"
      },
      "execution_count": 46,
      "outputs": []
    },
    {
      "cell_type": "code",
      "source": [
        "graphs = []\n",
        "\n",
        "for x_t, y_t in graph_snapshots:\n",
        "    graph = Data(x=x_t, edge_index=edge_index, y=y_t)\n",
        "    graphs.append(graph)"
      ],
      "metadata": {
        "id": "reZkquaHPCbm"
      },
      "execution_count": 47,
      "outputs": []
    },
    {
      "cell_type": "code",
      "source": [
        "graphs[0]"
      ],
      "metadata": {
        "colab": {
          "base_uri": "https://localhost:8080/"
        },
        "id": "DkNSsPQJPE4_",
        "outputId": "66dc00ea-af7b-4284-e5f3-921b98aa4724"
      },
      "execution_count": 48,
      "outputs": [
        {
          "output_type": "execute_result",
          "data": {
            "text/plain": [
              "Data(x=[20, 5], edge_index=[2, 36], y=[20, 5])"
            ]
          },
          "metadata": {},
          "execution_count": 48
        }
      ]
    },
    {
      "cell_type": "code",
      "source": [
        "val_data = pd.read_csv('/content/DLG-Assignments/ASSignment2/validation_stock_data.csv')\n",
        "val_data['Date'] = pd.to_datetime(val_data['Date'], format='%Y-%m-%d')\n",
        "val_data.sort_values(['Ticker', 'Date'], inplace=True)\n",
        "l = []\n",
        "val_tickers = sorted(val_data['Ticker'].unique())\n",
        "for ticker in val_tickers:\n",
        "    data = val_data[val_data[\"Ticker\"] == ticker]\n",
        "    valid_cols = []\n",
        "    for i in data.columns:\n",
        "        if data[i].isna().sum() == 0:\n",
        "            valid_cols.append(i)\n",
        "    a = data[valid_cols].values\n",
        "    for i in a:\n",
        "        l.append(i)\n",
        "df1 = pd.DataFrame(l, columns=[\"Date\", \"Ticker\", \"Open\", \"High\", \"Low\", \"Close\", \"Volume\"])\n",
        "df1"
      ],
      "metadata": {
        "colab": {
          "base_uri": "https://localhost:8080/",
          "height": 423
        },
        "id": "Yj27bs17PGds",
        "outputId": "eef2528d-aa0f-4723-9695-9a3481aeb242"
      },
      "execution_count": 49,
      "outputs": [
        {
          "output_type": "execute_result",
          "data": {
            "text/plain": [
              "           Date Ticker        Open        High         Low       Close  \\\n",
              "0    2023-01-03   AAPL  128.782649  129.395518  122.742873  123.632530   \n",
              "1    2023-01-04   AAPL  125.431607  127.181268  123.642412  124.907700   \n",
              "2    2023-01-05   AAPL  125.668857  126.301500  123.326101  123.583107   \n",
              "3    2023-01-06   AAPL  124.561702  128.792501  123.454572  128.130203   \n",
              "4    2023-01-09   AAPL  128.970458  131.876670  128.397123  128.654129   \n",
              "...         ...    ...         ...         ...         ...         ...   \n",
              "1995 2023-12-22    XOM   98.058076   98.661898   97.588442   97.674706   \n",
              "1996 2023-12-26    XOM   98.470205   98.748153   97.875976   97.895142   \n",
              "1997 2023-12-27    XOM   97.799294   98.288101   97.128381   97.435089   \n",
              "1998 2023-12-28    XOM   97.176310   97.387168   95.968673   96.026184   \n",
              "1999 2023-12-29    XOM   96.198704   96.409555   95.479874   95.824913   \n",
              "\n",
              "           Volume  \n",
              "0     112117500.0  \n",
              "1      89113600.0  \n",
              "2      80962700.0  \n",
              "3      87754700.0  \n",
              "4      70790800.0  \n",
              "...           ...  \n",
              "1995   12921800.0  \n",
              "1996   16835100.0  \n",
              "1997   14558800.0  \n",
              "1998   16329300.0  \n",
              "1999   17741400.0  \n",
              "\n",
              "[2000 rows x 7 columns]"
            ],
            "text/html": [
              "\n",
              "  <div id=\"df-e67919fe-e4eb-4932-b3b9-c92ede4ae2da\" class=\"colab-df-container\">\n",
              "    <div>\n",
              "<style scoped>\n",
              "    .dataframe tbody tr th:only-of-type {\n",
              "        vertical-align: middle;\n",
              "    }\n",
              "\n",
              "    .dataframe tbody tr th {\n",
              "        vertical-align: top;\n",
              "    }\n",
              "\n",
              "    .dataframe thead th {\n",
              "        text-align: right;\n",
              "    }\n",
              "</style>\n",
              "<table border=\"1\" class=\"dataframe\">\n",
              "  <thead>\n",
              "    <tr style=\"text-align: right;\">\n",
              "      <th></th>\n",
              "      <th>Date</th>\n",
              "      <th>Ticker</th>\n",
              "      <th>Open</th>\n",
              "      <th>High</th>\n",
              "      <th>Low</th>\n",
              "      <th>Close</th>\n",
              "      <th>Volume</th>\n",
              "    </tr>\n",
              "  </thead>\n",
              "  <tbody>\n",
              "    <tr>\n",
              "      <th>0</th>\n",
              "      <td>2023-01-03</td>\n",
              "      <td>AAPL</td>\n",
              "      <td>128.782649</td>\n",
              "      <td>129.395518</td>\n",
              "      <td>122.742873</td>\n",
              "      <td>123.632530</td>\n",
              "      <td>112117500.0</td>\n",
              "    </tr>\n",
              "    <tr>\n",
              "      <th>1</th>\n",
              "      <td>2023-01-04</td>\n",
              "      <td>AAPL</td>\n",
              "      <td>125.431607</td>\n",
              "      <td>127.181268</td>\n",
              "      <td>123.642412</td>\n",
              "      <td>124.907700</td>\n",
              "      <td>89113600.0</td>\n",
              "    </tr>\n",
              "    <tr>\n",
              "      <th>2</th>\n",
              "      <td>2023-01-05</td>\n",
              "      <td>AAPL</td>\n",
              "      <td>125.668857</td>\n",
              "      <td>126.301500</td>\n",
              "      <td>123.326101</td>\n",
              "      <td>123.583107</td>\n",
              "      <td>80962700.0</td>\n",
              "    </tr>\n",
              "    <tr>\n",
              "      <th>3</th>\n",
              "      <td>2023-01-06</td>\n",
              "      <td>AAPL</td>\n",
              "      <td>124.561702</td>\n",
              "      <td>128.792501</td>\n",
              "      <td>123.454572</td>\n",
              "      <td>128.130203</td>\n",
              "      <td>87754700.0</td>\n",
              "    </tr>\n",
              "    <tr>\n",
              "      <th>4</th>\n",
              "      <td>2023-01-09</td>\n",
              "      <td>AAPL</td>\n",
              "      <td>128.970458</td>\n",
              "      <td>131.876670</td>\n",
              "      <td>128.397123</td>\n",
              "      <td>128.654129</td>\n",
              "      <td>70790800.0</td>\n",
              "    </tr>\n",
              "    <tr>\n",
              "      <th>...</th>\n",
              "      <td>...</td>\n",
              "      <td>...</td>\n",
              "      <td>...</td>\n",
              "      <td>...</td>\n",
              "      <td>...</td>\n",
              "      <td>...</td>\n",
              "      <td>...</td>\n",
              "    </tr>\n",
              "    <tr>\n",
              "      <th>1995</th>\n",
              "      <td>2023-12-22</td>\n",
              "      <td>XOM</td>\n",
              "      <td>98.058076</td>\n",
              "      <td>98.661898</td>\n",
              "      <td>97.588442</td>\n",
              "      <td>97.674706</td>\n",
              "      <td>12921800.0</td>\n",
              "    </tr>\n",
              "    <tr>\n",
              "      <th>1996</th>\n",
              "      <td>2023-12-26</td>\n",
              "      <td>XOM</td>\n",
              "      <td>98.470205</td>\n",
              "      <td>98.748153</td>\n",
              "      <td>97.875976</td>\n",
              "      <td>97.895142</td>\n",
              "      <td>16835100.0</td>\n",
              "    </tr>\n",
              "    <tr>\n",
              "      <th>1997</th>\n",
              "      <td>2023-12-27</td>\n",
              "      <td>XOM</td>\n",
              "      <td>97.799294</td>\n",
              "      <td>98.288101</td>\n",
              "      <td>97.128381</td>\n",
              "      <td>97.435089</td>\n",
              "      <td>14558800.0</td>\n",
              "    </tr>\n",
              "    <tr>\n",
              "      <th>1998</th>\n",
              "      <td>2023-12-28</td>\n",
              "      <td>XOM</td>\n",
              "      <td>97.176310</td>\n",
              "      <td>97.387168</td>\n",
              "      <td>95.968673</td>\n",
              "      <td>96.026184</td>\n",
              "      <td>16329300.0</td>\n",
              "    </tr>\n",
              "    <tr>\n",
              "      <th>1999</th>\n",
              "      <td>2023-12-29</td>\n",
              "      <td>XOM</td>\n",
              "      <td>96.198704</td>\n",
              "      <td>96.409555</td>\n",
              "      <td>95.479874</td>\n",
              "      <td>95.824913</td>\n",
              "      <td>17741400.0</td>\n",
              "    </tr>\n",
              "  </tbody>\n",
              "</table>\n",
              "<p>2000 rows × 7 columns</p>\n",
              "</div>\n",
              "    <div class=\"colab-df-buttons\">\n",
              "\n",
              "  <div class=\"colab-df-container\">\n",
              "    <button class=\"colab-df-convert\" onclick=\"convertToInteractive('df-e67919fe-e4eb-4932-b3b9-c92ede4ae2da')\"\n",
              "            title=\"Convert this dataframe to an interactive table.\"\n",
              "            style=\"display:none;\">\n",
              "\n",
              "  <svg xmlns=\"http://www.w3.org/2000/svg\" height=\"24px\" viewBox=\"0 -960 960 960\">\n",
              "    <path d=\"M120-120v-720h720v720H120Zm60-500h600v-160H180v160Zm220 220h160v-160H400v160Zm0 220h160v-160H400v160ZM180-400h160v-160H180v160Zm440 0h160v-160H620v160ZM180-180h160v-160H180v160Zm440 0h160v-160H620v160Z\"/>\n",
              "  </svg>\n",
              "    </button>\n",
              "\n",
              "  <style>\n",
              "    .colab-df-container {\n",
              "      display:flex;\n",
              "      gap: 12px;\n",
              "    }\n",
              "\n",
              "    .colab-df-convert {\n",
              "      background-color: #E8F0FE;\n",
              "      border: none;\n",
              "      border-radius: 50%;\n",
              "      cursor: pointer;\n",
              "      display: none;\n",
              "      fill: #1967D2;\n",
              "      height: 32px;\n",
              "      padding: 0 0 0 0;\n",
              "      width: 32px;\n",
              "    }\n",
              "\n",
              "    .colab-df-convert:hover {\n",
              "      background-color: #E2EBFA;\n",
              "      box-shadow: 0px 1px 2px rgba(60, 64, 67, 0.3), 0px 1px 3px 1px rgba(60, 64, 67, 0.15);\n",
              "      fill: #174EA6;\n",
              "    }\n",
              "\n",
              "    .colab-df-buttons div {\n",
              "      margin-bottom: 4px;\n",
              "    }\n",
              "\n",
              "    [theme=dark] .colab-df-convert {\n",
              "      background-color: #3B4455;\n",
              "      fill: #D2E3FC;\n",
              "    }\n",
              "\n",
              "    [theme=dark] .colab-df-convert:hover {\n",
              "      background-color: #434B5C;\n",
              "      box-shadow: 0px 1px 3px 1px rgba(0, 0, 0, 0.15);\n",
              "      filter: drop-shadow(0px 1px 2px rgba(0, 0, 0, 0.3));\n",
              "      fill: #FFFFFF;\n",
              "    }\n",
              "  </style>\n",
              "\n",
              "    <script>\n",
              "      const buttonEl =\n",
              "        document.querySelector('#df-e67919fe-e4eb-4932-b3b9-c92ede4ae2da button.colab-df-convert');\n",
              "      buttonEl.style.display =\n",
              "        google.colab.kernel.accessAllowed ? 'block' : 'none';\n",
              "\n",
              "      async function convertToInteractive(key) {\n",
              "        const element = document.querySelector('#df-e67919fe-e4eb-4932-b3b9-c92ede4ae2da');\n",
              "        const dataTable =\n",
              "          await google.colab.kernel.invokeFunction('convertToInteractive',\n",
              "                                                    [key], {});\n",
              "        if (!dataTable) return;\n",
              "\n",
              "        const docLinkHtml = 'Like what you see? Visit the ' +\n",
              "          '<a target=\"_blank\" href=https://colab.research.google.com/notebooks/data_table.ipynb>data table notebook</a>'\n",
              "          + ' to learn more about interactive tables.';\n",
              "        element.innerHTML = '';\n",
              "        dataTable['output_type'] = 'display_data';\n",
              "        await google.colab.output.renderOutput(dataTable, element);\n",
              "        const docLink = document.createElement('div');\n",
              "        docLink.innerHTML = docLinkHtml;\n",
              "        element.appendChild(docLink);\n",
              "      }\n",
              "    </script>\n",
              "  </div>\n",
              "\n",
              "\n",
              "<div id=\"df-f968378c-b8d2-488e-bb29-7a70de704e27\">\n",
              "  <button class=\"colab-df-quickchart\" onclick=\"quickchart('df-f968378c-b8d2-488e-bb29-7a70de704e27')\"\n",
              "            title=\"Suggest charts\"\n",
              "            style=\"display:none;\">\n",
              "\n",
              "<svg xmlns=\"http://www.w3.org/2000/svg\" height=\"24px\"viewBox=\"0 0 24 24\"\n",
              "     width=\"24px\">\n",
              "    <g>\n",
              "        <path d=\"M19 3H5c-1.1 0-2 .9-2 2v14c0 1.1.9 2 2 2h14c1.1 0 2-.9 2-2V5c0-1.1-.9-2-2-2zM9 17H7v-7h2v7zm4 0h-2V7h2v10zm4 0h-2v-4h2v4z\"/>\n",
              "    </g>\n",
              "</svg>\n",
              "  </button>\n",
              "\n",
              "<style>\n",
              "  .colab-df-quickchart {\n",
              "      --bg-color: #E8F0FE;\n",
              "      --fill-color: #1967D2;\n",
              "      --hover-bg-color: #E2EBFA;\n",
              "      --hover-fill-color: #174EA6;\n",
              "      --disabled-fill-color: #AAA;\n",
              "      --disabled-bg-color: #DDD;\n",
              "  }\n",
              "\n",
              "  [theme=dark] .colab-df-quickchart {\n",
              "      --bg-color: #3B4455;\n",
              "      --fill-color: #D2E3FC;\n",
              "      --hover-bg-color: #434B5C;\n",
              "      --hover-fill-color: #FFFFFF;\n",
              "      --disabled-bg-color: #3B4455;\n",
              "      --disabled-fill-color: #666;\n",
              "  }\n",
              "\n",
              "  .colab-df-quickchart {\n",
              "    background-color: var(--bg-color);\n",
              "    border: none;\n",
              "    border-radius: 50%;\n",
              "    cursor: pointer;\n",
              "    display: none;\n",
              "    fill: var(--fill-color);\n",
              "    height: 32px;\n",
              "    padding: 0;\n",
              "    width: 32px;\n",
              "  }\n",
              "\n",
              "  .colab-df-quickchart:hover {\n",
              "    background-color: var(--hover-bg-color);\n",
              "    box-shadow: 0 1px 2px rgba(60, 64, 67, 0.3), 0 1px 3px 1px rgba(60, 64, 67, 0.15);\n",
              "    fill: var(--button-hover-fill-color);\n",
              "  }\n",
              "\n",
              "  .colab-df-quickchart-complete:disabled,\n",
              "  .colab-df-quickchart-complete:disabled:hover {\n",
              "    background-color: var(--disabled-bg-color);\n",
              "    fill: var(--disabled-fill-color);\n",
              "    box-shadow: none;\n",
              "  }\n",
              "\n",
              "  .colab-df-spinner {\n",
              "    border: 2px solid var(--fill-color);\n",
              "    border-color: transparent;\n",
              "    border-bottom-color: var(--fill-color);\n",
              "    animation:\n",
              "      spin 1s steps(1) infinite;\n",
              "  }\n",
              "\n",
              "  @keyframes spin {\n",
              "    0% {\n",
              "      border-color: transparent;\n",
              "      border-bottom-color: var(--fill-color);\n",
              "      border-left-color: var(--fill-color);\n",
              "    }\n",
              "    20% {\n",
              "      border-color: transparent;\n",
              "      border-left-color: var(--fill-color);\n",
              "      border-top-color: var(--fill-color);\n",
              "    }\n",
              "    30% {\n",
              "      border-color: transparent;\n",
              "      border-left-color: var(--fill-color);\n",
              "      border-top-color: var(--fill-color);\n",
              "      border-right-color: var(--fill-color);\n",
              "    }\n",
              "    40% {\n",
              "      border-color: transparent;\n",
              "      border-right-color: var(--fill-color);\n",
              "      border-top-color: var(--fill-color);\n",
              "    }\n",
              "    60% {\n",
              "      border-color: transparent;\n",
              "      border-right-color: var(--fill-color);\n",
              "    }\n",
              "    80% {\n",
              "      border-color: transparent;\n",
              "      border-right-color: var(--fill-color);\n",
              "      border-bottom-color: var(--fill-color);\n",
              "    }\n",
              "    90% {\n",
              "      border-color: transparent;\n",
              "      border-bottom-color: var(--fill-color);\n",
              "    }\n",
              "  }\n",
              "</style>\n",
              "\n",
              "  <script>\n",
              "    async function quickchart(key) {\n",
              "      const quickchartButtonEl =\n",
              "        document.querySelector('#' + key + ' button');\n",
              "      quickchartButtonEl.disabled = true;  // To prevent multiple clicks.\n",
              "      quickchartButtonEl.classList.add('colab-df-spinner');\n",
              "      try {\n",
              "        const charts = await google.colab.kernel.invokeFunction(\n",
              "            'suggestCharts', [key], {});\n",
              "      } catch (error) {\n",
              "        console.error('Error during call to suggestCharts:', error);\n",
              "      }\n",
              "      quickchartButtonEl.classList.remove('colab-df-spinner');\n",
              "      quickchartButtonEl.classList.add('colab-df-quickchart-complete');\n",
              "    }\n",
              "    (() => {\n",
              "      let quickchartButtonEl =\n",
              "        document.querySelector('#df-f968378c-b8d2-488e-bb29-7a70de704e27 button');\n",
              "      quickchartButtonEl.style.display =\n",
              "        google.colab.kernel.accessAllowed ? 'block' : 'none';\n",
              "    })();\n",
              "  </script>\n",
              "</div>\n",
              "\n",
              "  <div id=\"id_9564d452-2d45-46c0-baca-a4000c91005d\">\n",
              "    <style>\n",
              "      .colab-df-generate {\n",
              "        background-color: #E8F0FE;\n",
              "        border: none;\n",
              "        border-radius: 50%;\n",
              "        cursor: pointer;\n",
              "        display: none;\n",
              "        fill: #1967D2;\n",
              "        height: 32px;\n",
              "        padding: 0 0 0 0;\n",
              "        width: 32px;\n",
              "      }\n",
              "\n",
              "      .colab-df-generate:hover {\n",
              "        background-color: #E2EBFA;\n",
              "        box-shadow: 0px 1px 2px rgba(60, 64, 67, 0.3), 0px 1px 3px 1px rgba(60, 64, 67, 0.15);\n",
              "        fill: #174EA6;\n",
              "      }\n",
              "\n",
              "      [theme=dark] .colab-df-generate {\n",
              "        background-color: #3B4455;\n",
              "        fill: #D2E3FC;\n",
              "      }\n",
              "\n",
              "      [theme=dark] .colab-df-generate:hover {\n",
              "        background-color: #434B5C;\n",
              "        box-shadow: 0px 1px 3px 1px rgba(0, 0, 0, 0.15);\n",
              "        filter: drop-shadow(0px 1px 2px rgba(0, 0, 0, 0.3));\n",
              "        fill: #FFFFFF;\n",
              "      }\n",
              "    </style>\n",
              "    <button class=\"colab-df-generate\" onclick=\"generateWithVariable('df1')\"\n",
              "            title=\"Generate code using this dataframe.\"\n",
              "            style=\"display:none;\">\n",
              "\n",
              "  <svg xmlns=\"http://www.w3.org/2000/svg\" height=\"24px\"viewBox=\"0 0 24 24\"\n",
              "       width=\"24px\">\n",
              "    <path d=\"M7,19H8.4L18.45,9,17,7.55,7,17.6ZM5,21V16.75L18.45,3.32a2,2,0,0,1,2.83,0l1.4,1.43a1.91,1.91,0,0,1,.58,1.4,1.91,1.91,0,0,1-.58,1.4L9.25,21ZM18.45,9,17,7.55Zm-12,3A5.31,5.31,0,0,0,4.9,8.1,5.31,5.31,0,0,0,1,6.5,5.31,5.31,0,0,0,4.9,4.9,5.31,5.31,0,0,0,6.5,1,5.31,5.31,0,0,0,8.1,4.9,5.31,5.31,0,0,0,12,6.5,5.46,5.46,0,0,0,6.5,12Z\"/>\n",
              "  </svg>\n",
              "    </button>\n",
              "    <script>\n",
              "      (() => {\n",
              "      const buttonEl =\n",
              "        document.querySelector('#id_9564d452-2d45-46c0-baca-a4000c91005d button.colab-df-generate');\n",
              "      buttonEl.style.display =\n",
              "        google.colab.kernel.accessAllowed ? 'block' : 'none';\n",
              "\n",
              "      buttonEl.onclick = () => {\n",
              "        google.colab.notebook.generateWithVariable('df1');\n",
              "      }\n",
              "      })();\n",
              "    </script>\n",
              "  </div>\n",
              "\n",
              "    </div>\n",
              "  </div>\n"
            ],
            "application/vnd.google.colaboratory.intrinsic+json": {
              "type": "dataframe",
              "variable_name": "df1",
              "summary": "{\n  \"name\": \"df1\",\n  \"rows\": 2000,\n  \"fields\": [\n    {\n      \"column\": \"Date\",\n      \"properties\": {\n        \"dtype\": \"date\",\n        \"min\": \"2023-01-03 00:00:00\",\n        \"max\": \"2023-12-29 00:00:00\",\n        \"num_unique_values\": 250,\n        \"samples\": [\n          \"2023-07-28 00:00:00\",\n          \"2023-01-11 00:00:00\",\n          \"2023-05-23 00:00:00\"\n        ],\n        \"semantic_type\": \"\",\n        \"description\": \"\"\n      }\n    },\n    {\n      \"column\": \"Ticker\",\n      \"properties\": {\n        \"dtype\": \"category\",\n        \"num_unique_values\": 8,\n        \"samples\": [\n          \"BA\",\n          \"VZ\",\n          \"AAPL\"\n        ],\n        \"semantic_type\": \"\",\n        \"description\": \"\"\n      }\n    },\n    {\n      \"column\": \"Open\",\n      \"properties\": {\n        \"dtype\": \"number\",\n        \"std\": 58.13009238306729,\n        \"min\": 28.317797801605035,\n        \"max\": 265.95001220703125,\n        \"num_unique_values\": 1989,\n        \"samples\": [\n          140.04187034653,\n          51.75084426509711,\n          146.53517989208052\n        ],\n        \"semantic_type\": \"\",\n        \"description\": \"\"\n      }\n    },\n    {\n      \"column\": \"High\",\n      \"properties\": {\n        \"dtype\": \"number\",\n        \"std\": 58.78879921291917,\n        \"min\": 28.557310508625264,\n        \"max\": 267.5400085449219,\n        \"num_unique_values\": 1991,\n        \"samples\": [\n          162.25704156135427,\n          53.9042661738853,\n          222.7899932861328\n        ],\n        \"semantic_type\": \"\",\n        \"description\": \"\"\n      }\n    },\n    {\n      \"column\": \"Low\",\n      \"properties\": {\n        \"dtype\": \"number\",\n        \"std\": 57.612893643197424,\n        \"min\": 27.76507488064408,\n        \"max\": 260.8999938964844,\n        \"num_unique_values\": 1994,\n        \"samples\": [\n          157.27528922241132,\n          53.13191510788712,\n          216.4199981689453\n        ],\n        \"semantic_type\": \"\",\n        \"description\": \"\"\n      }\n    },\n    {\n      \"column\": \"Close\",\n      \"properties\": {\n        \"dtype\": \"number\",\n        \"std\": 58.24600729842507,\n        \"min\": 28.25331115722656,\n        \"max\": 264.2699890136719,\n        \"num_unique_values\": 1955,\n        \"samples\": [\n          51.54793930053711,\n          99.62947845458984,\n          32.28907775878906\n        ],\n        \"semantic_type\": \"\",\n        \"description\": \"\"\n      }\n    },\n    {\n      \"column\": \"Volume\",\n      \"properties\": {\n        \"dtype\": \"number\",\n        \"std\": 19509468.327458825,\n        \"min\": 1181000.0,\n        \"max\": 154357300.0,\n        \"num_unique_values\": 1991,\n        \"samples\": [\n          22632700.0,\n          14019600.0,\n          3716700.0\n        ],\n        \"semantic_type\": \"\",\n        \"description\": \"\"\n      }\n    }\n  ]\n}"
            }
          },
          "metadata": {},
          "execution_count": 49
        }
      ]
    },
    {
      "cell_type": "code",
      "source": [
        "df2 = df1[feature_cols].copy()\n",
        "df1[feature_cols] = scaler.transform(df1[feature_cols])"
      ],
      "metadata": {
        "id": "LNrUOVYiPIe3"
      },
      "execution_count": 50,
      "outputs": []
    },
    {
      "cell_type": "code",
      "source": [
        "aapl = df[df[\"Ticker\"] == \"AAPL\"]\n",
        "plt.figure(figsize=(12, 6))\n",
        "plt.plot(aapl.index, aapl['Close'], label='Close Price')\n",
        "plt.title('AAPL Close Price (2019-2022)')\n",
        "plt.xlabel('Date')\n",
        "plt.ylabel('Price')\n",
        "plt.legend()\n",
        "plt.show()\n",
        "# scaled btw"
      ],
      "metadata": {
        "colab": {
          "base_uri": "https://localhost:8080/",
          "height": 564
        },
        "id": "tdEIQ4XnPS55",
        "outputId": "925784af-41ed-45ba-bb56-b33c2cca7b4d"
      },
      "execution_count": 51,
      "outputs": [
        {
          "output_type": "display_data",
          "data": {
            "text/plain": [
              "<Figure size 1200x600 with 1 Axes>"
            ],
            "image/png": "[encoded data removed]"
          },
          "metadata": {}
        }
      ]
    },
    {
      "cell_type": "code",
      "source": [
        "dates = sorted(df1['Date'].unique())\n",
        "val_graph_snapshots = []\n",
        "\n",
        "for date in dates:\n",
        "    x_t, y_t = get_features_for_date(df1, date, tickers, target_cols)\n",
        "    val_graph_snapshots.append((x_t, y_t))"
      ],
      "metadata": {
        "id": "uKQdQVy3Qeyk"
      },
      "execution_count": 52,
      "outputs": []
    },
    {
      "cell_type": "code",
      "source": [
        "val_graphs = []\n",
        "\n",
        "for x_t, y_t in val_graph_snapshots:\n",
        "    graph = Data(x=x_t, edge_index=edge_index, y=y_t)\n",
        "    val_graphs.append(graph)\n",
        "val_graphs[0]"
      ],
      "metadata": {
        "colab": {
          "base_uri": "https://localhost:8080/"
        },
        "id": "DAQvEn3MRAmd",
        "outputId": "f7aa355d-8356-4963-cb44-1fba88ca179a"
      },
      "execution_count": 53,
      "outputs": [
        {
          "output_type": "execute_result",
          "data": {
            "text/plain": [
              "Data(x=[20, 5], edge_index=[2, 36], y=[20, 5])"
            ]
          },
          "metadata": {},
          "execution_count": 53
        }
      ]
    },
    {
      "cell_type": "code",
      "source": [
        "from torch_geometric.nn import GATConv\n",
        "import torch.nn as nn\n",
        "import torch.nn.functional as F\n",
        "\n",
        "class StockGAT(nn.Module):\n",
        "    def __init__(self, in_channels, hidden_channels, out_channels=5, heads=32, dropout=0.3):\n",
        "        super().__init__()\n",
        "        self.gat1 = GATConv(in_channels, hidden_channels, heads=heads, dropout=dropout)\n",
        "        self.norm1 = nn.LayerNorm(hidden_channels * heads)\n",
        "\n",
        "        self.gat2 = GATConv(hidden_channels * heads, hidden_channels, heads=heads, dropout=dropout)\n",
        "        self.norm2 = nn.LayerNorm(hidden_channels * heads)\n",
        "\n",
        "        self.gat3 = GATConv(hidden_channels * heads, hidden_channels, heads=1)\n",
        "        self.norm3 = nn.LayerNorm(hidden_channels)\n",
        "\n",
        "        self.regressor = nn.Sequential(\n",
        "            nn.Linear(hidden_channels, hidden_channels // 2),\n",
        "            nn.ReLU(),\n",
        "            nn.Dropout(dropout),\n",
        "            nn.Linear(hidden_channels // 2, out_channels)\n",
        "        )\n",
        "        self.scale_factor = nn.Parameter(torch.ones(out_channels))\n",
        "        self.scale_bias = nn.Parameter(torch.zeros(out_channels))\n",
        "\n",
        "\n",
        "    def forward(self, x, edge_index):\n",
        "        x = F.elu(self.gat1(x, edge_index))\n",
        "        x = self.norm1(x)\n",
        "\n",
        "        x = F.elu(self.gat2(x, edge_index))\n",
        "        x = self.norm2(x)\n",
        "\n",
        "        x = F.elu(self.gat3(x, edge_index))\n",
        "        x = self.norm3(x)\n",
        "\n",
        "        out = self.regressor(x)\n",
        "        return out * self.scale_factor + self.scale_bias"
      ],
      "metadata": {
        "id": "vdKklk5jQ57M"
      },
      "execution_count": 54,
      "outputs": []
    },
    {
      "cell_type": "code",
      "source": [
        "model = StockGAT(\n",
        "    in_channels=len(target_cols),\n",
        "    hidden_channels=128,\n",
        "    out_channels=5,\n",
        "    heads=32,\n",
        "    dropout=0.3\n",
        ")\n",
        "optimizer = torch.optim.Adam(model.parameters(), lr=0.0001, weight_decay=5e-4)\n",
        "loss_fn = torch.nn.MSELoss()\n",
        "scheduler = torch.optim.lr_scheduler.ReduceLROnPlateau(optimizer, mode='min', factor=0.5, patience=5, min_lr=1e-5)"
      ],
      "metadata": {
        "id": "gKpG8Q-NRN_j"
      },
      "execution_count": 55,
      "outputs": []
    },
    {
      "cell_type": "code",
      "source": [
        "train_loader = DataLoader(graphs, batch_size=64, shuffle=True)\n",
        "val_loader = DataLoader(val_graphs, batch_size=64, shuffle=False)"
      ],
      "metadata": {
        "id": "NnCSWj0cRQlJ"
      },
      "execution_count": 56,
      "outputs": []
    },
    {
      "cell_type": "code",
      "source": [
        "device = torch.device('cuda' if torch.cuda.is_available() else 'cpu')\n",
        "model = model.to(device)\n",
        "edge_index = edge_index.to(device)\n",
        "epochs = 100\n",
        "train_losses, val_losses = [], []\n",
        "\n",
        "for epoch in range(epochs):\n",
        "    model.train()\n",
        "    train_loss = 0\n",
        "    for batch in tqdm(train_loader, desc=f\"[Epoch {epoch+1}] Training\", leave=False):\n",
        "        batch = batch.to(device)\n",
        "\n",
        "        optimizer.zero_grad()\n",
        "        out = model(batch.x, batch.edge_index)\n",
        "        loss = loss_fn(out, batch.y)\n",
        "        loss.backward()\n",
        "        optimizer.step()\n",
        "        train_loss += loss.item()\n",
        "\n",
        "    train_loss /= len(train_loader)\n",
        "    train_losses.append(train_loss)\n",
        "\n",
        "    model.eval()\n",
        "    val_loss = 0\n",
        "    with torch.no_grad():\n",
        "        for batch in tqdm(val_loader, desc=f\"[Epoch {epoch+1}] Validation\", leave=False):\n",
        "            batch = batch.to(device)\n",
        "            out = model(batch.x, batch.edge_index)\n",
        "            loss = loss_fn(out, batch.y)\n",
        "            val_loss += loss.item()\n",
        "\n",
        "    val_loss /= len(val_loader)\n",
        "    val_losses.append(val_loss)\n",
        "    scheduler.step(val_loss)\n",
        "    print(f\"Epoch {epoch+1} | Train Loss: {train_loss:.4f} | Val Loss: {val_loss:.4f}\")"
      ],
      "metadata": {
        "colab": {
          "base_uri": "https://localhost:8080/"
        },
        "id": "enA7yJBJRapT",
        "outputId": "6f568275-d0ef-4691-eb74-7bf449339be4"
      },
      "execution_count": 57,
      "outputs": [
        {
          "output_type": "stream",
          "name": "stderr",
          "text": []
        },
        {
          "output_type": "stream",
          "name": "stdout",
          "text": [
            "Epoch 1 | Train Loss: 0.6142 | Val Loss: 0.2878\n"
          ]
        },
        {
          "output_type": "stream",
          "name": "stderr",
          "text": []
        },
        {
          "output_type": "stream",
          "name": "stdout",
          "text": [
            "Epoch 2 | Train Loss: 0.5212 | Val Loss: 0.3140\n"
          ]
        },
        {
          "output_type": "stream",
          "name": "stderr",
          "text": []
        },
        {
          "output_type": "stream",
          "name": "stdout",
          "text": [
            "Epoch 3 | Train Loss: 0.4905 | Val Loss: 0.3083\n"
          ]
        },
        {
          "output_type": "stream",
          "name": "stderr",
          "text": []
        },
        {
          "output_type": "stream",
          "name": "stdout",
          "text": [
            "Epoch 4 | Train Loss: 0.4565 | Val Loss: 0.2524\n"
          ]
        },
        {
          "output_type": "stream",
          "name": "stderr",
          "text": []
        },
        {
          "output_type": "stream",
          "name": "stdout",
          "text": [
            "Epoch 5 | Train Loss: 0.4329 | Val Loss: 0.2023\n"
          ]
        },
        {
          "output_type": "stream",
          "name": "stderr",
          "text": []
        },
        {
          "output_type": "stream",
          "name": "stdout",
          "text": [
            "Epoch 6 | Train Loss: 0.4162 | Val Loss: 0.1801\n"
          ]
        },
        {
          "output_type": "stream",
          "name": "stderr",
          "text": []
        },
        {
          "output_type": "stream",
          "name": "stdout",
          "text": [
            "Epoch 7 | Train Loss: 0.4033 | Val Loss: 0.1802\n"
          ]
        },
        {
          "output_type": "stream",
          "name": "stderr",
          "text": []
        },
        {
          "output_type": "stream",
          "name": "stdout",
          "text": [
            "Epoch 8 | Train Loss: 0.3925 | Val Loss: 0.1806\n"
          ]
        },
        {
          "output_type": "stream",
          "name": "stderr",
          "text": []
        },
        {
          "output_type": "stream",
          "name": "stdout",
          "text": [
            "Epoch 9 | Train Loss: 0.3883 | Val Loss: 0.1780\n"
          ]
        },
        {
          "output_type": "stream",
          "name": "stderr",
          "text": []
        },
        {
          "output_type": "stream",
          "name": "stdout",
          "text": [
            "Epoch 10 | Train Loss: 0.3843 | Val Loss: 0.1751\n"
          ]
        },
        {
          "output_type": "stream",
          "name": "stderr",
          "text": []
        },
        {
          "output_type": "stream",
          "name": "stdout",
          "text": [
            "Epoch 11 | Train Loss: 0.3802 | Val Loss: 0.1733\n"
          ]
        },
        {
          "output_type": "stream",
          "name": "stderr",
          "text": []
        },
        {
          "output_type": "stream",
          "name": "stdout",
          "text": [
            "Epoch 12 | Train Loss: 0.3779 | Val Loss: 0.1729\n"
          ]
        },
        {
          "output_type": "stream",
          "name": "stderr",
          "text": []
        },
        {
          "output_type": "stream",
          "name": "stdout",
          "text": [
            "Epoch 13 | Train Loss: 0.3746 | Val Loss: 0.1725\n"
          ]
        },
        {
          "output_type": "stream",
          "name": "stderr",
          "text": []
        },
        {
          "output_type": "stream",
          "name": "stdout",
          "text": [
            "Epoch 14 | Train Loss: 0.3679 | Val Loss: 0.1711\n"
          ]
        },
        {
          "output_type": "stream",
          "name": "stderr",
          "text": []
        },
        {
          "output_type": "stream",
          "name": "stdout",
          "text": [
            "Epoch 15 | Train Loss: 0.3702 | Val Loss: 0.1712\n"
          ]
        },
        {
          "output_type": "stream",
          "name": "stderr",
          "text": []
        },
        {
          "output_type": "stream",
          "name": "stdout",
          "text": [
            "Epoch 16 | Train Loss: 0.3674 | Val Loss: 0.1705\n"
          ]
        },
        {
          "output_type": "stream",
          "name": "stderr",
          "text": []
        },
        {
          "output_type": "stream",
          "name": "stdout",
          "text": [
            "Epoch 17 | Train Loss: 0.3686 | Val Loss: 0.1709\n"
          ]
        },
        {
          "output_type": "stream",
          "name": "stderr",
          "text": []
        },
        {
          "output_type": "stream",
          "name": "stdout",
          "text": [
            "Epoch 18 | Train Loss: 0.3652 | Val Loss: 0.1703\n"
          ]
        },
        {
          "output_type": "stream",
          "name": "stderr",
          "text": []
        },
        {
          "output_type": "stream",
          "name": "stdout",
          "text": [
            "Epoch 19 | Train Loss: 0.3685 | Val Loss: 0.1703\n"
          ]
        },
        {
          "output_type": "stream",
          "name": "stderr",
          "text": []
        },
        {
          "output_type": "stream",
          "name": "stdout",
          "text": [
            "Epoch 20 | Train Loss: 0.3600 | Val Loss: 0.1698\n"
          ]
        },
        {
          "output_type": "stream",
          "name": "stderr",
          "text": []
        },
        {
          "output_type": "stream",
          "name": "stdout",
          "text": [
            "Epoch 21 | Train Loss: 0.3667 | Val Loss: 0.1705\n"
          ]
        },
        {
          "output_type": "stream",
          "name": "stderr",
          "text": []
        },
        {
          "output_type": "stream",
          "name": "stdout",
          "text": [
            "Epoch 22 | Train Loss: 0.3668 | Val Loss: 0.1700\n"
          ]
        },
        {
          "output_type": "stream",
          "name": "stderr",
          "text": []
        },
        {
          "output_type": "stream",
          "name": "stdout",
          "text": [
            "Epoch 23 | Train Loss: 0.3626 | Val Loss: 0.1704\n"
          ]
        },
        {
          "output_type": "stream",
          "name": "stderr",
          "text": []
        },
        {
          "output_type": "stream",
          "name": "stdout",
          "text": [
            "Epoch 24 | Train Loss: 0.3630 | Val Loss: 0.1696\n"
          ]
        },
        {
          "output_type": "stream",
          "name": "stderr",
          "text": []
        },
        {
          "output_type": "stream",
          "name": "stdout",
          "text": [
            "Epoch 25 | Train Loss: 0.3651 | Val Loss: 0.1700\n"
          ]
        },
        {
          "output_type": "stream",
          "name": "stderr",
          "text": []
        },
        {
          "output_type": "stream",
          "name": "stdout",
          "text": [
            "Epoch 26 | Train Loss: 0.3609 | Val Loss: 0.1699\n"
          ]
        },
        {
          "output_type": "stream",
          "name": "stderr",
          "text": []
        },
        {
          "output_type": "stream",
          "name": "stdout",
          "text": [
            "Epoch 27 | Train Loss: 0.3599 | Val Loss: 0.1709\n"
          ]
        },
        {
          "output_type": "stream",
          "name": "stderr",
          "text": []
        },
        {
          "output_type": "stream",
          "name": "stdout",
          "text": [
            "Epoch 28 | Train Loss: 0.3585 | Val Loss: 0.1696\n"
          ]
        },
        {
          "output_type": "stream",
          "name": "stderr",
          "text": []
        },
        {
          "output_type": "stream",
          "name": "stdout",
          "text": [
            "Epoch 29 | Train Loss: 0.3562 | Val Loss: 0.1703\n"
          ]
        },
        {
          "output_type": "stream",
          "name": "stderr",
          "text": []
        },
        {
          "output_type": "stream",
          "name": "stdout",
          "text": [
            "Epoch 30 | Train Loss: 0.3583 | Val Loss: 0.1697\n"
          ]
        },
        {
          "output_type": "stream",
          "name": "stderr",
          "text": []
        },
        {
          "output_type": "stream",
          "name": "stdout",
          "text": [
            "Epoch 31 | Train Loss: 0.3599 | Val Loss: 0.1698\n"
          ]
        },
        {
          "output_type": "stream",
          "name": "stderr",
          "text": []
        },
        {
          "output_type": "stream",
          "name": "stdout",
          "text": [
            "Epoch 32 | Train Loss: 0.3577 | Val Loss: 0.1693\n"
          ]
        },
        {
          "output_type": "stream",
          "name": "stderr",
          "text": []
        },
        {
          "output_type": "stream",
          "name": "stdout",
          "text": [
            "Epoch 33 | Train Loss: 0.3550 | Val Loss: 0.1697\n"
          ]
        },
        {
          "output_type": "stream",
          "name": "stderr",
          "text": []
        },
        {
          "output_type": "stream",
          "name": "stdout",
          "text": [
            "Epoch 34 | Train Loss: 0.3564 | Val Loss: 0.1699\n"
          ]
        },
        {
          "output_type": "stream",
          "name": "stderr",
          "text": []
        },
        {
          "output_type": "stream",
          "name": "stdout",
          "text": [
            "Epoch 35 | Train Loss: 0.3592 | Val Loss: 0.1694\n"
          ]
        },
        {
          "output_type": "stream",
          "name": "stderr",
          "text": []
        },
        {
          "output_type": "stream",
          "name": "stdout",
          "text": [
            "Epoch 36 | Train Loss: 0.3562 | Val Loss: 0.1697\n"
          ]
        },
        {
          "output_type": "stream",
          "name": "stderr",
          "text": []
        },
        {
          "output_type": "stream",
          "name": "stdout",
          "text": [
            "Epoch 37 | Train Loss: 0.3579 | Val Loss: 0.1695\n"
          ]
        },
        {
          "output_type": "stream",
          "name": "stderr",
          "text": []
        },
        {
          "output_type": "stream",
          "name": "stdout",
          "text": [
            "Epoch 38 | Train Loss: 0.3585 | Val Loss: 0.1695\n"
          ]
        },
        {
          "output_type": "stream",
          "name": "stderr",
          "text": []
        },
        {
          "output_type": "stream",
          "name": "stdout",
          "text": [
            "Epoch 39 | Train Loss: 0.3555 | Val Loss: 0.1694\n"
          ]
        },
        {
          "output_type": "stream",
          "name": "stderr",
          "text": []
        },
        {
          "output_type": "stream",
          "name": "stdout",
          "text": [
            "Epoch 40 | Train Loss: 0.3578 | Val Loss: 0.1694\n"
          ]
        },
        {
          "output_type": "stream",
          "name": "stderr",
          "text": []
        },
        {
          "output_type": "stream",
          "name": "stdout",
          "text": [
            "Epoch 41 | Train Loss: 0.3564 | Val Loss: 0.1695\n"
          ]
        },
        {
          "output_type": "stream",
          "name": "stderr",
          "text": []
        },
        {
          "output_type": "stream",
          "name": "stdout",
          "text": [
            "Epoch 42 | Train Loss: 0.3557 | Val Loss: 0.1694\n"
          ]
        },
        {
          "output_type": "stream",
          "name": "stderr",
          "text": []
        },
        {
          "output_type": "stream",
          "name": "stdout",
          "text": [
            "Epoch 43 | Train Loss: 0.3584 | Val Loss: 0.1694\n"
          ]
        },
        {
          "output_type": "stream",
          "name": "stderr",
          "text": []
        },
        {
          "output_type": "stream",
          "name": "stdout",
          "text": [
            "Epoch 44 | Train Loss: 0.3564 | Val Loss: 0.1694\n"
          ]
        },
        {
          "output_type": "stream",
          "name": "stderr",
          "text": []
        },
        {
          "output_type": "stream",
          "name": "stdout",
          "text": [
            "Epoch 45 | Train Loss: 0.3538 | Val Loss: 0.1696\n"
          ]
        },
        {
          "output_type": "stream",
          "name": "stderr",
          "text": []
        },
        {
          "output_type": "stream",
          "name": "stdout",
          "text": [
            "Epoch 46 | Train Loss: 0.3544 | Val Loss: 0.1694\n"
          ]
        },
        {
          "output_type": "stream",
          "name": "stderr",
          "text": []
        },
        {
          "output_type": "stream",
          "name": "stdout",
          "text": [
            "Epoch 47 | Train Loss: 0.3544 | Val Loss: 0.1694\n"
          ]
        },
        {
          "output_type": "stream",
          "name": "stderr",
          "text": []
        },
        {
          "output_type": "stream",
          "name": "stdout",
          "text": [
            "Epoch 48 | Train Loss: 0.3544 | Val Loss: 0.1694\n"
          ]
        },
        {
          "output_type": "stream",
          "name": "stderr",
          "text": []
        },
        {
          "output_type": "stream",
          "name": "stdout",
          "text": [
            "Epoch 49 | Train Loss: 0.3544 | Val Loss: 0.1693\n"
          ]
        },
        {
          "output_type": "stream",
          "name": "stderr",
          "text": []
        },
        {
          "output_type": "stream",
          "name": "stdout",
          "text": [
            "Epoch 50 | Train Loss: 0.3533 | Val Loss: 0.1694\n"
          ]
        },
        {
          "output_type": "stream",
          "name": "stderr",
          "text": []
        },
        {
          "output_type": "stream",
          "name": "stdout",
          "text": [
            "Epoch 51 | Train Loss: 0.3568 | Val Loss: 0.1694\n"
          ]
        },
        {
          "output_type": "stream",
          "name": "stderr",
          "text": []
        },
        {
          "output_type": "stream",
          "name": "stdout",
          "text": [
            "Epoch 52 | Train Loss: 0.3558 | Val Loss: 0.1694\n"
          ]
        },
        {
          "output_type": "stream",
          "name": "stderr",
          "text": []
        },
        {
          "output_type": "stream",
          "name": "stdout",
          "text": [
            "Epoch 53 | Train Loss: 0.3536 | Val Loss: 0.1695\n"
          ]
        },
        {
          "output_type": "stream",
          "name": "stderr",
          "text": []
        },
        {
          "output_type": "stream",
          "name": "stdout",
          "text": [
            "Epoch 54 | Train Loss: 0.3551 | Val Loss: 0.1692\n"
          ]
        },
        {
          "output_type": "stream",
          "name": "stderr",
          "text": []
        },
        {
          "output_type": "stream",
          "name": "stdout",
          "text": [
            "Epoch 55 | Train Loss: 0.3537 | Val Loss: 0.1692\n"
          ]
        },
        {
          "output_type": "stream",
          "name": "stderr",
          "text": []
        },
        {
          "output_type": "stream",
          "name": "stdout",
          "text": [
            "Epoch 56 | Train Loss: 0.3526 | Val Loss: 0.1693\n"
          ]
        },
        {
          "output_type": "stream",
          "name": "stderr",
          "text": []
        },
        {
          "output_type": "stream",
          "name": "stdout",
          "text": [
            "Epoch 57 | Train Loss: 0.3523 | Val Loss: 0.1693\n"
          ]
        },
        {
          "output_type": "stream",
          "name": "stderr",
          "text": []
        },
        {
          "output_type": "stream",
          "name": "stdout",
          "text": [
            "Epoch 58 | Train Loss: 0.3554 | Val Loss: 0.1692\n"
          ]
        },
        {
          "output_type": "stream",
          "name": "stderr",
          "text": []
        },
        {
          "output_type": "stream",
          "name": "stdout",
          "text": [
            "Epoch 59 | Train Loss: 0.3546 | Val Loss: 0.1693\n"
          ]
        },
        {
          "output_type": "stream",
          "name": "stderr",
          "text": []
        },
        {
          "output_type": "stream",
          "name": "stdout",
          "text": [
            "Epoch 60 | Train Loss: 0.3572 | Val Loss: 0.1694\n"
          ]
        },
        {
          "output_type": "stream",
          "name": "stderr",
          "text": []
        },
        {
          "output_type": "stream",
          "name": "stdout",
          "text": [
            "Epoch 61 | Train Loss: 0.3558 | Val Loss: 0.1694\n"
          ]
        },
        {
          "output_type": "stream",
          "name": "stderr",
          "text": []
        },
        {
          "output_type": "stream",
          "name": "stdout",
          "text": [
            "Epoch 62 | Train Loss: 0.3531 | Val Loss: 0.1694\n"
          ]
        },
        {
          "output_type": "stream",
          "name": "stderr",
          "text": []
        },
        {
          "output_type": "stream",
          "name": "stdout",
          "text": [
            "Epoch 63 | Train Loss: 0.3547 | Val Loss: 0.1694\n"
          ]
        },
        {
          "output_type": "stream",
          "name": "stderr",
          "text": []
        },
        {
          "output_type": "stream",
          "name": "stdout",
          "text": [
            "Epoch 64 | Train Loss: 0.3521 | Val Loss: 0.1694\n"
          ]
        },
        {
          "output_type": "stream",
          "name": "stderr",
          "text": []
        },
        {
          "output_type": "stream",
          "name": "stdout",
          "text": [
            "Epoch 65 | Train Loss: 0.3535 | Val Loss: 0.1694\n"
          ]
        },
        {
          "output_type": "stream",
          "name": "stderr",
          "text": []
        },
        {
          "output_type": "stream",
          "name": "stdout",
          "text": [
            "Epoch 66 | Train Loss: 0.3544 | Val Loss: 0.1694\n"
          ]
        },
        {
          "output_type": "stream",
          "name": "stderr",
          "text": []
        },
        {
          "output_type": "stream",
          "name": "stdout",
          "text": [
            "Epoch 67 | Train Loss: 0.3553 | Val Loss: 0.1694\n"
          ]
        },
        {
          "output_type": "stream",
          "name": "stderr",
          "text": []
        },
        {
          "output_type": "stream",
          "name": "stdout",
          "text": [
            "Epoch 68 | Train Loss: 0.3525 | Val Loss: 0.1693\n"
          ]
        },
        {
          "output_type": "stream",
          "name": "stderr",
          "text": []
        },
        {
          "output_type": "stream",
          "name": "stdout",
          "text": [
            "Epoch 69 | Train Loss: 0.3516 | Val Loss: 0.1693\n"
          ]
        },
        {
          "output_type": "stream",
          "name": "stderr",
          "text": []
        },
        {
          "output_type": "stream",
          "name": "stdout",
          "text": [
            "Epoch 70 | Train Loss: 0.3551 | Val Loss: 0.1694\n"
          ]
        },
        {
          "output_type": "stream",
          "name": "stderr",
          "text": []
        },
        {
          "output_type": "stream",
          "name": "stdout",
          "text": [
            "Epoch 71 | Train Loss: 0.3541 | Val Loss: 0.1695\n"
          ]
        },
        {
          "output_type": "stream",
          "name": "stderr",
          "text": []
        },
        {
          "output_type": "stream",
          "name": "stdout",
          "text": [
            "Epoch 72 | Train Loss: 0.3550 | Val Loss: 0.1693\n"
          ]
        },
        {
          "output_type": "stream",
          "name": "stderr",
          "text": []
        },
        {
          "output_type": "stream",
          "name": "stdout",
          "text": [
            "Epoch 73 | Train Loss: 0.3539 | Val Loss: 0.1694\n"
          ]
        },
        {
          "output_type": "stream",
          "name": "stderr",
          "text": []
        },
        {
          "output_type": "stream",
          "name": "stdout",
          "text": [
            "Epoch 74 | Train Loss: 0.3532 | Val Loss: 0.1693\n"
          ]
        },
        {
          "output_type": "stream",
          "name": "stderr",
          "text": []
        },
        {
          "output_type": "stream",
          "name": "stdout",
          "text": [
            "Epoch 75 | Train Loss: 0.3540 | Val Loss: 0.1694\n"
          ]
        },
        {
          "output_type": "stream",
          "name": "stderr",
          "text": []
        },
        {
          "output_type": "stream",
          "name": "stdout",
          "text": [
            "Epoch 76 | Train Loss: 0.3542 | Val Loss: 0.1693\n"
          ]
        },
        {
          "output_type": "stream",
          "name": "stderr",
          "text": []
        },
        {
          "output_type": "stream",
          "name": "stdout",
          "text": [
            "Epoch 77 | Train Loss: 0.3544 | Val Loss: 0.1694\n"
          ]
        },
        {
          "output_type": "stream",
          "name": "stderr",
          "text": []
        },
        {
          "output_type": "stream",
          "name": "stdout",
          "text": [
            "Epoch 78 | Train Loss: 0.3524 | Val Loss: 0.1693\n"
          ]
        },
        {
          "output_type": "stream",
          "name": "stderr",
          "text": []
        },
        {
          "output_type": "stream",
          "name": "stdout",
          "text": [
            "Epoch 79 | Train Loss: 0.3526 | Val Loss: 0.1693\n"
          ]
        },
        {
          "output_type": "stream",
          "name": "stderr",
          "text": []
        },
        {
          "output_type": "stream",
          "name": "stdout",
          "text": [
            "Epoch 80 | Train Loss: 0.3543 | Val Loss: 0.1693\n"
          ]
        },
        {
          "output_type": "stream",
          "name": "stderr",
          "text": []
        },
        {
          "output_type": "stream",
          "name": "stdout",
          "text": [
            "Epoch 81 | Train Loss: 0.3538 | Val Loss: 0.1693\n"
          ]
        },
        {
          "output_type": "stream",
          "name": "stderr",
          "text": []
        },
        {
          "output_type": "stream",
          "name": "stdout",
          "text": [
            "Epoch 82 | Train Loss: 0.3514 | Val Loss: 0.1693\n"
          ]
        },
        {
          "output_type": "stream",
          "name": "stderr",
          "text": []
        },
        {
          "output_type": "stream",
          "name": "stdout",
          "text": [
            "Epoch 83 | Train Loss: 0.3518 | Val Loss: 0.1693\n"
          ]
        },
        {
          "output_type": "stream",
          "name": "stderr",
          "text": []
        },
        {
          "output_type": "stream",
          "name": "stdout",
          "text": [
            "Epoch 84 | Train Loss: 0.3526 | Val Loss: 0.1693\n"
          ]
        },
        {
          "output_type": "stream",
          "name": "stderr",
          "text": []
        },
        {
          "output_type": "stream",
          "name": "stdout",
          "text": [
            "Epoch 85 | Train Loss: 0.3535 | Val Loss: 0.1694\n"
          ]
        },
        {
          "output_type": "stream",
          "name": "stderr",
          "text": []
        },
        {
          "output_type": "stream",
          "name": "stdout",
          "text": [
            "Epoch 86 | Train Loss: 0.3546 | Val Loss: 0.1693\n"
          ]
        },
        {
          "output_type": "stream",
          "name": "stderr",
          "text": []
        },
        {
          "output_type": "stream",
          "name": "stdout",
          "text": [
            "Epoch 87 | Train Loss: 0.3525 | Val Loss: 0.1692\n"
          ]
        },
        {
          "output_type": "stream",
          "name": "stderr",
          "text": []
        },
        {
          "output_type": "stream",
          "name": "stdout",
          "text": [
            "Epoch 88 | Train Loss: 0.3542 | Val Loss: 0.1692\n"
          ]
        },
        {
          "output_type": "stream",
          "name": "stderr",
          "text": []
        },
        {
          "output_type": "stream",
          "name": "stdout",
          "text": [
            "Epoch 89 | Train Loss: 0.3517 | Val Loss: 0.1694\n"
          ]
        },
        {
          "output_type": "stream",
          "name": "stderr",
          "text": []
        },
        {
          "output_type": "stream",
          "name": "stdout",
          "text": [
            "Epoch 90 | Train Loss: 0.3504 | Val Loss: 0.1693\n"
          ]
        },
        {
          "output_type": "stream",
          "name": "stderr",
          "text": []
        },
        {
          "output_type": "stream",
          "name": "stdout",
          "text": [
            "Epoch 91 | Train Loss: 0.3516 | Val Loss: 0.1693\n"
          ]
        },
        {
          "output_type": "stream",
          "name": "stderr",
          "text": []
        },
        {
          "output_type": "stream",
          "name": "stdout",
          "text": [
            "Epoch 92 | Train Loss: 0.3527 | Val Loss: 0.1692\n"
          ]
        },
        {
          "output_type": "stream",
          "name": "stderr",
          "text": []
        },
        {
          "output_type": "stream",
          "name": "stdout",
          "text": [
            "Epoch 93 | Train Loss: 0.3530 | Val Loss: 0.1693\n"
          ]
        },
        {
          "output_type": "stream",
          "name": "stderr",
          "text": []
        },
        {
          "output_type": "stream",
          "name": "stdout",
          "text": [
            "Epoch 94 | Train Loss: 0.3522 | Val Loss: 0.1693\n"
          ]
        },
        {
          "output_type": "stream",
          "name": "stderr",
          "text": []
        },
        {
          "output_type": "stream",
          "name": "stdout",
          "text": [
            "Epoch 95 | Train Loss: 0.3516 | Val Loss: 0.1694\n"
          ]
        },
        {
          "output_type": "stream",
          "name": "stderr",
          "text": []
        },
        {
          "output_type": "stream",
          "name": "stdout",
          "text": [
            "Epoch 96 | Train Loss: 0.3515 | Val Loss: 0.1693\n"
          ]
        },
        {
          "output_type": "stream",
          "name": "stderr",
          "text": []
        },
        {
          "output_type": "stream",
          "name": "stdout",
          "text": [
            "Epoch 97 | Train Loss: 0.3532 | Val Loss: 0.1693\n"
          ]
        },
        {
          "output_type": "stream",
          "name": "stderr",
          "text": []
        },
        {
          "output_type": "stream",
          "name": "stdout",
          "text": [
            "Epoch 98 | Train Loss: 0.3526 | Val Loss: 0.1692\n"
          ]
        },
        {
          "output_type": "stream",
          "name": "stderr",
          "text": []
        },
        {
          "output_type": "stream",
          "name": "stdout",
          "text": [
            "Epoch 99 | Train Loss: 0.3544 | Val Loss: 0.1694\n"
          ]
        },
        {
          "output_type": "stream",
          "name": "stderr",
          "text": [
            "                                                             "
          ]
        },
        {
          "output_type": "stream",
          "name": "stdout",
          "text": [
            "Epoch 100 | Train Loss: 0.3525 | Val Loss: 0.1692\n"
          ]
        },
        {
          "output_type": "stream",
          "name": "stderr",
          "text": [
            "\r"
          ]
        }
      ]
    },
    {
      "cell_type": "code",
      "source": [
        "model.eval()\n",
        "preds_list, actuals_list = [], []\n",
        "\n",
        "with torch.no_grad():\n",
        "    for batch in tqdm(val_loader, desc=\"Making Predictions\", leave=False):\n",
        "        batch = batch.to(device)\n",
        "        preds = model(batch.x, batch.edge_index)\n",
        "\n",
        "        preds_list.append(preds.cpu())\n",
        "        actuals_list.append(batch.y.cpu())"
      ],
      "metadata": {
        "id": "JplpHEkARduP",
        "colab": {
          "base_uri": "https://localhost:8080/"
        },
        "outputId": "f09d9e22-e492-4e7d-c310-78d04965f023"
      },
      "execution_count": 58,
      "outputs": [
        {
          "output_type": "stream",
          "name": "stderr",
          "text": []
        }
      ]
    },
    {
      "cell_type": "code",
      "source": [
        "import numpy as np\n",
        "\n",
        "preds = torch.cat(preds_list, dim=0)\n",
        "actuals = torch.cat(actuals_list, dim=0)\n",
        "\n",
        "mask = actuals.abs().sum(dim=1) > 0\n",
        "\n",
        "preds = preds[mask].numpy()\n",
        "actuals = actuals[mask].numpy()"
      ],
      "metadata": {
        "id": "WeYgPO9CRKmu"
      },
      "execution_count": 59,
      "outputs": []
    },
    {
      "cell_type": "code",
      "source": [
        "from sklearn.metrics import mean_absolute_error, mean_squared_error\n",
        "\n",
        "preds = scaler.inverse_transform(preds)\n",
        "actuals = scaler.inverse_transform(actuals)\n",
        "\n",
        "\n",
        "mae = mean_absolute_error(actuals, preds)\n",
        "rmse = np.sqrt(mean_squared_error(actuals, preds))\n",
        "mape = np.mean(np.abs((actuals - preds) / actuals)) * 100\n",
        "print(f\"MAE: {mae:.4f}, RMSE: {rmse:.4f}, MAPE: {mape:.2f}%\")"
      ],
      "metadata": {
        "colab": {
          "base_uri": "https://localhost:8080/"
        },
        "id": "po-LCjUrRNDH",
        "outputId": "55e455ef-ef11-40f8-c166-bce4e012334d"
      },
      "execution_count": 60,
      "outputs": [
        {
          "output_type": "stream",
          "name": "stdout",
          "text": [
            "MAE: 1536059.8750, RMSE: 5974327.3693, MAPE: 37.07%\n"
          ]
        }
      ]
    },
    {
      "cell_type": "code",
      "source": [
        "fig, axs = plt.subplots(1, 5, figsize=(20, 4), sharex=True)\n",
        "\n",
        "column_names = [\"Open\", \"High\", \"Low\", \"Close\", \"Volume\"]\n",
        "for i in range(5):\n",
        "    axs[i].plot(actuals[:, i], label=\"Actual\", color=\"blue\")\n",
        "    axs[i].plot(preds[:, i], label=\"Predicted\", color=\"red\", linestyle='dashed')\n",
        "    axs[i].set_title(column_names[i])\n",
        "    axs[i].legend()\n",
        "fig.suptitle(\"Actual vs Predicted - All Features\", fontsize=16)\n",
        "plt.tight_layout()\n",
        "plt.show()\n"
      ],
      "metadata": {
        "colab": {
          "base_uri": "https://localhost:8080/",
          "height": 239
        },
        "id": "AG-JZ0KdRfrW",
        "outputId": "34c7b8b9-02ca-40f5-b741-512a85ca73d2"
      },
      "execution_count": 61,
      "outputs": [
        {
          "output_type": "display_data",
          "data": {
            "text/plain": [
              "<Figure size 2000x400 with 5 Axes>"
            ],
            "image/png": "[encoded data removed]"
          },
          "metadata": {}
        }
      ]
    },
    {
      "cell_type": "markdown",
      "source": [
        "## Classic ML"
      ],
      "metadata": {
        "id": "QS6-m95hSk8_"
      }
    },
    {
      "cell_type": "markdown",
      "source": [
        "### What Models Were Used?  \n",
        "We used a RandomForestRegressor from scikit-learn for classic regression modeling.  \n",
        "This model was chosen to predict the target variable using tabular features that were engineered from the hypergraph structure.\n",
        "\n",
        "### Why RandomForestRegressor?  \n",
        "We chose RandomForest because:  \n",
        "- Robust to Overfitting: The ensemble nature of the model helps avoid overfitting on the training data.  \n",
        "- Handles Mixed Features Well: Performs well with heterogeneous inputs like sector info and moving averages.  \n",
        "- No Need for Graph-Specific Pipelines: Allows seamless use of features from the hypergraph in a standard ML workflow.  \n",
        "- Effective for Tabular Data: Especially suited for structured datasets without needing neural architectures.\n",
        "\n",
        "---\n",
        "\n",
        "### Implementation Overview  \n",
        "#### Feature Engineering:  \n",
        "- Extracted features from the hypergraph such as:  \n",
        "  - Moving Averages over time windows  \n",
        "  - Sector Averages based on hyperedge definitions  \n",
        "- Combined these features into a consolidated dataframe  \n",
        "\n",
        "#### Training Process:  \n",
        "- The final dataframe was split into training and testing sets  \n",
        "- A `RandomForestRegressor` model was initialized and trained on the training set  \n",
        "- Predictions were generated on the test set  \n",
        "\n",
        "#### Model Architecture:  \n",
        "- Ensemble-based Tree Model: Combines multiple decision trees  \n",
        "- Non-Linear Learning: Captures complex patterns in the data through aggregated decisions from many trees  \n",
        "\n",
        "\n",
        "### Temporal Handling and Attention Mechanism  \n",
        "- No Attention Mechanism: This classical model doesn’t use attention layers  \n",
        "- Temporal Awareness via Feature Engineering:  \n",
        "  - Used manually engineered features like moving averages to incorporate historical patterns  \n",
        "  - Avoided explicit temporal models (like RNNs and Transformers) to keep the pipeline lightweight  \n",
        "\n",
        "This approach gave us a strong baseline using interpretable, classical methods without the complexity of deep learning."
      ],
      "metadata": {
        "id": "LCCwVpAQUUqN"
      }
    },
    {
      "cell_type": "code",
      "source": [
        "ticker_to_sector = {ticker: sector for sector, tickers in hyperedges.items() for ticker in tickers}"
      ],
      "metadata": {
        "id": "dgmcZtRFgOPl"
      },
      "execution_count": 62,
      "outputs": []
    },
    {
      "cell_type": "code",
      "source": [
        "train_data = pd.read_csv('/content/DLG-Assignments/ASSignment2/train_stock_data.csv')\n",
        "train_data['Date'] = pd.to_datetime(train_data['Date'])\n",
        "train_data.sort_values(['Ticker', 'Date'], inplace=True)"
      ],
      "metadata": {
        "id": "hCyUoxffjLOO"
      },
      "execution_count": 63,
      "outputs": []
    },
    {
      "cell_type": "code",
      "source": [
        "clean_rows = [] # clean rows of data\n",
        "for ticker in train_data['Ticker'].unique(): # go voer every unique ticker\n",
        "    data = train_data[train_data['Ticker'] == ticker]\n",
        "    valid_cols = data.columns[data.isna().sum() == 0]\n",
        "    clean_rows.extend(data[valid_cols].values)\n",
        "\n",
        "train_df = pd.DataFrame(clean_rows, columns=[\"Date\", \"Ticker\", \"Open\", \"High\", \"Low\", \"Close\", \"Volume\"])\n",
        "train_df[\"Sector\"] = train_df[\"Ticker\"].map(ticker_to_sector) # ticker mapped to sector as a way to work with the hyperedges. we're considering it an attribute of each ticker itself\n",
        "train_df = train_df.sort_values([\"Ticker\", \"Date\"]) # sort by ticker and date"
      ],
      "metadata": {
        "id": "3SLjZFE6iim5"
      },
      "execution_count": 64,
      "outputs": []
    },
    {
      "cell_type": "code",
      "source": [
        "# some feature engineeringl ike before\n",
        "train_df[\"Return_1d\"] = train_df.groupby(\"Ticker\")[\"Open\"].pct_change()\n",
        "train_df[\"MA_5\"] = train_df.groupby(\"Ticker\")[\"Open\"].transform(lambda x: x.rolling(5).mean())\n",
        "train_df[\"MA_10\"] = train_df.groupby(\"Ticker\")[\"Open\"].transform(lambda x: x.rolling(10).mean())\n",
        "train_df[\"Volatility_5\"] = train_df.groupby(\"Ticker\")[\"Open\"].transform(lambda x: x.rolling(5).std())"
      ],
      "metadata": {
        "id": "PB9qWuSTjSFh"
      },
      "execution_count": 65,
      "outputs": []
    },
    {
      "cell_type": "code",
      "source": [
        "sector_return = train_df.groupby([\"Date\", \"Sector\"])[\"Return_1d\"].mean().reset_index() # average one day return for each sector\n",
        "sector_return.rename(columns={\"Return_1d\": \"Sector_Avg_Return\"}, inplace=True)\n",
        "train_df = pd.merge(train_df, sector_return, on=[\"Date\", \"Sector\"], how=\"left\") # here we keep all the original rows from train_df. The merge keys we're using are date and sector"
      ],
      "metadata": {
        "id": "VXfdp4sZj5iI"
      },
      "execution_count": 66,
      "outputs": []
    },
    {
      "cell_type": "code",
      "source": [
        "# now we create target columns for the next day's values by shifting the data forward\n",
        "train_df[\"Target_Open\"] = train_df.groupby(\"Ticker\")[\"Open\"].shift(-1)\n",
        "train_df[\"Target_High\"] = train_df.groupby(\"Ticker\")[\"High\"].shift(-1)\n",
        "train_df[\"Target_Low\"] = train_df.groupby(\"Ticker\")[\"Low\"].shift(-1)\n",
        "train_df[\"Target_Close\"] = train_df.groupby(\"Ticker\")[\"Close\"].shift(-1)\n",
        "train_df[\"Target_Volume\"] = train_df.groupby(\"Ticker\")[\"Volume\"].shift(-1)"
      ],
      "metadata": {
        "id": "5LR3xZ3bj7MA"
      },
      "execution_count": 67,
      "outputs": []
    },
    {
      "cell_type": "code",
      "source": [
        "val_data = pd.read_csv('/content/DLG-Assignments/ASSignment2/validation_stock_data.csv')\n",
        "val_data['Date'] = pd.to_datetime(val_data['Date'])\n",
        "val_data.sort_values(['Ticker', 'Date'], inplace=True)"
      ],
      "metadata": {
        "id": "rtJKN9hEj9N4"
      },
      "execution_count": 68,
      "outputs": []
    },
    {
      "cell_type": "code",
      "source": [
        "# now we do with val data whatever we did with the train data\n",
        "val_rows = []\n",
        "for ticker in val_data['Ticker'].unique():\n",
        "    data = val_data[val_data['Ticker'] == ticker]\n",
        "    valid_cols = data.columns[data.isna().sum() == 0]\n",
        "    val_rows.extend(data[valid_cols].values)\n",
        "\n",
        "val_df = pd.DataFrame(val_rows, columns=[\"Date\", \"Ticker\", \"Open\", \"High\", \"Low\", \"Close\", \"Volume\"])\n",
        "val_df[\"Sector\"] = val_df[\"Ticker\"].map(ticker_to_sector)\n",
        "val_df = val_df.sort_values([\"Ticker\", \"Date\"])"
      ],
      "metadata": {
        "id": "T-e4W8YDj-tE"
      },
      "execution_count": 69,
      "outputs": []
    },
    {
      "cell_type": "code",
      "source": [
        "val_df[\"Return_1d\"] = val_df.groupby(\"Ticker\")[\"Open\"].pct_change()\n",
        "val_df[\"MA_5\"] = val_df.groupby(\"Ticker\")[\"Open\"].transform(lambda x: x.rolling(5).mean())\n",
        "val_df[\"MA_10\"] = val_df.groupby(\"Ticker\")[\"Open\"].transform(lambda x: x.rolling(10).mean())\n",
        "val_df[\"Volatility_5\"] = val_df.groupby(\"Ticker\")[\"Open\"].transform(lambda x: x.rolling(5).std())"
      ],
      "metadata": {
        "id": "lGNhT8sakAVL"
      },
      "execution_count": 70,
      "outputs": []
    },
    {
      "cell_type": "code",
      "source": [
        "combined = pd.concat([train_df, val_df])\n",
        "combined[\"Date\"] = pd.to_datetime(combined[\"Date\"])\n",
        "sector_return = combined.groupby([\"Date\", \"Sector\"])[\"Return_1d\"].mean().reset_index()\n",
        "sector_return.rename(columns={\"Return_1d\": \"Sector_Avg_Return\"}, inplace=True)\n",
        "val_df = pd.merge(val_df, sector_return, on=[\"Date\", \"Sector\"], how=\"left\")\n",
        "\n",
        "# Validation targets. everything after this is the same ML workflow of getting the\n",
        "# targets, the features, and then model.fit()\n",
        "val_df[\"Target_Open\"] = val_df.groupby(\"Ticker\")[\"Open\"].shift(-1)\n",
        "val_df[\"Target_High\"] = val_df.groupby(\"Ticker\")[\"High\"].shift(-1)\n",
        "val_df[\"Target_Low\"] = val_df.groupby(\"Ticker\")[\"Low\"].shift(-1)\n",
        "val_df[\"Target_Close\"] = val_df.groupby(\"Ticker\")[\"Close\"].shift(-1)\n",
        "val_df[\"Target_Volume\"] = val_df.groupby(\"Ticker\")[\"Volume\"].shift(-1)"
      ],
      "metadata": {
        "id": "WRgTwmYUkCOo"
      },
      "execution_count": 71,
      "outputs": []
    },
    {
      "cell_type": "code",
      "source": [
        "features = [\"Return_1d\", \"MA_5\", \"MA_10\", \"Volatility_5\", \"Sector_Avg_Return\"]\n",
        "targets = [\"Target_Open\", \"Target_High\", \"Target_Low\", \"Target_Close\", \"Target_Volume\"]"
      ],
      "metadata": {
        "id": "5rE9s1MgkE2p"
      },
      "execution_count": 72,
      "outputs": []
    },
    {
      "cell_type": "code",
      "source": [
        "train_df_model = train_df.dropna(subset=features + targets)\n",
        "val_df_model = val_df.dropna(subset=features + targets)\n",
        "\n",
        "X_train = train_df_model[features]\n",
        "y_train = train_df_model[targets]\n",
        "\n",
        "X_val = val_df_model[features]\n",
        "y_val = val_df_model[targets]"
      ],
      "metadata": {
        "id": "OjEa6hX8kHdK"
      },
      "execution_count": 73,
      "outputs": []
    },
    {
      "cell_type": "code",
      "source": [
        "base_model = RandomForestRegressor(n_estimators=100, random_state=42)\n",
        "multi_model = MultiOutputRegressor(base_model)\n",
        "multi_model.fit(X_train, y_train)"
      ],
      "metadata": {
        "id": "leCQnVMrkJQj",
        "outputId": "4a26d640-78a8-4b02-e80c-39d44645127d",
        "colab": {
          "base_uri": "https://localhost:8080/",
          "height": 164
        }
      },
      "execution_count": 75,
      "outputs": [
        {
          "output_type": "execute_result",
          "data": {
            "text/plain": [
              "MultiOutputRegressor(estimator=RandomForestRegressor(random_state=42))"
            ],
            "text/html": [
              "<style>#sk-container-id-1 {\n",
              "  /* Definition of color scheme common for light and dark mode */\n",
              "  --sklearn-color-text: #000;\n",
              "  --sklearn-color-text-muted: #666;\n",
              "  --sklearn-color-line: gray;\n",
              "  /* Definition of color scheme for unfitted estimators */\n",
              "  --sklearn-color-unfitted-level-0: #fff5e6;\n",
              "  --sklearn-color-unfitted-level-1: #f6e4d2;\n",
              "  --sklearn-color-unfitted-level-2: #ffe0b3;\n",
              "  --sklearn-color-unfitted-level-3: chocolate;\n",
              "  /* Definition of color scheme for fitted estimators */\n",
              "  --sklearn-color-fitted-level-0: #f0f8ff;\n",
              "  --sklearn-color-fitted-level-1: #d4ebff;\n",
              "  --sklearn-color-fitted-level-2: #b3dbfd;\n",
              "  --sklearn-color-fitted-level-3: cornflowerblue;\n",
              "\n",
              "  /* Specific color for light theme */\n",
              "  --sklearn-color-text-on-default-background: var(--sg-text-color, var(--theme-code-foreground, var(--jp-content-font-color1, black)));\n",
              "  --sklearn-color-background: var(--sg-background-color, var(--theme-background, var(--jp-layout-color0, white)));\n",
              "  --sklearn-color-border-box: var(--sg-text-color, var(--theme-code-foreground, var(--jp-content-font-color1, black)));\n",
              "  --sklearn-color-icon: #696969;\n",
              "\n",
              "  @media (prefers-color-scheme: dark) {\n",
              "    /* Redefinition of color scheme for dark theme */\n",
              "    --sklearn-color-text-on-default-background: var(--sg-text-color, var(--theme-code-foreground, var(--jp-content-font-color1, white)));\n",
              "    --sklearn-color-background: var(--sg-background-color, var(--theme-background, var(--jp-layout-color0, #111)));\n",
              "    --sklearn-color-border-box: var(--sg-text-color, var(--theme-code-foreground, var(--jp-content-font-color1, white)));\n",
              "    --sklearn-color-icon: #878787;\n",
              "  }\n",
              "}\n",
              "\n",
              "#sk-container-id-1 {\n",
              "  color: var(--sklearn-color-text);\n",
              "}\n",
              "\n",
              "#sk-container-id-1 pre {\n",
              "  padding: 0;\n",
              "}\n",
              "\n",
              "#sk-container-id-1 input.sk-hidden--visually {\n",
              "  border: 0;\n",
              "  clip: rect(1px 1px 1px 1px);\n",
              "  clip: rect(1px, 1px, 1px, 1px);\n",
              "  height: 1px;\n",
              "  margin: -1px;\n",
              "  overflow: hidden;\n",
              "  padding: 0;\n",
              "  position: absolute;\n",
              "  width: 1px;\n",
              "}\n",
              "\n",
              "#sk-container-id-1 div.sk-dashed-wrapped {\n",
              "  border: 1px dashed var(--sklearn-color-line);\n",
              "  margin: 0 0.4em 0.5em 0.4em;\n",
              "  box-sizing: border-box;\n",
              "  padding-bottom: 0.4em;\n",
              "  background-color: var(--sklearn-color-background);\n",
              "}\n",
              "\n",
              "#sk-container-id-1 div.sk-container {\n",
              "  /* jupyter's `normalize.less` sets `[hidden] { display: none; }`\n",
              "     but bootstrap.min.css set `[hidden] { display: none !important; }`\n",
              "     so we also need the `!important` here to be able to override the\n",
              "     default hidden behavior on the sphinx rendered scikit-learn.org.\n",
              "     See: https://github.com/scikit-learn/scikit-learn/issues/21755 */\n",
              "  display: inline-block !important;\n",
              "  position: relative;\n",
              "}\n",
              "\n",
              "#sk-container-id-1 div.sk-text-repr-fallback {\n",
              "  display: none;\n",
              "}\n",
              "\n",
              "div.sk-parallel-item,\n",
              "div.sk-serial,\n",
              "div.sk-item {\n",
              "  /* draw centered vertical line to link estimators */\n",
              "  background-image: linear-gradient(var(--sklearn-color-text-on-default-background), var(--sklearn-color-text-on-default-background));\n",
              "  background-size: 2px 100%;\n",
              "  background-repeat: no-repeat;\n",
              "  background-position: center center;\n",
              "}\n",
              "\n",
              "/* Parallel-specific style estimator block */\n",
              "\n",
              "#sk-container-id-1 div.sk-parallel-item::after {\n",
              "  content: \"\";\n",
              "  width: 100%;\n",
              "  border-bottom: 2px solid var(--sklearn-color-text-on-default-background);\n",
              "  flex-grow: 1;\n",
              "}\n",
              "\n",
              "#sk-container-id-1 div.sk-parallel {\n",
              "  display: flex;\n",
              "  align-items: stretch;\n",
              "  justify-content: center;\n",
              "  background-color: var(--sklearn-color-background);\n",
              "  position: relative;\n",
              "}\n",
              "\n",
              "#sk-container-id-1 div.sk-parallel-item {\n",
              "  display: flex;\n",
              "  flex-direction: column;\n",
              "}\n",
              "\n",
              "#sk-container-id-1 div.sk-parallel-item:first-child::after {\n",
              "  align-self: flex-end;\n",
              "  width: 50%;\n",
              "}\n",
              "\n",
              "#sk-container-id-1 div.sk-parallel-item:last-child::after {\n",
              "  align-self: flex-start;\n",
              "  width: 50%;\n",
              "}\n",
              "\n",
              "#sk-container-id-1 div.sk-parallel-item:only-child::after {\n",
              "  width: 0;\n",
              "}\n",
              "\n",
              "/* Serial-specific style estimator block */\n",
              "\n",
              "#sk-container-id-1 div.sk-serial {\n",
              "  display: flex;\n",
              "  flex-direction: column;\n",
              "  align-items: center;\n",
              "  background-color: var(--sklearn-color-background);\n",
              "  padding-right: 1em;\n",
              "  padding-left: 1em;\n",
              "}\n",
              "\n",
              "\n",
              "/* Toggleable style: style used for estimator/Pipeline/ColumnTransformer box that is\n",
              "clickable and can be expanded/collapsed.\n",
              "- Pipeline and ColumnTransformer use this feature and define the default style\n",
              "- Estimators will overwrite some part of the style using the `sk-estimator` class\n",
              "*/\n",
              "\n",
              "/* Pipeline and ColumnTransformer style (default) */\n",
              "\n",
              "#sk-container-id-1 div.sk-toggleable {\n",
              "  /* Default theme specific background. It is overwritten whether we have a\n",
              "  specific estimator or a Pipeline/ColumnTransformer */\n",
              "  background-color: var(--sklearn-color-background);\n",
              "}\n",
              "\n",
              "/* Toggleable label */\n",
              "#sk-container-id-1 label.sk-toggleable__label {\n",
              "  cursor: pointer;\n",
              "  display: flex;\n",
              "  width: 100%;\n",
              "  margin-bottom: 0;\n",
              "  padding: 0.5em;\n",
              "  box-sizing: border-box;\n",
              "  text-align: center;\n",
              "  align-items: start;\n",
              "  justify-content: space-between;\n",
              "  gap: 0.5em;\n",
              "}\n",
              "\n",
              "#sk-container-id-1 label.sk-toggleable__label .caption {\n",
              "  font-size: 0.6rem;\n",
              "  font-weight: lighter;\n",
              "  color: var(--sklearn-color-text-muted);\n",
              "}\n",
              "\n",
              "#sk-container-id-1 label.sk-toggleable__label-arrow:before {\n",
              "  /* Arrow on the left of the label */\n",
              "  content: \"▸\";\n",
              "  float: left;\n",
              "  margin-right: 0.25em;\n",
              "  color: var(--sklearn-color-icon);\n",
              "}\n",
              "\n",
              "#sk-container-id-1 label.sk-toggleable__label-arrow:hover:before {\n",
              "  color: var(--sklearn-color-text);\n",
              "}\n",
              "\n",
              "/* Toggleable content - dropdown */\n",
              "\n",
              "#sk-container-id-1 div.sk-toggleable__content {\n",
              "  max-height: 0;\n",
              "  max-width: 0;\n",
              "  overflow: hidden;\n",
              "  text-align: left;\n",
              "  /* unfitted */\n",
              "  background-color: var(--sklearn-color-unfitted-level-0);\n",
              "}\n",
              "\n",
              "#sk-container-id-1 div.sk-toggleable__content.fitted {\n",
              "  /* fitted */\n",
              "  background-color: var(--sklearn-color-fitted-level-0);\n",
              "}\n",
              "\n",
              "#sk-container-id-1 div.sk-toggleable__content pre {\n",
              "  margin: 0.2em;\n",
              "  border-radius: 0.25em;\n",
              "  color: var(--sklearn-color-text);\n",
              "  /* unfitted */\n",
              "  background-color: var(--sklearn-color-unfitted-level-0);\n",
              "}\n",
              "\n",
              "#sk-container-id-1 div.sk-toggleable__content.fitted pre {\n",
              "  /* unfitted */\n",
              "  background-color: var(--sklearn-color-fitted-level-0);\n",
              "}\n",
              "\n",
              "#sk-container-id-1 input.sk-toggleable__control:checked~div.sk-toggleable__content {\n",
              "  /* Expand drop-down */\n",
              "  max-height: 200px;\n",
              "  max-width: 100%;\n",
              "  overflow: auto;\n",
              "}\n",
              "\n",
              "#sk-container-id-1 input.sk-toggleable__control:checked~label.sk-toggleable__label-arrow:before {\n",
              "  content: \"▾\";\n",
              "}\n",
              "\n",
              "/* Pipeline/ColumnTransformer-specific style */\n",
              "\n",
              "#sk-container-id-1 div.sk-label input.sk-toggleable__control:checked~label.sk-toggleable__label {\n",
              "  color: var(--sklearn-color-text);\n",
              "  background-color: var(--sklearn-color-unfitted-level-2);\n",
              "}\n",
              "\n",
              "#sk-container-id-1 div.sk-label.fitted input.sk-toggleable__control:checked~label.sk-toggleable__label {\n",
              "  background-color: var(--sklearn-color-fitted-level-2);\n",
              "}\n",
              "\n",
              "/* Estimator-specific style */\n",
              "\n",
              "/* Colorize estimator box */\n",
              "#sk-container-id-1 div.sk-estimator input.sk-toggleable__control:checked~label.sk-toggleable__label {\n",
              "  /* unfitted */\n",
              "  background-color: var(--sklearn-color-unfitted-level-2);\n",
              "}\n",
              "\n",
              "#sk-container-id-1 div.sk-estimator.fitted input.sk-toggleable__control:checked~label.sk-toggleable__label {\n",
              "  /* fitted */\n",
              "  background-color: var(--sklearn-color-fitted-level-2);\n",
              "}\n",
              "\n",
              "#sk-container-id-1 div.sk-label label.sk-toggleable__label,\n",
              "#sk-container-id-1 div.sk-label label {\n",
              "  /* The background is the default theme color */\n",
              "  color: var(--sklearn-color-text-on-default-background);\n",
              "}\n",
              "\n",
              "/* On hover, darken the color of the background */\n",
              "#sk-container-id-1 div.sk-label:hover label.sk-toggleable__label {\n",
              "  color: var(--sklearn-color-text);\n",
              "  background-color: var(--sklearn-color-unfitted-level-2);\n",
              "}\n",
              "\n",
              "/* Label box, darken color on hover, fitted */\n",
              "#sk-container-id-1 div.sk-label.fitted:hover label.sk-toggleable__label.fitted {\n",
              "  color: var(--sklearn-color-text);\n",
              "  background-color: var(--sklearn-color-fitted-level-2);\n",
              "}\n",
              "\n",
              "/* Estimator label */\n",
              "\n",
              "#sk-container-id-1 div.sk-label label {\n",
              "  font-family: monospace;\n",
              "  font-weight: bold;\n",
              "  display: inline-block;\n",
              "  line-height: 1.2em;\n",
              "}\n",
              "\n",
              "#sk-container-id-1 div.sk-label-container {\n",
              "  text-align: center;\n",
              "}\n",
              "\n",
              "/* Estimator-specific */\n",
              "#sk-container-id-1 div.sk-estimator {\n",
              "  font-family: monospace;\n",
              "  border: 1px dotted var(--sklearn-color-border-box);\n",
              "  border-radius: 0.25em;\n",
              "  box-sizing: border-box;\n",
              "  margin-bottom: 0.5em;\n",
              "  /* unfitted */\n",
              "  background-color: var(--sklearn-color-unfitted-level-0);\n",
              "}\n",
              "\n",
              "#sk-container-id-1 div.sk-estimator.fitted {\n",
              "  /* fitted */\n",
              "  background-color: var(--sklearn-color-fitted-level-0);\n",
              "}\n",
              "\n",
              "/* on hover */\n",
              "#sk-container-id-1 div.sk-estimator:hover {\n",
              "  /* unfitted */\n",
              "  background-color: var(--sklearn-color-unfitted-level-2);\n",
              "}\n",
              "\n",
              "#sk-container-id-1 div.sk-estimator.fitted:hover {\n",
              "  /* fitted */\n",
              "  background-color: var(--sklearn-color-fitted-level-2);\n",
              "}\n",
              "\n",
              "/* Specification for estimator info (e.g. \"i\" and \"?\") */\n",
              "\n",
              "/* Common style for \"i\" and \"?\" */\n",
              "\n",
              ".sk-estimator-doc-link,\n",
              "a:link.sk-estimator-doc-link,\n",
              "a:visited.sk-estimator-doc-link {\n",
              "  float: right;\n",
              "  font-size: smaller;\n",
              "  line-height: 1em;\n",
              "  font-family: monospace;\n",
              "  background-color: var(--sklearn-color-background);\n",
              "  border-radius: 1em;\n",
              "  height: 1em;\n",
              "  width: 1em;\n",
              "  text-decoration: none !important;\n",
              "  margin-left: 0.5em;\n",
              "  text-align: center;\n",
              "  /* unfitted */\n",
              "  border: var(--sklearn-color-unfitted-level-1) 1pt solid;\n",
              "  color: var(--sklearn-color-unfitted-level-1);\n",
              "}\n",
              "\n",
              ".sk-estimator-doc-link.fitted,\n",
              "a:link.sk-estimator-doc-link.fitted,\n",
              "a:visited.sk-estimator-doc-link.fitted {\n",
              "  /* fitted */\n",
              "  border: var(--sklearn-color-fitted-level-1) 1pt solid;\n",
              "  color: var(--sklearn-color-fitted-level-1);\n",
              "}\n",
              "\n",
              "/* On hover */\n",
              "div.sk-estimator:hover .sk-estimator-doc-link:hover,\n",
              ".sk-estimator-doc-link:hover,\n",
              "div.sk-label-container:hover .sk-estimator-doc-link:hover,\n",
              ".sk-estimator-doc-link:hover {\n",
              "  /* unfitted */\n",
              "  background-color: var(--sklearn-color-unfitted-level-3);\n",
              "  color: var(--sklearn-color-background);\n",
              "  text-decoration: none;\n",
              "}\n",
              "\n",
              "div.sk-estimator.fitted:hover .sk-estimator-doc-link.fitted:hover,\n",
              ".sk-estimator-doc-link.fitted:hover,\n",
              "div.sk-label-container:hover .sk-estimator-doc-link.fitted:hover,\n",
              ".sk-estimator-doc-link.fitted:hover {\n",
              "  /* fitted */\n",
              "  background-color: var(--sklearn-color-fitted-level-3);\n",
              "  color: var(--sklearn-color-background);\n",
              "  text-decoration: none;\n",
              "}\n",
              "\n",
              "/* Span, style for the box shown on hovering the info icon */\n",
              ".sk-estimator-doc-link span {\n",
              "  display: none;\n",
              "  z-index: 9999;\n",
              "  position: relative;\n",
              "  font-weight: normal;\n",
              "  right: .2ex;\n",
              "  padding: .5ex;\n",
              "  margin: .5ex;\n",
              "  width: min-content;\n",
              "  min-width: 20ex;\n",
              "  max-width: 50ex;\n",
              "  color: var(--sklearn-color-text);\n",
              "  box-shadow: 2pt 2pt 4pt #999;\n",
              "  /* unfitted */\n",
              "  background: var(--sklearn-color-unfitted-level-0);\n",
              "  border: .5pt solid var(--sklearn-color-unfitted-level-3);\n",
              "}\n",
              "\n",
              ".sk-estimator-doc-link.fitted span {\n",
              "  /* fitted */\n",
              "  background: var(--sklearn-color-fitted-level-0);\n",
              "  border: var(--sklearn-color-fitted-level-3);\n",
              "}\n",
              "\n",
              ".sk-estimator-doc-link:hover span {\n",
              "  display: block;\n",
              "}\n",
              "\n",
              "/* \"?\"-specific style due to the `<a>` HTML tag */\n",
              "\n",
              "#sk-container-id-1 a.estimator_doc_link {\n",
              "  float: right;\n",
              "  font-size: 1rem;\n",
              "  line-height: 1em;\n",
              "  font-family: monospace;\n",
              "  background-color: var(--sklearn-color-background);\n",
              "  border-radius: 1rem;\n",
              "  height: 1rem;\n",
              "  width: 1rem;\n",
              "  text-decoration: none;\n",
              "  /* unfitted */\n",
              "  color: var(--sklearn-color-unfitted-level-1);\n",
              "  border: var(--sklearn-color-unfitted-level-1) 1pt solid;\n",
              "}\n",
              "\n",
              "#sk-container-id-1 a.estimator_doc_link.fitted {\n",
              "  /* fitted */\n",
              "  border: var(--sklearn-color-fitted-level-1) 1pt solid;\n",
              "  color: var(--sklearn-color-fitted-level-1);\n",
              "}\n",
              "\n",
              "/* On hover */\n",
              "#sk-container-id-1 a.estimator_doc_link:hover {\n",
              "  /* unfitted */\n",
              "  background-color: var(--sklearn-color-unfitted-level-3);\n",
              "  color: var(--sklearn-color-background);\n",
              "  text-decoration: none;\n",
              "}\n",
              "\n",
              "#sk-container-id-1 a.estimator_doc_link.fitted:hover {\n",
              "  /* fitted */\n",
              "  background-color: var(--sklearn-color-fitted-level-3);\n",
              "}\n",
              "</style><div id=\"sk-container-id-1\" class=\"sk-top-container\"><div class=\"sk-text-repr-fallback\"><pre>MultiOutputRegressor(estimator=RandomForestRegressor(random_state=42))</pre><b>In a Jupyter environment, please rerun this cell to show the HTML representation or trust the notebook. <br />On GitHub, the HTML representation is unable to render, please try loading this page with nbviewer.org.</b></div><div class=\"sk-container\" hidden><div class=\"sk-item sk-dashed-wrapped\"><div class=\"sk-label-container\"><div class=\"sk-label fitted sk-toggleable\"><input class=\"sk-toggleable__control sk-hidden--visually\" id=\"sk-estimator-id-1\" type=\"checkbox\" ><label for=\"sk-estimator-id-1\" class=\"sk-toggleable__label fitted sk-toggleable__label-arrow\"><div><div>MultiOutputRegressor</div></div><div><a class=\"sk-estimator-doc-link fitted\" rel=\"noreferrer\" target=\"_blank\" href=\"https://scikit-learn.org/1.6/modules/generated/sklearn.multioutput.MultiOutputRegressor.html\">?<span>Documentation for MultiOutputRegressor</span></a><span class=\"sk-estimator-doc-link fitted\">i<span>Fitted</span></span></div></label><div class=\"sk-toggleable__content fitted\"><pre>MultiOutputRegressor(estimator=RandomForestRegressor(random_state=42))</pre></div> </div></div><div class=\"sk-parallel\"><div class=\"sk-parallel-item\"><div class=\"sk-item\"><div class=\"sk-label-container\"><div class=\"sk-label fitted sk-toggleable\"><input class=\"sk-toggleable__control sk-hidden--visually\" id=\"sk-estimator-id-2\" type=\"checkbox\" ><label for=\"sk-estimator-id-2\" class=\"sk-toggleable__label fitted sk-toggleable__label-arrow\"><div><div>estimator: RandomForestRegressor</div></div></label><div class=\"sk-toggleable__content fitted\"><pre>RandomForestRegressor(random_state=42)</pre></div> </div></div><div class=\"sk-serial\"><div class=\"sk-item\"><div class=\"sk-estimator fitted sk-toggleable\"><input class=\"sk-toggleable__control sk-hidden--visually\" id=\"sk-estimator-id-3\" type=\"checkbox\" ><label for=\"sk-estimator-id-3\" class=\"sk-toggleable__label fitted sk-toggleable__label-arrow\"><div><div>RandomForestRegressor</div></div><div><a class=\"sk-estimator-doc-link fitted\" rel=\"noreferrer\" target=\"_blank\" href=\"https://scikit-learn.org/1.6/modules/generated/sklearn.ensemble.RandomForestRegressor.html\">?<span>Documentation for RandomForestRegressor</span></a></div></label><div class=\"sk-toggleable__content fitted\"><pre>RandomForestRegressor(random_state=42)</pre></div> </div></div></div></div></div></div></div></div></div>"
            ]
          },
          "metadata": {},
          "execution_count": 75
        }
      ]
    },
    {
      "cell_type": "code",
      "source": [
        "def evaluate_model(X, y_true, dataset_name=\"\"):\n",
        "    y_pred = multi_model.predict(X)\n",
        "    print(f\"\\nEvaluation on {dataset_name}:\")\n",
        "    for i, target in enumerate(targets):\n",
        "        rmse = mean_squared_error(y_true.iloc[:, i], y_pred[:, i])\n",
        "        mape = mean_absolute_percentage_error(y_true.iloc[:, i], y_pred[:, i])\n",
        "        print(f\"{target}: RMSE = {rmse:.4f}, MAPE = {mape:.4f}\")\n",
        "\n",
        "evaluate_model(X_train, y_train, \"TRAINING\") # train\n",
        "evaluate_model(X_val, y_val, \"VALIDATION\") # val"
      ],
      "metadata": {
        "id": "k2Pd6WUCkKsn",
        "outputId": "9bd7feae-1f06-4895-e25f-0460d61c15ad",
        "colab": {
          "base_uri": "https://localhost:8080/"
        }
      },
      "execution_count": 77,
      "outputs": [
        {
          "output_type": "stream",
          "name": "stdout",
          "text": [
            "\n",
            "Evaluation on TRAINING:\n",
            "Target_Open: RMSE = 1.3732, MAPE = 0.0062\n",
            "Target_High: RMSE = 1.4632, MAPE = 0.0065\n",
            "Target_Low: RMSE = 1.6284, MAPE = 0.0069\n",
            "Target_Close: RMSE = 1.7882, MAPE = 0.0073\n",
            "Target_Volume: RMSE = 120222881666603.8125, MAPE = 0.5104\n",
            "\n",
            "Evaluation on VALIDATION:\n",
            "Target_Open: RMSE = 5.9847, MAPE = 0.0133\n",
            "Target_High: RMSE = 7.5311, MAPE = 0.0145\n",
            "Target_Low: RMSE = 7.7565, MAPE = 0.0153\n",
            "Target_Close: RMSE = 9.3164, MAPE = 0.0165\n",
            "Target_Volume: RMSE = 406783192486090.2500, MAPE = 1.6407\n"
          ]
        }
      ]
    },
    {
      "cell_type": "code",
      "source": [
        "def predict_test_cases(test_cases, full_data, model, feature_columns):\n",
        "    # we don't want to mutate the original list\n",
        "    updated_cases = deepcopy(test_cases)\n",
        "\n",
        "    # just making sure it's a normal datetime object\n",
        "    full_data[\"Date\"] = pd.to_datetime(full_data[\"Date\"])\n",
        "\n",
        "    for case in updated_cases:\n",
        "        ticker = case[\"ticker\"]\n",
        "        target_date = pd.to_datetime(case[\"date\"])\n",
        "\n",
        "        # Filter past data for that specific ticker\n",
        "        ticker_data = full_data[full_data[\"Ticker\"] == ticker].copy()\n",
        "        ticker_data = ticker_data[ticker_data[\"Date\"] < target_date].sort_values(\"Date\")\n",
        "\n",
        "        if ticker_data.empty:\n",
        "            print(f\"Not enough data for {ticker} before {target_date}\")\n",
        "            continue\n",
        "\n",
        "        # we basically replicate our full training feature engineering here\n",
        "        ticker_data[\"Return_1d\"] = ticker_data[\"Open\"].pct_change()\n",
        "        ticker_data[\"MA_5\"] = ticker_data[\"Open\"].rolling(5).mean()\n",
        "        ticker_data[\"MA_10\"] = ticker_data[\"Open\"].rolling(10).mean()\n",
        "        ticker_data[\"Volatility_5\"] = ticker_data[\"Open\"].rolling(5).std()\n",
        "\n",
        "        # Drop the nans cuz they'll be at the beginning due to rolling windows\n",
        "        ticker_data = ticker_data.dropna(subset=feature_columns)\n",
        "\n",
        "        if ticker_data.empty:\n",
        "            print(f\"Not enough data with features for {ticker} before {target_date}\")\n",
        "            continue\n",
        "\n",
        "        # last row of features as input\n",
        "        input_features = ticker_data.iloc[-1][feature_columns].values.reshape(1, -1)\n",
        "\n",
        "        preds = model.predict(input_features)[0] # unpack what we have\n",
        "\n",
        "        # now we'll map the predictions into the dict\n",
        "        keys = [\"predicted_open\", \"predicted_high\", \"predicted_low\", \"predicted_close\", \"predicted_volume\"]\n",
        "        for key, val in zip(keys, preds):\n",
        "            case[key] = float(val)  # converting to float for json compatibility\n",
        "\n",
        "    return updated_cases\n"
      ],
      "metadata": {
        "id": "dHSa7UU_kirg"
      },
      "execution_count": 78,
      "outputs": []
    },
    {
      "cell_type": "code",
      "source": [
        "feature_columns = ['Return_1d', 'MA_5', 'MA_10', 'Volatility_5', 'Sector_Avg_Return']\n",
        "\n",
        "updated_test_cases = predict_test_cases(\n",
        "    test_cases=test_cases,\n",
        "    full_data=train_df,   # we need to include past data for all tickers\n",
        "    model=multi_model,  # our trained multi-target regression model\n",
        "    feature_columns=feature_columns\n",
        ")"
      ],
      "metadata": {
        "id": "AXuTzEnulTXO"
      },
      "execution_count": null,
      "outputs": []
    },
    {
      "cell_type": "code",
      "source": [
        "with open(\"predictedFromTheBlind.json\", \"w\") as f:\n",
        "    json.dump(updated_test_cases, f, indent=4)"
      ],
      "metadata": {
        "id": "dZc7ZAcNl0Tu"
      },
      "execution_count": 80,
      "outputs": []
    }
  ]
}