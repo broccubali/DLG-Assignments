{
  "cells": [
    {
      "cell_type": "code",
      "execution_count": 1,
      "metadata": {
        "colab": {
          "base_uri": "https://localhost:8080/"
        },
        "id": "y2IlJxrkUvTM",
        "outputId": "bb8927ce-c89f-475e-abcc-da5c8ecd2473"
      },
      "outputs": [],
      "source": [
        "# !git clone https://github.com/broccubali/DLG-Assignments.git"
      ]
    },
    {
      "cell_type": "code",
      "execution_count": 2,
      "metadata": {
        "colab": {
          "base_uri": "https://localhost:8080/"
        },
        "id": "VLCec2fvUzN8",
        "outputId": "5059ab04-72d0-4972-d94a-48a78bd1b812"
      },
      "outputs": [],
      "source": [
        "# !pip install torch_geometric\n",
        "\n",
        "import pandas as pd\n",
        "import numpy as np\n",
        "import json\n",
        "import matplotlib.pyplot as plt\n",
        "import torch\n",
        "import networkx as nx"
      ]
    },
    {
      "cell_type": "code",
      "execution_count": null,
      "metadata": {
        "id": "recyd-fnU-XA"
      },
      "outputs": [],
      "source": [
        "train_data = pd.read_csv('train_stock_data.csv')\n",
        "train_data['Date'] = pd.to_datetime(train_data['Date'], format='%Y-%m-%d')\n",
        "train_data.sort_values(['Ticker', 'Date'], inplace=True)"
      ]
    },
    {
      "cell_type": "code",
      "execution_count": 4,
      "metadata": {
        "colab": {
          "base_uri": "https://localhost:8080/",
          "height": 444
        },
        "id": "D6i1_lckVHqT",
        "outputId": "8a6ace15-1258-40f3-e2a9-9daa2ac84a38"
      },
      "outputs": [
        {
          "data": {
            "text/html": [
              "<div>\n",
              "<style scoped>\n",
              "    .dataframe tbody tr th:only-of-type {\n",
              "        vertical-align: middle;\n",
              "    }\n",
              "\n",
              "    .dataframe tbody tr th {\n",
              "        vertical-align: top;\n",
              "    }\n",
              "\n",
              "    .dataframe thead th {\n",
              "        text-align: right;\n",
              "    }\n",
              "</style>\n",
              "<table border=\"1\" class=\"dataframe\">\n",
              "  <thead>\n",
              "    <tr style=\"text-align: right;\">\n",
              "      <th></th>\n",
              "      <th>Date</th>\n",
              "      <th>Ticker</th>\n",
              "      <th>Open</th>\n",
              "      <th>Open.1</th>\n",
              "      <th>Open.2</th>\n",
              "      <th>Open.3</th>\n",
              "      <th>Open.4</th>\n",
              "      <th>Open.5</th>\n",
              "      <th>Open.6</th>\n",
              "      <th>Open.7</th>\n",
              "      <th>...</th>\n",
              "      <th>Volume.10</th>\n",
              "      <th>Volume.11</th>\n",
              "      <th>Volume.12</th>\n",
              "      <th>Volume.13</th>\n",
              "      <th>Volume.14</th>\n",
              "      <th>Volume.15</th>\n",
              "      <th>Volume.16</th>\n",
              "      <th>Volume.17</th>\n",
              "      <th>Volume.18</th>\n",
              "      <th>Volume.19</th>\n",
              "    </tr>\n",
              "  </thead>\n",
              "  <tbody>\n",
              "    <tr>\n",
              "      <th>0</th>\n",
              "      <td>2019-01-02</td>\n",
              "      <td>AAPL</td>\n",
              "      <td>36.944462</td>\n",
              "      <td>NaN</td>\n",
              "      <td>NaN</td>\n",
              "      <td>NaN</td>\n",
              "      <td>NaN</td>\n",
              "      <td>NaN</td>\n",
              "      <td>NaN</td>\n",
              "      <td>NaN</td>\n",
              "      <td>...</td>\n",
              "      <td>NaN</td>\n",
              "      <td>NaN</td>\n",
              "      <td>NaN</td>\n",
              "      <td>NaN</td>\n",
              "      <td>NaN</td>\n",
              "      <td>NaN</td>\n",
              "      <td>NaN</td>\n",
              "      <td>NaN</td>\n",
              "      <td>NaN</td>\n",
              "      <td>NaN</td>\n",
              "    </tr>\n",
              "    <tr>\n",
              "      <th>1</th>\n",
              "      <td>2019-01-03</td>\n",
              "      <td>AAPL</td>\n",
              "      <td>34.342203</td>\n",
              "      <td>NaN</td>\n",
              "      <td>NaN</td>\n",
              "      <td>NaN</td>\n",
              "      <td>NaN</td>\n",
              "      <td>NaN</td>\n",
              "      <td>NaN</td>\n",
              "      <td>NaN</td>\n",
              "      <td>...</td>\n",
              "      <td>NaN</td>\n",
              "      <td>NaN</td>\n",
              "      <td>NaN</td>\n",
              "      <td>NaN</td>\n",
              "      <td>NaN</td>\n",
              "      <td>NaN</td>\n",
              "      <td>NaN</td>\n",
              "      <td>NaN</td>\n",
              "      <td>NaN</td>\n",
              "      <td>NaN</td>\n",
              "    </tr>\n",
              "    <tr>\n",
              "      <th>2</th>\n",
              "      <td>2019-01-04</td>\n",
              "      <td>AAPL</td>\n",
              "      <td>34.473390</td>\n",
              "      <td>NaN</td>\n",
              "      <td>NaN</td>\n",
              "      <td>NaN</td>\n",
              "      <td>NaN</td>\n",
              "      <td>NaN</td>\n",
              "      <td>NaN</td>\n",
              "      <td>NaN</td>\n",
              "      <td>...</td>\n",
              "      <td>NaN</td>\n",
              "      <td>NaN</td>\n",
              "      <td>NaN</td>\n",
              "      <td>NaN</td>\n",
              "      <td>NaN</td>\n",
              "      <td>NaN</td>\n",
              "      <td>NaN</td>\n",
              "      <td>NaN</td>\n",
              "      <td>NaN</td>\n",
              "      <td>NaN</td>\n",
              "    </tr>\n",
              "    <tr>\n",
              "      <th>3</th>\n",
              "      <td>2019-01-07</td>\n",
              "      <td>AAPL</td>\n",
              "      <td>35.468021</td>\n",
              "      <td>NaN</td>\n",
              "      <td>NaN</td>\n",
              "      <td>NaN</td>\n",
              "      <td>NaN</td>\n",
              "      <td>NaN</td>\n",
              "      <td>NaN</td>\n",
              "      <td>NaN</td>\n",
              "      <td>...</td>\n",
              "      <td>NaN</td>\n",
              "      <td>NaN</td>\n",
              "      <td>NaN</td>\n",
              "      <td>NaN</td>\n",
              "      <td>NaN</td>\n",
              "      <td>NaN</td>\n",
              "      <td>NaN</td>\n",
              "      <td>NaN</td>\n",
              "      <td>NaN</td>\n",
              "      <td>NaN</td>\n",
              "    </tr>\n",
              "    <tr>\n",
              "      <th>4</th>\n",
              "      <td>2019-01-08</td>\n",
              "      <td>AAPL</td>\n",
              "      <td>35.673153</td>\n",
              "      <td>NaN</td>\n",
              "      <td>NaN</td>\n",
              "      <td>NaN</td>\n",
              "      <td>NaN</td>\n",
              "      <td>NaN</td>\n",
              "      <td>NaN</td>\n",
              "      <td>NaN</td>\n",
              "      <td>...</td>\n",
              "      <td>NaN</td>\n",
              "      <td>NaN</td>\n",
              "      <td>NaN</td>\n",
              "      <td>NaN</td>\n",
              "      <td>NaN</td>\n",
              "      <td>NaN</td>\n",
              "      <td>NaN</td>\n",
              "      <td>NaN</td>\n",
              "      <td>NaN</td>\n",
              "      <td>NaN</td>\n",
              "    </tr>\n",
              "    <tr>\n",
              "      <th>...</th>\n",
              "      <td>...</td>\n",
              "      <td>...</td>\n",
              "      <td>...</td>\n",
              "      <td>...</td>\n",
              "      <td>...</td>\n",
              "      <td>...</td>\n",
              "      <td>...</td>\n",
              "      <td>...</td>\n",
              "      <td>...</td>\n",
              "      <td>...</td>\n",
              "      <td>...</td>\n",
              "      <td>...</td>\n",
              "      <td>...</td>\n",
              "      <td>...</td>\n",
              "      <td>...</td>\n",
              "      <td>...</td>\n",
              "      <td>...</td>\n",
              "      <td>...</td>\n",
              "      <td>...</td>\n",
              "      <td>...</td>\n",
              "      <td>...</td>\n",
              "    </tr>\n",
              "    <tr>\n",
              "      <th>11083</th>\n",
              "      <td>2022-12-23</td>\n",
              "      <td>XOM</td>\n",
              "      <td>NaN</td>\n",
              "      <td>NaN</td>\n",
              "      <td>NaN</td>\n",
              "      <td>NaN</td>\n",
              "      <td>NaN</td>\n",
              "      <td>NaN</td>\n",
              "      <td>NaN</td>\n",
              "      <td>NaN</td>\n",
              "      <td>...</td>\n",
              "      <td>11539400.0</td>\n",
              "      <td>NaN</td>\n",
              "      <td>NaN</td>\n",
              "      <td>NaN</td>\n",
              "      <td>NaN</td>\n",
              "      <td>NaN</td>\n",
              "      <td>NaN</td>\n",
              "      <td>NaN</td>\n",
              "      <td>NaN</td>\n",
              "      <td>NaN</td>\n",
              "    </tr>\n",
              "    <tr>\n",
              "      <th>11084</th>\n",
              "      <td>2022-12-27</td>\n",
              "      <td>XOM</td>\n",
              "      <td>NaN</td>\n",
              "      <td>NaN</td>\n",
              "      <td>NaN</td>\n",
              "      <td>NaN</td>\n",
              "      <td>NaN</td>\n",
              "      <td>NaN</td>\n",
              "      <td>NaN</td>\n",
              "      <td>NaN</td>\n",
              "      <td>...</td>\n",
              "      <td>11962100.0</td>\n",
              "      <td>NaN</td>\n",
              "      <td>NaN</td>\n",
              "      <td>NaN</td>\n",
              "      <td>NaN</td>\n",
              "      <td>NaN</td>\n",
              "      <td>NaN</td>\n",
              "      <td>NaN</td>\n",
              "      <td>NaN</td>\n",
              "      <td>NaN</td>\n",
              "    </tr>\n",
              "    <tr>\n",
              "      <th>11085</th>\n",
              "      <td>2022-12-28</td>\n",
              "      <td>XOM</td>\n",
              "      <td>NaN</td>\n",
              "      <td>NaN</td>\n",
              "      <td>NaN</td>\n",
              "      <td>NaN</td>\n",
              "      <td>NaN</td>\n",
              "      <td>NaN</td>\n",
              "      <td>NaN</td>\n",
              "      <td>NaN</td>\n",
              "      <td>...</td>\n",
              "      <td>10702100.0</td>\n",
              "      <td>NaN</td>\n",
              "      <td>NaN</td>\n",
              "      <td>NaN</td>\n",
              "      <td>NaN</td>\n",
              "      <td>NaN</td>\n",
              "      <td>NaN</td>\n",
              "      <td>NaN</td>\n",
              "      <td>NaN</td>\n",
              "      <td>NaN</td>\n",
              "    </tr>\n",
              "    <tr>\n",
              "      <th>11086</th>\n",
              "      <td>2022-12-29</td>\n",
              "      <td>XOM</td>\n",
              "      <td>NaN</td>\n",
              "      <td>NaN</td>\n",
              "      <td>NaN</td>\n",
              "      <td>NaN</td>\n",
              "      <td>NaN</td>\n",
              "      <td>NaN</td>\n",
              "      <td>NaN</td>\n",
              "      <td>NaN</td>\n",
              "      <td>...</td>\n",
              "      <td>10534000.0</td>\n",
              "      <td>NaN</td>\n",
              "      <td>NaN</td>\n",
              "      <td>NaN</td>\n",
              "      <td>NaN</td>\n",
              "      <td>NaN</td>\n",
              "      <td>NaN</td>\n",
              "      <td>NaN</td>\n",
              "      <td>NaN</td>\n",
              "      <td>NaN</td>\n",
              "    </tr>\n",
              "    <tr>\n",
              "      <th>11087</th>\n",
              "      <td>2022-12-30</td>\n",
              "      <td>XOM</td>\n",
              "      <td>NaN</td>\n",
              "      <td>NaN</td>\n",
              "      <td>NaN</td>\n",
              "      <td>NaN</td>\n",
              "      <td>NaN</td>\n",
              "      <td>NaN</td>\n",
              "      <td>NaN</td>\n",
              "      <td>NaN</td>\n",
              "      <td>...</td>\n",
              "      <td>11799600.0</td>\n",
              "      <td>NaN</td>\n",
              "      <td>NaN</td>\n",
              "      <td>NaN</td>\n",
              "      <td>NaN</td>\n",
              "      <td>NaN</td>\n",
              "      <td>NaN</td>\n",
              "      <td>NaN</td>\n",
              "      <td>NaN</td>\n",
              "      <td>NaN</td>\n",
              "    </tr>\n",
              "  </tbody>\n",
              "</table>\n",
              "<p>20160 rows × 102 columns</p>\n",
              "</div>"
            ],
            "text/plain": [
              "            Date Ticker       Open  Open.1  Open.2  Open.3  Open.4  Open.5  \\\n",
              "0     2019-01-02   AAPL  36.944462     NaN     NaN     NaN     NaN     NaN   \n",
              "1     2019-01-03   AAPL  34.342203     NaN     NaN     NaN     NaN     NaN   \n",
              "2     2019-01-04   AAPL  34.473390     NaN     NaN     NaN     NaN     NaN   \n",
              "3     2019-01-07   AAPL  35.468021     NaN     NaN     NaN     NaN     NaN   \n",
              "4     2019-01-08   AAPL  35.673153     NaN     NaN     NaN     NaN     NaN   \n",
              "...          ...    ...        ...     ...     ...     ...     ...     ...   \n",
              "11083 2022-12-23    XOM        NaN     NaN     NaN     NaN     NaN     NaN   \n",
              "11084 2022-12-27    XOM        NaN     NaN     NaN     NaN     NaN     NaN   \n",
              "11085 2022-12-28    XOM        NaN     NaN     NaN     NaN     NaN     NaN   \n",
              "11086 2022-12-29    XOM        NaN     NaN     NaN     NaN     NaN     NaN   \n",
              "11087 2022-12-30    XOM        NaN     NaN     NaN     NaN     NaN     NaN   \n",
              "\n",
              "       Open.6  Open.7  ...   Volume.10  Volume.11  Volume.12  Volume.13  \\\n",
              "0         NaN     NaN  ...         NaN        NaN        NaN        NaN   \n",
              "1         NaN     NaN  ...         NaN        NaN        NaN        NaN   \n",
              "2         NaN     NaN  ...         NaN        NaN        NaN        NaN   \n",
              "3         NaN     NaN  ...         NaN        NaN        NaN        NaN   \n",
              "4         NaN     NaN  ...         NaN        NaN        NaN        NaN   \n",
              "...       ...     ...  ...         ...        ...        ...        ...   \n",
              "11083     NaN     NaN  ...  11539400.0        NaN        NaN        NaN   \n",
              "11084     NaN     NaN  ...  11962100.0        NaN        NaN        NaN   \n",
              "11085     NaN     NaN  ...  10702100.0        NaN        NaN        NaN   \n",
              "11086     NaN     NaN  ...  10534000.0        NaN        NaN        NaN   \n",
              "11087     NaN     NaN  ...  11799600.0        NaN        NaN        NaN   \n",
              "\n",
              "       Volume.14  Volume.15  Volume.16  Volume.17  Volume.18  Volume.19  \n",
              "0            NaN        NaN        NaN        NaN        NaN        NaN  \n",
              "1            NaN        NaN        NaN        NaN        NaN        NaN  \n",
              "2            NaN        NaN        NaN        NaN        NaN        NaN  \n",
              "3            NaN        NaN        NaN        NaN        NaN        NaN  \n",
              "4            NaN        NaN        NaN        NaN        NaN        NaN  \n",
              "...          ...        ...        ...        ...        ...        ...  \n",
              "11083        NaN        NaN        NaN        NaN        NaN        NaN  \n",
              "11084        NaN        NaN        NaN        NaN        NaN        NaN  \n",
              "11085        NaN        NaN        NaN        NaN        NaN        NaN  \n",
              "11086        NaN        NaN        NaN        NaN        NaN        NaN  \n",
              "11087        NaN        NaN        NaN        NaN        NaN        NaN  \n",
              "\n",
              "[20160 rows x 102 columns]"
            ]
          },
          "execution_count": 4,
          "metadata": {},
          "output_type": "execute_result"
        }
      ],
      "source": [
        "train_data"
      ]
    },
    {
      "cell_type": "code",
      "execution_count": 5,
      "metadata": {
        "id": "DEf58kGXVI43"
      },
      "outputs": [],
      "source": [
        "validation_data = pd.read_csv('validation_stock_data.csv')\n",
        "with open('hyperedges.json', 'r') as f:\n",
        "    hyperedges = json.load(f)\n",
        "with open('blind_test_cases.json', 'r') as f:\n",
        "    test_cases = json.load(f)"
      ]
    },
    {
      "cell_type": "code",
      "execution_count": 6,
      "metadata": {
        "colab": {
          "base_uri": "https://localhost:8080/"
        },
        "id": "J47d6N5yVSdi",
        "outputId": "73073ddf-130c-47dd-a006-c54b708c65f1"
      },
      "outputs": [
        {
          "name": "stdout",
          "output_type": "stream",
          "text": [
            "Training data shape: (20160, 102)\n",
            "Validation data shape: (2000, 102)\n",
            "Number of hyperedges: 8\n",
            "Number of test cases: 120\n",
            "Training data columns:\n",
            "Index(['Date', 'Ticker', 'Open', 'Open.1', 'Open.2', 'Open.3', 'Open.4',\n",
            "       'Open.5', 'Open.6', 'Open.7',\n",
            "       ...\n",
            "       'Volume.10', 'Volume.11', 'Volume.12', 'Volume.13', 'Volume.14',\n",
            "       'Volume.15', 'Volume.16', 'Volume.17', 'Volume.18', 'Volume.19'],\n",
            "      dtype='object', length=102)\n"
          ]
        }
      ],
      "source": [
        "print(f\"Training data shape: {train_data.shape}\")\n",
        "print(f\"Validation data shape: {validation_data.shape}\")\n",
        "print(f\"Number of hyperedges: {len(hyperedges)}\")\n",
        "print(f\"Number of test cases: {len(test_cases)}\")\n",
        "print(\"Training data columns:\")\n",
        "print(train_data.columns)"
      ]
    },
    {
      "cell_type": "code",
      "execution_count": 7,
      "metadata": {
        "colab": {
          "base_uri": "https://localhost:8080/"
        },
        "id": "v-hhmdCsVYWu",
        "outputId": "db81262f-7006-4bf8-eae8-9d6e092cbbac"
      },
      "outputs": [
        {
          "name": "stdout",
          "output_type": "stream",
          "text": [
            "Hyperedges structure:\n",
            "{'Tech': ['AAPL', 'GOOGL', 'MSFT', 'AMZN'], 'Finance': ['JPM', 'BAC', 'C'], 'Healthcare': ['JNJ', 'PFE', 'MRK'], 'Energy': ['XOM', 'CVX'], 'Consumer': ['WMT', 'PG', 'KO'], 'Industrials': ['BA', 'CAT'], 'Communications': ['VZ', 'T'], 'Utilities': ['DUK']}\n",
            "<class 'dict'>\n",
            "Available tickers in training data: ['AAPL' 'AMZN' 'BA' 'BAC' 'C' 'CAT' 'CVX' 'DUK' 'GOOGL' 'JNJ' 'JPM' 'KO'\n",
            " 'MRK' 'MSFT' 'PFE' 'PG' 'T' 'VZ' 'WMT' 'XOM']\n",
            "Test case example:\n"
          ]
        },
        {
          "data": {
            "text/plain": [
              "{'ticker': 'GOOGL',\n",
              " 'date': '2023-03-01',\n",
              " 'predicted_open': None,\n",
              " 'predicted_high': None,\n",
              " 'predicted_low': None,\n",
              " 'predicted_close': None,\n",
              " 'predicted_volume': None,\n",
              " 'eval_metric': 'MAPE'}"
            ]
          },
          "execution_count": 7,
          "metadata": {},
          "output_type": "execute_result"
        }
      ],
      "source": [
        "print(\"Hyperedges structure:\")\n",
        "print(hyperedges)\n",
        "\n",
        "print(type(hyperedges))\n",
        "\n",
        "print(\"Available tickers in training data:\", train_data['Ticker'].unique())\n",
        "\n",
        "print(\"Test case example:\")\n",
        "test_cases[0]"
      ]
    },
    {
      "cell_type": "code",
      "execution_count": 8,
      "metadata": {
        "colab": {
          "base_uri": "https://localhost:8080/",
          "height": 424
        },
        "id": "TZdA6Y4iVjif",
        "outputId": "408cf15f-87f7-4d83-9a4b-83d7a7ff1092"
      },
      "outputs": [
        {
          "data": {
            "text/html": [
              "<div>\n",
              "<style scoped>\n",
              "    .dataframe tbody tr th:only-of-type {\n",
              "        vertical-align: middle;\n",
              "    }\n",
              "\n",
              "    .dataframe tbody tr th {\n",
              "        vertical-align: top;\n",
              "    }\n",
              "\n",
              "    .dataframe thead th {\n",
              "        text-align: right;\n",
              "    }\n",
              "</style>\n",
              "<table border=\"1\" class=\"dataframe\">\n",
              "  <thead>\n",
              "    <tr style=\"text-align: right;\">\n",
              "      <th></th>\n",
              "      <th>Date</th>\n",
              "      <th>Ticker</th>\n",
              "      <th>Open</th>\n",
              "      <th>High</th>\n",
              "      <th>Low</th>\n",
              "      <th>Close</th>\n",
              "      <th>Volume</th>\n",
              "    </tr>\n",
              "  </thead>\n",
              "  <tbody>\n",
              "    <tr>\n",
              "      <th>0</th>\n",
              "      <td>2019-01-02</td>\n",
              "      <td>AAPL</td>\n",
              "      <td>36.944462</td>\n",
              "      <td>37.889005</td>\n",
              "      <td>36.787037</td>\n",
              "      <td>37.667179</td>\n",
              "      <td>148158800.0</td>\n",
              "    </tr>\n",
              "    <tr>\n",
              "      <th>1</th>\n",
              "      <td>2019-01-03</td>\n",
              "      <td>AAPL</td>\n",
              "      <td>34.342203</td>\n",
              "      <td>34.757230</td>\n",
              "      <td>33.869933</td>\n",
              "      <td>33.915253</td>\n",
              "      <td>365248800.0</td>\n",
              "    </tr>\n",
              "    <tr>\n",
              "      <th>2</th>\n",
              "      <td>2019-01-04</td>\n",
              "      <td>AAPL</td>\n",
              "      <td>34.473390</td>\n",
              "      <td>35.432244</td>\n",
              "      <td>34.299271</td>\n",
              "      <td>35.363071</td>\n",
              "      <td>234428400.0</td>\n",
              "    </tr>\n",
              "    <tr>\n",
              "      <th>3</th>\n",
              "      <td>2019-01-07</td>\n",
              "      <td>AAPL</td>\n",
              "      <td>35.468021</td>\n",
              "      <td>35.499030</td>\n",
              "      <td>34.800162</td>\n",
              "      <td>35.284359</td>\n",
              "      <td>219111200.0</td>\n",
              "    </tr>\n",
              "    <tr>\n",
              "      <th>4</th>\n",
              "      <td>2019-01-08</td>\n",
              "      <td>AAPL</td>\n",
              "      <td>35.673153</td>\n",
              "      <td>36.212212</td>\n",
              "      <td>35.425093</td>\n",
              "      <td>35.956993</td>\n",
              "      <td>164101200.0</td>\n",
              "    </tr>\n",
              "    <tr>\n",
              "      <th>...</th>\n",
              "      <td>...</td>\n",
              "      <td>...</td>\n",
              "      <td>...</td>\n",
              "      <td>...</td>\n",
              "      <td>...</td>\n",
              "      <td>...</td>\n",
              "      <td>...</td>\n",
              "    </tr>\n",
              "    <tr>\n",
              "      <th>20155</th>\n",
              "      <td>2022-12-23</td>\n",
              "      <td>XOM</td>\n",
              "      <td>99.121032</td>\n",
              "      <td>100.780001</td>\n",
              "      <td>99.074697</td>\n",
              "      <td>100.724396</td>\n",
              "      <td>11539400.0</td>\n",
              "    </tr>\n",
              "    <tr>\n",
              "      <th>20156</th>\n",
              "      <td>2022-12-27</td>\n",
              "      <td>XOM</td>\n",
              "      <td>101.271219</td>\n",
              "      <td>102.383381</td>\n",
              "      <td>100.863433</td>\n",
              "      <td>102.123878</td>\n",
              "      <td>11962100.0</td>\n",
              "    </tr>\n",
              "    <tr>\n",
              "      <th>20157</th>\n",
              "      <td>2022-12-28</td>\n",
              "      <td>XOM</td>\n",
              "      <td>101.864365</td>\n",
              "      <td>101.947773</td>\n",
              "      <td>100.001499</td>\n",
              "      <td>100.446358</td>\n",
              "      <td>10702100.0</td>\n",
              "    </tr>\n",
              "    <tr>\n",
              "      <th>20158</th>\n",
              "      <td>2022-12-29</td>\n",
              "      <td>XOM</td>\n",
              "      <td>100.084912</td>\n",
              "      <td>101.688276</td>\n",
              "      <td>100.084912</td>\n",
              "      <td>101.206337</td>\n",
              "      <td>10534000.0</td>\n",
              "    </tr>\n",
              "    <tr>\n",
              "      <th>20159</th>\n",
              "      <td>2022-12-30</td>\n",
              "      <td>XOM</td>\n",
              "      <td>100.659532</td>\n",
              "      <td>102.411179</td>\n",
              "      <td>100.659532</td>\n",
              "      <td>102.225822</td>\n",
              "      <td>11799600.0</td>\n",
              "    </tr>\n",
              "  </tbody>\n",
              "</table>\n",
              "<p>20160 rows × 7 columns</p>\n",
              "</div>"
            ],
            "text/plain": [
              "            Date Ticker        Open        High         Low       Close  \\\n",
              "0     2019-01-02   AAPL   36.944462   37.889005   36.787037   37.667179   \n",
              "1     2019-01-03   AAPL   34.342203   34.757230   33.869933   33.915253   \n",
              "2     2019-01-04   AAPL   34.473390   35.432244   34.299271   35.363071   \n",
              "3     2019-01-07   AAPL   35.468021   35.499030   34.800162   35.284359   \n",
              "4     2019-01-08   AAPL   35.673153   36.212212   35.425093   35.956993   \n",
              "...          ...    ...         ...         ...         ...         ...   \n",
              "20155 2022-12-23    XOM   99.121032  100.780001   99.074697  100.724396   \n",
              "20156 2022-12-27    XOM  101.271219  102.383381  100.863433  102.123878   \n",
              "20157 2022-12-28    XOM  101.864365  101.947773  100.001499  100.446358   \n",
              "20158 2022-12-29    XOM  100.084912  101.688276  100.084912  101.206337   \n",
              "20159 2022-12-30    XOM  100.659532  102.411179  100.659532  102.225822   \n",
              "\n",
              "            Volume  \n",
              "0      148158800.0  \n",
              "1      365248800.0  \n",
              "2      234428400.0  \n",
              "3      219111200.0  \n",
              "4      164101200.0  \n",
              "...            ...  \n",
              "20155   11539400.0  \n",
              "20156   11962100.0  \n",
              "20157   10702100.0  \n",
              "20158   10534000.0  \n",
              "20159   11799600.0  \n",
              "\n",
              "[20160 rows x 7 columns]"
            ]
          },
          "execution_count": 8,
          "metadata": {},
          "output_type": "execute_result"
        }
      ],
      "source": [
        "l = []\n",
        "tickers = train_data['Ticker'].unique()\n",
        "for ticker in tickers:\n",
        "    data = train_data[train_data[\"Ticker\"] == ticker]\n",
        "    valid_cols = []\n",
        "    for i in data.columns:\n",
        "        if data[i].isna().sum() == 0:\n",
        "            valid_cols.append(i)\n",
        "    a = data[valid_cols].values\n",
        "    for i in a:\n",
        "        l.append(i)\n",
        "df = pd.DataFrame(l, columns=[\"Date\", \"Ticker\", \"Open\", \"High\", \"Low\", \"Close\", \"Volume\"])\n",
        "df"
      ]
    },
    {
      "cell_type": "code",
      "execution_count": 10,
      "metadata": {},
      "outputs": [
        {
          "data": {
            "text/html": [
              "<div>\n",
              "<style scoped>\n",
              "    .dataframe tbody tr th:only-of-type {\n",
              "        vertical-align: middle;\n",
              "    }\n",
              "\n",
              "    .dataframe tbody tr th {\n",
              "        vertical-align: top;\n",
              "    }\n",
              "\n",
              "    .dataframe thead th {\n",
              "        text-align: right;\n",
              "    }\n",
              "</style>\n",
              "<table border=\"1\" class=\"dataframe\">\n",
              "  <thead>\n",
              "    <tr style=\"text-align: right;\">\n",
              "      <th></th>\n",
              "      <th>Date</th>\n",
              "      <th>Ticker</th>\n",
              "      <th>Open</th>\n",
              "      <th>High</th>\n",
              "      <th>Low</th>\n",
              "      <th>Close</th>\n",
              "      <th>Volume</th>\n",
              "      <th>Return</th>\n",
              "      <th>Volatility</th>\n",
              "      <th>Momentum</th>\n",
              "      <th>Moving_Avg</th>\n",
              "    </tr>\n",
              "  </thead>\n",
              "  <tbody>\n",
              "    <tr>\n",
              "      <th>0</th>\n",
              "      <td>2019-01-02</td>\n",
              "      <td>AAPL</td>\n",
              "      <td>-0.462705</td>\n",
              "      <td>-0.458112</td>\n",
              "      <td>-0.460747</td>\n",
              "      <td>-0.456032</td>\n",
              "      <td>5.101136</td>\n",
              "      <td>0.000000</td>\n",
              "      <td>0.000000</td>\n",
              "      <td>0.000000</td>\n",
              "      <td>0.000000</td>\n",
              "    </tr>\n",
              "    <tr>\n",
              "      <th>1</th>\n",
              "      <td>2019-01-03</td>\n",
              "      <td>AAPL</td>\n",
              "      <td>-0.493476</td>\n",
              "      <td>-0.494767</td>\n",
              "      <td>-0.495698</td>\n",
              "      <td>-0.500455</td>\n",
              "      <td>13.554442</td>\n",
              "      <td>-0.099607</td>\n",
              "      <td>0.000000</td>\n",
              "      <td>0.000000</td>\n",
              "      <td>0.000000</td>\n",
              "    </tr>\n",
              "    <tr>\n",
              "      <th>2</th>\n",
              "      <td>2019-01-04</td>\n",
              "      <td>AAPL</td>\n",
              "      <td>-0.491925</td>\n",
              "      <td>-0.486867</td>\n",
              "      <td>-0.490554</td>\n",
              "      <td>-0.483313</td>\n",
              "      <td>8.460403</td>\n",
              "      <td>0.042689</td>\n",
              "      <td>0.000000</td>\n",
              "      <td>0.000000</td>\n",
              "      <td>0.000000</td>\n",
              "    </tr>\n",
              "    <tr>\n",
              "      <th>3</th>\n",
              "      <td>2019-01-07</td>\n",
              "      <td>AAPL</td>\n",
              "      <td>-0.480164</td>\n",
              "      <td>-0.486085</td>\n",
              "      <td>-0.484553</td>\n",
              "      <td>-0.484245</td>\n",
              "      <td>7.863964</td>\n",
              "      <td>-0.002226</td>\n",
              "      <td>0.000000</td>\n",
              "      <td>0.000000</td>\n",
              "      <td>0.000000</td>\n",
              "    </tr>\n",
              "    <tr>\n",
              "      <th>4</th>\n",
              "      <td>2019-01-08</td>\n",
              "      <td>AAPL</td>\n",
              "      <td>-0.477738</td>\n",
              "      <td>-0.477738</td>\n",
              "      <td>-0.477065</td>\n",
              "      <td>-0.476281</td>\n",
              "      <td>5.721920</td>\n",
              "      <td>0.019063</td>\n",
              "      <td>0.000000</td>\n",
              "      <td>0.000000</td>\n",
              "      <td>0.000000</td>\n",
              "    </tr>\n",
              "    <tr>\n",
              "      <th>...</th>\n",
              "      <td>...</td>\n",
              "      <td>...</td>\n",
              "      <td>...</td>\n",
              "      <td>...</td>\n",
              "      <td>...</td>\n",
              "      <td>...</td>\n",
              "      <td>...</td>\n",
              "      <td>...</td>\n",
              "      <td>...</td>\n",
              "      <td>...</td>\n",
              "      <td>...</td>\n",
              "    </tr>\n",
              "    <tr>\n",
              "      <th>20155</th>\n",
              "      <td>2022-12-23</td>\n",
              "      <td>XOM</td>\n",
              "      <td>0.272531</td>\n",
              "      <td>0.277970</td>\n",
              "      <td>0.285540</td>\n",
              "      <td>0.290567</td>\n",
              "      <td>-0.218712</td>\n",
              "      <td>0.026445</td>\n",
              "      <td>0.015932</td>\n",
              "      <td>0.038013</td>\n",
              "      <td>101.010784</td>\n",
              "    </tr>\n",
              "    <tr>\n",
              "      <th>20156</th>\n",
              "      <td>2022-12-27</td>\n",
              "      <td>XOM</td>\n",
              "      <td>0.297957</td>\n",
              "      <td>0.296736</td>\n",
              "      <td>0.306972</td>\n",
              "      <td>0.307137</td>\n",
              "      <td>-0.202252</td>\n",
              "      <td>0.013894</td>\n",
              "      <td>0.015044</td>\n",
              "      <td>0.047732</td>\n",
              "      <td>100.922739</td>\n",
              "    </tr>\n",
              "    <tr>\n",
              "      <th>20157</th>\n",
              "      <td>2022-12-28</td>\n",
              "      <td>XOM</td>\n",
              "      <td>0.304971</td>\n",
              "      <td>0.291638</td>\n",
              "      <td>0.296645</td>\n",
              "      <td>0.287275</td>\n",
              "      <td>-0.251315</td>\n",
              "      <td>-0.016426</td>\n",
              "      <td>0.015294</td>\n",
              "      <td>0.015840</td>\n",
              "      <td>100.768581</td>\n",
              "    </tr>\n",
              "    <tr>\n",
              "      <th>20158</th>\n",
              "      <td>2022-12-29</td>\n",
              "      <td>XOM</td>\n",
              "      <td>0.283929</td>\n",
              "      <td>0.288601</td>\n",
              "      <td>0.297644</td>\n",
              "      <td>0.296273</td>\n",
              "      <td>-0.257861</td>\n",
              "      <td>0.007566</td>\n",
              "      <td>0.015311</td>\n",
              "      <td>0.010550</td>\n",
              "      <td>100.616277</td>\n",
              "    </tr>\n",
              "    <tr>\n",
              "      <th>20159</th>\n",
              "      <td>2022-12-30</td>\n",
              "      <td>XOM</td>\n",
              "      <td>0.290723</td>\n",
              "      <td>0.297061</td>\n",
              "      <td>0.304529</td>\n",
              "      <td>0.308344</td>\n",
              "      <td>-0.208580</td>\n",
              "      <td>0.010073</td>\n",
              "      <td>0.015344</td>\n",
              "      <td>0.041745</td>\n",
              "      <td>100.535646</td>\n",
              "    </tr>\n",
              "  </tbody>\n",
              "</table>\n",
              "<p>20160 rows × 11 columns</p>\n",
              "</div>"
            ],
            "text/plain": [
              "            Date Ticker      Open      High       Low     Close     Volume  \\\n",
              "0     2019-01-02   AAPL -0.462705 -0.458112 -0.460747 -0.456032   5.101136   \n",
              "1     2019-01-03   AAPL -0.493476 -0.494767 -0.495698 -0.500455  13.554442   \n",
              "2     2019-01-04   AAPL -0.491925 -0.486867 -0.490554 -0.483313   8.460403   \n",
              "3     2019-01-07   AAPL -0.480164 -0.486085 -0.484553 -0.484245   7.863964   \n",
              "4     2019-01-08   AAPL -0.477738 -0.477738 -0.477065 -0.476281   5.721920   \n",
              "...          ...    ...       ...       ...       ...       ...        ...   \n",
              "20155 2022-12-23    XOM  0.272531  0.277970  0.285540  0.290567  -0.218712   \n",
              "20156 2022-12-27    XOM  0.297957  0.296736  0.306972  0.307137  -0.202252   \n",
              "20157 2022-12-28    XOM  0.304971  0.291638  0.296645  0.287275  -0.251315   \n",
              "20158 2022-12-29    XOM  0.283929  0.288601  0.297644  0.296273  -0.257861   \n",
              "20159 2022-12-30    XOM  0.290723  0.297061  0.304529  0.308344  -0.208580   \n",
              "\n",
              "         Return  Volatility  Momentum  Moving_Avg  \n",
              "0      0.000000    0.000000  0.000000    0.000000  \n",
              "1     -0.099607    0.000000  0.000000    0.000000  \n",
              "2      0.042689    0.000000  0.000000    0.000000  \n",
              "3     -0.002226    0.000000  0.000000    0.000000  \n",
              "4      0.019063    0.000000  0.000000    0.000000  \n",
              "...         ...         ...       ...         ...  \n",
              "20155  0.026445    0.015932  0.038013  101.010784  \n",
              "20156  0.013894    0.015044  0.047732  100.922739  \n",
              "20157 -0.016426    0.015294  0.015840  100.768581  \n",
              "20158  0.007566    0.015311  0.010550  100.616277  \n",
              "20159  0.010073    0.015344  0.041745  100.535646  \n",
              "\n",
              "[20160 rows x 11 columns]"
            ]
          },
          "execution_count": 10,
          "metadata": {},
          "output_type": "execute_result"
        }
      ],
      "source": [
        "from sklearn.preprocessing import RobustScaler \n",
        "scaler = RobustScaler()\n",
        "scaler1 = RobustScaler()\n",
        "feature_cols = ['Open', 'High', 'Low', 'Close']\n",
        "df[feature_cols] = scaler.fit_transform(df[feature_cols])\n",
        "df[\"Volume\"] = scaler1.fit_transform(df[[\"Volume\"]])\n",
        "df"
      ]
    },
    {
      "cell_type": "code",
      "execution_count": 11,
      "metadata": {
        "colab": {
          "base_uri": "https://localhost:8080/",
          "height": 564
        },
        "id": "kTyUA8WJVsWI",
        "outputId": "8f4f6b23-e288-43ca-8cc9-8ec3ce6647d6"
      },
      "outputs": [
        {
          "data": {
            "image/png": "[encoded data removed]",
            "text/plain": [
              "<Figure size 1200x600 with 1 Axes>"
            ]
          },
          "metadata": {},
          "output_type": "display_data"
        }
      ],
      "source": [
        "aapl = df[df[\"Ticker\"] == \"AAPL\"]\n",
        "plt.figure(figsize=(12, 6))\n",
        "plt.plot(aapl.index, aapl['Close'], label='Close Price')\n",
        "plt.title('AAPL Close Price (2019-2022)')\n",
        "plt.xlabel('Date')\n",
        "plt.ylabel('Price')\n",
        "plt.legend()\n",
        "plt.show()"
      ]
    },
    {
      "cell_type": "code",
      "execution_count": 12,
      "metadata": {
        "colab": {
          "base_uri": "https://localhost:8080/"
        },
        "id": "D84su0QlV6pl",
        "outputId": "8bcf957e-ddd5-41c9-9f74-e15a320d2e9c"
      },
      "outputs": [
        {
          "name": "stdout",
          "output_type": "stream",
          "text": [
            "Ticker to index mapping: {'AAPL': 0, 'AMZN': 1, 'BA': 2, 'BAC': 3, 'C': 4, 'CAT': 5, 'CVX': 6, 'DUK': 7, 'GOOGL': 8, 'JNJ': 9, 'JPM': 10, 'KO': 11, 'MRK': 12, 'MSFT': 13, 'PFE': 14, 'PG': 15, 'T': 16, 'VZ': 17, 'WMT': 18, 'XOM': 19}\n"
          ]
        }
      ],
      "source": [
        "stocks = ['AAPL', 'AMZN', 'BA', 'BAC', 'C', 'CAT', 'CVX', 'DUK', 'GOOGL', 'JNJ', 'JPM' ,'KO', 'MRK', 'MSFT', 'PFE', 'PG', 'T', 'VZ', 'WMT', 'XOM']\n",
        "\n",
        "ticker_to_idx = {ticker: idx for idx, ticker in enumerate(sorted(tickers))}\n",
        "print(\"Ticker to index mapping:\", ticker_to_idx)"
      ]
    },
    {
      "cell_type": "code",
      "execution_count": 13,
      "metadata": {
        "colab": {
          "base_uri": "https://localhost:8080/"
        },
        "id": "lwjo9VzXZY32",
        "outputId": "c36d54ea-78f2-4ebd-affa-558cafb9cecc"
      },
      "outputs": [
        {
          "name": "stdout",
          "output_type": "stream",
          "text": [
            "Hyperedge 'Tech': ['AAPL', 'GOOGL', 'MSFT', 'AMZN'] -> [0, 8, 13, 1]\n",
            "Hyperedge 'Finance': ['JPM', 'BAC', 'C'] -> [10, 3, 4]\n",
            "Hyperedge 'Healthcare': ['JNJ', 'PFE', 'MRK'] -> [9, 14, 12]\n",
            "Hyperedge 'Energy': ['XOM', 'CVX'] -> [19, 6]\n",
            "Hyperedge 'Consumer': ['WMT', 'PG', 'KO'] -> [18, 15, 11]\n",
            "Hyperedge 'Industrials': ['BA', 'CAT'] -> [2, 5]\n",
            "Hyperedge 'Communications': ['VZ', 'T'] -> [17, 16]\n",
            "Hyperedge 'Utilities': ['DUK'] -> [7]\n"
          ]
        }
      ],
      "source": [
        "hyperedge_indices = []\n",
        "for he_name, ticker in hyperedges.items():\n",
        "    indices = [ticker_to_idx[t] for t in ticker]\n",
        "    print(f\"Hyperedge '{he_name}': {ticker} -> {indices}\")\n",
        "    hyperedge_indices.append(indices)"
      ]
    },
    {
      "cell_type": "code",
      "execution_count": 14,
      "metadata": {
        "colab": {
          "base_uri": "https://localhost:8080/"
        },
        "id": "4ElUuAUBdm8X",
        "outputId": "02b776f0-d909-4ae4-f897-069b5a1f0348"
      },
      "outputs": [
        {
          "data": {
            "text/plain": [
              "[[0, 8, 13, 1],\n",
              " [10, 3, 4],\n",
              " [9, 14, 12],\n",
              " [19, 6],\n",
              " [18, 15, 11],\n",
              " [2, 5],\n",
              " [17, 16],\n",
              " [7]]"
            ]
          },
          "execution_count": 14,
          "metadata": {},
          "output_type": "execute_result"
        }
      ],
      "source": [
        "hyperedge_indices"
      ]
    },
    {
      "cell_type": "markdown",
      "metadata": {
        "id": "h9otHKV2esuF"
      },
      "source": [
        "## clique representation"
      ]
    },
    {
      "cell_type": "code",
      "execution_count": 15,
      "metadata": {
        "colab": {
          "base_uri": "https://localhost:8080/"
        },
        "id": "xD5DhdXneEpJ",
        "outputId": "6c535a58-018d-4b1c-e80c-62251c10376f"
      },
      "outputs": [
        {
          "data": {
            "text/plain": [
              "array([[0, 1, 0, 0, 0, 0, 0, 0, 1, 0, 0, 0, 0, 1, 0, 0, 0, 0, 0, 0],\n",
              "       [1, 0, 0, 0, 0, 0, 0, 0, 1, 0, 0, 0, 0, 1, 0, 0, 0, 0, 0, 0],\n",
              "       [0, 0, 0, 0, 0, 1, 0, 0, 0, 0, 0, 0, 0, 0, 0, 0, 0, 0, 0, 0],\n",
              "       [0, 0, 0, 0, 1, 0, 0, 0, 0, 0, 1, 0, 0, 0, 0, 0, 0, 0, 0, 0],\n",
              "       [0, 0, 0, 1, 0, 0, 0, 0, 0, 0, 1, 0, 0, 0, 0, 0, 0, 0, 0, 0],\n",
              "       [0, 0, 1, 0, 0, 0, 0, 0, 0, 0, 0, 0, 0, 0, 0, 0, 0, 0, 0, 0],\n",
              "       [0, 0, 0, 0, 0, 0, 0, 0, 0, 0, 0, 0, 0, 0, 0, 0, 0, 0, 0, 1],\n",
              "       [0, 0, 0, 0, 0, 0, 0, 0, 0, 0, 0, 0, 0, 0, 0, 0, 0, 0, 0, 0],\n",
              "       [1, 1, 0, 0, 0, 0, 0, 0, 0, 0, 0, 0, 0, 1, 0, 0, 0, 0, 0, 0],\n",
              "       [0, 0, 0, 0, 0, 0, 0, 0, 0, 0, 0, 0, 1, 0, 1, 0, 0, 0, 0, 0],\n",
              "       [0, 0, 0, 1, 1, 0, 0, 0, 0, 0, 0, 0, 0, 0, 0, 0, 0, 0, 0, 0],\n",
              "       [0, 0, 0, 0, 0, 0, 0, 0, 0, 0, 0, 0, 0, 0, 0, 1, 0, 0, 1, 0],\n",
              "       [0, 0, 0, 0, 0, 0, 0, 0, 0, 1, 0, 0, 0, 0, 1, 0, 0, 0, 0, 0],\n",
              "       [1, 1, 0, 0, 0, 0, 0, 0, 1, 0, 0, 0, 0, 0, 0, 0, 0, 0, 0, 0],\n",
              "       [0, 0, 0, 0, 0, 0, 0, 0, 0, 1, 0, 0, 1, 0, 0, 0, 0, 0, 0, 0],\n",
              "       [0, 0, 0, 0, 0, 0, 0, 0, 0, 0, 0, 1, 0, 0, 0, 0, 0, 0, 1, 0],\n",
              "       [0, 0, 0, 0, 0, 0, 0, 0, 0, 0, 0, 0, 0, 0, 0, 0, 0, 1, 0, 0],\n",
              "       [0, 0, 0, 0, 0, 0, 0, 0, 0, 0, 0, 0, 0, 0, 0, 0, 1, 0, 0, 0],\n",
              "       [0, 0, 0, 0, 0, 0, 0, 0, 0, 0, 0, 1, 0, 0, 0, 1, 0, 0, 0, 0],\n",
              "       [0, 0, 0, 0, 0, 0, 1, 0, 0, 0, 0, 0, 0, 0, 0, 0, 0, 0, 0, 0]])"
            ]
          },
          "execution_count": 15,
          "metadata": {},
          "output_type": "execute_result"
        }
      ],
      "source": [
        "adj_matrix = [[0 for i in range(20)] for j in range(20)]\n",
        "for hyperedge in hyperedge_indices:\n",
        "    for i in range(len(hyperedge)):\n",
        "        for j in range(i+1, len(hyperedge)):\n",
        "            adj_matrix[hyperedge[i]][hyperedge[j]] = 1\n",
        "            adj_matrix[hyperedge[j]][hyperedge[i]] = 1\n",
        "adj_matrix = np.array(adj_matrix)\n",
        "adj_matrix"
      ]
    },
    {
      "cell_type": "code",
      "execution_count": 16,
      "metadata": {
        "colab": {
          "base_uri": "https://localhost:8080/"
        },
        "id": "U_f0W1JKgzfl",
        "outputId": "8c77af39-1ad7-486e-95e8-fdbe8771a458"
      },
      "outputs": [
        {
          "data": {
            "text/plain": [
              "tensor([[ 0,  0,  0,  1,  1,  1,  2,  3,  3,  4,  4,  5,  6,  8,  8,  8,  9,  9,\n",
              "         10, 10, 11, 11, 12, 12, 13, 13, 13, 14, 14, 15, 15, 16, 17, 18, 18, 19],\n",
              "        [ 1,  8, 13,  0,  8, 13,  5,  4, 10,  3, 10,  2, 19,  0,  1, 13, 12, 14,\n",
              "          3,  4, 15, 18,  9, 14,  0,  1,  8,  9, 12, 11, 18, 17, 16, 11, 15,  6]])"
            ]
          },
          "execution_count": 16,
          "metadata": {},
          "output_type": "execute_result"
        }
      ],
      "source": [
        "import torch\n",
        "edge_index = torch.tensor(np.array(np.nonzero(adj_matrix)), dtype=torch.long)\n",
        "edge_index"
      ]
    },
    {
      "cell_type": "code",
      "execution_count": null,
      "metadata": {
        "id": "v9iqFBTfhujB"
      },
      "outputs": [],
      "source": [
        "def get_features_for_date(df, date, tickers, feature_cols):\n",
        "    day_df = df[df['Date'] == date].set_index('Ticker')\n",
        "    day_df = day_df.reindex(tickers)\n",
        "    x = day_df[feature_cols].fillna(0).values\n",
        "    y = day_df[['Open', 'High', 'Low', 'Close', 'Volume']].fillna(0).values\n",
        "    return torch.tensor(x, dtype=torch.float), torch.tensor(y, dtype=torch.float)\n",
        "\n",
        "target_cols = ['Open', 'High', 'Low', 'Close', 'Volume']\n",
        "dates = sorted(df['Date'].unique())\n",
        "graph_snapshots = []\n",
        "tickers = sorted(df['Ticker'].unique())\n",
        "for date in dates:\n",
        "    x_t, y_t = get_features_for_date(df, date, tickers, target_cols)\n",
        "    graph_snapshots.append((x_t, y_t))"
      ]
    },
    {
      "cell_type": "code",
      "execution_count": 18,
      "metadata": {},
      "outputs": [],
      "source": [
        "# import torch\n",
        "# from torch_geometric.data import Data\n",
        "\n",
        "# def create_sliding_window_graphs(df, tickers, feature_cols, target_cols, window_size, edge_index):\n",
        "#     df = df.sort_values(['Ticker', 'Date']).reset_index(drop=True)\n",
        "#     all_dates = sorted(df['Date'].unique())\n",
        "#     graphs = []\n",
        "\n",
        "#     for current_date in all_dates[window_size:]:\n",
        "#         x_list, y_list = [], []\n",
        "\n",
        "#         for ticker in tickers:\n",
        "#             ticker_df = df[df['Ticker'] == ticker].reset_index(drop=True)\n",
        "#             date_idx = ticker_df[ticker_df['Date'] == current_date].index\n",
        "\n",
        "#             if len(date_idx) == 0 or date_idx[0] < window_size:\n",
        "#                 x = torch.zeros((window_size, len(feature_cols)))\n",
        "#                 y = torch.zeros(len(target_cols))\n",
        "#             else:\n",
        "#                 idx = date_idx[0]\n",
        "#                 window = ticker_df.iloc[idx - window_size:idx][feature_cols].values\n",
        "#                 x = torch.tensor(window, dtype=torch.float32)\n",
        "\n",
        "#                 target = ticker_df.iloc[idx][target_cols].astype(float).values\n",
        "#                 y = torch.tensor(target, dtype=torch.float32)\n",
        "\n",
        "#             x_list.append(x)\n",
        "#             y_list.append(y)\n",
        "\n",
        "#         x_tensor = torch.stack(x_list)             \n",
        "#         y_tensor = torch.stack(y_list)              \n",
        "#         graph = Data(x=x_tensor, edge_index=edge_index, y=y_tensor)\n",
        "#         graphs.append(graph)\n",
        "\n",
        "#     return graphs"
      ]
    },
    {
      "cell_type": "code",
      "execution_count": 19,
      "metadata": {},
      "outputs": [],
      "source": [
        "# target_cols = ['Open', 'High', 'Low', 'Close', 'Volume']\n",
        "# graph_snapshots = create_sliding_window_graphs(\n",
        "#     df=df,\n",
        "#     tickers=tickers,\n",
        "#     feature_cols=features,\n",
        "#     target_cols=target_cols,\n",
        "#     window_size=30,\n",
        "#     edge_index=edge_index  \n",
        "# )"
      ]
    },
    {
      "cell_type": "code",
      "execution_count": 20,
      "metadata": {
        "id": "2S8-JGc5jP8q"
      },
      "outputs": [],
      "source": [
        "from torch_geometric.data import Data\n",
        "\n",
        "graphs = []\n",
        "\n",
        "for x_t, y_t in graph_snapshots:\n",
        "    graph = Data(x=x_t, edge_index=edge_index, y=y_t)\n",
        "    graphs.append(graph)"
      ]
    },
    {
      "cell_type": "code",
      "execution_count": 21,
      "metadata": {
        "colab": {
          "base_uri": "https://localhost:8080/"
        },
        "id": "_dH0vSb4jY2b",
        "outputId": "9bcdca37-7679-4303-c666-ccd98f187865"
      },
      "outputs": [
        {
          "data": {
            "text/plain": [
              "Data(x=[20, 9], edge_index=[2, 36], y=[20, 5])"
            ]
          },
          "execution_count": 21,
          "metadata": {},
          "output_type": "execute_result"
        }
      ],
      "source": [
        "graphs[0]"
      ]
    },
    {
      "cell_type": "code",
      "execution_count": 22,
      "metadata": {
        "colab": {
          "base_uri": "https://localhost:8080/",
          "height": 424
        },
        "id": "K0lL4EwlzmLt",
        "outputId": "4e91666f-44bd-49f1-e573-c9e98651a7db"
      },
      "outputs": [
        {
          "data": {
            "text/html": [
              "<div>\n",
              "<style scoped>\n",
              "    .dataframe tbody tr th:only-of-type {\n",
              "        vertical-align: middle;\n",
              "    }\n",
              "\n",
              "    .dataframe tbody tr th {\n",
              "        vertical-align: top;\n",
              "    }\n",
              "\n",
              "    .dataframe thead th {\n",
              "        text-align: right;\n",
              "    }\n",
              "</style>\n",
              "<table border=\"1\" class=\"dataframe\">\n",
              "  <thead>\n",
              "    <tr style=\"text-align: right;\">\n",
              "      <th></th>\n",
              "      <th>Date</th>\n",
              "      <th>Ticker</th>\n",
              "      <th>Open</th>\n",
              "      <th>High</th>\n",
              "      <th>Low</th>\n",
              "      <th>Close</th>\n",
              "      <th>Volume</th>\n",
              "    </tr>\n",
              "  </thead>\n",
              "  <tbody>\n",
              "    <tr>\n",
              "      <th>0</th>\n",
              "      <td>2023-01-03</td>\n",
              "      <td>AAPL</td>\n",
              "      <td>128.782649</td>\n",
              "      <td>129.395518</td>\n",
              "      <td>122.742873</td>\n",
              "      <td>123.632530</td>\n",
              "      <td>112117500.0</td>\n",
              "    </tr>\n",
              "    <tr>\n",
              "      <th>1</th>\n",
              "      <td>2023-01-04</td>\n",
              "      <td>AAPL</td>\n",
              "      <td>125.431607</td>\n",
              "      <td>127.181268</td>\n",
              "      <td>123.642412</td>\n",
              "      <td>124.907700</td>\n",
              "      <td>89113600.0</td>\n",
              "    </tr>\n",
              "    <tr>\n",
              "      <th>2</th>\n",
              "      <td>2023-01-05</td>\n",
              "      <td>AAPL</td>\n",
              "      <td>125.668857</td>\n",
              "      <td>126.301500</td>\n",
              "      <td>123.326101</td>\n",
              "      <td>123.583107</td>\n",
              "      <td>80962700.0</td>\n",
              "    </tr>\n",
              "    <tr>\n",
              "      <th>3</th>\n",
              "      <td>2023-01-06</td>\n",
              "      <td>AAPL</td>\n",
              "      <td>124.561702</td>\n",
              "      <td>128.792501</td>\n",
              "      <td>123.454572</td>\n",
              "      <td>128.130203</td>\n",
              "      <td>87754700.0</td>\n",
              "    </tr>\n",
              "    <tr>\n",
              "      <th>4</th>\n",
              "      <td>2023-01-09</td>\n",
              "      <td>AAPL</td>\n",
              "      <td>128.970458</td>\n",
              "      <td>131.876670</td>\n",
              "      <td>128.397123</td>\n",
              "      <td>128.654129</td>\n",
              "      <td>70790800.0</td>\n",
              "    </tr>\n",
              "    <tr>\n",
              "      <th>...</th>\n",
              "      <td>...</td>\n",
              "      <td>...</td>\n",
              "      <td>...</td>\n",
              "      <td>...</td>\n",
              "      <td>...</td>\n",
              "      <td>...</td>\n",
              "      <td>...</td>\n",
              "    </tr>\n",
              "    <tr>\n",
              "      <th>1995</th>\n",
              "      <td>2023-12-22</td>\n",
              "      <td>XOM</td>\n",
              "      <td>98.058076</td>\n",
              "      <td>98.661898</td>\n",
              "      <td>97.588442</td>\n",
              "      <td>97.674706</td>\n",
              "      <td>12921800.0</td>\n",
              "    </tr>\n",
              "    <tr>\n",
              "      <th>1996</th>\n",
              "      <td>2023-12-26</td>\n",
              "      <td>XOM</td>\n",
              "      <td>98.470205</td>\n",
              "      <td>98.748153</td>\n",
              "      <td>97.875976</td>\n",
              "      <td>97.895142</td>\n",
              "      <td>16835100.0</td>\n",
              "    </tr>\n",
              "    <tr>\n",
              "      <th>1997</th>\n",
              "      <td>2023-12-27</td>\n",
              "      <td>XOM</td>\n",
              "      <td>97.799294</td>\n",
              "      <td>98.288101</td>\n",
              "      <td>97.128381</td>\n",
              "      <td>97.435089</td>\n",
              "      <td>14558800.0</td>\n",
              "    </tr>\n",
              "    <tr>\n",
              "      <th>1998</th>\n",
              "      <td>2023-12-28</td>\n",
              "      <td>XOM</td>\n",
              "      <td>97.176310</td>\n",
              "      <td>97.387168</td>\n",
              "      <td>95.968673</td>\n",
              "      <td>96.026184</td>\n",
              "      <td>16329300.0</td>\n",
              "    </tr>\n",
              "    <tr>\n",
              "      <th>1999</th>\n",
              "      <td>2023-12-29</td>\n",
              "      <td>XOM</td>\n",
              "      <td>96.198704</td>\n",
              "      <td>96.409555</td>\n",
              "      <td>95.479874</td>\n",
              "      <td>95.824913</td>\n",
              "      <td>17741400.0</td>\n",
              "    </tr>\n",
              "  </tbody>\n",
              "</table>\n",
              "<p>2000 rows × 7 columns</p>\n",
              "</div>"
            ],
            "text/plain": [
              "           Date Ticker        Open        High         Low       Close  \\\n",
              "0    2023-01-03   AAPL  128.782649  129.395518  122.742873  123.632530   \n",
              "1    2023-01-04   AAPL  125.431607  127.181268  123.642412  124.907700   \n",
              "2    2023-01-05   AAPL  125.668857  126.301500  123.326101  123.583107   \n",
              "3    2023-01-06   AAPL  124.561702  128.792501  123.454572  128.130203   \n",
              "4    2023-01-09   AAPL  128.970458  131.876670  128.397123  128.654129   \n",
              "...         ...    ...         ...         ...         ...         ...   \n",
              "1995 2023-12-22    XOM   98.058076   98.661898   97.588442   97.674706   \n",
              "1996 2023-12-26    XOM   98.470205   98.748153   97.875976   97.895142   \n",
              "1997 2023-12-27    XOM   97.799294   98.288101   97.128381   97.435089   \n",
              "1998 2023-12-28    XOM   97.176310   97.387168   95.968673   96.026184   \n",
              "1999 2023-12-29    XOM   96.198704   96.409555   95.479874   95.824913   \n",
              "\n",
              "           Volume  \n",
              "0     112117500.0  \n",
              "1      89113600.0  \n",
              "2      80962700.0  \n",
              "3      87754700.0  \n",
              "4      70790800.0  \n",
              "...           ...  \n",
              "1995   12921800.0  \n",
              "1996   16835100.0  \n",
              "1997   14558800.0  \n",
              "1998   16329300.0  \n",
              "1999   17741400.0  \n",
              "\n",
              "[2000 rows x 7 columns]"
            ]
          },
          "execution_count": 22,
          "metadata": {},
          "output_type": "execute_result"
        }
      ],
      "source": [
        "val_data = pd.read_csv('validation_stock_data.csv')\n",
        "val_data['Date'] = pd.to_datetime(val_data['Date'], format='%Y-%m-%d')\n",
        "val_data.sort_values(['Ticker', 'Date'], inplace=True)\n",
        "l = []\n",
        "val_tickers = sorted(val_data['Ticker'].unique())\n",
        "for ticker in val_tickers:\n",
        "    data = val_data[val_data[\"Ticker\"] == ticker]\n",
        "    valid_cols = []\n",
        "    for i in data.columns:\n",
        "        if data[i].isna().sum() == 0:\n",
        "            valid_cols.append(i)\n",
        "    a = data[valid_cols].values\n",
        "    for i in a:\n",
        "        l.append(i)\n",
        "df1 = pd.DataFrame(l, columns=[\"Date\", \"Ticker\", \"Open\", \"High\", \"Low\", \"Close\", \"Volume\"])\n",
        "df1"
      ]
    },
    {
      "cell_type": "code",
      "execution_count": 24,
      "metadata": {},
      "outputs": [
        {
          "data": {
            "text/html": [
              "<div>\n",
              "<style scoped>\n",
              "    .dataframe tbody tr th:only-of-type {\n",
              "        vertical-align: middle;\n",
              "    }\n",
              "\n",
              "    .dataframe tbody tr th {\n",
              "        vertical-align: top;\n",
              "    }\n",
              "\n",
              "    .dataframe thead th {\n",
              "        text-align: right;\n",
              "    }\n",
              "</style>\n",
              "<table border=\"1\" class=\"dataframe\">\n",
              "  <thead>\n",
              "    <tr style=\"text-align: right;\">\n",
              "      <th></th>\n",
              "      <th>Date</th>\n",
              "      <th>Ticker</th>\n",
              "      <th>Open</th>\n",
              "      <th>High</th>\n",
              "      <th>Low</th>\n",
              "      <th>Close</th>\n",
              "      <th>Volume</th>\n",
              "      <th>Return</th>\n",
              "      <th>Volatility</th>\n",
              "      <th>Momentum</th>\n",
              "      <th>Moving_Avg</th>\n",
              "    </tr>\n",
              "  </thead>\n",
              "  <tbody>\n",
              "    <tr>\n",
              "      <th>0</th>\n",
              "      <td>2023-01-03</td>\n",
              "      <td>AAPL</td>\n",
              "      <td>0.623278</td>\n",
              "      <td>0.612889</td>\n",
              "      <td>0.569116</td>\n",
              "      <td>0.561800</td>\n",
              "      <td>3.697717</td>\n",
              "      <td>0.000000</td>\n",
              "      <td>0.000000</td>\n",
              "      <td>0.000000</td>\n",
              "      <td>0.000000</td>\n",
              "    </tr>\n",
              "    <tr>\n",
              "      <th>1</th>\n",
              "      <td>2023-01-04</td>\n",
              "      <td>AAPL</td>\n",
              "      <td>0.583652</td>\n",
              "      <td>0.586973</td>\n",
              "      <td>0.579894</td>\n",
              "      <td>0.576898</td>\n",
              "      <td>2.801964</td>\n",
              "      <td>0.010314</td>\n",
              "      <td>0.000000</td>\n",
              "      <td>0.000000</td>\n",
              "      <td>0.000000</td>\n",
              "    </tr>\n",
              "    <tr>\n",
              "      <th>2</th>\n",
              "      <td>2023-01-05</td>\n",
              "      <td>AAPL</td>\n",
              "      <td>0.586458</td>\n",
              "      <td>0.576676</td>\n",
              "      <td>0.576104</td>\n",
              "      <td>0.561215</td>\n",
              "      <td>2.484575</td>\n",
              "      <td>-0.010605</td>\n",
              "      <td>0.000000</td>\n",
              "      <td>0.000000</td>\n",
              "      <td>0.000000</td>\n",
              "    </tr>\n",
              "    <tr>\n",
              "      <th>3</th>\n",
              "      <td>2023-01-06</td>\n",
              "      <td>AAPL</td>\n",
              "      <td>0.573366</td>\n",
              "      <td>0.605831</td>\n",
              "      <td>0.577643</td>\n",
              "      <td>0.615052</td>\n",
              "      <td>2.749050</td>\n",
              "      <td>0.036794</td>\n",
              "      <td>0.000000</td>\n",
              "      <td>0.000000</td>\n",
              "      <td>0.000000</td>\n",
              "    </tr>\n",
              "    <tr>\n",
              "      <th>4</th>\n",
              "      <td>2023-01-09</td>\n",
              "      <td>AAPL</td>\n",
              "      <td>0.625499</td>\n",
              "      <td>0.641928</td>\n",
              "      <td>0.636862</td>\n",
              "      <td>0.621256</td>\n",
              "      <td>2.088489</td>\n",
              "      <td>0.004089</td>\n",
              "      <td>0.000000</td>\n",
              "      <td>0.000000</td>\n",
              "      <td>0.000000</td>\n",
              "    </tr>\n",
              "    <tr>\n",
              "      <th>...</th>\n",
              "      <td>...</td>\n",
              "      <td>...</td>\n",
              "      <td>...</td>\n",
              "      <td>...</td>\n",
              "      <td>...</td>\n",
              "      <td>...</td>\n",
              "      <td>...</td>\n",
              "      <td>...</td>\n",
              "      <td>...</td>\n",
              "      <td>...</td>\n",
              "      <td>...</td>\n",
              "    </tr>\n",
              "    <tr>\n",
              "      <th>1995</th>\n",
              "      <td>2023-12-22</td>\n",
              "      <td>XOM</td>\n",
              "      <td>0.259961</td>\n",
              "      <td>0.253179</td>\n",
              "      <td>0.267733</td>\n",
              "      <td>0.254458</td>\n",
              "      <td>-0.164882</td>\n",
              "      <td>0.001769</td>\n",
              "      <td>0.011277</td>\n",
              "      <td>0.010010</td>\n",
              "      <td>97.892264</td>\n",
              "    </tr>\n",
              "    <tr>\n",
              "      <th>1996</th>\n",
              "      <td>2023-12-26</td>\n",
              "      <td>XOM</td>\n",
              "      <td>0.264835</td>\n",
              "      <td>0.254189</td>\n",
              "      <td>0.271178</td>\n",
              "      <td>0.257068</td>\n",
              "      <td>-0.012501</td>\n",
              "      <td>0.002257</td>\n",
              "      <td>0.011193</td>\n",
              "      <td>0.004820</td>\n",
              "      <td>97.870862</td>\n",
              "    </tr>\n",
              "    <tr>\n",
              "      <th>1997</th>\n",
              "      <td>2023-12-27</td>\n",
              "      <td>XOM</td>\n",
              "      <td>0.256901</td>\n",
              "      <td>0.248805</td>\n",
              "      <td>0.262221</td>\n",
              "      <td>0.251621</td>\n",
              "      <td>-0.101139</td>\n",
              "      <td>-0.004699</td>\n",
              "      <td>0.011037</td>\n",
              "      <td>-0.012914</td>\n",
              "      <td>97.799618</td>\n",
              "    </tr>\n",
              "    <tr>\n",
              "      <th>1998</th>\n",
              "      <td>2023-12-28</td>\n",
              "      <td>XOM</td>\n",
              "      <td>0.249535</td>\n",
              "      <td>0.238260</td>\n",
              "      <td>0.248326</td>\n",
              "      <td>0.234940</td>\n",
              "      <td>-0.032197</td>\n",
              "      <td>-0.014460</td>\n",
              "      <td>0.011282</td>\n",
              "      <td>-0.010665</td>\n",
              "      <td>97.668631</td>\n",
              "    </tr>\n",
              "    <tr>\n",
              "      <th>1999</th>\n",
              "      <td>2023-12-29</td>\n",
              "      <td>XOM</td>\n",
              "      <td>0.237974</td>\n",
              "      <td>0.226818</td>\n",
              "      <td>0.242470</td>\n",
              "      <td>0.232557</td>\n",
              "      <td>0.022789</td>\n",
              "      <td>-0.002096</td>\n",
              "      <td>0.011247</td>\n",
              "      <td>-0.017202</td>\n",
              "      <td>97.551063</td>\n",
              "    </tr>\n",
              "  </tbody>\n",
              "</table>\n",
              "<p>2000 rows × 11 columns</p>\n",
              "</div>"
            ],
            "text/plain": [
              "           Date Ticker      Open      High       Low     Close    Volume  \\\n",
              "0    2023-01-03   AAPL  0.623278  0.612889  0.569116  0.561800  3.697717   \n",
              "1    2023-01-04   AAPL  0.583652  0.586973  0.579894  0.576898  2.801964   \n",
              "2    2023-01-05   AAPL  0.586458  0.576676  0.576104  0.561215  2.484575   \n",
              "3    2023-01-06   AAPL  0.573366  0.605831  0.577643  0.615052  2.749050   \n",
              "4    2023-01-09   AAPL  0.625499  0.641928  0.636862  0.621256  2.088489   \n",
              "...         ...    ...       ...       ...       ...       ...       ...   \n",
              "1995 2023-12-22    XOM  0.259961  0.253179  0.267733  0.254458 -0.164882   \n",
              "1996 2023-12-26    XOM  0.264835  0.254189  0.271178  0.257068 -0.012501   \n",
              "1997 2023-12-27    XOM  0.256901  0.248805  0.262221  0.251621 -0.101139   \n",
              "1998 2023-12-28    XOM  0.249535  0.238260  0.248326  0.234940 -0.032197   \n",
              "1999 2023-12-29    XOM  0.237974  0.226818  0.242470  0.232557  0.022789   \n",
              "\n",
              "        Return  Volatility  Momentum  Moving_Avg  \n",
              "0     0.000000    0.000000  0.000000    0.000000  \n",
              "1     0.010314    0.000000  0.000000    0.000000  \n",
              "2    -0.010605    0.000000  0.000000    0.000000  \n",
              "3     0.036794    0.000000  0.000000    0.000000  \n",
              "4     0.004089    0.000000  0.000000    0.000000  \n",
              "...        ...         ...       ...         ...  \n",
              "1995  0.001769    0.011277  0.010010   97.892264  \n",
              "1996  0.002257    0.011193  0.004820   97.870862  \n",
              "1997 -0.004699    0.011037 -0.012914   97.799618  \n",
              "1998 -0.014460    0.011282 -0.010665   97.668631  \n",
              "1999 -0.002096    0.011247 -0.017202   97.551063  \n",
              "\n",
              "[2000 rows x 11 columns]"
            ]
          },
          "execution_count": 24,
          "metadata": {},
          "output_type": "execute_result"
        }
      ],
      "source": [
        "df2 = df1[feature_cols].copy()\n",
        "df1[feature_cols] = scaler.transform(df1[feature_cols])\n",
        "df1[\"Volume\"] = scaler1.transform(df1[[\"Volume\"]])\n",
        "df1"
      ]
    },
    {
      "cell_type": "code",
      "execution_count": null,
      "metadata": {
        "id": "ZDKSFDdZ0JKv"
      },
      "outputs": [],
      "source": [
        "dates = sorted(df1['Date'].unique())\n",
        "val_graph_snapshots = []\n",
        "\n",
        "for date in dates:\n",
        "    x_t, y_t = get_features_for_date(df1, date, tickers, target_cols)\n",
        "    val_graph_snapshots.append((x_t, y_t))"
      ]
    },
    {
      "cell_type": "code",
      "execution_count": 26,
      "metadata": {
        "colab": {
          "base_uri": "https://localhost:8080/"
        },
        "id": "Hsa3ba474JQ6",
        "outputId": "6b7db516-bca2-47af-c88d-89d04ab83b65"
      },
      "outputs": [],
      "source": [
        "# val_graph_snapshots = create_sliding_window_graphs(\n",
        "#     df=df1,\n",
        "#     tickers=tickers,\n",
        "#     feature_cols=features,\n",
        "#     target_cols=target_cols,\n",
        "#     window_size=30,\n",
        "#     edge_index=edge_index  \n",
        "# )\n",
        "# val_graph_snapshots[0]"
      ]
    },
    {
      "cell_type": "code",
      "execution_count": 27,
      "metadata": {
        "colab": {
          "base_uri": "https://localhost:8080/"
        },
        "id": "71Pj7aqh0ef8",
        "outputId": "c78fcd07-0c00-4cc0-dd08-4747a3532a81"
      },
      "outputs": [
        {
          "data": {
            "text/plain": [
              "Data(x=[20, 9], edge_index=[2, 36], y=[20, 5])"
            ]
          },
          "execution_count": 27,
          "metadata": {},
          "output_type": "execute_result"
        }
      ],
      "source": [
        "val_graphs = []\n",
        "\n",
        "for x_t, y_t in val_graph_snapshots:\n",
        "    graph = Data(x=x_t, edge_index=edge_index, y=y_t)\n",
        "    val_graphs.append(graph)\n",
        "val_graphs[0]"
      ]
    },
    {
      "cell_type": "code",
      "execution_count": 28,
      "metadata": {
        "id": "PntA7o4V1GRx"
      },
      "outputs": [],
      "source": [
        "from torch_geometric.nn import GATConv\n",
        "import torch.nn as nn\n",
        "import torch.nn.functional as F\n",
        "\n",
        "class StockGAT(nn.Module):\n",
        "    def __init__(self, in_channels, hidden_channels, out_channels=5, heads=32, dropout=0.3):\n",
        "        super().__init__()\n",
        "        self.gat1 = GATConv(in_channels, hidden_channels, heads=heads, dropout=dropout)\n",
        "        self.norm1 = nn.LayerNorm(hidden_channels * heads)\n",
        "\n",
        "        self.gat2 = GATConv(hidden_channels * heads, hidden_channels, heads=heads, dropout=dropout)\n",
        "        self.norm2 = nn.LayerNorm(hidden_channels * heads)\n",
        "\n",
        "        self.gat3 = GATConv(hidden_channels * heads, hidden_channels, heads=1)\n",
        "        self.norm3 = nn.LayerNorm(hidden_channels)\n",
        "\n",
        "        self.regressor = nn.Sequential(\n",
        "            nn.Linear(hidden_channels, hidden_channels // 2),\n",
        "            nn.ReLU(),\n",
        "            nn.Dropout(dropout),\n",
        "            nn.Linear(hidden_channels // 2, out_channels)\n",
        "        )\n",
        "        self.scale_factor = nn.Parameter(torch.ones(out_channels))\n",
        "        self.scale_bias = nn.Parameter(torch.zeros(out_channels))\n",
        "\n",
        "\n",
        "    def forward(self, x, edge_index):\n",
        "        x = F.elu(self.gat1(x, edge_index))\n",
        "        x = self.norm1(x)\n",
        "\n",
        "        x = F.elu(self.gat2(x, edge_index))\n",
        "        x = self.norm2(x)\n",
        "\n",
        "        x = F.elu(self.gat3(x, edge_index))\n",
        "        x = self.norm3(x)\n",
        "\n",
        "        out = self.regressor(x)\n",
        "        return out * self.scale_factor + self.scale_bias"
      ]
    },
    {
      "cell_type": "code",
      "execution_count": 32,
      "metadata": {
        "id": "g1dKmAdd1k0i"
      },
      "outputs": [],
      "source": [
        "# model = HybridTemporalGAT(\n",
        "#     input_dim=len(features),\n",
        "#     lstm_hidden=32,\n",
        "#     gat_hidden=32,\n",
        "#     out_channels=len(target_cols),\n",
        "#     heads=16,\n",
        "#     dropout=0.3,\n",
        "#     window_size=30\n",
        "# )\n",
        "\n",
        "model = StockGAT(\n",
        "    in_channels=len(features),\n",
        "    hidden_channels=128,\n",
        "    out_channels=5,\n",
        "    heads=32,\n",
        "    dropout=0.3\n",
        ")\n",
        "optimizer = torch.optim.Adam(model.parameters(), lr=0.0001, weight_decay=5e-4)\n",
        "loss_fn = torch.nn.MSELoss()\n",
        "scheduler = torch.optim.lr_scheduler.ReduceLROnPlateau(optimizer, mode='min', factor=0.5, patience=5, min_lr=1e-5)"
      ]
    },
    {
      "cell_type": "code",
      "execution_count": 33,
      "metadata": {
        "id": "TqjHi_Qv1n_0"
      },
      "outputs": [],
      "source": [
        "from torch_geometric.loader import DataLoader\n",
        "\n",
        "train_loader = DataLoader(graphs, batch_size=64, shuffle=True)\n",
        "val_loader = DataLoader(val_graphs, batch_size=64, shuffle=False)"
      ]
    },
    {
      "cell_type": "code",
      "execution_count": 34,
      "metadata": {
        "colab": {
          "base_uri": "https://localhost:8080/",
          "height": 841
        },
        "id": "eYYACw-22ccM",
        "outputId": "a30c3059-b562-4dc9-cc50-e87ebaea2913"
      },
      "outputs": [
        {
          "name": "stderr",
          "output_type": "stream",
          "text": [
            "[Epoch 1] Training:   0%|          | 0/16 [00:00<?, ?it/s]"
          ]
        },
        {
          "name": "stderr",
          "output_type": "stream",
          "text": [
            "                                                                   \r"
          ]
        },
        {
          "name": "stdout",
          "output_type": "stream",
          "text": [
            "Epoch 1 | Train Loss: 0.8133 | Val Loss: 0.2777\n"
          ]
        },
        {
          "name": "stderr",
          "output_type": "stream",
          "text": [
            "                                                                   \r"
          ]
        },
        {
          "name": "stdout",
          "output_type": "stream",
          "text": [
            "Epoch 2 | Train Loss: 0.7488 | Val Loss: 0.2744\n"
          ]
        },
        {
          "name": "stderr",
          "output_type": "stream",
          "text": [
            "                                                                   \r"
          ]
        },
        {
          "name": "stdout",
          "output_type": "stream",
          "text": [
            "Epoch 3 | Train Loss: 0.6663 | Val Loss: 0.3065\n"
          ]
        },
        {
          "name": "stderr",
          "output_type": "stream",
          "text": [
            "                                                                   \r"
          ]
        },
        {
          "name": "stdout",
          "output_type": "stream",
          "text": [
            "Epoch 4 | Train Loss: 0.5813 | Val Loss: 0.3372\n"
          ]
        },
        {
          "name": "stderr",
          "output_type": "stream",
          "text": [
            "                                                                   \r"
          ]
        },
        {
          "name": "stdout",
          "output_type": "stream",
          "text": [
            "Epoch 5 | Train Loss: 0.5272 | Val Loss: 0.3188\n"
          ]
        },
        {
          "name": "stderr",
          "output_type": "stream",
          "text": [
            "                                                                   \r"
          ]
        },
        {
          "name": "stdout",
          "output_type": "stream",
          "text": [
            "Epoch 6 | Train Loss: 0.5048 | Val Loss: 0.3398\n"
          ]
        },
        {
          "name": "stderr",
          "output_type": "stream",
          "text": [
            "                                                                   \r"
          ]
        },
        {
          "name": "stdout",
          "output_type": "stream",
          "text": [
            "Epoch 7 | Train Loss: 0.4642 | Val Loss: 0.3410\n"
          ]
        },
        {
          "name": "stderr",
          "output_type": "stream",
          "text": [
            "                                                                   \r"
          ]
        },
        {
          "name": "stdout",
          "output_type": "stream",
          "text": [
            "Epoch 8 | Train Loss: 0.4410 | Val Loss: 0.3617\n"
          ]
        },
        {
          "name": "stderr",
          "output_type": "stream",
          "text": [
            "                                                                   \r"
          ]
        },
        {
          "name": "stdout",
          "output_type": "stream",
          "text": [
            "Epoch 9 | Train Loss: 0.4275 | Val Loss: 0.3545\n"
          ]
        },
        {
          "name": "stderr",
          "output_type": "stream",
          "text": [
            "                                                                    \r"
          ]
        },
        {
          "name": "stdout",
          "output_type": "stream",
          "text": [
            "Epoch 10 | Train Loss: 0.4126 | Val Loss: 0.3508\n"
          ]
        },
        {
          "name": "stderr",
          "output_type": "stream",
          "text": [
            "                                                                    \r"
          ]
        },
        {
          "name": "stdout",
          "output_type": "stream",
          "text": [
            "Epoch 11 | Train Loss: 0.4091 | Val Loss: 0.3569\n"
          ]
        },
        {
          "name": "stderr",
          "output_type": "stream",
          "text": [
            "                                                                    \r"
          ]
        },
        {
          "name": "stdout",
          "output_type": "stream",
          "text": [
            "Epoch 12 | Train Loss: 0.4032 | Val Loss: 0.3594\n"
          ]
        },
        {
          "name": "stderr",
          "output_type": "stream",
          "text": [
            "                                                                    \r"
          ]
        },
        {
          "name": "stdout",
          "output_type": "stream",
          "text": [
            "Epoch 13 | Train Loss: 0.3996 | Val Loss: 0.3631\n"
          ]
        },
        {
          "name": "stderr",
          "output_type": "stream",
          "text": [
            "                                                                    \r"
          ]
        },
        {
          "name": "stdout",
          "output_type": "stream",
          "text": [
            "Epoch 14 | Train Loss: 0.3981 | Val Loss: 0.3779\n"
          ]
        },
        {
          "name": "stderr",
          "output_type": "stream",
          "text": [
            "                                                                    \r"
          ]
        },
        {
          "name": "stdout",
          "output_type": "stream",
          "text": [
            "Epoch 15 | Train Loss: 0.3982 | Val Loss: 0.3634\n"
          ]
        },
        {
          "name": "stderr",
          "output_type": "stream",
          "text": [
            "                                                                    \r"
          ]
        },
        {
          "name": "stdout",
          "output_type": "stream",
          "text": [
            "Epoch 16 | Train Loss: 0.3955 | Val Loss: 0.3610\n"
          ]
        },
        {
          "name": "stderr",
          "output_type": "stream",
          "text": [
            "                                                                    \r"
          ]
        },
        {
          "name": "stdout",
          "output_type": "stream",
          "text": [
            "Epoch 17 | Train Loss: 0.3938 | Val Loss: 0.3678\n"
          ]
        },
        {
          "name": "stderr",
          "output_type": "stream",
          "text": [
            "                                                                    \r"
          ]
        },
        {
          "name": "stdout",
          "output_type": "stream",
          "text": [
            "Epoch 18 | Train Loss: 0.3943 | Val Loss: 0.3759\n"
          ]
        },
        {
          "name": "stderr",
          "output_type": "stream",
          "text": [
            "                                                                    \r"
          ]
        },
        {
          "name": "stdout",
          "output_type": "stream",
          "text": [
            "Epoch 19 | Train Loss: 0.3893 | Val Loss: 0.3697\n"
          ]
        },
        {
          "name": "stderr",
          "output_type": "stream",
          "text": [
            "                                                                    \r"
          ]
        },
        {
          "name": "stdout",
          "output_type": "stream",
          "text": [
            "Epoch 20 | Train Loss: 0.3897 | Val Loss: 0.3775\n"
          ]
        },
        {
          "name": "stderr",
          "output_type": "stream",
          "text": [
            "                                                                    \r"
          ]
        },
        {
          "name": "stdout",
          "output_type": "stream",
          "text": [
            "Epoch 21 | Train Loss: 0.3873 | Val Loss: 0.3759\n"
          ]
        },
        {
          "name": "stderr",
          "output_type": "stream",
          "text": [
            "                                                                    \r"
          ]
        },
        {
          "name": "stdout",
          "output_type": "stream",
          "text": [
            "Epoch 22 | Train Loss: 0.3898 | Val Loss: 0.3833\n"
          ]
        },
        {
          "name": "stderr",
          "output_type": "stream",
          "text": [
            "                                                                    \r"
          ]
        },
        {
          "name": "stdout",
          "output_type": "stream",
          "text": [
            "Epoch 23 | Train Loss: 0.3886 | Val Loss: 0.3809\n"
          ]
        },
        {
          "name": "stderr",
          "output_type": "stream",
          "text": [
            "                                                                    \r"
          ]
        },
        {
          "name": "stdout",
          "output_type": "stream",
          "text": [
            "Epoch 24 | Train Loss: 0.3903 | Val Loss: 0.3864\n"
          ]
        },
        {
          "name": "stderr",
          "output_type": "stream",
          "text": [
            "                                                                    \r"
          ]
        },
        {
          "name": "stdout",
          "output_type": "stream",
          "text": [
            "Epoch 25 | Train Loss: 0.3869 | Val Loss: 0.3798\n"
          ]
        },
        {
          "name": "stderr",
          "output_type": "stream",
          "text": [
            "                                                                    \r"
          ]
        },
        {
          "name": "stdout",
          "output_type": "stream",
          "text": [
            "Epoch 26 | Train Loss: 0.3876 | Val Loss: 0.3801\n"
          ]
        },
        {
          "name": "stderr",
          "output_type": "stream",
          "text": [
            "                                                                    \r"
          ]
        },
        {
          "name": "stdout",
          "output_type": "stream",
          "text": [
            "Epoch 27 | Train Loss: 0.3862 | Val Loss: 0.3790\n"
          ]
        },
        {
          "name": "stderr",
          "output_type": "stream",
          "text": [
            "                                                                    \r"
          ]
        },
        {
          "name": "stdout",
          "output_type": "stream",
          "text": [
            "Epoch 28 | Train Loss: 0.3862 | Val Loss: 0.3819\n"
          ]
        },
        {
          "name": "stderr",
          "output_type": "stream",
          "text": [
            "                                                                    \r"
          ]
        },
        {
          "name": "stdout",
          "output_type": "stream",
          "text": [
            "Epoch 29 | Train Loss: 0.3854 | Val Loss: 0.3835\n"
          ]
        },
        {
          "name": "stderr",
          "output_type": "stream",
          "text": [
            "                                                                    \r"
          ]
        },
        {
          "name": "stdout",
          "output_type": "stream",
          "text": [
            "Epoch 30 | Train Loss: 0.3845 | Val Loss: 0.3796\n"
          ]
        },
        {
          "name": "stderr",
          "output_type": "stream",
          "text": [
            "                                                                    \r"
          ]
        },
        {
          "name": "stdout",
          "output_type": "stream",
          "text": [
            "Epoch 31 | Train Loss: 0.3855 | Val Loss: 0.3816\n"
          ]
        },
        {
          "name": "stderr",
          "output_type": "stream",
          "text": [
            "                                                                    \r"
          ]
        },
        {
          "name": "stdout",
          "output_type": "stream",
          "text": [
            "Epoch 32 | Train Loss: 0.3851 | Val Loss: 0.3855\n"
          ]
        },
        {
          "name": "stderr",
          "output_type": "stream",
          "text": [
            "                                                                    \r"
          ]
        },
        {
          "name": "stdout",
          "output_type": "stream",
          "text": [
            "Epoch 33 | Train Loss: 0.3852 | Val Loss: 0.3825\n"
          ]
        },
        {
          "name": "stderr",
          "output_type": "stream",
          "text": [
            "                                                                    \r"
          ]
        },
        {
          "name": "stdout",
          "output_type": "stream",
          "text": [
            "Epoch 34 | Train Loss: 0.3855 | Val Loss: 0.3808\n"
          ]
        },
        {
          "name": "stderr",
          "output_type": "stream",
          "text": [
            "                                                                    \r"
          ]
        },
        {
          "name": "stdout",
          "output_type": "stream",
          "text": [
            "Epoch 35 | Train Loss: 0.3836 | Val Loss: 0.3805\n"
          ]
        },
        {
          "name": "stderr",
          "output_type": "stream",
          "text": [
            "                                                                    \r"
          ]
        },
        {
          "name": "stdout",
          "output_type": "stream",
          "text": [
            "Epoch 36 | Train Loss: 0.3851 | Val Loss: 0.3828\n"
          ]
        },
        {
          "name": "stderr",
          "output_type": "stream",
          "text": [
            "                                                                    \r"
          ]
        },
        {
          "name": "stdout",
          "output_type": "stream",
          "text": [
            "Epoch 37 | Train Loss: 0.3830 | Val Loss: 0.3908\n"
          ]
        },
        {
          "name": "stderr",
          "output_type": "stream",
          "text": [
            "                                                                    \r"
          ]
        },
        {
          "name": "stdout",
          "output_type": "stream",
          "text": [
            "Epoch 38 | Train Loss: 0.3812 | Val Loss: 0.3906\n"
          ]
        },
        {
          "name": "stderr",
          "output_type": "stream",
          "text": [
            "                                                                    \r"
          ]
        },
        {
          "name": "stdout",
          "output_type": "stream",
          "text": [
            "Epoch 39 | Train Loss: 0.3836 | Val Loss: 0.3844\n"
          ]
        },
        {
          "name": "stderr",
          "output_type": "stream",
          "text": [
            "                                                                    \r"
          ]
        },
        {
          "name": "stdout",
          "output_type": "stream",
          "text": [
            "Epoch 40 | Train Loss: 0.3808 | Val Loss: 0.3852\n"
          ]
        },
        {
          "name": "stderr",
          "output_type": "stream",
          "text": [
            "                                                                    \r"
          ]
        },
        {
          "name": "stdout",
          "output_type": "stream",
          "text": [
            "Epoch 41 | Train Loss: 0.3815 | Val Loss: 0.3885\n"
          ]
        },
        {
          "name": "stderr",
          "output_type": "stream",
          "text": [
            "                                                                    \r"
          ]
        },
        {
          "name": "stdout",
          "output_type": "stream",
          "text": [
            "Epoch 42 | Train Loss: 0.3822 | Val Loss: 0.3899\n"
          ]
        },
        {
          "name": "stderr",
          "output_type": "stream",
          "text": [
            "                                                                    \r"
          ]
        },
        {
          "name": "stdout",
          "output_type": "stream",
          "text": [
            "Epoch 43 | Train Loss: 0.3796 | Val Loss: 0.3929\n"
          ]
        },
        {
          "name": "stderr",
          "output_type": "stream",
          "text": [
            "                                                                    \r"
          ]
        },
        {
          "name": "stdout",
          "output_type": "stream",
          "text": [
            "Epoch 44 | Train Loss: 0.3804 | Val Loss: 0.3874\n"
          ]
        },
        {
          "name": "stderr",
          "output_type": "stream",
          "text": [
            "                                                                    \r"
          ]
        },
        {
          "name": "stdout",
          "output_type": "stream",
          "text": [
            "Epoch 45 | Train Loss: 0.3793 | Val Loss: 0.3936\n"
          ]
        },
        {
          "name": "stderr",
          "output_type": "stream",
          "text": [
            "                                                                    \r"
          ]
        },
        {
          "name": "stdout",
          "output_type": "stream",
          "text": [
            "Epoch 46 | Train Loss: 0.3806 | Val Loss: 0.3914\n"
          ]
        },
        {
          "name": "stderr",
          "output_type": "stream",
          "text": [
            "                                                                    \r"
          ]
        },
        {
          "name": "stdout",
          "output_type": "stream",
          "text": [
            "Epoch 47 | Train Loss: 0.3806 | Val Loss: 0.3902\n"
          ]
        },
        {
          "name": "stderr",
          "output_type": "stream",
          "text": [
            "                                                                    \r"
          ]
        },
        {
          "name": "stdout",
          "output_type": "stream",
          "text": [
            "Epoch 48 | Train Loss: 0.3791 | Val Loss: 0.3909\n"
          ]
        },
        {
          "name": "stderr",
          "output_type": "stream",
          "text": [
            "                                                                    \r"
          ]
        },
        {
          "name": "stdout",
          "output_type": "stream",
          "text": [
            "Epoch 49 | Train Loss: 0.3812 | Val Loss: 0.3940\n"
          ]
        },
        {
          "name": "stderr",
          "output_type": "stream",
          "text": [
            "                                                                    \r"
          ]
        },
        {
          "name": "stdout",
          "output_type": "stream",
          "text": [
            "Epoch 50 | Train Loss: 0.3811 | Val Loss: 0.3853\n"
          ]
        },
        {
          "name": "stderr",
          "output_type": "stream",
          "text": [
            "                                                                    \r"
          ]
        },
        {
          "name": "stdout",
          "output_type": "stream",
          "text": [
            "Epoch 51 | Train Loss: 0.3774 | Val Loss: 0.3993\n"
          ]
        },
        {
          "name": "stderr",
          "output_type": "stream",
          "text": [
            "                                                                    \r"
          ]
        },
        {
          "name": "stdout",
          "output_type": "stream",
          "text": [
            "Epoch 52 | Train Loss: 0.3796 | Val Loss: 0.3992\n"
          ]
        },
        {
          "name": "stderr",
          "output_type": "stream",
          "text": [
            "                                                                    \r"
          ]
        },
        {
          "name": "stdout",
          "output_type": "stream",
          "text": [
            "Epoch 53 | Train Loss: 0.3767 | Val Loss: 0.3952\n"
          ]
        },
        {
          "name": "stderr",
          "output_type": "stream",
          "text": [
            "                                                                    \r"
          ]
        },
        {
          "name": "stdout",
          "output_type": "stream",
          "text": [
            "Epoch 54 | Train Loss: 0.3762 | Val Loss: 0.3966\n"
          ]
        },
        {
          "name": "stderr",
          "output_type": "stream",
          "text": [
            "                                                                    \r"
          ]
        },
        {
          "name": "stdout",
          "output_type": "stream",
          "text": [
            "Epoch 55 | Train Loss: 0.3783 | Val Loss: 0.3959\n"
          ]
        },
        {
          "name": "stderr",
          "output_type": "stream",
          "text": [
            "                                                                    \r"
          ]
        },
        {
          "name": "stdout",
          "output_type": "stream",
          "text": [
            "Epoch 56 | Train Loss: 0.3800 | Val Loss: 0.3993\n"
          ]
        },
        {
          "name": "stderr",
          "output_type": "stream",
          "text": [
            "                                                                    \r"
          ]
        },
        {
          "name": "stdout",
          "output_type": "stream",
          "text": [
            "Epoch 57 | Train Loss: 0.3745 | Val Loss: 0.3982\n"
          ]
        },
        {
          "name": "stderr",
          "output_type": "stream",
          "text": [
            "                                                                    \r"
          ]
        },
        {
          "name": "stdout",
          "output_type": "stream",
          "text": [
            "Epoch 58 | Train Loss: 0.3764 | Val Loss: 0.4008\n"
          ]
        },
        {
          "name": "stderr",
          "output_type": "stream",
          "text": [
            "                                                                    \r"
          ]
        },
        {
          "name": "stdout",
          "output_type": "stream",
          "text": [
            "Epoch 59 | Train Loss: 0.3762 | Val Loss: 0.4054\n"
          ]
        },
        {
          "name": "stderr",
          "output_type": "stream",
          "text": [
            "                                                                    \r"
          ]
        },
        {
          "name": "stdout",
          "output_type": "stream",
          "text": [
            "Epoch 60 | Train Loss: 0.3752 | Val Loss: 0.4022\n"
          ]
        },
        {
          "name": "stderr",
          "output_type": "stream",
          "text": [
            "                                                                    \r"
          ]
        },
        {
          "name": "stdout",
          "output_type": "stream",
          "text": [
            "Epoch 61 | Train Loss: 0.3758 | Val Loss: 0.3975\n"
          ]
        },
        {
          "name": "stderr",
          "output_type": "stream",
          "text": [
            "                                                                    \r"
          ]
        },
        {
          "name": "stdout",
          "output_type": "stream",
          "text": [
            "Epoch 62 | Train Loss: 0.3734 | Val Loss: 0.4040\n"
          ]
        },
        {
          "name": "stderr",
          "output_type": "stream",
          "text": [
            "                                                                    \r"
          ]
        },
        {
          "name": "stdout",
          "output_type": "stream",
          "text": [
            "Epoch 63 | Train Loss: 0.3743 | Val Loss: 0.4089\n"
          ]
        },
        {
          "name": "stderr",
          "output_type": "stream",
          "text": [
            "                                                                    \r"
          ]
        },
        {
          "name": "stdout",
          "output_type": "stream",
          "text": [
            "Epoch 64 | Train Loss: 0.3754 | Val Loss: 0.4096\n"
          ]
        },
        {
          "name": "stderr",
          "output_type": "stream",
          "text": [
            "                                                                    \r"
          ]
        },
        {
          "name": "stdout",
          "output_type": "stream",
          "text": [
            "Epoch 65 | Train Loss: 0.3747 | Val Loss: 0.4091\n"
          ]
        },
        {
          "name": "stderr",
          "output_type": "stream",
          "text": [
            "                                                                    \r"
          ]
        },
        {
          "name": "stdout",
          "output_type": "stream",
          "text": [
            "Epoch 66 | Train Loss: 0.3758 | Val Loss: 0.4077\n"
          ]
        },
        {
          "name": "stderr",
          "output_type": "stream",
          "text": [
            "                                                                    \r"
          ]
        },
        {
          "name": "stdout",
          "output_type": "stream",
          "text": [
            "Epoch 67 | Train Loss: 0.3740 | Val Loss: 0.4092\n"
          ]
        },
        {
          "name": "stderr",
          "output_type": "stream",
          "text": [
            "                                                                    \r"
          ]
        },
        {
          "name": "stdout",
          "output_type": "stream",
          "text": [
            "Epoch 68 | Train Loss: 0.3752 | Val Loss: 0.4153\n"
          ]
        },
        {
          "name": "stderr",
          "output_type": "stream",
          "text": [
            "                                                                    \r"
          ]
        },
        {
          "name": "stdout",
          "output_type": "stream",
          "text": [
            "Epoch 69 | Train Loss: 0.3751 | Val Loss: 0.4190\n"
          ]
        },
        {
          "name": "stderr",
          "output_type": "stream",
          "text": [
            "                                                                    \r"
          ]
        },
        {
          "name": "stdout",
          "output_type": "stream",
          "text": [
            "Epoch 70 | Train Loss: 0.3749 | Val Loss: 0.4121\n"
          ]
        },
        {
          "name": "stderr",
          "output_type": "stream",
          "text": [
            "                                                                    \r"
          ]
        },
        {
          "name": "stdout",
          "output_type": "stream",
          "text": [
            "Epoch 71 | Train Loss: 0.3732 | Val Loss: 0.4100\n"
          ]
        },
        {
          "name": "stderr",
          "output_type": "stream",
          "text": [
            "                                                                    \r"
          ]
        },
        {
          "name": "stdout",
          "output_type": "stream",
          "text": [
            "Epoch 72 | Train Loss: 0.3746 | Val Loss: 0.4159\n"
          ]
        },
        {
          "name": "stderr",
          "output_type": "stream",
          "text": [
            "                                                                    \r"
          ]
        },
        {
          "name": "stdout",
          "output_type": "stream",
          "text": [
            "Epoch 73 | Train Loss: 0.3763 | Val Loss: 0.4116\n"
          ]
        },
        {
          "name": "stderr",
          "output_type": "stream",
          "text": [
            "                                                                    \r"
          ]
        },
        {
          "name": "stdout",
          "output_type": "stream",
          "text": [
            "Epoch 74 | Train Loss: 0.3753 | Val Loss: 0.4168\n"
          ]
        },
        {
          "name": "stderr",
          "output_type": "stream",
          "text": [
            "                                                                    \r"
          ]
        },
        {
          "name": "stdout",
          "output_type": "stream",
          "text": [
            "Epoch 75 | Train Loss: 0.3715 | Val Loss: 0.4049\n"
          ]
        },
        {
          "name": "stderr",
          "output_type": "stream",
          "text": [
            "                                                                    \r"
          ]
        },
        {
          "name": "stdout",
          "output_type": "stream",
          "text": [
            "Epoch 76 | Train Loss: 0.3752 | Val Loss: 0.4120\n"
          ]
        },
        {
          "name": "stderr",
          "output_type": "stream",
          "text": [
            "                                                                    \r"
          ]
        },
        {
          "name": "stdout",
          "output_type": "stream",
          "text": [
            "Epoch 77 | Train Loss: 0.3701 | Val Loss: 0.4164\n"
          ]
        },
        {
          "name": "stderr",
          "output_type": "stream",
          "text": [
            "                                                                    \r"
          ]
        },
        {
          "name": "stdout",
          "output_type": "stream",
          "text": [
            "Epoch 78 | Train Loss: 0.3753 | Val Loss: 0.4128\n"
          ]
        },
        {
          "name": "stderr",
          "output_type": "stream",
          "text": [
            "                                                                    \r"
          ]
        },
        {
          "name": "stdout",
          "output_type": "stream",
          "text": [
            "Epoch 79 | Train Loss: 0.3701 | Val Loss: 0.4136\n"
          ]
        },
        {
          "name": "stderr",
          "output_type": "stream",
          "text": [
            "                                                                    \r"
          ]
        },
        {
          "name": "stdout",
          "output_type": "stream",
          "text": [
            "Epoch 80 | Train Loss: 0.3728 | Val Loss: 0.4187\n"
          ]
        },
        {
          "name": "stderr",
          "output_type": "stream",
          "text": [
            "                                                                    \r"
          ]
        },
        {
          "name": "stdout",
          "output_type": "stream",
          "text": [
            "Epoch 81 | Train Loss: 0.3734 | Val Loss: 0.4196\n"
          ]
        },
        {
          "name": "stderr",
          "output_type": "stream",
          "text": [
            "                                                                    \r"
          ]
        },
        {
          "name": "stdout",
          "output_type": "stream",
          "text": [
            "Epoch 82 | Train Loss: 0.3739 | Val Loss: 0.4214\n"
          ]
        },
        {
          "name": "stderr",
          "output_type": "stream",
          "text": [
            "                                                                    \r"
          ]
        },
        {
          "name": "stdout",
          "output_type": "stream",
          "text": [
            "Epoch 83 | Train Loss: 0.3722 | Val Loss: 0.4324\n"
          ]
        },
        {
          "name": "stderr",
          "output_type": "stream",
          "text": [
            "                                                                    \r"
          ]
        },
        {
          "name": "stdout",
          "output_type": "stream",
          "text": [
            "Epoch 84 | Train Loss: 0.3741 | Val Loss: 0.4207\n"
          ]
        },
        {
          "name": "stderr",
          "output_type": "stream",
          "text": [
            "                                                                    \r"
          ]
        },
        {
          "name": "stdout",
          "output_type": "stream",
          "text": [
            "Epoch 85 | Train Loss: 0.3736 | Val Loss: 0.4195\n"
          ]
        },
        {
          "name": "stderr",
          "output_type": "stream",
          "text": [
            "                                                                    \r"
          ]
        },
        {
          "name": "stdout",
          "output_type": "stream",
          "text": [
            "Epoch 86 | Train Loss: 0.3717 | Val Loss: 0.4274\n"
          ]
        },
        {
          "name": "stderr",
          "output_type": "stream",
          "text": [
            "                                                                    \r"
          ]
        },
        {
          "name": "stdout",
          "output_type": "stream",
          "text": [
            "Epoch 87 | Train Loss: 0.3714 | Val Loss: 0.4178\n"
          ]
        },
        {
          "name": "stderr",
          "output_type": "stream",
          "text": [
            "                                                                    \r"
          ]
        },
        {
          "name": "stdout",
          "output_type": "stream",
          "text": [
            "Epoch 88 | Train Loss: 0.3710 | Val Loss: 0.4227\n"
          ]
        },
        {
          "name": "stderr",
          "output_type": "stream",
          "text": [
            "                                                                    \r"
          ]
        },
        {
          "name": "stdout",
          "output_type": "stream",
          "text": [
            "Epoch 89 | Train Loss: 0.3709 | Val Loss: 0.4149\n"
          ]
        },
        {
          "name": "stderr",
          "output_type": "stream",
          "text": [
            "                                                                    \r"
          ]
        },
        {
          "name": "stdout",
          "output_type": "stream",
          "text": [
            "Epoch 90 | Train Loss: 0.3715 | Val Loss: 0.4280\n"
          ]
        },
        {
          "name": "stderr",
          "output_type": "stream",
          "text": [
            "                                                                    \r"
          ]
        },
        {
          "name": "stdout",
          "output_type": "stream",
          "text": [
            "Epoch 91 | Train Loss: 0.3694 | Val Loss: 0.4307\n"
          ]
        },
        {
          "name": "stderr",
          "output_type": "stream",
          "text": [
            "                                                                    \r"
          ]
        },
        {
          "name": "stdout",
          "output_type": "stream",
          "text": [
            "Epoch 92 | Train Loss: 0.3716 | Val Loss: 0.4208\n"
          ]
        },
        {
          "name": "stderr",
          "output_type": "stream",
          "text": [
            "                                                                    \r"
          ]
        },
        {
          "name": "stdout",
          "output_type": "stream",
          "text": [
            "Epoch 93 | Train Loss: 0.3702 | Val Loss: 0.4309\n"
          ]
        },
        {
          "name": "stderr",
          "output_type": "stream",
          "text": [
            "                                                                    \r"
          ]
        },
        {
          "name": "stdout",
          "output_type": "stream",
          "text": [
            "Epoch 94 | Train Loss: 0.3719 | Val Loss: 0.4211\n"
          ]
        },
        {
          "name": "stderr",
          "output_type": "stream",
          "text": [
            "                                                                    \r"
          ]
        },
        {
          "name": "stdout",
          "output_type": "stream",
          "text": [
            "Epoch 95 | Train Loss: 0.3733 | Val Loss: 0.4312\n"
          ]
        },
        {
          "name": "stderr",
          "output_type": "stream",
          "text": [
            "                                                                    \r"
          ]
        },
        {
          "name": "stdout",
          "output_type": "stream",
          "text": [
            "Epoch 96 | Train Loss: 0.3707 | Val Loss: 0.4323\n"
          ]
        },
        {
          "name": "stderr",
          "output_type": "stream",
          "text": [
            "                                                                    \r"
          ]
        },
        {
          "name": "stdout",
          "output_type": "stream",
          "text": [
            "Epoch 97 | Train Loss: 0.3725 | Val Loss: 0.4328\n"
          ]
        },
        {
          "name": "stderr",
          "output_type": "stream",
          "text": [
            "                                                                    \r"
          ]
        },
        {
          "name": "stdout",
          "output_type": "stream",
          "text": [
            "Epoch 98 | Train Loss: 0.3717 | Val Loss: 0.4258\n"
          ]
        },
        {
          "name": "stderr",
          "output_type": "stream",
          "text": [
            "                                                                    \r"
          ]
        },
        {
          "name": "stdout",
          "output_type": "stream",
          "text": [
            "Epoch 99 | Train Loss: 0.3729 | Val Loss: 0.4245\n"
          ]
        },
        {
          "name": "stderr",
          "output_type": "stream",
          "text": [
            "                                                                     "
          ]
        },
        {
          "name": "stdout",
          "output_type": "stream",
          "text": [
            "Epoch 100 | Train Loss: 0.3687 | Val Loss: 0.4304\n"
          ]
        },
        {
          "name": "stderr",
          "output_type": "stream",
          "text": [
            "\r"
          ]
        }
      ],
      "source": [
        "from tqdm import tqdm\n",
        "\n",
        "device = torch.device('cuda' if torch.cuda.is_available() else 'cpu')\n",
        "model = model.to(device)\n",
        "edge_index = edge_index.to(device)\n",
        "epochs = 100\n",
        "train_losses, val_losses = [], []\n",
        "\n",
        "for epoch in range(epochs):\n",
        "    model.train()\n",
        "    train_loss = 0\n",
        "    for batch in tqdm(train_loader, desc=f\"[Epoch {epoch+1}] Training\", leave=False):\n",
        "        batch = batch.to(device)\n",
        "\n",
        "        optimizer.zero_grad()\n",
        "        out = model(batch.x, batch.edge_index)\n",
        "        loss = loss_fn(out, batch.y)\n",
        "        loss.backward()\n",
        "        optimizer.step()\n",
        "        train_loss += loss.item()\n",
        "\n",
        "    train_loss /= len(train_loader)\n",
        "    train_losses.append(train_loss)\n",
        "\n",
        "    model.eval()\n",
        "    val_loss = 0\n",
        "    with torch.no_grad():\n",
        "        for batch in tqdm(val_loader, desc=f\"[Epoch {epoch+1}] Validation\", leave=False):\n",
        "            batch = batch.to(device)\n",
        "            out = model(batch.x, batch.edge_index)\n",
        "            loss = loss_fn(out, batch.y)\n",
        "            val_loss += loss.item()\n",
        "\n",
        "    val_loss /= len(val_loader)\n",
        "    val_losses.append(val_loss)\n",
        "    scheduler.step(val_loss)\n",
        "    print(f\"Epoch {epoch+1} | Train Loss: {train_loss:.4f} | Val Loss: {val_loss:.4f}\")\n"
      ]
    },
    {
      "cell_type": "code",
      "execution_count": 35,
      "metadata": {
        "colab": {
          "base_uri": "https://localhost:8080/"
        },
        "id": "CZ25r_7e8LQL",
        "outputId": "c8422997-46ad-4199-f26d-a190e86b1cd5"
      },
      "outputs": [
        {
          "name": "stderr",
          "output_type": "stream",
          "text": [
            "                                                         \r"
          ]
        }
      ],
      "source": [
        "model.eval()\n",
        "preds_list, actuals_list = [], []\n",
        "\n",
        "with torch.no_grad():\n",
        "    for batch in tqdm(val_loader, desc=\"Making Predictions\", leave=False):\n",
        "        batch = batch.to(device)\n",
        "        preds = model(batch.x, batch.edge_index)\n",
        "\n",
        "        preds_list.append(preds.cpu())\n",
        "        actuals_list.append(batch.y.cpu())"
      ]
    },
    {
      "cell_type": "code",
      "execution_count": 43,
      "metadata": {
        "id": "w9deUpRm_-hM"
      },
      "outputs": [],
      "source": [
        "import numpy as np\n",
        "\n",
        "preds = torch.cat(preds_list, dim=0)\n",
        "actuals = torch.cat(actuals_list, dim=0) \n",
        "\n",
        "mask = actuals.abs().sum(dim=1) > 0\n",
        "\n",
        "preds = preds[mask].numpy() \n",
        "actuals = actuals[mask].numpy()"
      ]
    },
    {
      "cell_type": "code",
      "execution_count": 44,
      "metadata": {
        "colab": {
          "base_uri": "https://localhost:8080/"
        },
        "id": "OoHgem1CABqa",
        "outputId": "7c804ae8-7d69-4578-c0b5-777da93fb0fe"
      },
      "outputs": [
        {
          "name": "stdout",
          "output_type": "stream",
          "text": [
            "MAE: 2181792.5000, RMSE: 6819454.0672, MAPE: 55.66%\n"
          ]
        }
      ],
      "source": [
        "from sklearn.metrics import mean_absolute_error, mean_squared_error\n",
        "\n",
        "preds[:, :4] = scaler.inverse_transform(preds[:, :4])\n",
        "actuals[:, :4] = scaler.inverse_transform(actuals[:, :4])\n",
        "preds[:, 4] = scaler1.inverse_transform(preds[:, 4].reshape(-1, 1)).reshape(-1)\n",
        "actuals[:, 4] = scaler1.inverse_transform(actuals[:, 4].reshape(-1, 1)).reshape(-1)\n",
        "\n",
        "\n",
        "mae = mean_absolute_error(actuals, preds)\n",
        "rmse = np.sqrt(mean_squared_error(actuals, preds))\n",
        "mape = np.mean(np.abs((actuals - preds) / actuals)) * 100\n",
        "print(f\"MAE: {mae:.4f}, RMSE: {rmse:.4f}, MAPE: {mape:.2f}%\")\n"
      ]
    },
    {
      "cell_type": "code",
      "execution_count": 45,
      "metadata": {
        "id": "o-TVD3YlAGkT"
      },
      "outputs": [],
      "source": [
        "a = pd.DataFrame(preds, columns=[\"Open\", \"High\", \"Low\", \"Close\", \"Volume\"])\n",
        "b = pd.DataFrame(actuals, columns=[\"Open\", \"High\", \"Low\", \"Close\", \"Volume\"])"
      ]
    },
    {
      "cell_type": "code",
      "execution_count": 46,
      "metadata": {},
      "outputs": [
        {
          "data": {
            "text/plain": [
              "Parameter containing:\n",
              "tensor([1.0014, 1.0112, 1.0009, 1.0121, 1.0246], device='cuda:0',\n",
              "       requires_grad=True)"
            ]
          },
          "execution_count": 46,
          "metadata": {},
          "output_type": "execute_result"
        }
      ],
      "source": [
        "model.scale_factor"
      ]
    },
    {
      "cell_type": "code",
      "execution_count": 47,
      "metadata": {
        "colab": {
          "base_uri": "https://localhost:8080/",
          "height": 424
        },
        "id": "-XZtvZV6ANKi",
        "outputId": "1daaa798-f99b-442c-e3b2-fa2391e8394b"
      },
      "outputs": [
        {
          "data": {
            "text/html": [
              "<div>\n",
              "<style scoped>\n",
              "    .dataframe tbody tr th:only-of-type {\n",
              "        vertical-align: middle;\n",
              "    }\n",
              "\n",
              "    .dataframe tbody tr th {\n",
              "        vertical-align: top;\n",
              "    }\n",
              "\n",
              "    .dataframe thead th {\n",
              "        text-align: right;\n",
              "    }\n",
              "</style>\n",
              "<table border=\"1\" class=\"dataframe\">\n",
              "  <thead>\n",
              "    <tr style=\"text-align: right;\">\n",
              "      <th></th>\n",
              "      <th>Open</th>\n",
              "      <th>High</th>\n",
              "      <th>Low</th>\n",
              "      <th>Close</th>\n",
              "      <th>Volume</th>\n",
              "    </tr>\n",
              "  </thead>\n",
              "  <tbody>\n",
              "    <tr>\n",
              "      <th>0</th>\n",
              "      <td>84.822838</td>\n",
              "      <td>91.205940</td>\n",
              "      <td>89.268005</td>\n",
              "      <td>84.659409</td>\n",
              "      <td>96339672.0</td>\n",
              "    </tr>\n",
              "    <tr>\n",
              "      <th>1</th>\n",
              "      <td>233.403015</td>\n",
              "      <td>235.274109</td>\n",
              "      <td>229.045609</td>\n",
              "      <td>235.267517</td>\n",
              "      <td>1103595.0</td>\n",
              "    </tr>\n",
              "    <tr>\n",
              "      <th>2</th>\n",
              "      <td>135.360367</td>\n",
              "      <td>144.032425</td>\n",
              "      <td>146.990692</td>\n",
              "      <td>131.413422</td>\n",
              "      <td>-22090966.0</td>\n",
              "    </tr>\n",
              "    <tr>\n",
              "      <th>3</th>\n",
              "      <td>221.934937</td>\n",
              "      <td>214.802811</td>\n",
              "      <td>223.097137</td>\n",
              "      <td>218.132156</td>\n",
              "      <td>-14231760.0</td>\n",
              "    </tr>\n",
              "    <tr>\n",
              "      <th>4</th>\n",
              "      <td>194.746979</td>\n",
              "      <td>194.279572</td>\n",
              "      <td>202.159790</td>\n",
              "      <td>191.637451</td>\n",
              "      <td>-21243514.0</td>\n",
              "    </tr>\n",
              "    <tr>\n",
              "      <th>...</th>\n",
              "      <td>...</td>\n",
              "      <td>...</td>\n",
              "      <td>...</td>\n",
              "      <td>...</td>\n",
              "      <td>...</td>\n",
              "    </tr>\n",
              "    <tr>\n",
              "      <th>1995</th>\n",
              "      <td>65.936729</td>\n",
              "      <td>65.120499</td>\n",
              "      <td>61.713680</td>\n",
              "      <td>64.204041</td>\n",
              "      <td>19074640.0</td>\n",
              "    </tr>\n",
              "    <tr>\n",
              "      <th>1996</th>\n",
              "      <td>68.145866</td>\n",
              "      <td>68.044662</td>\n",
              "      <td>64.525513</td>\n",
              "      <td>67.607849</td>\n",
              "      <td>18842888.0</td>\n",
              "    </tr>\n",
              "    <tr>\n",
              "      <th>1997</th>\n",
              "      <td>35.411270</td>\n",
              "      <td>30.304649</td>\n",
              "      <td>29.271788</td>\n",
              "      <td>32.033688</td>\n",
              "      <td>22580464.0</td>\n",
              "    </tr>\n",
              "    <tr>\n",
              "      <th>1998</th>\n",
              "      <td>36.811123</td>\n",
              "      <td>30.680035</td>\n",
              "      <td>29.828634</td>\n",
              "      <td>32.431786</td>\n",
              "      <td>24752588.0</td>\n",
              "    </tr>\n",
              "    <tr>\n",
              "      <th>1999</th>\n",
              "      <td>53.562897</td>\n",
              "      <td>50.954388</td>\n",
              "      <td>49.613209</td>\n",
              "      <td>51.948441</td>\n",
              "      <td>21590084.0</td>\n",
              "    </tr>\n",
              "  </tbody>\n",
              "</table>\n",
              "<p>2000 rows × 5 columns</p>\n",
              "</div>"
            ],
            "text/plain": [
              "            Open        High         Low       Close      Volume\n",
              "0      84.822838   91.205940   89.268005   84.659409  96339672.0\n",
              "1     233.403015  235.274109  229.045609  235.267517   1103595.0\n",
              "2     135.360367  144.032425  146.990692  131.413422 -22090966.0\n",
              "3     221.934937  214.802811  223.097137  218.132156 -14231760.0\n",
              "4     194.746979  194.279572  202.159790  191.637451 -21243514.0\n",
              "...          ...         ...         ...         ...         ...\n",
              "1995   65.936729   65.120499   61.713680   64.204041  19074640.0\n",
              "1996   68.145866   68.044662   64.525513   67.607849  18842888.0\n",
              "1997   35.411270   30.304649   29.271788   32.033688  22580464.0\n",
              "1998   36.811123   30.680035   29.828634   32.431786  24752588.0\n",
              "1999   53.562897   50.954388   49.613209   51.948441  21590084.0\n",
              "\n",
              "[2000 rows x 5 columns]"
            ]
          },
          "execution_count": 47,
          "metadata": {},
          "output_type": "execute_result"
        }
      ],
      "source": [
        "a"
      ]
    },
    {
      "cell_type": "code",
      "execution_count": 48,
      "metadata": {
        "colab": {
          "base_uri": "https://localhost:8080/",
          "height": 424
        },
        "id": "ohoDlvprANfe",
        "outputId": "caf5cfe2-1ad9-4baa-bec8-29cde2d50792"
      },
      "outputs": [
        {
          "data": {
            "text/html": [
              "<div>\n",
              "<style scoped>\n",
              "    .dataframe tbody tr th:only-of-type {\n",
              "        vertical-align: middle;\n",
              "    }\n",
              "\n",
              "    .dataframe tbody tr th {\n",
              "        vertical-align: top;\n",
              "    }\n",
              "\n",
              "    .dataframe thead th {\n",
              "        text-align: right;\n",
              "    }\n",
              "</style>\n",
              "<table border=\"1\" class=\"dataframe\">\n",
              "  <thead>\n",
              "    <tr style=\"text-align: right;\">\n",
              "      <th></th>\n",
              "      <th>Open</th>\n",
              "      <th>High</th>\n",
              "      <th>Low</th>\n",
              "      <th>Close</th>\n",
              "      <th>Volume</th>\n",
              "    </tr>\n",
              "  </thead>\n",
              "  <tbody>\n",
              "    <tr>\n",
              "      <th>0</th>\n",
              "      <td>128.782639</td>\n",
              "      <td>129.395523</td>\n",
              "      <td>122.742874</td>\n",
              "      <td>123.632530</td>\n",
              "      <td>112117504.0</td>\n",
              "    </tr>\n",
              "    <tr>\n",
              "      <th>1</th>\n",
              "      <td>192.949997</td>\n",
              "      <td>197.179993</td>\n",
              "      <td>192.399994</td>\n",
              "      <td>195.389999</td>\n",
              "      <td>8624600.0</td>\n",
              "    </tr>\n",
              "    <tr>\n",
              "      <th>2</th>\n",
              "      <td>94.096855</td>\n",
              "      <td>94.643936</td>\n",
              "      <td>93.175949</td>\n",
              "      <td>94.552750</td>\n",
              "      <td>2688900.0</td>\n",
              "    </tr>\n",
              "    <tr>\n",
              "      <th>3</th>\n",
              "      <td>164.409134</td>\n",
              "      <td>166.481033</td>\n",
              "      <td>164.269119</td>\n",
              "      <td>166.303711</td>\n",
              "      <td>6344900.0</td>\n",
              "    </tr>\n",
              "    <tr>\n",
              "      <th>4</th>\n",
              "      <td>127.603561</td>\n",
              "      <td>129.018860</td>\n",
              "      <td>126.329781</td>\n",
              "      <td>127.490326</td>\n",
              "      <td>11054800.0</td>\n",
              "    </tr>\n",
              "    <tr>\n",
              "      <th>...</th>\n",
              "      <td>...</td>\n",
              "      <td>...</td>\n",
              "      <td>...</td>\n",
              "      <td>...</td>\n",
              "      <td>...</td>\n",
              "    </tr>\n",
              "    <tr>\n",
              "      <th>1995</th>\n",
              "      <td>150.502396</td>\n",
              "      <td>150.877411</td>\n",
              "      <td>149.992737</td>\n",
              "      <td>150.723572</td>\n",
              "      <td>4311100.0</td>\n",
              "    </tr>\n",
              "    <tr>\n",
              "      <th>1996</th>\n",
              "      <td>165.182083</td>\n",
              "      <td>165.852524</td>\n",
              "      <td>164.822571</td>\n",
              "      <td>165.279251</td>\n",
              "      <td>6431800.0</td>\n",
              "    </tr>\n",
              "    <tr>\n",
              "      <th>1997</th>\n",
              "      <td>34.434586</td>\n",
              "      <td>34.784641</td>\n",
              "      <td>34.379314</td>\n",
              "      <td>34.729370</td>\n",
              "      <td>16205200.0</td>\n",
              "    </tr>\n",
              "    <tr>\n",
              "      <th>1998</th>\n",
              "      <td>51.745960</td>\n",
              "      <td>51.926624</td>\n",
              "      <td>51.624420</td>\n",
              "      <td>51.785378</td>\n",
              "      <td>21948300.0</td>\n",
              "    </tr>\n",
              "    <tr>\n",
              "      <th>1999</th>\n",
              "      <td>96.198700</td>\n",
              "      <td>96.409554</td>\n",
              "      <td>95.479874</td>\n",
              "      <td>95.824913</td>\n",
              "      <td>17741400.0</td>\n",
              "    </tr>\n",
              "  </tbody>\n",
              "</table>\n",
              "<p>2000 rows × 5 columns</p>\n",
              "</div>"
            ],
            "text/plain": [
              "            Open        High         Low       Close       Volume\n",
              "0     128.782639  129.395523  122.742874  123.632530  112117504.0\n",
              "1     192.949997  197.179993  192.399994  195.389999    8624600.0\n",
              "2      94.096855   94.643936   93.175949   94.552750    2688900.0\n",
              "3     164.409134  166.481033  164.269119  166.303711    6344900.0\n",
              "4     127.603561  129.018860  126.329781  127.490326   11054800.0\n",
              "...          ...         ...         ...         ...          ...\n",
              "1995  150.502396  150.877411  149.992737  150.723572    4311100.0\n",
              "1996  165.182083  165.852524  164.822571  165.279251    6431800.0\n",
              "1997   34.434586   34.784641   34.379314   34.729370   16205200.0\n",
              "1998   51.745960   51.926624   51.624420   51.785378   21948300.0\n",
              "1999   96.198700   96.409554   95.479874   95.824913   17741400.0\n",
              "\n",
              "[2000 rows x 5 columns]"
            ]
          },
          "execution_count": 48,
          "metadata": {},
          "output_type": "execute_result"
        }
      ],
      "source": [
        "b"
      ]
    },
    {
      "cell_type": "code",
      "execution_count": 49,
      "metadata": {
        "id": "h0-oXklrAOKS"
      },
      "outputs": [
        {
          "data": {
            "image/png": "[encoded data removed]",
            "text/plain": [
              "<Figure size 1200x500 with 1 Axes>"
            ]
          },
          "metadata": {},
          "output_type": "display_data"
        }
      ],
      "source": [
        "import matplotlib.pyplot as plt\n",
        "actuals = actuals.astype(float)\n",
        "\n",
        "plt.figure(figsize=(12, 5))\n",
        "plt.plot(actuals[:, 2], label=\"Actual Close\", color=\"blue\")\n",
        "plt.plot(preds[:, 2], label=\"Predicted Close\", color=\"red\", linestyle=\"dashed\")\n",
        "plt.legend()\n",
        "plt.title(\"Close Price Predictions\")\n",
        "plt.show()"
      ]
    },
    {
      "cell_type": "code",
      "execution_count": null,
      "metadata": {},
      "outputs": [],
      "source": []
    }
  ],
  "metadata": {
    "accelerator": "GPU",
    "colab": {
      "gpuType": "T4",
      "provenance": []
    },
    "kernelspec": {
      "display_name": "Python (myenv)",
      "language": "python",
      "name": "torch"
    },
    "language_info": {
      "codemirror_mode": {
        "name": "ipython",
        "version": 3
      },
      "file_extension": ".py",
      "mimetype": "text/x-python",
      "name": "python",
      "nbconvert_exporter": "python",
      "pygments_lexer": "ipython3",
      "version": "3.12.3"
    }
  },
  "nbformat": 4,
  "nbformat_minor": 0
}
