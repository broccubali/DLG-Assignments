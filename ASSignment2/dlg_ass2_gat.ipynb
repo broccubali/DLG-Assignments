{
  "cells": [
    {
      "cell_type": "code",
      "execution_count": 365,
      "metadata": {
        "colab": {
          "base_uri": "https://localhost:8080/"
        },
        "id": "y2IlJxrkUvTM",
        "outputId": "bb8927ce-c89f-475e-abcc-da5c8ecd2473"
      },
      "outputs": [],
      "source": [
        "# !git clone https://github.com/broccubali/DLG-Assignments.git"
      ]
    },
    {
      "cell_type": "code",
      "execution_count": 366,
      "metadata": {
        "colab": {
          "base_uri": "https://localhost:8080/"
        },
        "id": "VLCec2fvUzN8",
        "outputId": "5059ab04-72d0-4972-d94a-48a78bd1b812"
      },
      "outputs": [],
      "source": [
        "# !pip install torch_geometric\n",
        "\n",
        "import pandas as pd\n",
        "import numpy as np\n",
        "import json\n",
        "import matplotlib.pyplot as plt\n",
        "import torch\n",
        "import networkx as nx"
      ]
    },
    {
      "cell_type": "code",
      "execution_count": 367,
      "metadata": {
        "id": "recyd-fnU-XA"
      },
      "outputs": [],
      "source": [
        "train_data = pd.read_csv('train_stock_data.csv')\n",
        "train_data['Date'] = pd.to_datetime(train_data['Date'], format='%Y-%m-%d')\n",
        "train_data.sort_values(['Ticker', 'Date'], inplace=True)"
      ]
    },
    {
      "cell_type": "code",
      "execution_count": 368,
      "metadata": {
        "colab": {
          "base_uri": "https://localhost:8080/",
          "height": 444
        },
        "id": "D6i1_lckVHqT",
        "outputId": "8a6ace15-1258-40f3-e2a9-9daa2ac84a38"
      },
      "outputs": [
        {
          "data": {
            "text/html": [
              "<div>\n",
              "<style scoped>\n",
              "    .dataframe tbody tr th:only-of-type {\n",
              "        vertical-align: middle;\n",
              "    }\n",
              "\n",
              "    .dataframe tbody tr th {\n",
              "        vertical-align: top;\n",
              "    }\n",
              "\n",
              "    .dataframe thead th {\n",
              "        text-align: right;\n",
              "    }\n",
              "</style>\n",
              "<table border=\"1\" class=\"dataframe\">\n",
              "  <thead>\n",
              "    <tr style=\"text-align: right;\">\n",
              "      <th></th>\n",
              "      <th>Date</th>\n",
              "      <th>Ticker</th>\n",
              "      <th>Open</th>\n",
              "      <th>Open.1</th>\n",
              "      <th>Open.2</th>\n",
              "      <th>Open.3</th>\n",
              "      <th>Open.4</th>\n",
              "      <th>Open.5</th>\n",
              "      <th>Open.6</th>\n",
              "      <th>Open.7</th>\n",
              "      <th>...</th>\n",
              "      <th>Volume.10</th>\n",
              "      <th>Volume.11</th>\n",
              "      <th>Volume.12</th>\n",
              "      <th>Volume.13</th>\n",
              "      <th>Volume.14</th>\n",
              "      <th>Volume.15</th>\n",
              "      <th>Volume.16</th>\n",
              "      <th>Volume.17</th>\n",
              "      <th>Volume.18</th>\n",
              "      <th>Volume.19</th>\n",
              "    </tr>\n",
              "  </thead>\n",
              "  <tbody>\n",
              "    <tr>\n",
              "      <th>0</th>\n",
              "      <td>2019-01-02</td>\n",
              "      <td>AAPL</td>\n",
              "      <td>36.944462</td>\n",
              "      <td>NaN</td>\n",
              "      <td>NaN</td>\n",
              "      <td>NaN</td>\n",
              "      <td>NaN</td>\n",
              "      <td>NaN</td>\n",
              "      <td>NaN</td>\n",
              "      <td>NaN</td>\n",
              "      <td>...</td>\n",
              "      <td>NaN</td>\n",
              "      <td>NaN</td>\n",
              "      <td>NaN</td>\n",
              "      <td>NaN</td>\n",
              "      <td>NaN</td>\n",
              "      <td>NaN</td>\n",
              "      <td>NaN</td>\n",
              "      <td>NaN</td>\n",
              "      <td>NaN</td>\n",
              "      <td>NaN</td>\n",
              "    </tr>\n",
              "    <tr>\n",
              "      <th>1</th>\n",
              "      <td>2019-01-03</td>\n",
              "      <td>AAPL</td>\n",
              "      <td>34.342203</td>\n",
              "      <td>NaN</td>\n",
              "      <td>NaN</td>\n",
              "      <td>NaN</td>\n",
              "      <td>NaN</td>\n",
              "      <td>NaN</td>\n",
              "      <td>NaN</td>\n",
              "      <td>NaN</td>\n",
              "      <td>...</td>\n",
              "      <td>NaN</td>\n",
              "      <td>NaN</td>\n",
              "      <td>NaN</td>\n",
              "      <td>NaN</td>\n",
              "      <td>NaN</td>\n",
              "      <td>NaN</td>\n",
              "      <td>NaN</td>\n",
              "      <td>NaN</td>\n",
              "      <td>NaN</td>\n",
              "      <td>NaN</td>\n",
              "    </tr>\n",
              "    <tr>\n",
              "      <th>2</th>\n",
              "      <td>2019-01-04</td>\n",
              "      <td>AAPL</td>\n",
              "      <td>34.473390</td>\n",
              "      <td>NaN</td>\n",
              "      <td>NaN</td>\n",
              "      <td>NaN</td>\n",
              "      <td>NaN</td>\n",
              "      <td>NaN</td>\n",
              "      <td>NaN</td>\n",
              "      <td>NaN</td>\n",
              "      <td>...</td>\n",
              "      <td>NaN</td>\n",
              "      <td>NaN</td>\n",
              "      <td>NaN</td>\n",
              "      <td>NaN</td>\n",
              "      <td>NaN</td>\n",
              "      <td>NaN</td>\n",
              "      <td>NaN</td>\n",
              "      <td>NaN</td>\n",
              "      <td>NaN</td>\n",
              "      <td>NaN</td>\n",
              "    </tr>\n",
              "    <tr>\n",
              "      <th>3</th>\n",
              "      <td>2019-01-07</td>\n",
              "      <td>AAPL</td>\n",
              "      <td>35.468021</td>\n",
              "      <td>NaN</td>\n",
              "      <td>NaN</td>\n",
              "      <td>NaN</td>\n",
              "      <td>NaN</td>\n",
              "      <td>NaN</td>\n",
              "      <td>NaN</td>\n",
              "      <td>NaN</td>\n",
              "      <td>...</td>\n",
              "      <td>NaN</td>\n",
              "      <td>NaN</td>\n",
              "      <td>NaN</td>\n",
              "      <td>NaN</td>\n",
              "      <td>NaN</td>\n",
              "      <td>NaN</td>\n",
              "      <td>NaN</td>\n",
              "      <td>NaN</td>\n",
              "      <td>NaN</td>\n",
              "      <td>NaN</td>\n",
              "    </tr>\n",
              "    <tr>\n",
              "      <th>4</th>\n",
              "      <td>2019-01-08</td>\n",
              "      <td>AAPL</td>\n",
              "      <td>35.673153</td>\n",
              "      <td>NaN</td>\n",
              "      <td>NaN</td>\n",
              "      <td>NaN</td>\n",
              "      <td>NaN</td>\n",
              "      <td>NaN</td>\n",
              "      <td>NaN</td>\n",
              "      <td>NaN</td>\n",
              "      <td>...</td>\n",
              "      <td>NaN</td>\n",
              "      <td>NaN</td>\n",
              "      <td>NaN</td>\n",
              "      <td>NaN</td>\n",
              "      <td>NaN</td>\n",
              "      <td>NaN</td>\n",
              "      <td>NaN</td>\n",
              "      <td>NaN</td>\n",
              "      <td>NaN</td>\n",
              "      <td>NaN</td>\n",
              "    </tr>\n",
              "    <tr>\n",
              "      <th>...</th>\n",
              "      <td>...</td>\n",
              "      <td>...</td>\n",
              "      <td>...</td>\n",
              "      <td>...</td>\n",
              "      <td>...</td>\n",
              "      <td>...</td>\n",
              "      <td>...</td>\n",
              "      <td>...</td>\n",
              "      <td>...</td>\n",
              "      <td>...</td>\n",
              "      <td>...</td>\n",
              "      <td>...</td>\n",
              "      <td>...</td>\n",
              "      <td>...</td>\n",
              "      <td>...</td>\n",
              "      <td>...</td>\n",
              "      <td>...</td>\n",
              "      <td>...</td>\n",
              "      <td>...</td>\n",
              "      <td>...</td>\n",
              "      <td>...</td>\n",
              "    </tr>\n",
              "    <tr>\n",
              "      <th>11083</th>\n",
              "      <td>2022-12-23</td>\n",
              "      <td>XOM</td>\n",
              "      <td>NaN</td>\n",
              "      <td>NaN</td>\n",
              "      <td>NaN</td>\n",
              "      <td>NaN</td>\n",
              "      <td>NaN</td>\n",
              "      <td>NaN</td>\n",
              "      <td>NaN</td>\n",
              "      <td>NaN</td>\n",
              "      <td>...</td>\n",
              "      <td>11539400.0</td>\n",
              "      <td>NaN</td>\n",
              "      <td>NaN</td>\n",
              "      <td>NaN</td>\n",
              "      <td>NaN</td>\n",
              "      <td>NaN</td>\n",
              "      <td>NaN</td>\n",
              "      <td>NaN</td>\n",
              "      <td>NaN</td>\n",
              "      <td>NaN</td>\n",
              "    </tr>\n",
              "    <tr>\n",
              "      <th>11084</th>\n",
              "      <td>2022-12-27</td>\n",
              "      <td>XOM</td>\n",
              "      <td>NaN</td>\n",
              "      <td>NaN</td>\n",
              "      <td>NaN</td>\n",
              "      <td>NaN</td>\n",
              "      <td>NaN</td>\n",
              "      <td>NaN</td>\n",
              "      <td>NaN</td>\n",
              "      <td>NaN</td>\n",
              "      <td>...</td>\n",
              "      <td>11962100.0</td>\n",
              "      <td>NaN</td>\n",
              "      <td>NaN</td>\n",
              "      <td>NaN</td>\n",
              "      <td>NaN</td>\n",
              "      <td>NaN</td>\n",
              "      <td>NaN</td>\n",
              "      <td>NaN</td>\n",
              "      <td>NaN</td>\n",
              "      <td>NaN</td>\n",
              "    </tr>\n",
              "    <tr>\n",
              "      <th>11085</th>\n",
              "      <td>2022-12-28</td>\n",
              "      <td>XOM</td>\n",
              "      <td>NaN</td>\n",
              "      <td>NaN</td>\n",
              "      <td>NaN</td>\n",
              "      <td>NaN</td>\n",
              "      <td>NaN</td>\n",
              "      <td>NaN</td>\n",
              "      <td>NaN</td>\n",
              "      <td>NaN</td>\n",
              "      <td>...</td>\n",
              "      <td>10702100.0</td>\n",
              "      <td>NaN</td>\n",
              "      <td>NaN</td>\n",
              "      <td>NaN</td>\n",
              "      <td>NaN</td>\n",
              "      <td>NaN</td>\n",
              "      <td>NaN</td>\n",
              "      <td>NaN</td>\n",
              "      <td>NaN</td>\n",
              "      <td>NaN</td>\n",
              "    </tr>\n",
              "    <tr>\n",
              "      <th>11086</th>\n",
              "      <td>2022-12-29</td>\n",
              "      <td>XOM</td>\n",
              "      <td>NaN</td>\n",
              "      <td>NaN</td>\n",
              "      <td>NaN</td>\n",
              "      <td>NaN</td>\n",
              "      <td>NaN</td>\n",
              "      <td>NaN</td>\n",
              "      <td>NaN</td>\n",
              "      <td>NaN</td>\n",
              "      <td>...</td>\n",
              "      <td>10534000.0</td>\n",
              "      <td>NaN</td>\n",
              "      <td>NaN</td>\n",
              "      <td>NaN</td>\n",
              "      <td>NaN</td>\n",
              "      <td>NaN</td>\n",
              "      <td>NaN</td>\n",
              "      <td>NaN</td>\n",
              "      <td>NaN</td>\n",
              "      <td>NaN</td>\n",
              "    </tr>\n",
              "    <tr>\n",
              "      <th>11087</th>\n",
              "      <td>2022-12-30</td>\n",
              "      <td>XOM</td>\n",
              "      <td>NaN</td>\n",
              "      <td>NaN</td>\n",
              "      <td>NaN</td>\n",
              "      <td>NaN</td>\n",
              "      <td>NaN</td>\n",
              "      <td>NaN</td>\n",
              "      <td>NaN</td>\n",
              "      <td>NaN</td>\n",
              "      <td>...</td>\n",
              "      <td>11799600.0</td>\n",
              "      <td>NaN</td>\n",
              "      <td>NaN</td>\n",
              "      <td>NaN</td>\n",
              "      <td>NaN</td>\n",
              "      <td>NaN</td>\n",
              "      <td>NaN</td>\n",
              "      <td>NaN</td>\n",
              "      <td>NaN</td>\n",
              "      <td>NaN</td>\n",
              "    </tr>\n",
              "  </tbody>\n",
              "</table>\n",
              "<p>20160 rows × 102 columns</p>\n",
              "</div>"
            ],
            "text/plain": [
              "            Date Ticker       Open  Open.1  Open.2  Open.3  Open.4  Open.5  \\\n",
              "0     2019-01-02   AAPL  36.944462     NaN     NaN     NaN     NaN     NaN   \n",
              "1     2019-01-03   AAPL  34.342203     NaN     NaN     NaN     NaN     NaN   \n",
              "2     2019-01-04   AAPL  34.473390     NaN     NaN     NaN     NaN     NaN   \n",
              "3     2019-01-07   AAPL  35.468021     NaN     NaN     NaN     NaN     NaN   \n",
              "4     2019-01-08   AAPL  35.673153     NaN     NaN     NaN     NaN     NaN   \n",
              "...          ...    ...        ...     ...     ...     ...     ...     ...   \n",
              "11083 2022-12-23    XOM        NaN     NaN     NaN     NaN     NaN     NaN   \n",
              "11084 2022-12-27    XOM        NaN     NaN     NaN     NaN     NaN     NaN   \n",
              "11085 2022-12-28    XOM        NaN     NaN     NaN     NaN     NaN     NaN   \n",
              "11086 2022-12-29    XOM        NaN     NaN     NaN     NaN     NaN     NaN   \n",
              "11087 2022-12-30    XOM        NaN     NaN     NaN     NaN     NaN     NaN   \n",
              "\n",
              "       Open.6  Open.7  ...   Volume.10  Volume.11  Volume.12  Volume.13  \\\n",
              "0         NaN     NaN  ...         NaN        NaN        NaN        NaN   \n",
              "1         NaN     NaN  ...         NaN        NaN        NaN        NaN   \n",
              "2         NaN     NaN  ...         NaN        NaN        NaN        NaN   \n",
              "3         NaN     NaN  ...         NaN        NaN        NaN        NaN   \n",
              "4         NaN     NaN  ...         NaN        NaN        NaN        NaN   \n",
              "...       ...     ...  ...         ...        ...        ...        ...   \n",
              "11083     NaN     NaN  ...  11539400.0        NaN        NaN        NaN   \n",
              "11084     NaN     NaN  ...  11962100.0        NaN        NaN        NaN   \n",
              "11085     NaN     NaN  ...  10702100.0        NaN        NaN        NaN   \n",
              "11086     NaN     NaN  ...  10534000.0        NaN        NaN        NaN   \n",
              "11087     NaN     NaN  ...  11799600.0        NaN        NaN        NaN   \n",
              "\n",
              "       Volume.14  Volume.15  Volume.16  Volume.17  Volume.18  Volume.19  \n",
              "0            NaN        NaN        NaN        NaN        NaN        NaN  \n",
              "1            NaN        NaN        NaN        NaN        NaN        NaN  \n",
              "2            NaN        NaN        NaN        NaN        NaN        NaN  \n",
              "3            NaN        NaN        NaN        NaN        NaN        NaN  \n",
              "4            NaN        NaN        NaN        NaN        NaN        NaN  \n",
              "...          ...        ...        ...        ...        ...        ...  \n",
              "11083        NaN        NaN        NaN        NaN        NaN        NaN  \n",
              "11084        NaN        NaN        NaN        NaN        NaN        NaN  \n",
              "11085        NaN        NaN        NaN        NaN        NaN        NaN  \n",
              "11086        NaN        NaN        NaN        NaN        NaN        NaN  \n",
              "11087        NaN        NaN        NaN        NaN        NaN        NaN  \n",
              "\n",
              "[20160 rows x 102 columns]"
            ]
          },
          "execution_count": 368,
          "metadata": {},
          "output_type": "execute_result"
        }
      ],
      "source": [
        "train_data"
      ]
    },
    {
      "cell_type": "code",
      "execution_count": 369,
      "metadata": {
        "id": "DEf58kGXVI43"
      },
      "outputs": [],
      "source": [
        "validation_data = pd.read_csv('validation_stock_data.csv')\n",
        "with open('hyperedges.json', 'r') as f:\n",
        "    hyperedges = json.load(f)\n",
        "with open('blind_test_cases.json', 'r') as f:\n",
        "    test_cases = json.load(f)"
      ]
    },
    {
      "cell_type": "code",
      "execution_count": 370,
      "metadata": {
        "colab": {
          "base_uri": "https://localhost:8080/"
        },
        "id": "J47d6N5yVSdi",
        "outputId": "73073ddf-130c-47dd-a006-c54b708c65f1"
      },
      "outputs": [
        {
          "name": "stdout",
          "output_type": "stream",
          "text": [
            "Training data shape: (20160, 102)\n",
            "Validation data shape: (2000, 102)\n",
            "Number of hyperedges: 8\n",
            "Number of test cases: 120\n",
            "Training data columns:\n",
            "Index(['Date', 'Ticker', 'Open', 'Open.1', 'Open.2', 'Open.3', 'Open.4',\n",
            "       'Open.5', 'Open.6', 'Open.7',\n",
            "       ...\n",
            "       'Volume.10', 'Volume.11', 'Volume.12', 'Volume.13', 'Volume.14',\n",
            "       'Volume.15', 'Volume.16', 'Volume.17', 'Volume.18', 'Volume.19'],\n",
            "      dtype='object', length=102)\n"
          ]
        }
      ],
      "source": [
        "print(f\"Training data shape: {train_data.shape}\")\n",
        "print(f\"Validation data shape: {validation_data.shape}\")\n",
        "print(f\"Number of hyperedges: {len(hyperedges)}\")\n",
        "print(f\"Number of test cases: {len(test_cases)}\")\n",
        "print(\"Training data columns:\")\n",
        "print(train_data.columns)"
      ]
    },
    {
      "cell_type": "code",
      "execution_count": 371,
      "metadata": {
        "colab": {
          "base_uri": "https://localhost:8080/"
        },
        "id": "v-hhmdCsVYWu",
        "outputId": "db81262f-7006-4bf8-eae8-9d6e092cbbac"
      },
      "outputs": [
        {
          "name": "stdout",
          "output_type": "stream",
          "text": [
            "Hyperedges structure:\n",
            "{'Tech': ['AAPL', 'GOOGL', 'MSFT', 'AMZN'], 'Finance': ['JPM', 'BAC', 'C'], 'Healthcare': ['JNJ', 'PFE', 'MRK'], 'Energy': ['XOM', 'CVX'], 'Consumer': ['WMT', 'PG', 'KO'], 'Industrials': ['BA', 'CAT'], 'Communications': ['VZ', 'T'], 'Utilities': ['DUK']}\n",
            "<class 'dict'>\n",
            "Available tickers in training data: ['AAPL' 'AMZN' 'BA' 'BAC' 'C' 'CAT' 'CVX' 'DUK' 'GOOGL' 'JNJ' 'JPM' 'KO'\n",
            " 'MRK' 'MSFT' 'PFE' 'PG' 'T' 'VZ' 'WMT' 'XOM']\n",
            "Test case example:\n"
          ]
        },
        {
          "data": {
            "text/plain": [
              "{'ticker': 'GOOGL',\n",
              " 'date': '2023-03-01',\n",
              " 'predicted_open': None,\n",
              " 'predicted_high': None,\n",
              " 'predicted_low': None,\n",
              " 'predicted_close': None,\n",
              " 'predicted_volume': None,\n",
              " 'eval_metric': 'MAPE'}"
            ]
          },
          "execution_count": 371,
          "metadata": {},
          "output_type": "execute_result"
        }
      ],
      "source": [
        "print(\"Hyperedges structure:\")\n",
        "print(hyperedges)\n",
        "\n",
        "print(type(hyperedges))\n",
        "\n",
        "print(\"Available tickers in training data:\", train_data['Ticker'].unique())\n",
        "\n",
        "print(\"Test case example:\")\n",
        "test_cases[0]"
      ]
    },
    {
      "cell_type": "code",
      "execution_count": 372,
      "metadata": {
        "colab": {
          "base_uri": "https://localhost:8080/",
          "height": 424
        },
        "id": "TZdA6Y4iVjif",
        "outputId": "408cf15f-87f7-4d83-9a4b-83d7a7ff1092"
      },
      "outputs": [
        {
          "data": {
            "text/html": [
              "<div>\n",
              "<style scoped>\n",
              "    .dataframe tbody tr th:only-of-type {\n",
              "        vertical-align: middle;\n",
              "    }\n",
              "\n",
              "    .dataframe tbody tr th {\n",
              "        vertical-align: top;\n",
              "    }\n",
              "\n",
              "    .dataframe thead th {\n",
              "        text-align: right;\n",
              "    }\n",
              "</style>\n",
              "<table border=\"1\" class=\"dataframe\">\n",
              "  <thead>\n",
              "    <tr style=\"text-align: right;\">\n",
              "      <th></th>\n",
              "      <th>Date</th>\n",
              "      <th>Ticker</th>\n",
              "      <th>Open</th>\n",
              "      <th>High</th>\n",
              "      <th>Low</th>\n",
              "      <th>Close</th>\n",
              "      <th>Volume</th>\n",
              "    </tr>\n",
              "  </thead>\n",
              "  <tbody>\n",
              "    <tr>\n",
              "      <th>0</th>\n",
              "      <td>2019-01-02</td>\n",
              "      <td>AAPL</td>\n",
              "      <td>36.944462</td>\n",
              "      <td>37.889005</td>\n",
              "      <td>36.787037</td>\n",
              "      <td>37.667179</td>\n",
              "      <td>148158800.0</td>\n",
              "    </tr>\n",
              "    <tr>\n",
              "      <th>1</th>\n",
              "      <td>2019-01-03</td>\n",
              "      <td>AAPL</td>\n",
              "      <td>34.342203</td>\n",
              "      <td>34.757230</td>\n",
              "      <td>33.869933</td>\n",
              "      <td>33.915253</td>\n",
              "      <td>365248800.0</td>\n",
              "    </tr>\n",
              "    <tr>\n",
              "      <th>2</th>\n",
              "      <td>2019-01-04</td>\n",
              "      <td>AAPL</td>\n",
              "      <td>34.473390</td>\n",
              "      <td>35.432244</td>\n",
              "      <td>34.299271</td>\n",
              "      <td>35.363071</td>\n",
              "      <td>234428400.0</td>\n",
              "    </tr>\n",
              "    <tr>\n",
              "      <th>3</th>\n",
              "      <td>2019-01-07</td>\n",
              "      <td>AAPL</td>\n",
              "      <td>35.468021</td>\n",
              "      <td>35.499030</td>\n",
              "      <td>34.800162</td>\n",
              "      <td>35.284359</td>\n",
              "      <td>219111200.0</td>\n",
              "    </tr>\n",
              "    <tr>\n",
              "      <th>4</th>\n",
              "      <td>2019-01-08</td>\n",
              "      <td>AAPL</td>\n",
              "      <td>35.673153</td>\n",
              "      <td>36.212212</td>\n",
              "      <td>35.425093</td>\n",
              "      <td>35.956993</td>\n",
              "      <td>164101200.0</td>\n",
              "    </tr>\n",
              "    <tr>\n",
              "      <th>...</th>\n",
              "      <td>...</td>\n",
              "      <td>...</td>\n",
              "      <td>...</td>\n",
              "      <td>...</td>\n",
              "      <td>...</td>\n",
              "      <td>...</td>\n",
              "      <td>...</td>\n",
              "    </tr>\n",
              "    <tr>\n",
              "      <th>20155</th>\n",
              "      <td>2022-12-23</td>\n",
              "      <td>XOM</td>\n",
              "      <td>99.121032</td>\n",
              "      <td>100.780001</td>\n",
              "      <td>99.074697</td>\n",
              "      <td>100.724396</td>\n",
              "      <td>11539400.0</td>\n",
              "    </tr>\n",
              "    <tr>\n",
              "      <th>20156</th>\n",
              "      <td>2022-12-27</td>\n",
              "      <td>XOM</td>\n",
              "      <td>101.271219</td>\n",
              "      <td>102.383381</td>\n",
              "      <td>100.863433</td>\n",
              "      <td>102.123878</td>\n",
              "      <td>11962100.0</td>\n",
              "    </tr>\n",
              "    <tr>\n",
              "      <th>20157</th>\n",
              "      <td>2022-12-28</td>\n",
              "      <td>XOM</td>\n",
              "      <td>101.864365</td>\n",
              "      <td>101.947773</td>\n",
              "      <td>100.001499</td>\n",
              "      <td>100.446358</td>\n",
              "      <td>10702100.0</td>\n",
              "    </tr>\n",
              "    <tr>\n",
              "      <th>20158</th>\n",
              "      <td>2022-12-29</td>\n",
              "      <td>XOM</td>\n",
              "      <td>100.084912</td>\n",
              "      <td>101.688276</td>\n",
              "      <td>100.084912</td>\n",
              "      <td>101.206337</td>\n",
              "      <td>10534000.0</td>\n",
              "    </tr>\n",
              "    <tr>\n",
              "      <th>20159</th>\n",
              "      <td>2022-12-30</td>\n",
              "      <td>XOM</td>\n",
              "      <td>100.659532</td>\n",
              "      <td>102.411179</td>\n",
              "      <td>100.659532</td>\n",
              "      <td>102.225822</td>\n",
              "      <td>11799600.0</td>\n",
              "    </tr>\n",
              "  </tbody>\n",
              "</table>\n",
              "<p>20160 rows × 7 columns</p>\n",
              "</div>"
            ],
            "text/plain": [
              "            Date Ticker        Open        High         Low       Close  \\\n",
              "0     2019-01-02   AAPL   36.944462   37.889005   36.787037   37.667179   \n",
              "1     2019-01-03   AAPL   34.342203   34.757230   33.869933   33.915253   \n",
              "2     2019-01-04   AAPL   34.473390   35.432244   34.299271   35.363071   \n",
              "3     2019-01-07   AAPL   35.468021   35.499030   34.800162   35.284359   \n",
              "4     2019-01-08   AAPL   35.673153   36.212212   35.425093   35.956993   \n",
              "...          ...    ...         ...         ...         ...         ...   \n",
              "20155 2022-12-23    XOM   99.121032  100.780001   99.074697  100.724396   \n",
              "20156 2022-12-27    XOM  101.271219  102.383381  100.863433  102.123878   \n",
              "20157 2022-12-28    XOM  101.864365  101.947773  100.001499  100.446358   \n",
              "20158 2022-12-29    XOM  100.084912  101.688276  100.084912  101.206337   \n",
              "20159 2022-12-30    XOM  100.659532  102.411179  100.659532  102.225822   \n",
              "\n",
              "            Volume  \n",
              "0      148158800.0  \n",
              "1      365248800.0  \n",
              "2      234428400.0  \n",
              "3      219111200.0  \n",
              "4      164101200.0  \n",
              "...            ...  \n",
              "20155   11539400.0  \n",
              "20156   11962100.0  \n",
              "20157   10702100.0  \n",
              "20158   10534000.0  \n",
              "20159   11799600.0  \n",
              "\n",
              "[20160 rows x 7 columns]"
            ]
          },
          "execution_count": 372,
          "metadata": {},
          "output_type": "execute_result"
        }
      ],
      "source": [
        "l = []\n",
        "tickers = train_data['Ticker'].unique()\n",
        "for ticker in tickers:\n",
        "    data = train_data[train_data[\"Ticker\"] == ticker]\n",
        "    valid_cols = []\n",
        "    for i in data.columns:\n",
        "        if data[i].isna().sum() == 0:\n",
        "            valid_cols.append(i)\n",
        "    a = data[valid_cols].values\n",
        "    for i in a:\n",
        "        l.append(i)\n",
        "df = pd.DataFrame(l, columns=[\"Date\", \"Ticker\", \"Open\", \"High\", \"Low\", \"Close\", \"Volume\"])\n",
        "df"
      ]
    },
    {
      "cell_type": "code",
      "execution_count": 373,
      "metadata": {
        "colab": {
          "base_uri": "https://localhost:8080/",
          "height": 424
        },
        "id": "3uwaBYRmhdOY",
        "outputId": "4253e301-bf32-45c3-9576-f6bc4eb632a0"
      },
      "outputs": [],
      "source": [
        "# import pandas as pd\n",
        "\n",
        "# df['Return'] = df.groupby('Ticker')['Close'].pct_change()\n",
        "# df['Volatility'] = df.groupby('Ticker')['Return'].rolling(window=30).std().reset_index(0, drop=True)\n",
        "# df['Momentum'] = df.groupby('Ticker')['Close'].pct_change(periods=5)\n",
        "# df['Moving_Avg'] = df.groupby('Ticker')['Close'].rolling(window=30).mean().reset_index(0, drop=True)\n",
        "\n",
        "# df.fillna(0, inplace=True)\n",
        "\n",
        "# features = ['Open', 'High', 'Low', 'Close', 'Volume', 'Return', 'Volatility', 'Momentum', 'Moving_Avg']\n",
        "# df"
      ]
    },
    {
      "cell_type": "code",
      "execution_count": 374,
      "metadata": {},
      "outputs": [
        {
          "data": {
            "text/html": [
              "<div>\n",
              "<style scoped>\n",
              "    .dataframe tbody tr th:only-of-type {\n",
              "        vertical-align: middle;\n",
              "    }\n",
              "\n",
              "    .dataframe tbody tr th {\n",
              "        vertical-align: top;\n",
              "    }\n",
              "\n",
              "    .dataframe thead th {\n",
              "        text-align: right;\n",
              "    }\n",
              "</style>\n",
              "<table border=\"1\" class=\"dataframe\">\n",
              "  <thead>\n",
              "    <tr style=\"text-align: right;\">\n",
              "      <th></th>\n",
              "      <th>Date</th>\n",
              "      <th>Ticker</th>\n",
              "      <th>Open</th>\n",
              "      <th>High</th>\n",
              "      <th>Low</th>\n",
              "      <th>Close</th>\n",
              "      <th>Volume</th>\n",
              "    </tr>\n",
              "  </thead>\n",
              "  <tbody>\n",
              "    <tr>\n",
              "      <th>0</th>\n",
              "      <td>2019-01-02</td>\n",
              "      <td>AAPL</td>\n",
              "      <td>0.057499</td>\n",
              "      <td>0.058918</td>\n",
              "      <td>0.057964</td>\n",
              "      <td>0.059680</td>\n",
              "      <td>0.346477</td>\n",
              "    </tr>\n",
              "    <tr>\n",
              "      <th>1</th>\n",
              "      <td>2019-01-03</td>\n",
              "      <td>AAPL</td>\n",
              "      <td>0.051346</td>\n",
              "      <td>0.051507</td>\n",
              "      <td>0.050973</td>\n",
              "      <td>0.050694</td>\n",
              "      <td>0.856169</td>\n",
              "    </tr>\n",
              "    <tr>\n",
              "      <th>2</th>\n",
              "      <td>2019-01-04</td>\n",
              "      <td>AAPL</td>\n",
              "      <td>0.051657</td>\n",
              "      <td>0.053104</td>\n",
              "      <td>0.052002</td>\n",
              "      <td>0.054161</td>\n",
              "      <td>0.549024</td>\n",
              "    </tr>\n",
              "    <tr>\n",
              "      <th>3</th>\n",
              "      <td>2019-01-07</td>\n",
              "      <td>AAPL</td>\n",
              "      <td>0.054008</td>\n",
              "      <td>0.053262</td>\n",
              "      <td>0.053203</td>\n",
              "      <td>0.053973</td>\n",
              "      <td>0.513062</td>\n",
              "    </tr>\n",
              "    <tr>\n",
              "      <th>4</th>\n",
              "      <td>2019-01-08</td>\n",
              "      <td>AAPL</td>\n",
              "      <td>0.054493</td>\n",
              "      <td>0.054950</td>\n",
              "      <td>0.054700</td>\n",
              "      <td>0.055584</td>\n",
              "      <td>0.383907</td>\n",
              "    </tr>\n",
              "    <tr>\n",
              "      <th>...</th>\n",
              "      <td>...</td>\n",
              "      <td>...</td>\n",
              "      <td>...</td>\n",
              "      <td>...</td>\n",
              "      <td>...</td>\n",
              "      <td>...</td>\n",
              "      <td>...</td>\n",
              "    </tr>\n",
              "    <tr>\n",
              "      <th>20155</th>\n",
              "      <td>2022-12-23</td>\n",
              "      <td>XOM</td>\n",
              "      <td>0.204510</td>\n",
              "      <td>0.207747</td>\n",
              "      <td>0.207235</td>\n",
              "      <td>0.210696</td>\n",
              "      <td>0.025717</td>\n",
              "    </tr>\n",
              "    <tr>\n",
              "      <th>20156</th>\n",
              "      <td>2022-12-27</td>\n",
              "      <td>XOM</td>\n",
              "      <td>0.209594</td>\n",
              "      <td>0.211542</td>\n",
              "      <td>0.211521</td>\n",
              "      <td>0.214048</td>\n",
              "      <td>0.026710</td>\n",
              "    </tr>\n",
              "    <tr>\n",
              "      <th>20157</th>\n",
              "      <td>2022-12-28</td>\n",
              "      <td>XOM</td>\n",
              "      <td>0.210997</td>\n",
              "      <td>0.210511</td>\n",
              "      <td>0.209456</td>\n",
              "      <td>0.210030</td>\n",
              "      <td>0.023752</td>\n",
              "    </tr>\n",
              "    <tr>\n",
              "      <th>20158</th>\n",
              "      <td>2022-12-29</td>\n",
              "      <td>XOM</td>\n",
              "      <td>0.206789</td>\n",
              "      <td>0.209897</td>\n",
              "      <td>0.209656</td>\n",
              "      <td>0.211850</td>\n",
              "      <td>0.023357</td>\n",
              "    </tr>\n",
              "    <tr>\n",
              "      <th>20159</th>\n",
              "      <td>2022-12-30</td>\n",
              "      <td>XOM</td>\n",
              "      <td>0.208148</td>\n",
              "      <td>0.211607</td>\n",
              "      <td>0.211033</td>\n",
              "      <td>0.214292</td>\n",
              "      <td>0.026328</td>\n",
              "    </tr>\n",
              "  </tbody>\n",
              "</table>\n",
              "<p>20160 rows × 7 columns</p>\n",
              "</div>"
            ],
            "text/plain": [
              "            Date Ticker      Open      High       Low     Close    Volume\n",
              "0     2019-01-02   AAPL  0.057499  0.058918  0.057964  0.059680  0.346477\n",
              "1     2019-01-03   AAPL  0.051346  0.051507  0.050973  0.050694  0.856169\n",
              "2     2019-01-04   AAPL  0.051657  0.053104  0.052002  0.054161  0.549024\n",
              "3     2019-01-07   AAPL  0.054008  0.053262  0.053203  0.053973  0.513062\n",
              "4     2019-01-08   AAPL  0.054493  0.054950  0.054700  0.055584  0.383907\n",
              "...          ...    ...       ...       ...       ...       ...       ...\n",
              "20155 2022-12-23    XOM  0.204510  0.207747  0.207235  0.210696  0.025717\n",
              "20156 2022-12-27    XOM  0.209594  0.211542  0.211521  0.214048  0.026710\n",
              "20157 2022-12-28    XOM  0.210997  0.210511  0.209456  0.210030  0.023752\n",
              "20158 2022-12-29    XOM  0.206789  0.209897  0.209656  0.211850  0.023357\n",
              "20159 2022-12-30    XOM  0.208148  0.211607  0.211033  0.214292  0.026328\n",
              "\n",
              "[20160 rows x 7 columns]"
            ]
          },
          "execution_count": 374,
          "metadata": {},
          "output_type": "execute_result"
        }
      ],
      "source": [
        "from sklearn.preprocessing import MinMaxScaler\n",
        "scaler = MinMaxScaler()\n",
        "scaler1 = MinMaxScaler()\n",
        "feature_cols = ['Open', 'High', 'Low', 'Close']\n",
        "df[feature_cols] = scaler.fit_transform(df[feature_cols])\n",
        "df[\"Volume\"] = scaler1.fit_transform(df[[\"Volume\"]])\n",
        "df"
      ]
    },
    {
      "cell_type": "code",
      "execution_count": 375,
      "metadata": {
        "colab": {
          "base_uri": "https://localhost:8080/",
          "height": 564
        },
        "id": "kTyUA8WJVsWI",
        "outputId": "8f4f6b23-e288-43ca-8cc9-8ec3ce6647d6"
      },
      "outputs": [
        {
          "data": {
            "image/png": "[encoded data removed]",
            "text/plain": [
              "<Figure size 1200x600 with 1 Axes>"
            ]
          },
          "metadata": {},
          "output_type": "display_data"
        }
      ],
      "source": [
        "aapl = df[df[\"Ticker\"] == \"AAPL\"]\n",
        "plt.figure(figsize=(12, 6))\n",
        "plt.plot(aapl.index, aapl['Close'], label='Close Price')\n",
        "plt.title('AAPL Close Price (2019-2022)')\n",
        "plt.xlabel('Date')\n",
        "plt.ylabel('Price')\n",
        "plt.legend()\n",
        "plt.show()"
      ]
    },
    {
      "cell_type": "code",
      "execution_count": 376,
      "metadata": {
        "colab": {
          "base_uri": "https://localhost:8080/"
        },
        "id": "D84su0QlV6pl",
        "outputId": "8bcf957e-ddd5-41c9-9f74-e15a320d2e9c"
      },
      "outputs": [
        {
          "name": "stdout",
          "output_type": "stream",
          "text": [
            "Ticker to index mapping: {'AAPL': 0, 'AMZN': 1, 'BA': 2, 'BAC': 3, 'C': 4, 'CAT': 5, 'CVX': 6, 'DUK': 7, 'GOOGL': 8, 'JNJ': 9, 'JPM': 10, 'KO': 11, 'MRK': 12, 'MSFT': 13, 'PFE': 14, 'PG': 15, 'T': 16, 'VZ': 17, 'WMT': 18, 'XOM': 19}\n"
          ]
        }
      ],
      "source": [
        "stocks = ['AAPL', 'AMZN', 'BA', 'BAC', 'C', 'CAT', 'CVX', 'DUK', 'GOOGL', 'JNJ', 'JPM' ,'KO', 'MRK', 'MSFT', 'PFE', 'PG', 'T', 'VZ', 'WMT', 'XOM']\n",
        "\n",
        "ticker_to_idx = {ticker: idx for idx, ticker in enumerate(sorted(tickers))}\n",
        "print(\"Ticker to index mapping:\", ticker_to_idx)"
      ]
    },
    {
      "cell_type": "code",
      "execution_count": 377,
      "metadata": {
        "colab": {
          "base_uri": "https://localhost:8080/"
        },
        "id": "lwjo9VzXZY32",
        "outputId": "c36d54ea-78f2-4ebd-affa-558cafb9cecc"
      },
      "outputs": [
        {
          "name": "stdout",
          "output_type": "stream",
          "text": [
            "Hyperedge 'Tech': ['AAPL', 'GOOGL', 'MSFT', 'AMZN'] -> [0, 8, 13, 1]\n",
            "Hyperedge 'Finance': ['JPM', 'BAC', 'C'] -> [10, 3, 4]\n",
            "Hyperedge 'Healthcare': ['JNJ', 'PFE', 'MRK'] -> [9, 14, 12]\n",
            "Hyperedge 'Energy': ['XOM', 'CVX'] -> [19, 6]\n",
            "Hyperedge 'Consumer': ['WMT', 'PG', 'KO'] -> [18, 15, 11]\n",
            "Hyperedge 'Industrials': ['BA', 'CAT'] -> [2, 5]\n",
            "Hyperedge 'Communications': ['VZ', 'T'] -> [17, 16]\n",
            "Hyperedge 'Utilities': ['DUK'] -> [7]\n"
          ]
        }
      ],
      "source": [
        "hyperedge_indices = []\n",
        "for he_name, ticker in hyperedges.items():\n",
        "    indices = [ticker_to_idx[t] for t in ticker]\n",
        "    print(f\"Hyperedge '{he_name}': {ticker} -> {indices}\")\n",
        "    hyperedge_indices.append(indices)"
      ]
    },
    {
      "cell_type": "code",
      "execution_count": 378,
      "metadata": {
        "colab": {
          "base_uri": "https://localhost:8080/"
        },
        "id": "4ElUuAUBdm8X",
        "outputId": "02b776f0-d909-4ae4-f897-069b5a1f0348"
      },
      "outputs": [
        {
          "data": {
            "text/plain": [
              "[[0, 8, 13, 1],\n",
              " [10, 3, 4],\n",
              " [9, 14, 12],\n",
              " [19, 6],\n",
              " [18, 15, 11],\n",
              " [2, 5],\n",
              " [17, 16],\n",
              " [7]]"
            ]
          },
          "execution_count": 378,
          "metadata": {},
          "output_type": "execute_result"
        }
      ],
      "source": [
        "hyperedge_indices"
      ]
    },
    {
      "cell_type": "markdown",
      "metadata": {
        "id": "h9otHKV2esuF"
      },
      "source": [
        "## clique representation"
      ]
    },
    {
      "cell_type": "code",
      "execution_count": 379,
      "metadata": {
        "colab": {
          "base_uri": "https://localhost:8080/"
        },
        "id": "xD5DhdXneEpJ",
        "outputId": "6c535a58-018d-4b1c-e80c-62251c10376f"
      },
      "outputs": [
        {
          "data": {
            "text/plain": [
              "array([[0, 1, 0, 0, 0, 0, 0, 0, 1, 0, 0, 0, 0, 1, 0, 0, 0, 0, 0, 0],\n",
              "       [1, 0, 0, 0, 0, 0, 0, 0, 1, 0, 0, 0, 0, 1, 0, 0, 0, 0, 0, 0],\n",
              "       [0, 0, 0, 0, 0, 1, 0, 0, 0, 0, 0, 0, 0, 0, 0, 0, 0, 0, 0, 0],\n",
              "       [0, 0, 0, 0, 1, 0, 0, 0, 0, 0, 1, 0, 0, 0, 0, 0, 0, 0, 0, 0],\n",
              "       [0, 0, 0, 1, 0, 0, 0, 0, 0, 0, 1, 0, 0, 0, 0, 0, 0, 0, 0, 0],\n",
              "       [0, 0, 1, 0, 0, 0, 0, 0, 0, 0, 0, 0, 0, 0, 0, 0, 0, 0, 0, 0],\n",
              "       [0, 0, 0, 0, 0, 0, 0, 0, 0, 0, 0, 0, 0, 0, 0, 0, 0, 0, 0, 1],\n",
              "       [0, 0, 0, 0, 0, 0, 0, 0, 0, 0, 0, 0, 0, 0, 0, 0, 0, 0, 0, 0],\n",
              "       [1, 1, 0, 0, 0, 0, 0, 0, 0, 0, 0, 0, 0, 1, 0, 0, 0, 0, 0, 0],\n",
              "       [0, 0, 0, 0, 0, 0, 0, 0, 0, 0, 0, 0, 1, 0, 1, 0, 0, 0, 0, 0],\n",
              "       [0, 0, 0, 1, 1, 0, 0, 0, 0, 0, 0, 0, 0, 0, 0, 0, 0, 0, 0, 0],\n",
              "       [0, 0, 0, 0, 0, 0, 0, 0, 0, 0, 0, 0, 0, 0, 0, 1, 0, 0, 1, 0],\n",
              "       [0, 0, 0, 0, 0, 0, 0, 0, 0, 1, 0, 0, 0, 0, 1, 0, 0, 0, 0, 0],\n",
              "       [1, 1, 0, 0, 0, 0, 0, 0, 1, 0, 0, 0, 0, 0, 0, 0, 0, 0, 0, 0],\n",
              "       [0, 0, 0, 0, 0, 0, 0, 0, 0, 1, 0, 0, 1, 0, 0, 0, 0, 0, 0, 0],\n",
              "       [0, 0, 0, 0, 0, 0, 0, 0, 0, 0, 0, 1, 0, 0, 0, 0, 0, 0, 1, 0],\n",
              "       [0, 0, 0, 0, 0, 0, 0, 0, 0, 0, 0, 0, 0, 0, 0, 0, 0, 1, 0, 0],\n",
              "       [0, 0, 0, 0, 0, 0, 0, 0, 0, 0, 0, 0, 0, 0, 0, 0, 1, 0, 0, 0],\n",
              "       [0, 0, 0, 0, 0, 0, 0, 0, 0, 0, 0, 1, 0, 0, 0, 1, 0, 0, 0, 0],\n",
              "       [0, 0, 0, 0, 0, 0, 1, 0, 0, 0, 0, 0, 0, 0, 0, 0, 0, 0, 0, 0]])"
            ]
          },
          "execution_count": 379,
          "metadata": {},
          "output_type": "execute_result"
        }
      ],
      "source": [
        "adj_matrix = [[0 for i in range(20)] for j in range(20)]\n",
        "for hyperedge in hyperedge_indices:\n",
        "    for i in range(len(hyperedge)):\n",
        "        for j in range(i+1, len(hyperedge)):\n",
        "            adj_matrix[hyperedge[i]][hyperedge[j]] = 1\n",
        "            adj_matrix[hyperedge[j]][hyperedge[i]] = 1\n",
        "adj_matrix = np.array(adj_matrix)\n",
        "adj_matrix"
      ]
    },
    {
      "cell_type": "code",
      "execution_count": 380,
      "metadata": {
        "colab": {
          "base_uri": "https://localhost:8080/"
        },
        "id": "U_f0W1JKgzfl",
        "outputId": "8c77af39-1ad7-486e-95e8-fdbe8771a458"
      },
      "outputs": [
        {
          "data": {
            "text/plain": [
              "tensor([[ 0,  0,  0,  1,  1,  1,  2,  3,  3,  4,  4,  5,  6,  8,  8,  8,  9,  9,\n",
              "         10, 10, 11, 11, 12, 12, 13, 13, 13, 14, 14, 15, 15, 16, 17, 18, 18, 19],\n",
              "        [ 1,  8, 13,  0,  8, 13,  5,  4, 10,  3, 10,  2, 19,  0,  1, 13, 12, 14,\n",
              "          3,  4, 15, 18,  9, 14,  0,  1,  8,  9, 12, 11, 18, 17, 16, 11, 15,  6]])"
            ]
          },
          "execution_count": 380,
          "metadata": {},
          "output_type": "execute_result"
        }
      ],
      "source": [
        "import torch\n",
        "edge_index = torch.tensor(np.array(np.nonzero(adj_matrix)), dtype=torch.long)\n",
        "edge_index"
      ]
    },
    {
      "cell_type": "code",
      "execution_count": 382,
      "metadata": {
        "id": "v9iqFBTfhujB"
      },
      "outputs": [],
      "source": [
        "def get_features_for_date(df, date, tickers, feature_cols):\n",
        "    day_df = df[df['Date'] == date].set_index('Ticker')\n",
        "    day_df = day_df.reindex(tickers)\n",
        "    x = day_df[feature_cols].fillna(0).values\n",
        "    y = day_df[['Open', 'High', 'Low', 'Close', 'Volume']].fillna(0).values\n",
        "    return torch.tensor(x, dtype=torch.float), torch.tensor(y, dtype=torch.float)\n",
        "\n",
        "target_cols = ['Open', 'High', 'Low', 'Close', 'Volume']\n",
        "dates = sorted(df['Date'].unique())\n",
        "graph_snapshots = []\n",
        "tickers = sorted(df['Ticker'].unique())\n",
        "for date in dates:\n",
        "    x_t, y_t = get_features_for_date(df, date, tickers, target_cols)\n",
        "    graph_snapshots.append((x_t, y_t))"
      ]
    },
    {
      "cell_type": "code",
      "execution_count": 384,
      "metadata": {},
      "outputs": [],
      "source": [
        "# import torch\n",
        "# from torch_geometric.data import Data\n",
        "\n",
        "# def create_sliding_window_graphs(df, tickers, feature_cols, target_cols, window_size, edge_index):\n",
        "#     df = df.sort_values(['Ticker', 'Date']).reset_index(drop=True)\n",
        "#     all_dates = sorted(df['Date'].unique())\n",
        "#     graphs = []\n",
        "\n",
        "#     for current_date in all_dates[window_size:]:\n",
        "#         x_list, y_list = [], []\n",
        "\n",
        "#         for ticker in tickers:\n",
        "#             ticker_df = df[df['Ticker'] == ticker].reset_index(drop=True)\n",
        "#             date_idx = ticker_df[ticker_df['Date'] == current_date].index\n",
        "\n",
        "#             if len(date_idx) == 0 or date_idx[0] < window_size:\n",
        "#                 x = torch.zeros((window_size, len(feature_cols)))\n",
        "#                 y = torch.zeros(len(target_cols))\n",
        "#             else:\n",
        "#                 idx = date_idx[0]\n",
        "#                 window = ticker_df.iloc[idx - window_size:idx][feature_cols].values\n",
        "#                 x = torch.tensor(window, dtype=torch.float32)\n",
        "\n",
        "#                 target = ticker_df.iloc[idx][target_cols].astype(float).values\n",
        "#                 y = torch.tensor(target, dtype=torch.float32)\n",
        "\n",
        "#             x_list.append(x)\n",
        "#             y_list.append(y)\n",
        "\n",
        "#         x_tensor = torch.stack(x_list)             \n",
        "#         y_tensor = torch.stack(y_list)              \n",
        "#         graph = Data(x=x_tensor, edge_index=edge_index, y=y_tensor)\n",
        "#         graphs.append(graph)\n",
        "\n",
        "#     return graphs"
      ]
    },
    {
      "cell_type": "code",
      "execution_count": 385,
      "metadata": {},
      "outputs": [],
      "source": [
        "# target_cols = ['Open', 'High', 'Low', 'Close', 'Volume']\n",
        "# graph_snapshots = create_sliding_window_graphs(\n",
        "#     df=df,\n",
        "#     tickers=tickers,\n",
        "#     feature_cols=features,\n",
        "#     target_cols=target_cols,\n",
        "#     window_size=30,\n",
        "#     edge_index=edge_index  \n",
        "# )"
      ]
    },
    {
      "cell_type": "code",
      "execution_count": 387,
      "metadata": {
        "id": "2S8-JGc5jP8q"
      },
      "outputs": [],
      "source": [
        "from torch_geometric.data import Data\n",
        "\n",
        "graphs = []\n",
        "\n",
        "for x_t, y_t in graph_snapshots:\n",
        "    graph = Data(x=x_t, edge_index=edge_index, y=y_t)\n",
        "    graphs.append(graph)"
      ]
    },
    {
      "cell_type": "code",
      "execution_count": 389,
      "metadata": {
        "colab": {
          "base_uri": "https://localhost:8080/"
        },
        "id": "_dH0vSb4jY2b",
        "outputId": "9bcdca37-7679-4303-c666-ccd98f187865"
      },
      "outputs": [
        {
          "data": {
            "text/plain": [
              "Data(x=[20, 5], edge_index=[2, 36], y=[20, 5])"
            ]
          },
          "execution_count": 389,
          "metadata": {},
          "output_type": "execute_result"
        }
      ],
      "source": [
        "graphs[0]"
      ]
    },
    {
      "cell_type": "code",
      "execution_count": 390,
      "metadata": {
        "colab": {
          "base_uri": "https://localhost:8080/",
          "height": 424
        },
        "id": "K0lL4EwlzmLt",
        "outputId": "4e91666f-44bd-49f1-e573-c9e98651a7db"
      },
      "outputs": [
        {
          "data": {
            "text/html": [
              "<div>\n",
              "<style scoped>\n",
              "    .dataframe tbody tr th:only-of-type {\n",
              "        vertical-align: middle;\n",
              "    }\n",
              "\n",
              "    .dataframe tbody tr th {\n",
              "        vertical-align: top;\n",
              "    }\n",
              "\n",
              "    .dataframe thead th {\n",
              "        text-align: right;\n",
              "    }\n",
              "</style>\n",
              "<table border=\"1\" class=\"dataframe\">\n",
              "  <thead>\n",
              "    <tr style=\"text-align: right;\">\n",
              "      <th></th>\n",
              "      <th>Date</th>\n",
              "      <th>Ticker</th>\n",
              "      <th>Open</th>\n",
              "      <th>High</th>\n",
              "      <th>Low</th>\n",
              "      <th>Close</th>\n",
              "      <th>Volume</th>\n",
              "    </tr>\n",
              "  </thead>\n",
              "  <tbody>\n",
              "    <tr>\n",
              "      <th>0</th>\n",
              "      <td>2023-01-03</td>\n",
              "      <td>AAPL</td>\n",
              "      <td>128.782649</td>\n",
              "      <td>129.395518</td>\n",
              "      <td>122.742873</td>\n",
              "      <td>123.632530</td>\n",
              "      <td>112117500.0</td>\n",
              "    </tr>\n",
              "    <tr>\n",
              "      <th>1</th>\n",
              "      <td>2023-01-04</td>\n",
              "      <td>AAPL</td>\n",
              "      <td>125.431607</td>\n",
              "      <td>127.181268</td>\n",
              "      <td>123.642412</td>\n",
              "      <td>124.907700</td>\n",
              "      <td>89113600.0</td>\n",
              "    </tr>\n",
              "    <tr>\n",
              "      <th>2</th>\n",
              "      <td>2023-01-05</td>\n",
              "      <td>AAPL</td>\n",
              "      <td>125.668857</td>\n",
              "      <td>126.301500</td>\n",
              "      <td>123.326101</td>\n",
              "      <td>123.583107</td>\n",
              "      <td>80962700.0</td>\n",
              "    </tr>\n",
              "    <tr>\n",
              "      <th>3</th>\n",
              "      <td>2023-01-06</td>\n",
              "      <td>AAPL</td>\n",
              "      <td>124.561702</td>\n",
              "      <td>128.792501</td>\n",
              "      <td>123.454572</td>\n",
              "      <td>128.130203</td>\n",
              "      <td>87754700.0</td>\n",
              "    </tr>\n",
              "    <tr>\n",
              "      <th>4</th>\n",
              "      <td>2023-01-09</td>\n",
              "      <td>AAPL</td>\n",
              "      <td>128.970458</td>\n",
              "      <td>131.876670</td>\n",
              "      <td>128.397123</td>\n",
              "      <td>128.654129</td>\n",
              "      <td>70790800.0</td>\n",
              "    </tr>\n",
              "    <tr>\n",
              "      <th>...</th>\n",
              "      <td>...</td>\n",
              "      <td>...</td>\n",
              "      <td>...</td>\n",
              "      <td>...</td>\n",
              "      <td>...</td>\n",
              "      <td>...</td>\n",
              "      <td>...</td>\n",
              "    </tr>\n",
              "    <tr>\n",
              "      <th>1995</th>\n",
              "      <td>2023-12-22</td>\n",
              "      <td>XOM</td>\n",
              "      <td>98.058076</td>\n",
              "      <td>98.661898</td>\n",
              "      <td>97.588442</td>\n",
              "      <td>97.674706</td>\n",
              "      <td>12921800.0</td>\n",
              "    </tr>\n",
              "    <tr>\n",
              "      <th>1996</th>\n",
              "      <td>2023-12-26</td>\n",
              "      <td>XOM</td>\n",
              "      <td>98.470205</td>\n",
              "      <td>98.748153</td>\n",
              "      <td>97.875976</td>\n",
              "      <td>97.895142</td>\n",
              "      <td>16835100.0</td>\n",
              "    </tr>\n",
              "    <tr>\n",
              "      <th>1997</th>\n",
              "      <td>2023-12-27</td>\n",
              "      <td>XOM</td>\n",
              "      <td>97.799294</td>\n",
              "      <td>98.288101</td>\n",
              "      <td>97.128381</td>\n",
              "      <td>97.435089</td>\n",
              "      <td>14558800.0</td>\n",
              "    </tr>\n",
              "    <tr>\n",
              "      <th>1998</th>\n",
              "      <td>2023-12-28</td>\n",
              "      <td>XOM</td>\n",
              "      <td>97.176310</td>\n",
              "      <td>97.387168</td>\n",
              "      <td>95.968673</td>\n",
              "      <td>96.026184</td>\n",
              "      <td>16329300.0</td>\n",
              "    </tr>\n",
              "    <tr>\n",
              "      <th>1999</th>\n",
              "      <td>2023-12-29</td>\n",
              "      <td>XOM</td>\n",
              "      <td>96.198704</td>\n",
              "      <td>96.409555</td>\n",
              "      <td>95.479874</td>\n",
              "      <td>95.824913</td>\n",
              "      <td>17741400.0</td>\n",
              "    </tr>\n",
              "  </tbody>\n",
              "</table>\n",
              "<p>2000 rows × 7 columns</p>\n",
              "</div>"
            ],
            "text/plain": [
              "           Date Ticker        Open        High         Low       Close  \\\n",
              "0    2023-01-03   AAPL  128.782649  129.395518  122.742873  123.632530   \n",
              "1    2023-01-04   AAPL  125.431607  127.181268  123.642412  124.907700   \n",
              "2    2023-01-05   AAPL  125.668857  126.301500  123.326101  123.583107   \n",
              "3    2023-01-06   AAPL  124.561702  128.792501  123.454572  128.130203   \n",
              "4    2023-01-09   AAPL  128.970458  131.876670  128.397123  128.654129   \n",
              "...         ...    ...         ...         ...         ...         ...   \n",
              "1995 2023-12-22    XOM   98.058076   98.661898   97.588442   97.674706   \n",
              "1996 2023-12-26    XOM   98.470205   98.748153   97.875976   97.895142   \n",
              "1997 2023-12-27    XOM   97.799294   98.288101   97.128381   97.435089   \n",
              "1998 2023-12-28    XOM   97.176310   97.387168   95.968673   96.026184   \n",
              "1999 2023-12-29    XOM   96.198704   96.409555   95.479874   95.824913   \n",
              "\n",
              "           Volume  \n",
              "0     112117500.0  \n",
              "1      89113600.0  \n",
              "2      80962700.0  \n",
              "3      87754700.0  \n",
              "4      70790800.0  \n",
              "...           ...  \n",
              "1995   12921800.0  \n",
              "1996   16835100.0  \n",
              "1997   14558800.0  \n",
              "1998   16329300.0  \n",
              "1999   17741400.0  \n",
              "\n",
              "[2000 rows x 7 columns]"
            ]
          },
          "execution_count": 390,
          "metadata": {},
          "output_type": "execute_result"
        }
      ],
      "source": [
        "val_data = pd.read_csv('validation_stock_data.csv')\n",
        "val_data['Date'] = pd.to_datetime(val_data['Date'], format='%Y-%m-%d')\n",
        "val_data.sort_values(['Ticker', 'Date'], inplace=True)\n",
        "l = []\n",
        "val_tickers = sorted(val_data['Ticker'].unique())\n",
        "for ticker in val_tickers:\n",
        "    data = val_data[val_data[\"Ticker\"] == ticker]\n",
        "    valid_cols = []\n",
        "    for i in data.columns:\n",
        "        if data[i].isna().sum() == 0:\n",
        "            valid_cols.append(i)\n",
        "    a = data[valid_cols].values\n",
        "    for i in a:\n",
        "        l.append(i)\n",
        "df1 = pd.DataFrame(l, columns=[\"Date\", \"Ticker\", \"Open\", \"High\", \"Low\", \"Close\", \"Volume\"])\n",
        "df1"
      ]
    },
    {
      "cell_type": "code",
      "execution_count": 391,
      "metadata": {
        "colab": {
          "base_uri": "https://localhost:8080/",
          "height": 424
        },
        "id": "PS3gXg5cz4bl",
        "outputId": "7d8c9298-6fed-4fc7-dc4e-691dc68dfedd"
      },
      "outputs": [],
      "source": [
        "# import pandas as pd\n",
        "\n",
        "# df1['Return'] = df1.groupby('Ticker')['Close'].pct_change()\n",
        "# df1['Volatility'] = df1.groupby('Ticker')['Return'].rolling(window=30).std().reset_index(0, drop=True)\n",
        "# df1['Momentum'] = df1.groupby('Ticker')['Close'].pct_change(periods=5)\n",
        "# df1['Moving_Avg'] = df1.groupby('Ticker')['Close'].rolling(window=30).mean().reset_index(0, drop=True)\n",
        "\n",
        "# df1.fillna(0, inplace=True)\n",
        "\n",
        "# features = ['Open', 'High', 'Low', 'Close', 'Volume', 'Return', 'Volatility', 'Momentum', 'Moving_Avg']\n",
        "# df1"
      ]
    },
    {
      "cell_type": "code",
      "execution_count": 392,
      "metadata": {},
      "outputs": [
        {
          "data": {
            "text/html": [
              "<div>\n",
              "<style scoped>\n",
              "    .dataframe tbody tr th:only-of-type {\n",
              "        vertical-align: middle;\n",
              "    }\n",
              "\n",
              "    .dataframe tbody tr th {\n",
              "        vertical-align: top;\n",
              "    }\n",
              "\n",
              "    .dataframe thead th {\n",
              "        text-align: right;\n",
              "    }\n",
              "</style>\n",
              "<table border=\"1\" class=\"dataframe\">\n",
              "  <thead>\n",
              "    <tr style=\"text-align: right;\">\n",
              "      <th></th>\n",
              "      <th>Date</th>\n",
              "      <th>Ticker</th>\n",
              "      <th>Open</th>\n",
              "      <th>High</th>\n",
              "      <th>Low</th>\n",
              "      <th>Close</th>\n",
              "      <th>Volume</th>\n",
              "    </tr>\n",
              "  </thead>\n",
              "  <tbody>\n",
              "    <tr>\n",
              "      <th>0</th>\n",
              "      <td>2023-01-03</td>\n",
              "      <td>AAPL</td>\n",
              "      <td>0.274643</td>\n",
              "      <td>0.275465</td>\n",
              "      <td>0.263955</td>\n",
              "      <td>0.265559</td>\n",
              "      <td>0.261858</td>\n",
              "    </tr>\n",
              "    <tr>\n",
              "      <th>1</th>\n",
              "      <td>2023-01-04</td>\n",
              "      <td>AAPL</td>\n",
              "      <td>0.266719</td>\n",
              "      <td>0.270225</td>\n",
              "      <td>0.266111</td>\n",
              "      <td>0.268613</td>\n",
              "      <td>0.207849</td>\n",
              "    </tr>\n",
              "    <tr>\n",
              "      <th>2</th>\n",
              "      <td>2023-01-05</td>\n",
              "      <td>AAPL</td>\n",
              "      <td>0.267280</td>\n",
              "      <td>0.268143</td>\n",
              "      <td>0.265353</td>\n",
              "      <td>0.265441</td>\n",
              "      <td>0.188712</td>\n",
              "    </tr>\n",
              "    <tr>\n",
              "      <th>3</th>\n",
              "      <td>2023-01-06</td>\n",
              "      <td>AAPL</td>\n",
              "      <td>0.264663</td>\n",
              "      <td>0.274038</td>\n",
              "      <td>0.265660</td>\n",
              "      <td>0.276330</td>\n",
              "      <td>0.204658</td>\n",
              "    </tr>\n",
              "    <tr>\n",
              "      <th>4</th>\n",
              "      <td>2023-01-09</td>\n",
              "      <td>AAPL</td>\n",
              "      <td>0.275087</td>\n",
              "      <td>0.281336</td>\n",
              "      <td>0.277505</td>\n",
              "      <td>0.277585</td>\n",
              "      <td>0.164830</td>\n",
              "    </tr>\n",
              "    <tr>\n",
              "      <th>...</th>\n",
              "      <td>...</td>\n",
              "      <td>...</td>\n",
              "      <td>...</td>\n",
              "      <td>...</td>\n",
              "      <td>...</td>\n",
              "      <td>...</td>\n",
              "      <td>...</td>\n",
              "    </tr>\n",
              "    <tr>\n",
              "      <th>1995</th>\n",
              "      <td>2023-12-22</td>\n",
              "      <td>XOM</td>\n",
              "      <td>0.201997</td>\n",
              "      <td>0.202735</td>\n",
              "      <td>0.203673</td>\n",
              "      <td>0.203392</td>\n",
              "      <td>0.028963</td>\n",
              "    </tr>\n",
              "    <tr>\n",
              "      <th>1996</th>\n",
              "      <td>2023-12-26</td>\n",
              "      <td>XOM</td>\n",
              "      <td>0.202972</td>\n",
              "      <td>0.202939</td>\n",
              "      <td>0.204362</td>\n",
              "      <td>0.203920</td>\n",
              "      <td>0.038151</td>\n",
              "    </tr>\n",
              "    <tr>\n",
              "      <th>1997</th>\n",
              "      <td>2023-12-27</td>\n",
              "      <td>XOM</td>\n",
              "      <td>0.201385</td>\n",
              "      <td>0.201850</td>\n",
              "      <td>0.202570</td>\n",
              "      <td>0.202818</td>\n",
              "      <td>0.032807</td>\n",
              "    </tr>\n",
              "    <tr>\n",
              "      <th>1998</th>\n",
              "      <td>2023-12-28</td>\n",
              "      <td>XOM</td>\n",
              "      <td>0.199912</td>\n",
              "      <td>0.199718</td>\n",
              "      <td>0.199791</td>\n",
              "      <td>0.199444</td>\n",
              "      <td>0.036963</td>\n",
              "    </tr>\n",
              "    <tr>\n",
              "      <th>1999</th>\n",
              "      <td>2023-12-29</td>\n",
              "      <td>XOM</td>\n",
              "      <td>0.197601</td>\n",
              "      <td>0.197405</td>\n",
              "      <td>0.198620</td>\n",
              "      <td>0.198962</td>\n",
              "      <td>0.040279</td>\n",
              "    </tr>\n",
              "  </tbody>\n",
              "</table>\n",
              "<p>2000 rows × 7 columns</p>\n",
              "</div>"
            ],
            "text/plain": [
              "           Date Ticker      Open      High       Low     Close    Volume\n",
              "0    2023-01-03   AAPL  0.274643  0.275465  0.263955  0.265559  0.261858\n",
              "1    2023-01-04   AAPL  0.266719  0.270225  0.266111  0.268613  0.207849\n",
              "2    2023-01-05   AAPL  0.267280  0.268143  0.265353  0.265441  0.188712\n",
              "3    2023-01-06   AAPL  0.264663  0.274038  0.265660  0.276330  0.204658\n",
              "4    2023-01-09   AAPL  0.275087  0.281336  0.277505  0.277585  0.164830\n",
              "...         ...    ...       ...       ...       ...       ...       ...\n",
              "1995 2023-12-22    XOM  0.201997  0.202735  0.203673  0.203392  0.028963\n",
              "1996 2023-12-26    XOM  0.202972  0.202939  0.204362  0.203920  0.038151\n",
              "1997 2023-12-27    XOM  0.201385  0.201850  0.202570  0.202818  0.032807\n",
              "1998 2023-12-28    XOM  0.199912  0.199718  0.199791  0.199444  0.036963\n",
              "1999 2023-12-29    XOM  0.197601  0.197405  0.198620  0.198962  0.040279\n",
              "\n",
              "[2000 rows x 7 columns]"
            ]
          },
          "execution_count": 392,
          "metadata": {},
          "output_type": "execute_result"
        }
      ],
      "source": [
        "df2 = df1[feature_cols].copy()\n",
        "df1[feature_cols] = scaler.transform(df1[feature_cols])\n",
        "df1[\"Volume\"] = scaler1.transform(df1[[\"Volume\"]])\n",
        "df1"
      ]
    },
    {
      "cell_type": "code",
      "execution_count": 394,
      "metadata": {
        "id": "ZDKSFDdZ0JKv"
      },
      "outputs": [],
      "source": [
        "dates = sorted(df1['Date'].unique())\n",
        "val_graph_snapshots = []\n",
        "\n",
        "for date in dates:\n",
        "    x_t, y_t = get_features_for_date(df1, date, tickers, target_cols)\n",
        "    val_graph_snapshots.append((x_t, y_t))"
      ]
    },
    {
      "cell_type": "code",
      "execution_count": 395,
      "metadata": {
        "colab": {
          "base_uri": "https://localhost:8080/"
        },
        "id": "Hsa3ba474JQ6",
        "outputId": "6b7db516-bca2-47af-c88d-89d04ab83b65"
      },
      "outputs": [],
      "source": [
        "# val_graph_snapshots = create_sliding_window_graphs(\n",
        "#     df=df1,\n",
        "#     tickers=tickers,\n",
        "#     feature_cols=features,\n",
        "#     target_cols=target_cols,\n",
        "#     window_size=30,\n",
        "#     edge_index=edge_index  \n",
        "# )\n",
        "# val_graph_snapshots[0]"
      ]
    },
    {
      "cell_type": "code",
      "execution_count": 396,
      "metadata": {
        "colab": {
          "base_uri": "https://localhost:8080/"
        },
        "id": "71Pj7aqh0ef8",
        "outputId": "c78fcd07-0c00-4cc0-dd08-4747a3532a81"
      },
      "outputs": [
        {
          "data": {
            "text/plain": [
              "Data(x=[20, 5], edge_index=[2, 36], y=[20, 5])"
            ]
          },
          "execution_count": 396,
          "metadata": {},
          "output_type": "execute_result"
        }
      ],
      "source": [
        "val_graphs = []\n",
        "\n",
        "for x_t, y_t in val_graph_snapshots:\n",
        "    graph = Data(x=x_t, edge_index=edge_index, y=y_t)\n",
        "    val_graphs.append(graph)\n",
        "val_graphs[0]"
      ]
    },
    {
      "cell_type": "code",
      "execution_count": 397,
      "metadata": {
        "id": "PntA7o4V1GRx"
      },
      "outputs": [],
      "source": [
        "from torch_geometric.nn import GATConv\n",
        "import torch.nn as nn\n",
        "import torch.nn.functional as F\n",
        "\n",
        "class StockGAT(nn.Module):\n",
        "    def __init__(self, in_channels, hidden_channels, out_channels=5, heads=32, dropout=0.3):\n",
        "        super().__init__()\n",
        "        self.gat1 = GATConv(in_channels, hidden_channels, heads=heads, dropout=dropout)\n",
        "        self.norm1 = nn.LayerNorm(hidden_channels * heads)\n",
        "\n",
        "        self.gat2 = GATConv(hidden_channels * heads, hidden_channels, heads=heads, dropout=dropout)\n",
        "        self.norm2 = nn.LayerNorm(hidden_channels * heads)\n",
        "\n",
        "        self.gat3 = GATConv(hidden_channels * heads, hidden_channels, heads=1)\n",
        "        self.norm3 = nn.LayerNorm(hidden_channels)\n",
        "\n",
        "        self.regressor = nn.Sequential(\n",
        "            nn.Linear(hidden_channels, hidden_channels // 2),\n",
        "            nn.ReLU(),\n",
        "            nn.Dropout(dropout),\n",
        "            nn.Linear(hidden_channels // 2, out_channels)\n",
        "        )\n",
        "\n",
        "    def forward(self, x, edge_index):\n",
        "        x = F.elu(self.gat1(x, edge_index))\n",
        "        x = self.norm1(x)\n",
        "\n",
        "        x = F.elu(self.gat2(x, edge_index))\n",
        "        x = self.norm2(x)\n",
        "\n",
        "        x = F.elu(self.gat3(x, edge_index))\n",
        "        x = self.norm3(x)\n",
        "\n",
        "        out = self.regressor(x)\n",
        "        return out"
      ]
    },
    {
      "cell_type": "code",
      "execution_count": 398,
      "metadata": {
        "id": "g1dKmAdd1k0i"
      },
      "outputs": [],
      "source": [
        "# model = HybridTemporalGAT(\n",
        "#     input_dim=len(features),\n",
        "#     lstm_hidden=32,\n",
        "#     gat_hidden=32,\n",
        "#     out_channels=len(target_cols),\n",
        "#     heads=16,\n",
        "#     dropout=0.3,\n",
        "#     window_size=30\n",
        "# )\n",
        "\n",
        "model = StockGAT(\n",
        "    in_channels=len(target_cols),\n",
        "    hidden_channels=128,\n",
        "    out_channels=5,\n",
        "    heads=32,\n",
        "    dropout=0.3\n",
        ")\n",
        "optimizer = torch.optim.Adam(model.parameters(), lr=0.001, weight_decay=5e-4)\n",
        "loss_fn = torch.nn.MSELoss()\n",
        "scheduler = torch.optim.lr_scheduler.ReduceLROnPlateau(optimizer, mode='min', factor=0.5, patience=5, min_lr=1e-5)"
      ]
    },
    {
      "cell_type": "code",
      "execution_count": 399,
      "metadata": {
        "id": "TqjHi_Qv1n_0"
      },
      "outputs": [],
      "source": [
        "from torch_geometric.loader import DataLoader\n",
        "\n",
        "train_loader = DataLoader(graphs, batch_size=64, shuffle=True)\n",
        "val_loader = DataLoader(val_graphs, batch_size=64, shuffle=False)"
      ]
    },
    {
      "cell_type": "code",
      "execution_count": 400,
      "metadata": {
        "colab": {
          "base_uri": "https://localhost:8080/",
          "height": 841
        },
        "id": "eYYACw-22ccM",
        "outputId": "a30c3059-b562-4dc9-cc50-e87ebaea2913"
      },
      "outputs": [
        {
          "name": "stderr",
          "output_type": "stream",
          "text": [
            "[Epoch 1] Training:   0%|          | 0/16 [00:00<?, ?it/s]"
          ]
        },
        {
          "name": "stderr",
          "output_type": "stream",
          "text": [
            "                                                                   \r"
          ]
        },
        {
          "name": "stdout",
          "output_type": "stream",
          "text": [
            "Epoch 1 | Train Loss: 0.0558 | Val Loss: 0.0184\n"
          ]
        },
        {
          "name": "stderr",
          "output_type": "stream",
          "text": [
            "                                                                   \r"
          ]
        },
        {
          "name": "stdout",
          "output_type": "stream",
          "text": [
            "Epoch 2 | Train Loss: 0.0231 | Val Loss: 0.0189\n"
          ]
        },
        {
          "name": "stderr",
          "output_type": "stream",
          "text": [
            "                                                                   \r"
          ]
        },
        {
          "name": "stdout",
          "output_type": "stream",
          "text": [
            "Epoch 3 | Train Loss: 0.0201 | Val Loss: 0.0177\n"
          ]
        },
        {
          "name": "stderr",
          "output_type": "stream",
          "text": [
            "                                                                   \r"
          ]
        },
        {
          "name": "stdout",
          "output_type": "stream",
          "text": [
            "Epoch 4 | Train Loss: 0.0175 | Val Loss: 0.0175\n"
          ]
        },
        {
          "name": "stderr",
          "output_type": "stream",
          "text": [
            "                                                                   \r"
          ]
        },
        {
          "name": "stdout",
          "output_type": "stream",
          "text": [
            "Epoch 5 | Train Loss: 0.0154 | Val Loss: 0.0173\n"
          ]
        },
        {
          "name": "stderr",
          "output_type": "stream",
          "text": [
            "                                                                   \r"
          ]
        },
        {
          "name": "stdout",
          "output_type": "stream",
          "text": [
            "Epoch 6 | Train Loss: 0.0137 | Val Loss: 0.0175\n"
          ]
        },
        {
          "name": "stderr",
          "output_type": "stream",
          "text": [
            "                                                                   \r"
          ]
        },
        {
          "name": "stdout",
          "output_type": "stream",
          "text": [
            "Epoch 7 | Train Loss: 0.0127 | Val Loss: 0.0187\n"
          ]
        },
        {
          "name": "stderr",
          "output_type": "stream",
          "text": [
            "                                                                   \r"
          ]
        },
        {
          "name": "stdout",
          "output_type": "stream",
          "text": [
            "Epoch 8 | Train Loss: 0.0124 | Val Loss: 0.0191\n"
          ]
        },
        {
          "name": "stderr",
          "output_type": "stream",
          "text": [
            "                                                                   \r"
          ]
        },
        {
          "name": "stdout",
          "output_type": "stream",
          "text": [
            "Epoch 9 | Train Loss: 0.0119 | Val Loss: 0.0195\n"
          ]
        },
        {
          "name": "stderr",
          "output_type": "stream",
          "text": [
            "                                                                    \r"
          ]
        },
        {
          "name": "stdout",
          "output_type": "stream",
          "text": [
            "Epoch 10 | Train Loss: 0.0116 | Val Loss: 0.0197\n"
          ]
        },
        {
          "name": "stderr",
          "output_type": "stream",
          "text": [
            "                                                                    \r"
          ]
        },
        {
          "name": "stdout",
          "output_type": "stream",
          "text": [
            "Epoch 11 | Train Loss: 0.0115 | Val Loss: 0.0195\n"
          ]
        },
        {
          "name": "stderr",
          "output_type": "stream",
          "text": [
            "                                                                    \r"
          ]
        },
        {
          "name": "stdout",
          "output_type": "stream",
          "text": [
            "Epoch 12 | Train Loss: 0.0111 | Val Loss: 0.0199\n"
          ]
        },
        {
          "name": "stderr",
          "output_type": "stream",
          "text": [
            "                                                                    \r"
          ]
        },
        {
          "name": "stdout",
          "output_type": "stream",
          "text": [
            "Epoch 13 | Train Loss: 0.0110 | Val Loss: 0.0194\n"
          ]
        },
        {
          "name": "stderr",
          "output_type": "stream",
          "text": [
            "                                                                    \r"
          ]
        },
        {
          "name": "stdout",
          "output_type": "stream",
          "text": [
            "Epoch 14 | Train Loss: 0.0111 | Val Loss: 0.0197\n"
          ]
        },
        {
          "name": "stderr",
          "output_type": "stream",
          "text": [
            "                                                                    \r"
          ]
        },
        {
          "name": "stdout",
          "output_type": "stream",
          "text": [
            "Epoch 15 | Train Loss: 0.0111 | Val Loss: 0.0188\n"
          ]
        },
        {
          "name": "stderr",
          "output_type": "stream",
          "text": [
            "                                                                    \r"
          ]
        },
        {
          "name": "stdout",
          "output_type": "stream",
          "text": [
            "Epoch 16 | Train Loss: 0.0109 | Val Loss: 0.0182\n"
          ]
        },
        {
          "name": "stderr",
          "output_type": "stream",
          "text": [
            "                                                                    \r"
          ]
        },
        {
          "name": "stdout",
          "output_type": "stream",
          "text": [
            "Epoch 17 | Train Loss: 0.0108 | Val Loss: 0.0189\n"
          ]
        },
        {
          "name": "stderr",
          "output_type": "stream",
          "text": [
            "                                                                    \r"
          ]
        },
        {
          "name": "stdout",
          "output_type": "stream",
          "text": [
            "Epoch 18 | Train Loss: 0.0108 | Val Loss: 0.0172\n"
          ]
        },
        {
          "name": "stderr",
          "output_type": "stream",
          "text": [
            "                                                                    \r"
          ]
        },
        {
          "name": "stdout",
          "output_type": "stream",
          "text": [
            "Epoch 19 | Train Loss: 0.0106 | Val Loss: 0.0196\n"
          ]
        },
        {
          "name": "stderr",
          "output_type": "stream",
          "text": [
            "                                                                    \r"
          ]
        },
        {
          "name": "stdout",
          "output_type": "stream",
          "text": [
            "Epoch 20 | Train Loss: 0.0106 | Val Loss: 0.0195\n"
          ]
        },
        {
          "name": "stderr",
          "output_type": "stream",
          "text": [
            "                                                                    \r"
          ]
        },
        {
          "name": "stdout",
          "output_type": "stream",
          "text": [
            "Epoch 21 | Train Loss: 0.0105 | Val Loss: 0.0198\n"
          ]
        },
        {
          "name": "stderr",
          "output_type": "stream",
          "text": [
            "                                                                    \r"
          ]
        },
        {
          "name": "stdout",
          "output_type": "stream",
          "text": [
            "Epoch 22 | Train Loss: 0.0105 | Val Loss: 0.0182\n"
          ]
        },
        {
          "name": "stderr",
          "output_type": "stream",
          "text": [
            "                                                                    \r"
          ]
        },
        {
          "name": "stdout",
          "output_type": "stream",
          "text": [
            "Epoch 23 | Train Loss: 0.0104 | Val Loss: 0.0185\n"
          ]
        },
        {
          "name": "stderr",
          "output_type": "stream",
          "text": [
            "                                                                    \r"
          ]
        },
        {
          "name": "stdout",
          "output_type": "stream",
          "text": [
            "Epoch 24 | Train Loss: 0.0106 | Val Loss: 0.0197\n"
          ]
        },
        {
          "name": "stderr",
          "output_type": "stream",
          "text": [
            "                                                                    \r"
          ]
        },
        {
          "name": "stdout",
          "output_type": "stream",
          "text": [
            "Epoch 25 | Train Loss: 0.0104 | Val Loss: 0.0182\n"
          ]
        },
        {
          "name": "stderr",
          "output_type": "stream",
          "text": [
            "                                                                    \r"
          ]
        },
        {
          "name": "stdout",
          "output_type": "stream",
          "text": [
            "Epoch 26 | Train Loss: 0.0104 | Val Loss: 0.0194\n"
          ]
        },
        {
          "name": "stderr",
          "output_type": "stream",
          "text": [
            "                                                                    \r"
          ]
        },
        {
          "name": "stdout",
          "output_type": "stream",
          "text": [
            "Epoch 27 | Train Loss: 0.0104 | Val Loss: 0.0182\n"
          ]
        },
        {
          "name": "stderr",
          "output_type": "stream",
          "text": [
            "                                                                    \r"
          ]
        },
        {
          "name": "stdout",
          "output_type": "stream",
          "text": [
            "Epoch 28 | Train Loss: 0.0105 | Val Loss: 0.0183\n"
          ]
        },
        {
          "name": "stderr",
          "output_type": "stream",
          "text": [
            "                                                                    \r"
          ]
        },
        {
          "name": "stdout",
          "output_type": "stream",
          "text": [
            "Epoch 29 | Train Loss: 0.0104 | Val Loss: 0.0182\n"
          ]
        },
        {
          "name": "stderr",
          "output_type": "stream",
          "text": [
            "                                                                    \r"
          ]
        },
        {
          "name": "stdout",
          "output_type": "stream",
          "text": [
            "Epoch 30 | Train Loss: 0.0104 | Val Loss: 0.0187\n"
          ]
        },
        {
          "name": "stderr",
          "output_type": "stream",
          "text": [
            "                                                                    \r"
          ]
        },
        {
          "name": "stdout",
          "output_type": "stream",
          "text": [
            "Epoch 31 | Train Loss: 0.0102 | Val Loss: 0.0189\n"
          ]
        },
        {
          "name": "stderr",
          "output_type": "stream",
          "text": [
            "                                                                    \r"
          ]
        },
        {
          "name": "stdout",
          "output_type": "stream",
          "text": [
            "Epoch 32 | Train Loss: 0.0102 | Val Loss: 0.0182\n"
          ]
        },
        {
          "name": "stderr",
          "output_type": "stream",
          "text": [
            "                                                                    \r"
          ]
        },
        {
          "name": "stdout",
          "output_type": "stream",
          "text": [
            "Epoch 33 | Train Loss: 0.0103 | Val Loss: 0.0183\n"
          ]
        },
        {
          "name": "stderr",
          "output_type": "stream",
          "text": [
            "                                                                    \r"
          ]
        },
        {
          "name": "stdout",
          "output_type": "stream",
          "text": [
            "Epoch 34 | Train Loss: 0.0103 | Val Loss: 0.0184\n"
          ]
        },
        {
          "name": "stderr",
          "output_type": "stream",
          "text": [
            "                                                                    \r"
          ]
        },
        {
          "name": "stdout",
          "output_type": "stream",
          "text": [
            "Epoch 35 | Train Loss: 0.0103 | Val Loss: 0.0184\n"
          ]
        },
        {
          "name": "stderr",
          "output_type": "stream",
          "text": [
            "                                                                    \r"
          ]
        },
        {
          "name": "stdout",
          "output_type": "stream",
          "text": [
            "Epoch 36 | Train Loss: 0.0103 | Val Loss: 0.0188\n"
          ]
        },
        {
          "name": "stderr",
          "output_type": "stream",
          "text": [
            "                                                                    \r"
          ]
        },
        {
          "name": "stdout",
          "output_type": "stream",
          "text": [
            "Epoch 37 | Train Loss: 0.0102 | Val Loss: 0.0185\n"
          ]
        },
        {
          "name": "stderr",
          "output_type": "stream",
          "text": [
            "                                                                    \r"
          ]
        },
        {
          "name": "stdout",
          "output_type": "stream",
          "text": [
            "Epoch 38 | Train Loss: 0.0102 | Val Loss: 0.0183\n"
          ]
        },
        {
          "name": "stderr",
          "output_type": "stream",
          "text": [
            "                                                                    \r"
          ]
        },
        {
          "name": "stdout",
          "output_type": "stream",
          "text": [
            "Epoch 39 | Train Loss: 0.0102 | Val Loss: 0.0188\n"
          ]
        },
        {
          "name": "stderr",
          "output_type": "stream",
          "text": [
            "                                                                    \r"
          ]
        },
        {
          "name": "stdout",
          "output_type": "stream",
          "text": [
            "Epoch 40 | Train Loss: 0.0101 | Val Loss: 0.0186\n"
          ]
        },
        {
          "name": "stderr",
          "output_type": "stream",
          "text": [
            "                                                                    \r"
          ]
        },
        {
          "name": "stdout",
          "output_type": "stream",
          "text": [
            "Epoch 41 | Train Loss: 0.0104 | Val Loss: 0.0181\n"
          ]
        },
        {
          "name": "stderr",
          "output_type": "stream",
          "text": [
            "                                                                    \r"
          ]
        },
        {
          "name": "stdout",
          "output_type": "stream",
          "text": [
            "Epoch 42 | Train Loss: 0.0103 | Val Loss: 0.0183\n"
          ]
        },
        {
          "name": "stderr",
          "output_type": "stream",
          "text": [
            "                                                                    \r"
          ]
        },
        {
          "name": "stdout",
          "output_type": "stream",
          "text": [
            "Epoch 43 | Train Loss: 0.0102 | Val Loss: 0.0180\n"
          ]
        },
        {
          "name": "stderr",
          "output_type": "stream",
          "text": [
            "                                                                    \r"
          ]
        },
        {
          "name": "stdout",
          "output_type": "stream",
          "text": [
            "Epoch 44 | Train Loss: 0.0103 | Val Loss: 0.0183\n"
          ]
        },
        {
          "name": "stderr",
          "output_type": "stream",
          "text": [
            "                                                                    \r"
          ]
        },
        {
          "name": "stdout",
          "output_type": "stream",
          "text": [
            "Epoch 45 | Train Loss: 0.0103 | Val Loss: 0.0182\n"
          ]
        },
        {
          "name": "stderr",
          "output_type": "stream",
          "text": [
            "                                                                    \r"
          ]
        },
        {
          "name": "stdout",
          "output_type": "stream",
          "text": [
            "Epoch 46 | Train Loss: 0.0104 | Val Loss: 0.0184\n"
          ]
        },
        {
          "name": "stderr",
          "output_type": "stream",
          "text": [
            "                                                                    \r"
          ]
        },
        {
          "name": "stdout",
          "output_type": "stream",
          "text": [
            "Epoch 47 | Train Loss: 0.0102 | Val Loss: 0.0186\n"
          ]
        },
        {
          "name": "stderr",
          "output_type": "stream",
          "text": [
            "                                                                    \r"
          ]
        },
        {
          "name": "stdout",
          "output_type": "stream",
          "text": [
            "Epoch 48 | Train Loss: 0.0103 | Val Loss: 0.0183\n"
          ]
        },
        {
          "name": "stderr",
          "output_type": "stream",
          "text": [
            "                                                                    \r"
          ]
        },
        {
          "name": "stdout",
          "output_type": "stream",
          "text": [
            "Epoch 49 | Train Loss: 0.0102 | Val Loss: 0.0183\n"
          ]
        },
        {
          "name": "stderr",
          "output_type": "stream",
          "text": [
            "                                                                    \r"
          ]
        },
        {
          "name": "stdout",
          "output_type": "stream",
          "text": [
            "Epoch 50 | Train Loss: 0.0101 | Val Loss: 0.0185\n"
          ]
        },
        {
          "name": "stderr",
          "output_type": "stream",
          "text": [
            "                                                                    \r"
          ]
        },
        {
          "name": "stdout",
          "output_type": "stream",
          "text": [
            "Epoch 51 | Train Loss: 0.0101 | Val Loss: 0.0186\n"
          ]
        },
        {
          "name": "stderr",
          "output_type": "stream",
          "text": [
            "                                                                    \r"
          ]
        },
        {
          "name": "stdout",
          "output_type": "stream",
          "text": [
            "Epoch 52 | Train Loss: 0.0102 | Val Loss: 0.0184\n"
          ]
        },
        {
          "name": "stderr",
          "output_type": "stream",
          "text": [
            "                                                                    \r"
          ]
        },
        {
          "name": "stdout",
          "output_type": "stream",
          "text": [
            "Epoch 53 | Train Loss: 0.0102 | Val Loss: 0.0179\n"
          ]
        },
        {
          "name": "stderr",
          "output_type": "stream",
          "text": [
            "                                                                    \r"
          ]
        },
        {
          "name": "stdout",
          "output_type": "stream",
          "text": [
            "Epoch 54 | Train Loss: 0.0102 | Val Loss: 0.0177\n"
          ]
        },
        {
          "name": "stderr",
          "output_type": "stream",
          "text": [
            "                                                                    \r"
          ]
        },
        {
          "name": "stdout",
          "output_type": "stream",
          "text": [
            "Epoch 55 | Train Loss: 0.0101 | Val Loss: 0.0180\n"
          ]
        },
        {
          "name": "stderr",
          "output_type": "stream",
          "text": [
            "                                                                    \r"
          ]
        },
        {
          "name": "stdout",
          "output_type": "stream",
          "text": [
            "Epoch 56 | Train Loss: 0.0103 | Val Loss: 0.0182\n"
          ]
        },
        {
          "name": "stderr",
          "output_type": "stream",
          "text": [
            "                                                                    \r"
          ]
        },
        {
          "name": "stdout",
          "output_type": "stream",
          "text": [
            "Epoch 57 | Train Loss: 0.0101 | Val Loss: 0.0183\n"
          ]
        },
        {
          "name": "stderr",
          "output_type": "stream",
          "text": [
            "                                                                    \r"
          ]
        },
        {
          "name": "stdout",
          "output_type": "stream",
          "text": [
            "Epoch 58 | Train Loss: 0.0103 | Val Loss: 0.0183\n"
          ]
        },
        {
          "name": "stderr",
          "output_type": "stream",
          "text": [
            "                                                                    \r"
          ]
        },
        {
          "name": "stdout",
          "output_type": "stream",
          "text": [
            "Epoch 59 | Train Loss: 0.0101 | Val Loss: 0.0184\n"
          ]
        },
        {
          "name": "stderr",
          "output_type": "stream",
          "text": [
            "                                                                    \r"
          ]
        },
        {
          "name": "stdout",
          "output_type": "stream",
          "text": [
            "Epoch 60 | Train Loss: 0.0102 | Val Loss: 0.0182\n"
          ]
        },
        {
          "name": "stderr",
          "output_type": "stream",
          "text": [
            "                                                                    \r"
          ]
        },
        {
          "name": "stdout",
          "output_type": "stream",
          "text": [
            "Epoch 61 | Train Loss: 0.0103 | Val Loss: 0.0177\n"
          ]
        },
        {
          "name": "stderr",
          "output_type": "stream",
          "text": [
            "                                                                    \r"
          ]
        },
        {
          "name": "stdout",
          "output_type": "stream",
          "text": [
            "Epoch 62 | Train Loss: 0.0101 | Val Loss: 0.0179\n"
          ]
        },
        {
          "name": "stderr",
          "output_type": "stream",
          "text": [
            "                                                                    \r"
          ]
        },
        {
          "name": "stdout",
          "output_type": "stream",
          "text": [
            "Epoch 63 | Train Loss: 0.0101 | Val Loss: 0.0181\n"
          ]
        },
        {
          "name": "stderr",
          "output_type": "stream",
          "text": [
            "                                                                    \r"
          ]
        },
        {
          "name": "stdout",
          "output_type": "stream",
          "text": [
            "Epoch 64 | Train Loss: 0.0102 | Val Loss: 0.0181\n"
          ]
        },
        {
          "name": "stderr",
          "output_type": "stream",
          "text": [
            "                                                                    \r"
          ]
        },
        {
          "name": "stdout",
          "output_type": "stream",
          "text": [
            "Epoch 65 | Train Loss: 0.0102 | Val Loss: 0.0181\n"
          ]
        },
        {
          "name": "stderr",
          "output_type": "stream",
          "text": [
            "                                                                    \r"
          ]
        },
        {
          "name": "stdout",
          "output_type": "stream",
          "text": [
            "Epoch 66 | Train Loss: 0.0101 | Val Loss: 0.0180\n"
          ]
        },
        {
          "name": "stderr",
          "output_type": "stream",
          "text": [
            "                                                                    \r"
          ]
        },
        {
          "name": "stdout",
          "output_type": "stream",
          "text": [
            "Epoch 67 | Train Loss: 0.0101 | Val Loss: 0.0180\n"
          ]
        },
        {
          "name": "stderr",
          "output_type": "stream",
          "text": [
            "                                                                    \r"
          ]
        },
        {
          "name": "stdout",
          "output_type": "stream",
          "text": [
            "Epoch 68 | Train Loss: 0.0101 | Val Loss: 0.0180\n"
          ]
        },
        {
          "name": "stderr",
          "output_type": "stream",
          "text": [
            "                                                                    \r"
          ]
        },
        {
          "name": "stdout",
          "output_type": "stream",
          "text": [
            "Epoch 69 | Train Loss: 0.0101 | Val Loss: 0.0181\n"
          ]
        },
        {
          "name": "stderr",
          "output_type": "stream",
          "text": [
            "                                                                    \r"
          ]
        },
        {
          "name": "stdout",
          "output_type": "stream",
          "text": [
            "Epoch 70 | Train Loss: 0.0103 | Val Loss: 0.0179\n"
          ]
        },
        {
          "name": "stderr",
          "output_type": "stream",
          "text": [
            "                                                                    \r"
          ]
        },
        {
          "name": "stdout",
          "output_type": "stream",
          "text": [
            "Epoch 71 | Train Loss: 0.0102 | Val Loss: 0.0180\n"
          ]
        },
        {
          "name": "stderr",
          "output_type": "stream",
          "text": [
            "                                                                    \r"
          ]
        },
        {
          "name": "stdout",
          "output_type": "stream",
          "text": [
            "Epoch 72 | Train Loss: 0.0101 | Val Loss: 0.0182\n"
          ]
        },
        {
          "name": "stderr",
          "output_type": "stream",
          "text": [
            "                                                                    \r"
          ]
        },
        {
          "name": "stdout",
          "output_type": "stream",
          "text": [
            "Epoch 73 | Train Loss: 0.0103 | Val Loss: 0.0183\n"
          ]
        },
        {
          "name": "stderr",
          "output_type": "stream",
          "text": [
            "                                                                    \r"
          ]
        },
        {
          "name": "stdout",
          "output_type": "stream",
          "text": [
            "Epoch 74 | Train Loss: 0.0101 | Val Loss: 0.0180\n"
          ]
        },
        {
          "name": "stderr",
          "output_type": "stream",
          "text": [
            "                                                                    \r"
          ]
        },
        {
          "name": "stdout",
          "output_type": "stream",
          "text": [
            "Epoch 75 | Train Loss: 0.0101 | Val Loss: 0.0179\n"
          ]
        },
        {
          "name": "stderr",
          "output_type": "stream",
          "text": [
            "                                                                    \r"
          ]
        },
        {
          "name": "stdout",
          "output_type": "stream",
          "text": [
            "Epoch 76 | Train Loss: 0.0101 | Val Loss: 0.0178\n"
          ]
        },
        {
          "name": "stderr",
          "output_type": "stream",
          "text": [
            "                                                                    \r"
          ]
        },
        {
          "name": "stdout",
          "output_type": "stream",
          "text": [
            "Epoch 77 | Train Loss: 0.0101 | Val Loss: 0.0180\n"
          ]
        },
        {
          "name": "stderr",
          "output_type": "stream",
          "text": [
            "                                                                    \r"
          ]
        },
        {
          "name": "stdout",
          "output_type": "stream",
          "text": [
            "Epoch 78 | Train Loss: 0.0101 | Val Loss: 0.0179\n"
          ]
        },
        {
          "name": "stderr",
          "output_type": "stream",
          "text": [
            "                                                                    \r"
          ]
        },
        {
          "name": "stdout",
          "output_type": "stream",
          "text": [
            "Epoch 79 | Train Loss: 0.0102 | Val Loss: 0.0179\n"
          ]
        },
        {
          "name": "stderr",
          "output_type": "stream",
          "text": [
            "                                                                    \r"
          ]
        },
        {
          "name": "stdout",
          "output_type": "stream",
          "text": [
            "Epoch 80 | Train Loss: 0.0102 | Val Loss: 0.0179\n"
          ]
        },
        {
          "name": "stderr",
          "output_type": "stream",
          "text": [
            "                                                                    \r"
          ]
        },
        {
          "name": "stdout",
          "output_type": "stream",
          "text": [
            "Epoch 81 | Train Loss: 0.0101 | Val Loss: 0.0183\n"
          ]
        },
        {
          "name": "stderr",
          "output_type": "stream",
          "text": [
            "                                                                    \r"
          ]
        },
        {
          "name": "stdout",
          "output_type": "stream",
          "text": [
            "Epoch 82 | Train Loss: 0.0101 | Val Loss: 0.0187\n"
          ]
        },
        {
          "name": "stderr",
          "output_type": "stream",
          "text": [
            "                                                                    \r"
          ]
        },
        {
          "name": "stdout",
          "output_type": "stream",
          "text": [
            "Epoch 83 | Train Loss: 0.0101 | Val Loss: 0.0183\n"
          ]
        },
        {
          "name": "stderr",
          "output_type": "stream",
          "text": [
            "                                                                    \r"
          ]
        },
        {
          "name": "stdout",
          "output_type": "stream",
          "text": [
            "Epoch 84 | Train Loss: 0.0101 | Val Loss: 0.0184\n"
          ]
        },
        {
          "name": "stderr",
          "output_type": "stream",
          "text": [
            "                                                                    \r"
          ]
        },
        {
          "name": "stdout",
          "output_type": "stream",
          "text": [
            "Epoch 85 | Train Loss: 0.0101 | Val Loss: 0.0183\n"
          ]
        },
        {
          "name": "stderr",
          "output_type": "stream",
          "text": [
            "                                                                    \r"
          ]
        },
        {
          "name": "stdout",
          "output_type": "stream",
          "text": [
            "Epoch 86 | Train Loss: 0.0102 | Val Loss: 0.0185\n"
          ]
        },
        {
          "name": "stderr",
          "output_type": "stream",
          "text": [
            "                                                                    \r"
          ]
        },
        {
          "name": "stdout",
          "output_type": "stream",
          "text": [
            "Epoch 87 | Train Loss: 0.0102 | Val Loss: 0.0182\n"
          ]
        },
        {
          "name": "stderr",
          "output_type": "stream",
          "text": [
            "                                                                    \r"
          ]
        },
        {
          "name": "stdout",
          "output_type": "stream",
          "text": [
            "Epoch 88 | Train Loss: 0.0101 | Val Loss: 0.0180\n"
          ]
        },
        {
          "name": "stderr",
          "output_type": "stream",
          "text": [
            "                                                                    \r"
          ]
        },
        {
          "name": "stdout",
          "output_type": "stream",
          "text": [
            "Epoch 89 | Train Loss: 0.0101 | Val Loss: 0.0181\n"
          ]
        },
        {
          "name": "stderr",
          "output_type": "stream",
          "text": [
            "                                                                    \r"
          ]
        },
        {
          "name": "stdout",
          "output_type": "stream",
          "text": [
            "Epoch 90 | Train Loss: 0.0100 | Val Loss: 0.0184\n"
          ]
        },
        {
          "name": "stderr",
          "output_type": "stream",
          "text": [
            "                                                                    \r"
          ]
        },
        {
          "name": "stdout",
          "output_type": "stream",
          "text": [
            "Epoch 91 | Train Loss: 0.0101 | Val Loss: 0.0183\n"
          ]
        },
        {
          "name": "stderr",
          "output_type": "stream",
          "text": [
            "                                                                    \r"
          ]
        },
        {
          "name": "stdout",
          "output_type": "stream",
          "text": [
            "Epoch 92 | Train Loss: 0.0101 | Val Loss: 0.0179\n"
          ]
        },
        {
          "name": "stderr",
          "output_type": "stream",
          "text": [
            "                                                                    \r"
          ]
        },
        {
          "name": "stdout",
          "output_type": "stream",
          "text": [
            "Epoch 93 | Train Loss: 0.0101 | Val Loss: 0.0179\n"
          ]
        },
        {
          "name": "stderr",
          "output_type": "stream",
          "text": [
            "                                                                    \r"
          ]
        },
        {
          "name": "stdout",
          "output_type": "stream",
          "text": [
            "Epoch 94 | Train Loss: 0.0101 | Val Loss: 0.0180\n"
          ]
        },
        {
          "name": "stderr",
          "output_type": "stream",
          "text": [
            "                                                                    \r"
          ]
        },
        {
          "name": "stdout",
          "output_type": "stream",
          "text": [
            "Epoch 95 | Train Loss: 0.0101 | Val Loss: 0.0179\n"
          ]
        },
        {
          "name": "stderr",
          "output_type": "stream",
          "text": [
            "                                                                    \r"
          ]
        },
        {
          "name": "stdout",
          "output_type": "stream",
          "text": [
            "Epoch 96 | Train Loss: 0.0101 | Val Loss: 0.0180\n"
          ]
        },
        {
          "name": "stderr",
          "output_type": "stream",
          "text": [
            "                                                                    \r"
          ]
        },
        {
          "name": "stdout",
          "output_type": "stream",
          "text": [
            "Epoch 97 | Train Loss: 0.0102 | Val Loss: 0.0180\n"
          ]
        },
        {
          "name": "stderr",
          "output_type": "stream",
          "text": [
            "                                                                    \r"
          ]
        },
        {
          "name": "stdout",
          "output_type": "stream",
          "text": [
            "Epoch 98 | Train Loss: 0.0100 | Val Loss: 0.0179\n"
          ]
        },
        {
          "name": "stderr",
          "output_type": "stream",
          "text": [
            "                                                                    \r"
          ]
        },
        {
          "name": "stdout",
          "output_type": "stream",
          "text": [
            "Epoch 99 | Train Loss: 0.0100 | Val Loss: 0.0179\n"
          ]
        },
        {
          "name": "stderr",
          "output_type": "stream",
          "text": [
            "                                                                     "
          ]
        },
        {
          "name": "stdout",
          "output_type": "stream",
          "text": [
            "Epoch 100 | Train Loss: 0.0101 | Val Loss: 0.0180\n"
          ]
        },
        {
          "name": "stderr",
          "output_type": "stream",
          "text": [
            "\r"
          ]
        }
      ],
      "source": [
        "from tqdm import tqdm\n",
        "\n",
        "device = torch.device('cuda' if torch.cuda.is_available() else 'cpu')\n",
        "model = model.to(device)\n",
        "edge_index = edge_index.to(device)\n",
        "epochs = 100\n",
        "train_losses, val_losses = [], []\n",
        "\n",
        "for epoch in range(epochs):\n",
        "    model.train()\n",
        "    train_loss = 0\n",
        "    for batch in tqdm(train_loader, desc=f\"[Epoch {epoch+1}] Training\", leave=False):\n",
        "        batch = batch.to(device)\n",
        "\n",
        "        optimizer.zero_grad()\n",
        "        out = model(batch.x, batch.edge_index)\n",
        "        loss = loss_fn(out, batch.y)\n",
        "        loss.backward()\n",
        "        optimizer.step()\n",
        "        train_loss += loss.item()\n",
        "\n",
        "    train_loss /= len(train_loader)\n",
        "    train_losses.append(train_loss)\n",
        "\n",
        "    model.eval()\n",
        "    val_loss = 0\n",
        "    with torch.no_grad():\n",
        "        for batch in tqdm(val_loader, desc=f\"[Epoch {epoch+1}] Validation\", leave=False):\n",
        "            batch = batch.to(device)\n",
        "            out = model(batch.x, batch.edge_index)\n",
        "            loss = loss_fn(out, batch.y)\n",
        "            val_loss += loss.item()\n",
        "\n",
        "    val_loss /= len(val_loader)\n",
        "    val_losses.append(val_loss)\n",
        "    scheduler.step(val_loss)\n",
        "    print(f\"Epoch {epoch+1} | Train Loss: {train_loss:.4f} | Val Loss: {val_loss:.4f}\")\n"
      ]
    },
    {
      "cell_type": "code",
      "execution_count": 401,
      "metadata": {
        "colab": {
          "base_uri": "https://localhost:8080/"
        },
        "id": "CZ25r_7e8LQL",
        "outputId": "c8422997-46ad-4199-f26d-a190e86b1cd5"
      },
      "outputs": [
        {
          "name": "stderr",
          "output_type": "stream",
          "text": [
            "                                                         \r"
          ]
        }
      ],
      "source": [
        "model.eval()\n",
        "preds_list, actuals_list = [], []\n",
        "\n",
        "with torch.no_grad():\n",
        "    for batch in tqdm(val_loader, desc=\"Making Predictions\", leave=False):\n",
        "        batch = batch.to(device)\n",
        "        preds = model(batch.x, batch.edge_index)\n",
        "\n",
        "        preds_list.append(preds.cpu())\n",
        "        actuals_list.append(batch.y.cpu())"
      ]
    },
    {
      "cell_type": "code",
      "execution_count": 410,
      "metadata": {
        "id": "w9deUpRm_-hM"
      },
      "outputs": [],
      "source": [
        "import numpy as np\n",
        "\n",
        "preds = torch.cat(preds_list, dim=0)\n",
        "actuals = torch.cat(actuals_list, dim=0) \n",
        "\n",
        "mask = actuals.abs().sum(dim=1) > 0\n",
        "\n",
        "preds = preds[mask].numpy() \n",
        "actuals = actuals[mask].numpy()"
      ]
    },
    {
      "cell_type": "code",
      "execution_count": 411,
      "metadata": {
        "colab": {
          "base_uri": "https://localhost:8080/"
        },
        "id": "OoHgem1CABqa",
        "outputId": "7c804ae8-7d69-4578-c0b5-777da93fb0fe"
      },
      "outputs": [
        {
          "name": "stdout",
          "output_type": "stream",
          "text": [
            "MAE: 2959398.5000, RMSE: 9633047.4814\n"
          ]
        }
      ],
      "source": [
        "from sklearn.metrics import mean_absolute_error, mean_squared_error\n",
        "\n",
        "preds[:, :4] = scaler.inverse_transform(preds[:, :4])\n",
        "actuals[:, :4] = scaler.inverse_transform(actuals[:, :4])\n",
        "preds[:, 4] = scaler1.inverse_transform(preds[:, 4].reshape(-1, 1)).reshape(-1)\n",
        "actuals[:, 4] = scaler1.inverse_transform(actuals[:, 4].reshape(-1, 1)).reshape(-1)\n",
        "\n",
        "\n",
        "mae = mean_absolute_error(actuals, preds)\n",
        "rmse = np.sqrt(mean_squared_error(actuals, preds))\n",
        "print(f\"MAE: {mae:.4f}, RMSE: {rmse:.4f}\")"
      ]
    },
    {
      "cell_type": "code",
      "execution_count": 412,
      "metadata": {
        "id": "o-TVD3YlAGkT"
      },
      "outputs": [],
      "source": [
        "a = pd.DataFrame(preds, columns=[\"Open\", \"High\", \"Low\", \"Close\", \"Volume\"])\n",
        "b = pd.DataFrame(actuals, columns=[\"Open\", \"High\", \"Low\", \"Close\", \"Volume\"])"
      ]
    },
    {
      "cell_type": "code",
      "execution_count": 413,
      "metadata": {
        "colab": {
          "base_uri": "https://localhost:8080/",
          "height": 424
        },
        "id": "-XZtvZV6ANKi",
        "outputId": "1daaa798-f99b-442c-e3b2-fa2391e8394b"
      },
      "outputs": [
        {
          "data": {
            "text/html": [
              "<div>\n",
              "<style scoped>\n",
              "    .dataframe tbody tr th:only-of-type {\n",
              "        vertical-align: middle;\n",
              "    }\n",
              "\n",
              "    .dataframe tbody tr th {\n",
              "        vertical-align: top;\n",
              "    }\n",
              "\n",
              "    .dataframe thead th {\n",
              "        text-align: right;\n",
              "    }\n",
              "</style>\n",
              "<table border=\"1\" class=\"dataframe\">\n",
              "  <thead>\n",
              "    <tr style=\"text-align: right;\">\n",
              "      <th></th>\n",
              "      <th>Open</th>\n",
              "      <th>High</th>\n",
              "      <th>Low</th>\n",
              "      <th>Close</th>\n",
              "      <th>Volume</th>\n",
              "    </tr>\n",
              "  </thead>\n",
              "  <tbody>\n",
              "    <tr>\n",
              "      <th>0</th>\n",
              "      <td>38.719727</td>\n",
              "      <td>38.361977</td>\n",
              "      <td>44.644096</td>\n",
              "      <td>41.910557</td>\n",
              "      <td>21484150.0</td>\n",
              "    </tr>\n",
              "    <tr>\n",
              "      <th>1</th>\n",
              "      <td>97.089348</td>\n",
              "      <td>92.740479</td>\n",
              "      <td>98.191948</td>\n",
              "      <td>97.966003</td>\n",
              "      <td>22242764.0</td>\n",
              "    </tr>\n",
              "    <tr>\n",
              "      <th>2</th>\n",
              "      <td>89.373383</td>\n",
              "      <td>84.681030</td>\n",
              "      <td>89.906891</td>\n",
              "      <td>90.684937</td>\n",
              "      <td>18699144.0</td>\n",
              "    </tr>\n",
              "    <tr>\n",
              "      <th>3</th>\n",
              "      <td>60.450592</td>\n",
              "      <td>57.709236</td>\n",
              "      <td>62.278851</td>\n",
              "      <td>63.629677</td>\n",
              "      <td>10947247.0</td>\n",
              "    </tr>\n",
              "    <tr>\n",
              "      <th>4</th>\n",
              "      <td>44.445580</td>\n",
              "      <td>43.404686</td>\n",
              "      <td>50.298904</td>\n",
              "      <td>51.176628</td>\n",
              "      <td>7261223.0</td>\n",
              "    </tr>\n",
              "    <tr>\n",
              "      <th>...</th>\n",
              "      <td>...</td>\n",
              "      <td>...</td>\n",
              "      <td>...</td>\n",
              "      <td>...</td>\n",
              "      <td>...</td>\n",
              "    </tr>\n",
              "    <tr>\n",
              "      <th>1995</th>\n",
              "      <td>54.620953</td>\n",
              "      <td>52.132835</td>\n",
              "      <td>57.738991</td>\n",
              "      <td>58.566895</td>\n",
              "      <td>9387039.0</td>\n",
              "    </tr>\n",
              "    <tr>\n",
              "      <th>1996</th>\n",
              "      <td>60.421627</td>\n",
              "      <td>57.682152</td>\n",
              "      <td>62.252880</td>\n",
              "      <td>63.597248</td>\n",
              "      <td>10948034.0</td>\n",
              "    </tr>\n",
              "    <tr>\n",
              "      <th>1997</th>\n",
              "      <td>-21.132351</td>\n",
              "      <td>-9.875484</td>\n",
              "      <td>12.329137</td>\n",
              "      <td>84.536819</td>\n",
              "      <td>25825920.0</td>\n",
              "    </tr>\n",
              "    <tr>\n",
              "      <th>1998</th>\n",
              "      <td>17.751537</td>\n",
              "      <td>15.018750</td>\n",
              "      <td>28.090721</td>\n",
              "      <td>49.581013</td>\n",
              "      <td>8399011.0</td>\n",
              "    </tr>\n",
              "    <tr>\n",
              "      <th>1999</th>\n",
              "      <td>50.040375</td>\n",
              "      <td>48.464264</td>\n",
              "      <td>53.638210</td>\n",
              "      <td>54.203823</td>\n",
              "      <td>10032396.0</td>\n",
              "    </tr>\n",
              "  </tbody>\n",
              "</table>\n",
              "<p>2000 rows × 5 columns</p>\n",
              "</div>"
            ],
            "text/plain": [
              "           Open       High        Low      Close      Volume\n",
              "0     38.719727  38.361977  44.644096  41.910557  21484150.0\n",
              "1     97.089348  92.740479  98.191948  97.966003  22242764.0\n",
              "2     89.373383  84.681030  89.906891  90.684937  18699144.0\n",
              "3     60.450592  57.709236  62.278851  63.629677  10947247.0\n",
              "4     44.445580  43.404686  50.298904  51.176628   7261223.0\n",
              "...         ...        ...        ...        ...         ...\n",
              "1995  54.620953  52.132835  57.738991  58.566895   9387039.0\n",
              "1996  60.421627  57.682152  62.252880  63.597248  10948034.0\n",
              "1997 -21.132351  -9.875484  12.329137  84.536819  25825920.0\n",
              "1998  17.751537  15.018750  28.090721  49.581013   8399011.0\n",
              "1999  50.040375  48.464264  53.638210  54.203823  10032396.0\n",
              "\n",
              "[2000 rows x 5 columns]"
            ]
          },
          "execution_count": 413,
          "metadata": {},
          "output_type": "execute_result"
        }
      ],
      "source": [
        "a"
      ]
    },
    {
      "cell_type": "code",
      "execution_count": 414,
      "metadata": {
        "colab": {
          "base_uri": "https://localhost:8080/",
          "height": 424
        },
        "id": "ohoDlvprANfe",
        "outputId": "caf5cfe2-1ad9-4baa-bec8-29cde2d50792"
      },
      "outputs": [
        {
          "data": {
            "text/html": [
              "<div>\n",
              "<style scoped>\n",
              "    .dataframe tbody tr th:only-of-type {\n",
              "        vertical-align: middle;\n",
              "    }\n",
              "\n",
              "    .dataframe tbody tr th {\n",
              "        vertical-align: top;\n",
              "    }\n",
              "\n",
              "    .dataframe thead th {\n",
              "        text-align: right;\n",
              "    }\n",
              "</style>\n",
              "<table border=\"1\" class=\"dataframe\">\n",
              "  <thead>\n",
              "    <tr style=\"text-align: right;\">\n",
              "      <th></th>\n",
              "      <th>Open</th>\n",
              "      <th>High</th>\n",
              "      <th>Low</th>\n",
              "      <th>Close</th>\n",
              "      <th>Volume</th>\n",
              "    </tr>\n",
              "  </thead>\n",
              "  <tbody>\n",
              "    <tr>\n",
              "      <th>0</th>\n",
              "      <td>128.782639</td>\n",
              "      <td>129.395523</td>\n",
              "      <td>122.742867</td>\n",
              "      <td>123.632530</td>\n",
              "      <td>112117496.0</td>\n",
              "    </tr>\n",
              "    <tr>\n",
              "      <th>1</th>\n",
              "      <td>192.949997</td>\n",
              "      <td>197.180008</td>\n",
              "      <td>192.399994</td>\n",
              "      <td>195.389999</td>\n",
              "      <td>8624601.0</td>\n",
              "    </tr>\n",
              "    <tr>\n",
              "      <th>2</th>\n",
              "      <td>94.096855</td>\n",
              "      <td>94.643936</td>\n",
              "      <td>93.175957</td>\n",
              "      <td>94.552750</td>\n",
              "      <td>2688900.0</td>\n",
              "    </tr>\n",
              "    <tr>\n",
              "      <th>3</th>\n",
              "      <td>164.409119</td>\n",
              "      <td>166.481033</td>\n",
              "      <td>164.269119</td>\n",
              "      <td>166.303711</td>\n",
              "      <td>6344900.0</td>\n",
              "    </tr>\n",
              "    <tr>\n",
              "      <th>4</th>\n",
              "      <td>127.603554</td>\n",
              "      <td>129.018875</td>\n",
              "      <td>126.329773</td>\n",
              "      <td>127.490326</td>\n",
              "      <td>11054801.0</td>\n",
              "    </tr>\n",
              "    <tr>\n",
              "      <th>...</th>\n",
              "      <td>...</td>\n",
              "      <td>...</td>\n",
              "      <td>...</td>\n",
              "      <td>...</td>\n",
              "      <td>...</td>\n",
              "    </tr>\n",
              "    <tr>\n",
              "      <th>1995</th>\n",
              "      <td>150.502380</td>\n",
              "      <td>150.877426</td>\n",
              "      <td>149.992737</td>\n",
              "      <td>150.723572</td>\n",
              "      <td>4311100.0</td>\n",
              "    </tr>\n",
              "    <tr>\n",
              "      <th>1996</th>\n",
              "      <td>165.182083</td>\n",
              "      <td>165.852524</td>\n",
              "      <td>164.822556</td>\n",
              "      <td>165.279251</td>\n",
              "      <td>6431800.0</td>\n",
              "    </tr>\n",
              "    <tr>\n",
              "      <th>1997</th>\n",
              "      <td>34.434586</td>\n",
              "      <td>34.784641</td>\n",
              "      <td>34.379314</td>\n",
              "      <td>34.729370</td>\n",
              "      <td>16205201.0</td>\n",
              "    </tr>\n",
              "    <tr>\n",
              "      <th>1998</th>\n",
              "      <td>51.745960</td>\n",
              "      <td>51.926628</td>\n",
              "      <td>51.624420</td>\n",
              "      <td>51.785378</td>\n",
              "      <td>21948300.0</td>\n",
              "    </tr>\n",
              "    <tr>\n",
              "      <th>1999</th>\n",
              "      <td>96.198708</td>\n",
              "      <td>96.409554</td>\n",
              "      <td>95.479874</td>\n",
              "      <td>95.824921</td>\n",
              "      <td>17741400.0</td>\n",
              "    </tr>\n",
              "  </tbody>\n",
              "</table>\n",
              "<p>2000 rows × 5 columns</p>\n",
              "</div>"
            ],
            "text/plain": [
              "            Open        High         Low       Close       Volume\n",
              "0     128.782639  129.395523  122.742867  123.632530  112117496.0\n",
              "1     192.949997  197.180008  192.399994  195.389999    8624601.0\n",
              "2      94.096855   94.643936   93.175957   94.552750    2688900.0\n",
              "3     164.409119  166.481033  164.269119  166.303711    6344900.0\n",
              "4     127.603554  129.018875  126.329773  127.490326   11054801.0\n",
              "...          ...         ...         ...         ...          ...\n",
              "1995  150.502380  150.877426  149.992737  150.723572    4311100.0\n",
              "1996  165.182083  165.852524  164.822556  165.279251    6431800.0\n",
              "1997   34.434586   34.784641   34.379314   34.729370   16205201.0\n",
              "1998   51.745960   51.926628   51.624420   51.785378   21948300.0\n",
              "1999   96.198708   96.409554   95.479874   95.824921   17741400.0\n",
              "\n",
              "[2000 rows x 5 columns]"
            ]
          },
          "execution_count": 414,
          "metadata": {},
          "output_type": "execute_result"
        }
      ],
      "source": [
        "b"
      ]
    },
    {
      "cell_type": "code",
      "execution_count": 431,
      "metadata": {
        "id": "h0-oXklrAOKS"
      },
      "outputs": [
        {
          "data": {
            "image/png": "[encoded data removed]",
            "text/plain": [
              "<Figure size 1200x500 with 1 Axes>"
            ]
          },
          "metadata": {},
          "output_type": "display_data"
        }
      ],
      "source": [
        "import matplotlib.pyplot as plt\n",
        "actuals = actuals.astype(float)\n",
        "\n",
        "plt.figure(figsize=(12, 5))\n",
        "plt.plot(actuals[:200, 2], label=\"Actual Close\", color=\"blue\")\n",
        "# plt.plot(preds[:, 2] * 2, label=\"Predicted Close\", color=\"red\", linestyle=\"dashed\")\n",
        "plt.legend()\n",
        "plt.title(\"Close Price Predictions\")\n",
        "plt.show()"
      ]
    },
    {
      "cell_type": "code",
      "execution_count": 429,
      "metadata": {},
      "outputs": [
        {
          "name": "stdout",
          "output_type": "stream",
          "text": [
            "(2000, 5)\n",
            "(2000,)\n"
          ]
        }
      ],
      "source": [
        "print(actuals.shape)\n",
        "print(actuals[:, 2].shape)\n"
      ]
    },
    {
      "cell_type": "code",
      "execution_count": null,
      "metadata": {},
      "outputs": [],
      "source": []
    }
  ],
  "metadata": {
    "accelerator": "GPU",
    "colab": {
      "gpuType": "T4",
      "provenance": []
    },
    "kernelspec": {
      "display_name": "Python (myenv)",
      "language": "python",
      "name": "torch"
    },
    "language_info": {
      "codemirror_mode": {
        "name": "ipython",
        "version": 3
      },
      "file_extension": ".py",
      "mimetype": "text/x-python",
      "name": "python",
      "nbconvert_exporter": "python",
      "pygments_lexer": "ipython3",
      "version": "3.12.3"
    }
  },
  "nbformat": 4,
  "nbformat_minor": 0
}
