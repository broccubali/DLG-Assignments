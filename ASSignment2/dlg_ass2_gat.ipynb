{
  "cells": [
    {
      "cell_type": "code",
      "execution_count": null,
      "metadata": {
        "colab": {
          "base_uri": "https://localhost:8080/"
        },
        "id": "y2IlJxrkUvTM",
        "outputId": "bb8927ce-c89f-475e-abcc-da5c8ecd2473"
      },
      "outputs": [
        {
          "name": "stdout",
          "output_type": "stream",
          "text": [
            "fatal: destination path 'DLG-Assignments' already exists and is not an empty directory.\n"
          ]
        }
      ],
      "source": [
        "# !git clone https://github.com/broccubali/DLG-Assignments.git"
      ]
    },
    {
      "cell_type": "code",
      "execution_count": 1,
      "metadata": {
        "colab": {
          "base_uri": "https://localhost:8080/"
        },
        "id": "VLCec2fvUzN8",
        "outputId": "5059ab04-72d0-4972-d94a-48a78bd1b812"
      },
      "outputs": [],
      "source": [
        "# !pip install torch_geometric\n",
        "\n",
        "import pandas as pd\n",
        "import numpy as np\n",
        "import json\n",
        "import matplotlib.pyplot as plt\n",
        "import torch\n",
        "from torch_geometric.nn import HypergraphConv\n",
        "import networkx as nx"
      ]
    },
    {
      "cell_type": "code",
      "execution_count": 4,
      "metadata": {
        "id": "recyd-fnU-XA"
      },
      "outputs": [],
      "source": [
        "train_data = pd.read_csv('train_stock_data.csv')\n",
        "train_data['Date'] = pd.to_datetime(train_data['Date'], format='%Y-%m-%d')\n",
        "train_data.sort_values(['Ticker', 'Date'], inplace=True)"
      ]
    },
    {
      "cell_type": "code",
      "execution_count": 5,
      "metadata": {
        "colab": {
          "base_uri": "https://localhost:8080/",
          "height": 444
        },
        "id": "D6i1_lckVHqT",
        "outputId": "8a6ace15-1258-40f3-e2a9-9daa2ac84a38"
      },
      "outputs": [
        {
          "data": {
            "text/html": [
              "<div>\n",
              "<style scoped>\n",
              "    .dataframe tbody tr th:only-of-type {\n",
              "        vertical-align: middle;\n",
              "    }\n",
              "\n",
              "    .dataframe tbody tr th {\n",
              "        vertical-align: top;\n",
              "    }\n",
              "\n",
              "    .dataframe thead th {\n",
              "        text-align: right;\n",
              "    }\n",
              "</style>\n",
              "<table border=\"1\" class=\"dataframe\">\n",
              "  <thead>\n",
              "    <tr style=\"text-align: right;\">\n",
              "      <th></th>\n",
              "      <th>Date</th>\n",
              "      <th>Ticker</th>\n",
              "      <th>Open</th>\n",
              "      <th>Open.1</th>\n",
              "      <th>Open.2</th>\n",
              "      <th>Open.3</th>\n",
              "      <th>Open.4</th>\n",
              "      <th>Open.5</th>\n",
              "      <th>Open.6</th>\n",
              "      <th>Open.7</th>\n",
              "      <th>...</th>\n",
              "      <th>Volume.10</th>\n",
              "      <th>Volume.11</th>\n",
              "      <th>Volume.12</th>\n",
              "      <th>Volume.13</th>\n",
              "      <th>Volume.14</th>\n",
              "      <th>Volume.15</th>\n",
              "      <th>Volume.16</th>\n",
              "      <th>Volume.17</th>\n",
              "      <th>Volume.18</th>\n",
              "      <th>Volume.19</th>\n",
              "    </tr>\n",
              "  </thead>\n",
              "  <tbody>\n",
              "    <tr>\n",
              "      <th>0</th>\n",
              "      <td>2019-01-02</td>\n",
              "      <td>AAPL</td>\n",
              "      <td>36.944462</td>\n",
              "      <td>NaN</td>\n",
              "      <td>NaN</td>\n",
              "      <td>NaN</td>\n",
              "      <td>NaN</td>\n",
              "      <td>NaN</td>\n",
              "      <td>NaN</td>\n",
              "      <td>NaN</td>\n",
              "      <td>...</td>\n",
              "      <td>NaN</td>\n",
              "      <td>NaN</td>\n",
              "      <td>NaN</td>\n",
              "      <td>NaN</td>\n",
              "      <td>NaN</td>\n",
              "      <td>NaN</td>\n",
              "      <td>NaN</td>\n",
              "      <td>NaN</td>\n",
              "      <td>NaN</td>\n",
              "      <td>NaN</td>\n",
              "    </tr>\n",
              "    <tr>\n",
              "      <th>1</th>\n",
              "      <td>2019-01-03</td>\n",
              "      <td>AAPL</td>\n",
              "      <td>34.342203</td>\n",
              "      <td>NaN</td>\n",
              "      <td>NaN</td>\n",
              "      <td>NaN</td>\n",
              "      <td>NaN</td>\n",
              "      <td>NaN</td>\n",
              "      <td>NaN</td>\n",
              "      <td>NaN</td>\n",
              "      <td>...</td>\n",
              "      <td>NaN</td>\n",
              "      <td>NaN</td>\n",
              "      <td>NaN</td>\n",
              "      <td>NaN</td>\n",
              "      <td>NaN</td>\n",
              "      <td>NaN</td>\n",
              "      <td>NaN</td>\n",
              "      <td>NaN</td>\n",
              "      <td>NaN</td>\n",
              "      <td>NaN</td>\n",
              "    </tr>\n",
              "    <tr>\n",
              "      <th>2</th>\n",
              "      <td>2019-01-04</td>\n",
              "      <td>AAPL</td>\n",
              "      <td>34.473390</td>\n",
              "      <td>NaN</td>\n",
              "      <td>NaN</td>\n",
              "      <td>NaN</td>\n",
              "      <td>NaN</td>\n",
              "      <td>NaN</td>\n",
              "      <td>NaN</td>\n",
              "      <td>NaN</td>\n",
              "      <td>...</td>\n",
              "      <td>NaN</td>\n",
              "      <td>NaN</td>\n",
              "      <td>NaN</td>\n",
              "      <td>NaN</td>\n",
              "      <td>NaN</td>\n",
              "      <td>NaN</td>\n",
              "      <td>NaN</td>\n",
              "      <td>NaN</td>\n",
              "      <td>NaN</td>\n",
              "      <td>NaN</td>\n",
              "    </tr>\n",
              "    <tr>\n",
              "      <th>3</th>\n",
              "      <td>2019-01-07</td>\n",
              "      <td>AAPL</td>\n",
              "      <td>35.468021</td>\n",
              "      <td>NaN</td>\n",
              "      <td>NaN</td>\n",
              "      <td>NaN</td>\n",
              "      <td>NaN</td>\n",
              "      <td>NaN</td>\n",
              "      <td>NaN</td>\n",
              "      <td>NaN</td>\n",
              "      <td>...</td>\n",
              "      <td>NaN</td>\n",
              "      <td>NaN</td>\n",
              "      <td>NaN</td>\n",
              "      <td>NaN</td>\n",
              "      <td>NaN</td>\n",
              "      <td>NaN</td>\n",
              "      <td>NaN</td>\n",
              "      <td>NaN</td>\n",
              "      <td>NaN</td>\n",
              "      <td>NaN</td>\n",
              "    </tr>\n",
              "    <tr>\n",
              "      <th>4</th>\n",
              "      <td>2019-01-08</td>\n",
              "      <td>AAPL</td>\n",
              "      <td>35.673153</td>\n",
              "      <td>NaN</td>\n",
              "      <td>NaN</td>\n",
              "      <td>NaN</td>\n",
              "      <td>NaN</td>\n",
              "      <td>NaN</td>\n",
              "      <td>NaN</td>\n",
              "      <td>NaN</td>\n",
              "      <td>...</td>\n",
              "      <td>NaN</td>\n",
              "      <td>NaN</td>\n",
              "      <td>NaN</td>\n",
              "      <td>NaN</td>\n",
              "      <td>NaN</td>\n",
              "      <td>NaN</td>\n",
              "      <td>NaN</td>\n",
              "      <td>NaN</td>\n",
              "      <td>NaN</td>\n",
              "      <td>NaN</td>\n",
              "    </tr>\n",
              "    <tr>\n",
              "      <th>...</th>\n",
              "      <td>...</td>\n",
              "      <td>...</td>\n",
              "      <td>...</td>\n",
              "      <td>...</td>\n",
              "      <td>...</td>\n",
              "      <td>...</td>\n",
              "      <td>...</td>\n",
              "      <td>...</td>\n",
              "      <td>...</td>\n",
              "      <td>...</td>\n",
              "      <td>...</td>\n",
              "      <td>...</td>\n",
              "      <td>...</td>\n",
              "      <td>...</td>\n",
              "      <td>...</td>\n",
              "      <td>...</td>\n",
              "      <td>...</td>\n",
              "      <td>...</td>\n",
              "      <td>...</td>\n",
              "      <td>...</td>\n",
              "      <td>...</td>\n",
              "    </tr>\n",
              "    <tr>\n",
              "      <th>11083</th>\n",
              "      <td>2022-12-23</td>\n",
              "      <td>XOM</td>\n",
              "      <td>NaN</td>\n",
              "      <td>NaN</td>\n",
              "      <td>NaN</td>\n",
              "      <td>NaN</td>\n",
              "      <td>NaN</td>\n",
              "      <td>NaN</td>\n",
              "      <td>NaN</td>\n",
              "      <td>NaN</td>\n",
              "      <td>...</td>\n",
              "      <td>11539400.0</td>\n",
              "      <td>NaN</td>\n",
              "      <td>NaN</td>\n",
              "      <td>NaN</td>\n",
              "      <td>NaN</td>\n",
              "      <td>NaN</td>\n",
              "      <td>NaN</td>\n",
              "      <td>NaN</td>\n",
              "      <td>NaN</td>\n",
              "      <td>NaN</td>\n",
              "    </tr>\n",
              "    <tr>\n",
              "      <th>11084</th>\n",
              "      <td>2022-12-27</td>\n",
              "      <td>XOM</td>\n",
              "      <td>NaN</td>\n",
              "      <td>NaN</td>\n",
              "      <td>NaN</td>\n",
              "      <td>NaN</td>\n",
              "      <td>NaN</td>\n",
              "      <td>NaN</td>\n",
              "      <td>NaN</td>\n",
              "      <td>NaN</td>\n",
              "      <td>...</td>\n",
              "      <td>11962100.0</td>\n",
              "      <td>NaN</td>\n",
              "      <td>NaN</td>\n",
              "      <td>NaN</td>\n",
              "      <td>NaN</td>\n",
              "      <td>NaN</td>\n",
              "      <td>NaN</td>\n",
              "      <td>NaN</td>\n",
              "      <td>NaN</td>\n",
              "      <td>NaN</td>\n",
              "    </tr>\n",
              "    <tr>\n",
              "      <th>11085</th>\n",
              "      <td>2022-12-28</td>\n",
              "      <td>XOM</td>\n",
              "      <td>NaN</td>\n",
              "      <td>NaN</td>\n",
              "      <td>NaN</td>\n",
              "      <td>NaN</td>\n",
              "      <td>NaN</td>\n",
              "      <td>NaN</td>\n",
              "      <td>NaN</td>\n",
              "      <td>NaN</td>\n",
              "      <td>...</td>\n",
              "      <td>10702100.0</td>\n",
              "      <td>NaN</td>\n",
              "      <td>NaN</td>\n",
              "      <td>NaN</td>\n",
              "      <td>NaN</td>\n",
              "      <td>NaN</td>\n",
              "      <td>NaN</td>\n",
              "      <td>NaN</td>\n",
              "      <td>NaN</td>\n",
              "      <td>NaN</td>\n",
              "    </tr>\n",
              "    <tr>\n",
              "      <th>11086</th>\n",
              "      <td>2022-12-29</td>\n",
              "      <td>XOM</td>\n",
              "      <td>NaN</td>\n",
              "      <td>NaN</td>\n",
              "      <td>NaN</td>\n",
              "      <td>NaN</td>\n",
              "      <td>NaN</td>\n",
              "      <td>NaN</td>\n",
              "      <td>NaN</td>\n",
              "      <td>NaN</td>\n",
              "      <td>...</td>\n",
              "      <td>10534000.0</td>\n",
              "      <td>NaN</td>\n",
              "      <td>NaN</td>\n",
              "      <td>NaN</td>\n",
              "      <td>NaN</td>\n",
              "      <td>NaN</td>\n",
              "      <td>NaN</td>\n",
              "      <td>NaN</td>\n",
              "      <td>NaN</td>\n",
              "      <td>NaN</td>\n",
              "    </tr>\n",
              "    <tr>\n",
              "      <th>11087</th>\n",
              "      <td>2022-12-30</td>\n",
              "      <td>XOM</td>\n",
              "      <td>NaN</td>\n",
              "      <td>NaN</td>\n",
              "      <td>NaN</td>\n",
              "      <td>NaN</td>\n",
              "      <td>NaN</td>\n",
              "      <td>NaN</td>\n",
              "      <td>NaN</td>\n",
              "      <td>NaN</td>\n",
              "      <td>...</td>\n",
              "      <td>11799600.0</td>\n",
              "      <td>NaN</td>\n",
              "      <td>NaN</td>\n",
              "      <td>NaN</td>\n",
              "      <td>NaN</td>\n",
              "      <td>NaN</td>\n",
              "      <td>NaN</td>\n",
              "      <td>NaN</td>\n",
              "      <td>NaN</td>\n",
              "      <td>NaN</td>\n",
              "    </tr>\n",
              "  </tbody>\n",
              "</table>\n",
              "<p>20160 rows × 102 columns</p>\n",
              "</div>"
            ],
            "text/plain": [
              "            Date Ticker       Open  Open.1  Open.2  Open.3  Open.4  Open.5  \\\n",
              "0     2019-01-02   AAPL  36.944462     NaN     NaN     NaN     NaN     NaN   \n",
              "1     2019-01-03   AAPL  34.342203     NaN     NaN     NaN     NaN     NaN   \n",
              "2     2019-01-04   AAPL  34.473390     NaN     NaN     NaN     NaN     NaN   \n",
              "3     2019-01-07   AAPL  35.468021     NaN     NaN     NaN     NaN     NaN   \n",
              "4     2019-01-08   AAPL  35.673153     NaN     NaN     NaN     NaN     NaN   \n",
              "...          ...    ...        ...     ...     ...     ...     ...     ...   \n",
              "11083 2022-12-23    XOM        NaN     NaN     NaN     NaN     NaN     NaN   \n",
              "11084 2022-12-27    XOM        NaN     NaN     NaN     NaN     NaN     NaN   \n",
              "11085 2022-12-28    XOM        NaN     NaN     NaN     NaN     NaN     NaN   \n",
              "11086 2022-12-29    XOM        NaN     NaN     NaN     NaN     NaN     NaN   \n",
              "11087 2022-12-30    XOM        NaN     NaN     NaN     NaN     NaN     NaN   \n",
              "\n",
              "       Open.6  Open.7  ...   Volume.10  Volume.11  Volume.12  Volume.13  \\\n",
              "0         NaN     NaN  ...         NaN        NaN        NaN        NaN   \n",
              "1         NaN     NaN  ...         NaN        NaN        NaN        NaN   \n",
              "2         NaN     NaN  ...         NaN        NaN        NaN        NaN   \n",
              "3         NaN     NaN  ...         NaN        NaN        NaN        NaN   \n",
              "4         NaN     NaN  ...         NaN        NaN        NaN        NaN   \n",
              "...       ...     ...  ...         ...        ...        ...        ...   \n",
              "11083     NaN     NaN  ...  11539400.0        NaN        NaN        NaN   \n",
              "11084     NaN     NaN  ...  11962100.0        NaN        NaN        NaN   \n",
              "11085     NaN     NaN  ...  10702100.0        NaN        NaN        NaN   \n",
              "11086     NaN     NaN  ...  10534000.0        NaN        NaN        NaN   \n",
              "11087     NaN     NaN  ...  11799600.0        NaN        NaN        NaN   \n",
              "\n",
              "       Volume.14  Volume.15  Volume.16  Volume.17  Volume.18  Volume.19  \n",
              "0            NaN        NaN        NaN        NaN        NaN        NaN  \n",
              "1            NaN        NaN        NaN        NaN        NaN        NaN  \n",
              "2            NaN        NaN        NaN        NaN        NaN        NaN  \n",
              "3            NaN        NaN        NaN        NaN        NaN        NaN  \n",
              "4            NaN        NaN        NaN        NaN        NaN        NaN  \n",
              "...          ...        ...        ...        ...        ...        ...  \n",
              "11083        NaN        NaN        NaN        NaN        NaN        NaN  \n",
              "11084        NaN        NaN        NaN        NaN        NaN        NaN  \n",
              "11085        NaN        NaN        NaN        NaN        NaN        NaN  \n",
              "11086        NaN        NaN        NaN        NaN        NaN        NaN  \n",
              "11087        NaN        NaN        NaN        NaN        NaN        NaN  \n",
              "\n",
              "[20160 rows x 102 columns]"
            ]
          },
          "execution_count": 5,
          "metadata": {},
          "output_type": "execute_result"
        }
      ],
      "source": [
        "train_data"
      ]
    },
    {
      "cell_type": "code",
      "execution_count": 6,
      "metadata": {
        "id": "DEf58kGXVI43"
      },
      "outputs": [],
      "source": [
        "validation_data = pd.read_csv('validation_stock_data.csv')\n",
        "with open('hyperedges.json', 'r') as f:\n",
        "    hyperedges = json.load(f)\n",
        "with open('blind_test_cases.json', 'r') as f:\n",
        "    test_cases = json.load(f)"
      ]
    },
    {
      "cell_type": "code",
      "execution_count": 7,
      "metadata": {
        "colab": {
          "base_uri": "https://localhost:8080/"
        },
        "id": "J47d6N5yVSdi",
        "outputId": "73073ddf-130c-47dd-a006-c54b708c65f1"
      },
      "outputs": [
        {
          "name": "stdout",
          "output_type": "stream",
          "text": [
            "Training data shape: (20160, 102)\n",
            "Validation data shape: (2000, 102)\n",
            "Number of hyperedges: 8\n",
            "Number of test cases: 120\n",
            "Training data columns:\n",
            "Index(['Date', 'Ticker', 'Open', 'Open.1', 'Open.2', 'Open.3', 'Open.4',\n",
            "       'Open.5', 'Open.6', 'Open.7',\n",
            "       ...\n",
            "       'Volume.10', 'Volume.11', 'Volume.12', 'Volume.13', 'Volume.14',\n",
            "       'Volume.15', 'Volume.16', 'Volume.17', 'Volume.18', 'Volume.19'],\n",
            "      dtype='object', length=102)\n"
          ]
        }
      ],
      "source": [
        "print(f\"Training data shape: {train_data.shape}\")\n",
        "print(f\"Validation data shape: {validation_data.shape}\")\n",
        "print(f\"Number of hyperedges: {len(hyperedges)}\")\n",
        "print(f\"Number of test cases: {len(test_cases)}\")\n",
        "print(\"Training data columns:\")\n",
        "print(train_data.columns)"
      ]
    },
    {
      "cell_type": "code",
      "execution_count": 8,
      "metadata": {
        "colab": {
          "base_uri": "https://localhost:8080/"
        },
        "id": "v-hhmdCsVYWu",
        "outputId": "db81262f-7006-4bf8-eae8-9d6e092cbbac"
      },
      "outputs": [
        {
          "name": "stdout",
          "output_type": "stream",
          "text": [
            "Hyperedges structure:\n",
            "{'Tech': ['AAPL', 'GOOGL', 'MSFT', 'AMZN'], 'Finance': ['JPM', 'BAC', 'C'], 'Healthcare': ['JNJ', 'PFE', 'MRK'], 'Energy': ['XOM', 'CVX'], 'Consumer': ['WMT', 'PG', 'KO'], 'Industrials': ['BA', 'CAT'], 'Communications': ['VZ', 'T'], 'Utilities': ['DUK']}\n",
            "<class 'dict'>\n",
            "Available tickers in training data: ['AAPL' 'AMZN' 'BA' 'BAC' 'C' 'CAT' 'CVX' 'DUK' 'GOOGL' 'JNJ' 'JPM' 'KO'\n",
            " 'MRK' 'MSFT' 'PFE' 'PG' 'T' 'VZ' 'WMT' 'XOM']\n",
            "Test case example:\n"
          ]
        },
        {
          "data": {
            "text/plain": [
              "{'ticker': 'GOOGL',\n",
              " 'date': '2023-03-01',\n",
              " 'predicted_open': None,\n",
              " 'predicted_high': None,\n",
              " 'predicted_low': None,\n",
              " 'predicted_close': None,\n",
              " 'predicted_volume': None,\n",
              " 'eval_metric': 'MAPE'}"
            ]
          },
          "execution_count": 8,
          "metadata": {},
          "output_type": "execute_result"
        }
      ],
      "source": [
        "print(\"Hyperedges structure:\")\n",
        "print(hyperedges)\n",
        "\n",
        "print(type(hyperedges))\n",
        "\n",
        "print(\"Available tickers in training data:\", train_data['Ticker'].unique())\n",
        "\n",
        "print(\"Test case example:\")\n",
        "test_cases[0]"
      ]
    },
    {
      "cell_type": "code",
      "execution_count": 9,
      "metadata": {
        "colab": {
          "base_uri": "https://localhost:8080/",
          "height": 424
        },
        "id": "TZdA6Y4iVjif",
        "outputId": "408cf15f-87f7-4d83-9a4b-83d7a7ff1092"
      },
      "outputs": [
        {
          "data": {
            "text/html": [
              "<div>\n",
              "<style scoped>\n",
              "    .dataframe tbody tr th:only-of-type {\n",
              "        vertical-align: middle;\n",
              "    }\n",
              "\n",
              "    .dataframe tbody tr th {\n",
              "        vertical-align: top;\n",
              "    }\n",
              "\n",
              "    .dataframe thead th {\n",
              "        text-align: right;\n",
              "    }\n",
              "</style>\n",
              "<table border=\"1\" class=\"dataframe\">\n",
              "  <thead>\n",
              "    <tr style=\"text-align: right;\">\n",
              "      <th></th>\n",
              "      <th>Date</th>\n",
              "      <th>Ticker</th>\n",
              "      <th>Open</th>\n",
              "      <th>High</th>\n",
              "      <th>Low</th>\n",
              "      <th>Close</th>\n",
              "      <th>Volume</th>\n",
              "    </tr>\n",
              "  </thead>\n",
              "  <tbody>\n",
              "    <tr>\n",
              "      <th>0</th>\n",
              "      <td>2019-01-02</td>\n",
              "      <td>AAPL</td>\n",
              "      <td>36.944462</td>\n",
              "      <td>37.889005</td>\n",
              "      <td>36.787037</td>\n",
              "      <td>37.667179</td>\n",
              "      <td>148158800.0</td>\n",
              "    </tr>\n",
              "    <tr>\n",
              "      <th>1</th>\n",
              "      <td>2019-01-03</td>\n",
              "      <td>AAPL</td>\n",
              "      <td>34.342203</td>\n",
              "      <td>34.757230</td>\n",
              "      <td>33.869933</td>\n",
              "      <td>33.915253</td>\n",
              "      <td>365248800.0</td>\n",
              "    </tr>\n",
              "    <tr>\n",
              "      <th>2</th>\n",
              "      <td>2019-01-04</td>\n",
              "      <td>AAPL</td>\n",
              "      <td>34.473390</td>\n",
              "      <td>35.432244</td>\n",
              "      <td>34.299271</td>\n",
              "      <td>35.363071</td>\n",
              "      <td>234428400.0</td>\n",
              "    </tr>\n",
              "    <tr>\n",
              "      <th>3</th>\n",
              "      <td>2019-01-07</td>\n",
              "      <td>AAPL</td>\n",
              "      <td>35.468021</td>\n",
              "      <td>35.499030</td>\n",
              "      <td>34.800162</td>\n",
              "      <td>35.284359</td>\n",
              "      <td>219111200.0</td>\n",
              "    </tr>\n",
              "    <tr>\n",
              "      <th>4</th>\n",
              "      <td>2019-01-08</td>\n",
              "      <td>AAPL</td>\n",
              "      <td>35.673153</td>\n",
              "      <td>36.212212</td>\n",
              "      <td>35.425093</td>\n",
              "      <td>35.956993</td>\n",
              "      <td>164101200.0</td>\n",
              "    </tr>\n",
              "    <tr>\n",
              "      <th>...</th>\n",
              "      <td>...</td>\n",
              "      <td>...</td>\n",
              "      <td>...</td>\n",
              "      <td>...</td>\n",
              "      <td>...</td>\n",
              "      <td>...</td>\n",
              "      <td>...</td>\n",
              "    </tr>\n",
              "    <tr>\n",
              "      <th>20155</th>\n",
              "      <td>2022-12-23</td>\n",
              "      <td>XOM</td>\n",
              "      <td>99.121032</td>\n",
              "      <td>100.780001</td>\n",
              "      <td>99.074697</td>\n",
              "      <td>100.724396</td>\n",
              "      <td>11539400.0</td>\n",
              "    </tr>\n",
              "    <tr>\n",
              "      <th>20156</th>\n",
              "      <td>2022-12-27</td>\n",
              "      <td>XOM</td>\n",
              "      <td>101.271219</td>\n",
              "      <td>102.383381</td>\n",
              "      <td>100.863433</td>\n",
              "      <td>102.123878</td>\n",
              "      <td>11962100.0</td>\n",
              "    </tr>\n",
              "    <tr>\n",
              "      <th>20157</th>\n",
              "      <td>2022-12-28</td>\n",
              "      <td>XOM</td>\n",
              "      <td>101.864365</td>\n",
              "      <td>101.947773</td>\n",
              "      <td>100.001499</td>\n",
              "      <td>100.446358</td>\n",
              "      <td>10702100.0</td>\n",
              "    </tr>\n",
              "    <tr>\n",
              "      <th>20158</th>\n",
              "      <td>2022-12-29</td>\n",
              "      <td>XOM</td>\n",
              "      <td>100.084912</td>\n",
              "      <td>101.688276</td>\n",
              "      <td>100.084912</td>\n",
              "      <td>101.206337</td>\n",
              "      <td>10534000.0</td>\n",
              "    </tr>\n",
              "    <tr>\n",
              "      <th>20159</th>\n",
              "      <td>2022-12-30</td>\n",
              "      <td>XOM</td>\n",
              "      <td>100.659532</td>\n",
              "      <td>102.411179</td>\n",
              "      <td>100.659532</td>\n",
              "      <td>102.225822</td>\n",
              "      <td>11799600.0</td>\n",
              "    </tr>\n",
              "  </tbody>\n",
              "</table>\n",
              "<p>20160 rows × 7 columns</p>\n",
              "</div>"
            ],
            "text/plain": [
              "            Date Ticker        Open        High         Low       Close  \\\n",
              "0     2019-01-02   AAPL   36.944462   37.889005   36.787037   37.667179   \n",
              "1     2019-01-03   AAPL   34.342203   34.757230   33.869933   33.915253   \n",
              "2     2019-01-04   AAPL   34.473390   35.432244   34.299271   35.363071   \n",
              "3     2019-01-07   AAPL   35.468021   35.499030   34.800162   35.284359   \n",
              "4     2019-01-08   AAPL   35.673153   36.212212   35.425093   35.956993   \n",
              "...          ...    ...         ...         ...         ...         ...   \n",
              "20155 2022-12-23    XOM   99.121032  100.780001   99.074697  100.724396   \n",
              "20156 2022-12-27    XOM  101.271219  102.383381  100.863433  102.123878   \n",
              "20157 2022-12-28    XOM  101.864365  101.947773  100.001499  100.446358   \n",
              "20158 2022-12-29    XOM  100.084912  101.688276  100.084912  101.206337   \n",
              "20159 2022-12-30    XOM  100.659532  102.411179  100.659532  102.225822   \n",
              "\n",
              "            Volume  \n",
              "0      148158800.0  \n",
              "1      365248800.0  \n",
              "2      234428400.0  \n",
              "3      219111200.0  \n",
              "4      164101200.0  \n",
              "...            ...  \n",
              "20155   11539400.0  \n",
              "20156   11962100.0  \n",
              "20157   10702100.0  \n",
              "20158   10534000.0  \n",
              "20159   11799600.0  \n",
              "\n",
              "[20160 rows x 7 columns]"
            ]
          },
          "execution_count": 9,
          "metadata": {},
          "output_type": "execute_result"
        }
      ],
      "source": [
        "l = []\n",
        "tickers = train_data['Ticker'].unique()\n",
        "for ticker in tickers:\n",
        "    data = train_data[train_data[\"Ticker\"] == ticker]\n",
        "    valid_cols = []\n",
        "    for i in data.columns:\n",
        "        if data[i].isna().sum() == 0:\n",
        "            valid_cols.append(i)\n",
        "    a = data[valid_cols].values\n",
        "    for i in a:\n",
        "        l.append(i)\n",
        "df = pd.DataFrame(l, columns=[\"Date\", \"Ticker\", \"Open\", \"High\", \"Low\", \"Close\", \"Volume\"])\n",
        "df"
      ]
    },
    {
      "cell_type": "code",
      "execution_count": 10,
      "metadata": {
        "colab": {
          "base_uri": "https://localhost:8080/",
          "height": 424
        },
        "id": "3uwaBYRmhdOY",
        "outputId": "4253e301-bf32-45c3-9576-f6bc4eb632a0"
      },
      "outputs": [
        {
          "data": {
            "text/html": [
              "<div>\n",
              "<style scoped>\n",
              "    .dataframe tbody tr th:only-of-type {\n",
              "        vertical-align: middle;\n",
              "    }\n",
              "\n",
              "    .dataframe tbody tr th {\n",
              "        vertical-align: top;\n",
              "    }\n",
              "\n",
              "    .dataframe thead th {\n",
              "        text-align: right;\n",
              "    }\n",
              "</style>\n",
              "<table border=\"1\" class=\"dataframe\">\n",
              "  <thead>\n",
              "    <tr style=\"text-align: right;\">\n",
              "      <th></th>\n",
              "      <th>Date</th>\n",
              "      <th>Ticker</th>\n",
              "      <th>Open</th>\n",
              "      <th>High</th>\n",
              "      <th>Low</th>\n",
              "      <th>Close</th>\n",
              "      <th>Volume</th>\n",
              "      <th>Return</th>\n",
              "      <th>Volatility</th>\n",
              "      <th>Momentum</th>\n",
              "      <th>Moving_Avg</th>\n",
              "    </tr>\n",
              "  </thead>\n",
              "  <tbody>\n",
              "    <tr>\n",
              "      <th>0</th>\n",
              "      <td>2019-01-02</td>\n",
              "      <td>AAPL</td>\n",
              "      <td>36.944462</td>\n",
              "      <td>37.889005</td>\n",
              "      <td>36.787037</td>\n",
              "      <td>37.667179</td>\n",
              "      <td>148158800.0</td>\n",
              "      <td>0.000000</td>\n",
              "      <td>0.000000</td>\n",
              "      <td>0.000000</td>\n",
              "      <td>0.000000</td>\n",
              "    </tr>\n",
              "    <tr>\n",
              "      <th>1</th>\n",
              "      <td>2019-01-03</td>\n",
              "      <td>AAPL</td>\n",
              "      <td>34.342203</td>\n",
              "      <td>34.757230</td>\n",
              "      <td>33.869933</td>\n",
              "      <td>33.915253</td>\n",
              "      <td>365248800.0</td>\n",
              "      <td>-0.099607</td>\n",
              "      <td>0.000000</td>\n",
              "      <td>0.000000</td>\n",
              "      <td>0.000000</td>\n",
              "    </tr>\n",
              "    <tr>\n",
              "      <th>2</th>\n",
              "      <td>2019-01-04</td>\n",
              "      <td>AAPL</td>\n",
              "      <td>34.473390</td>\n",
              "      <td>35.432244</td>\n",
              "      <td>34.299271</td>\n",
              "      <td>35.363071</td>\n",
              "      <td>234428400.0</td>\n",
              "      <td>0.042689</td>\n",
              "      <td>0.000000</td>\n",
              "      <td>0.000000</td>\n",
              "      <td>0.000000</td>\n",
              "    </tr>\n",
              "    <tr>\n",
              "      <th>3</th>\n",
              "      <td>2019-01-07</td>\n",
              "      <td>AAPL</td>\n",
              "      <td>35.468021</td>\n",
              "      <td>35.499030</td>\n",
              "      <td>34.800162</td>\n",
              "      <td>35.284359</td>\n",
              "      <td>219111200.0</td>\n",
              "      <td>-0.002226</td>\n",
              "      <td>0.000000</td>\n",
              "      <td>0.000000</td>\n",
              "      <td>0.000000</td>\n",
              "    </tr>\n",
              "    <tr>\n",
              "      <th>4</th>\n",
              "      <td>2019-01-08</td>\n",
              "      <td>AAPL</td>\n",
              "      <td>35.673153</td>\n",
              "      <td>36.212212</td>\n",
              "      <td>35.425093</td>\n",
              "      <td>35.956993</td>\n",
              "      <td>164101200.0</td>\n",
              "      <td>0.019063</td>\n",
              "      <td>0.000000</td>\n",
              "      <td>0.000000</td>\n",
              "      <td>0.000000</td>\n",
              "    </tr>\n",
              "    <tr>\n",
              "      <th>...</th>\n",
              "      <td>...</td>\n",
              "      <td>...</td>\n",
              "      <td>...</td>\n",
              "      <td>...</td>\n",
              "      <td>...</td>\n",
              "      <td>...</td>\n",
              "      <td>...</td>\n",
              "      <td>...</td>\n",
              "      <td>...</td>\n",
              "      <td>...</td>\n",
              "      <td>...</td>\n",
              "    </tr>\n",
              "    <tr>\n",
              "      <th>20155</th>\n",
              "      <td>2022-12-23</td>\n",
              "      <td>XOM</td>\n",
              "      <td>99.121032</td>\n",
              "      <td>100.780001</td>\n",
              "      <td>99.074697</td>\n",
              "      <td>100.724396</td>\n",
              "      <td>11539400.0</td>\n",
              "      <td>0.026445</td>\n",
              "      <td>0.015932</td>\n",
              "      <td>0.038013</td>\n",
              "      <td>101.010784</td>\n",
              "    </tr>\n",
              "    <tr>\n",
              "      <th>20156</th>\n",
              "      <td>2022-12-27</td>\n",
              "      <td>XOM</td>\n",
              "      <td>101.271219</td>\n",
              "      <td>102.383381</td>\n",
              "      <td>100.863433</td>\n",
              "      <td>102.123878</td>\n",
              "      <td>11962100.0</td>\n",
              "      <td>0.013894</td>\n",
              "      <td>0.015044</td>\n",
              "      <td>0.047732</td>\n",
              "      <td>100.922739</td>\n",
              "    </tr>\n",
              "    <tr>\n",
              "      <th>20157</th>\n",
              "      <td>2022-12-28</td>\n",
              "      <td>XOM</td>\n",
              "      <td>101.864365</td>\n",
              "      <td>101.947773</td>\n",
              "      <td>100.001499</td>\n",
              "      <td>100.446358</td>\n",
              "      <td>10702100.0</td>\n",
              "      <td>-0.016426</td>\n",
              "      <td>0.015294</td>\n",
              "      <td>0.015840</td>\n",
              "      <td>100.768581</td>\n",
              "    </tr>\n",
              "    <tr>\n",
              "      <th>20158</th>\n",
              "      <td>2022-12-29</td>\n",
              "      <td>XOM</td>\n",
              "      <td>100.084912</td>\n",
              "      <td>101.688276</td>\n",
              "      <td>100.084912</td>\n",
              "      <td>101.206337</td>\n",
              "      <td>10534000.0</td>\n",
              "      <td>0.007566</td>\n",
              "      <td>0.015311</td>\n",
              "      <td>0.010550</td>\n",
              "      <td>100.616277</td>\n",
              "    </tr>\n",
              "    <tr>\n",
              "      <th>20159</th>\n",
              "      <td>2022-12-30</td>\n",
              "      <td>XOM</td>\n",
              "      <td>100.659532</td>\n",
              "      <td>102.411179</td>\n",
              "      <td>100.659532</td>\n",
              "      <td>102.225822</td>\n",
              "      <td>11799600.0</td>\n",
              "      <td>0.010073</td>\n",
              "      <td>0.015344</td>\n",
              "      <td>0.041745</td>\n",
              "      <td>100.535646</td>\n",
              "    </tr>\n",
              "  </tbody>\n",
              "</table>\n",
              "<p>20160 rows × 11 columns</p>\n",
              "</div>"
            ],
            "text/plain": [
              "            Date Ticker        Open        High         Low       Close  \\\n",
              "0     2019-01-02   AAPL   36.944462   37.889005   36.787037   37.667179   \n",
              "1     2019-01-03   AAPL   34.342203   34.757230   33.869933   33.915253   \n",
              "2     2019-01-04   AAPL   34.473390   35.432244   34.299271   35.363071   \n",
              "3     2019-01-07   AAPL   35.468021   35.499030   34.800162   35.284359   \n",
              "4     2019-01-08   AAPL   35.673153   36.212212   35.425093   35.956993   \n",
              "...          ...    ...         ...         ...         ...         ...   \n",
              "20155 2022-12-23    XOM   99.121032  100.780001   99.074697  100.724396   \n",
              "20156 2022-12-27    XOM  101.271219  102.383381  100.863433  102.123878   \n",
              "20157 2022-12-28    XOM  101.864365  101.947773  100.001499  100.446358   \n",
              "20158 2022-12-29    XOM  100.084912  101.688276  100.084912  101.206337   \n",
              "20159 2022-12-30    XOM  100.659532  102.411179  100.659532  102.225822   \n",
              "\n",
              "            Volume    Return  Volatility  Momentum  Moving_Avg  \n",
              "0      148158800.0  0.000000    0.000000  0.000000    0.000000  \n",
              "1      365248800.0 -0.099607    0.000000  0.000000    0.000000  \n",
              "2      234428400.0  0.042689    0.000000  0.000000    0.000000  \n",
              "3      219111200.0 -0.002226    0.000000  0.000000    0.000000  \n",
              "4      164101200.0  0.019063    0.000000  0.000000    0.000000  \n",
              "...            ...       ...         ...       ...         ...  \n",
              "20155   11539400.0  0.026445    0.015932  0.038013  101.010784  \n",
              "20156   11962100.0  0.013894    0.015044  0.047732  100.922739  \n",
              "20157   10702100.0 -0.016426    0.015294  0.015840  100.768581  \n",
              "20158   10534000.0  0.007566    0.015311  0.010550  100.616277  \n",
              "20159   11799600.0  0.010073    0.015344  0.041745  100.535646  \n",
              "\n",
              "[20160 rows x 11 columns]"
            ]
          },
          "execution_count": 10,
          "metadata": {},
          "output_type": "execute_result"
        }
      ],
      "source": [
        "import pandas as pd\n",
        "\n",
        "df['Return'] = df.groupby('Ticker')['Close'].pct_change()\n",
        "df['Volatility'] = df.groupby('Ticker')['Return'].rolling(window=30).std().reset_index(0, drop=True)\n",
        "df['Momentum'] = df.groupby('Ticker')['Close'].pct_change(periods=5)\n",
        "df['Moving_Avg'] = df.groupby('Ticker')['Close'].rolling(window=30).mean().reset_index(0, drop=True)\n",
        "\n",
        "df.fillna(0, inplace=True)\n",
        "\n",
        "features = ['Open', 'High', 'Low', 'Close', 'Volume', 'Return', 'Volatility', 'Momentum', 'Moving_Avg']\n",
        "df"
      ]
    },
    {
      "cell_type": "code",
      "execution_count": 11,
      "metadata": {
        "colab": {
          "base_uri": "https://localhost:8080/",
          "height": 424
        },
        "id": "w5iiaFPH-Af0",
        "outputId": "caa06f30-96cd-497a-9ea5-c24d1c54eec1"
      },
      "outputs": [
        {
          "data": {
            "text/html": [
              "<div>\n",
              "<style scoped>\n",
              "    .dataframe tbody tr th:only-of-type {\n",
              "        vertical-align: middle;\n",
              "    }\n",
              "\n",
              "    .dataframe tbody tr th {\n",
              "        vertical-align: top;\n",
              "    }\n",
              "\n",
              "    .dataframe thead th {\n",
              "        text-align: right;\n",
              "    }\n",
              "</style>\n",
              "<table border=\"1\" class=\"dataframe\">\n",
              "  <thead>\n",
              "    <tr style=\"text-align: right;\">\n",
              "      <th></th>\n",
              "      <th>Date</th>\n",
              "      <th>Ticker</th>\n",
              "      <th>Open</th>\n",
              "      <th>High</th>\n",
              "      <th>Low</th>\n",
              "      <th>Close</th>\n",
              "      <th>Volume</th>\n",
              "      <th>Return</th>\n",
              "      <th>Volatility</th>\n",
              "      <th>Momentum</th>\n",
              "      <th>Moving_Avg</th>\n",
              "    </tr>\n",
              "  </thead>\n",
              "  <tbody>\n",
              "    <tr>\n",
              "      <th>0</th>\n",
              "      <td>2019-01-02</td>\n",
              "      <td>AAPL</td>\n",
              "      <td>-0.861697</td>\n",
              "      <td>-0.853122</td>\n",
              "      <td>-0.858536</td>\n",
              "      <td>-0.850816</td>\n",
              "      <td>3.706484</td>\n",
              "      <td>0.000000</td>\n",
              "      <td>0.000000</td>\n",
              "      <td>0.000000</td>\n",
              "      <td>0.000000</td>\n",
              "    </tr>\n",
              "    <tr>\n",
              "      <th>1</th>\n",
              "      <td>2019-01-03</td>\n",
              "      <td>AAPL</td>\n",
              "      <td>-0.901195</td>\n",
              "      <td>-0.900113</td>\n",
              "      <td>-0.903358</td>\n",
              "      <td>-0.907771</td>\n",
              "      <td>10.402351</td>\n",
              "      <td>-0.099607</td>\n",
              "      <td>0.000000</td>\n",
              "      <td>0.000000</td>\n",
              "      <td>0.000000</td>\n",
              "    </tr>\n",
              "    <tr>\n",
              "      <th>2</th>\n",
              "      <td>2019-01-04</td>\n",
              "      <td>AAPL</td>\n",
              "      <td>-0.899204</td>\n",
              "      <td>-0.889984</td>\n",
              "      <td>-0.896761</td>\n",
              "      <td>-0.885793</td>\n",
              "      <td>6.367361</td>\n",
              "      <td>0.042689</td>\n",
              "      <td>0.000000</td>\n",
              "      <td>0.000000</td>\n",
              "      <td>0.000000</td>\n",
              "    </tr>\n",
              "    <tr>\n",
              "      <th>3</th>\n",
              "      <td>2019-01-07</td>\n",
              "      <td>AAPL</td>\n",
              "      <td>-0.884107</td>\n",
              "      <td>-0.888982</td>\n",
              "      <td>-0.889065</td>\n",
              "      <td>-0.886988</td>\n",
              "      <td>5.894921</td>\n",
              "      <td>-0.002226</td>\n",
              "      <td>0.000000</td>\n",
              "      <td>0.000000</td>\n",
              "      <td>0.000000</td>\n",
              "    </tr>\n",
              "    <tr>\n",
              "      <th>4</th>\n",
              "      <td>2019-01-08</td>\n",
              "      <td>AAPL</td>\n",
              "      <td>-0.880993</td>\n",
              "      <td>-0.878281</td>\n",
              "      <td>-0.879463</td>\n",
              "      <td>-0.876777</td>\n",
              "      <td>4.198207</td>\n",
              "      <td>0.019063</td>\n",
              "      <td>0.000000</td>\n",
              "      <td>0.000000</td>\n",
              "      <td>0.000000</td>\n",
              "    </tr>\n",
              "    <tr>\n",
              "      <th>...</th>\n",
              "      <td>...</td>\n",
              "      <td>...</td>\n",
              "      <td>...</td>\n",
              "      <td>...</td>\n",
              "      <td>...</td>\n",
              "      <td>...</td>\n",
              "      <td>...</td>\n",
              "      <td>...</td>\n",
              "      <td>...</td>\n",
              "      <td>...</td>\n",
              "      <td>...</td>\n",
              "    </tr>\n",
              "    <tr>\n",
              "      <th>20155</th>\n",
              "      <td>2022-12-23</td>\n",
              "      <td>XOM</td>\n",
              "      <td>0.082058</td>\n",
              "      <td>0.090535</td>\n",
              "      <td>0.098521</td>\n",
              "      <td>0.106399</td>\n",
              "      <td>-0.507369</td>\n",
              "      <td>0.026445</td>\n",
              "      <td>0.015932</td>\n",
              "      <td>0.038013</td>\n",
              "      <td>101.010784</td>\n",
              "    </tr>\n",
              "    <tr>\n",
              "      <th>20156</th>\n",
              "      <td>2022-12-27</td>\n",
              "      <td>XOM</td>\n",
              "      <td>0.114695</td>\n",
              "      <td>0.114593</td>\n",
              "      <td>0.126005</td>\n",
              "      <td>0.127643</td>\n",
              "      <td>-0.494331</td>\n",
              "      <td>0.013894</td>\n",
              "      <td>0.015044</td>\n",
              "      <td>0.047732</td>\n",
              "      <td>100.922739</td>\n",
              "    </tr>\n",
              "    <tr>\n",
              "      <th>20157</th>\n",
              "      <td>2022-12-28</td>\n",
              "      <td>XOM</td>\n",
              "      <td>0.123698</td>\n",
              "      <td>0.108057</td>\n",
              "      <td>0.112762</td>\n",
              "      <td>0.102178</td>\n",
              "      <td>-0.533194</td>\n",
              "      <td>-0.016426</td>\n",
              "      <td>0.015294</td>\n",
              "      <td>0.015840</td>\n",
              "      <td>100.768581</td>\n",
              "    </tr>\n",
              "    <tr>\n",
              "      <th>20158</th>\n",
              "      <td>2022-12-29</td>\n",
              "      <td>XOM</td>\n",
              "      <td>0.096688</td>\n",
              "      <td>0.104164</td>\n",
              "      <td>0.114043</td>\n",
              "      <td>0.113715</td>\n",
              "      <td>-0.538379</td>\n",
              "      <td>0.007566</td>\n",
              "      <td>0.015311</td>\n",
              "      <td>0.010550</td>\n",
              "      <td>100.616277</td>\n",
              "    </tr>\n",
              "    <tr>\n",
              "      <th>20159</th>\n",
              "      <td>2022-12-30</td>\n",
              "      <td>XOM</td>\n",
              "      <td>0.105410</td>\n",
              "      <td>0.115011</td>\n",
              "      <td>0.122873</td>\n",
              "      <td>0.129191</td>\n",
              "      <td>-0.499343</td>\n",
              "      <td>0.010073</td>\n",
              "      <td>0.015344</td>\n",
              "      <td>0.041745</td>\n",
              "      <td>100.535646</td>\n",
              "    </tr>\n",
              "  </tbody>\n",
              "</table>\n",
              "<p>20160 rows × 11 columns</p>\n",
              "</div>"
            ],
            "text/plain": [
              "            Date Ticker      Open      High       Low     Close     Volume  \\\n",
              "0     2019-01-02   AAPL -0.861697 -0.853122 -0.858536 -0.850816   3.706484   \n",
              "1     2019-01-03   AAPL -0.901195 -0.900113 -0.903358 -0.907771  10.402351   \n",
              "2     2019-01-04   AAPL -0.899204 -0.889984 -0.896761 -0.885793   6.367361   \n",
              "3     2019-01-07   AAPL -0.884107 -0.888982 -0.889065 -0.886988   5.894921   \n",
              "4     2019-01-08   AAPL -0.880993 -0.878281 -0.879463 -0.876777   4.198207   \n",
              "...          ...    ...       ...       ...       ...       ...        ...   \n",
              "20155 2022-12-23    XOM  0.082058  0.090535  0.098521  0.106399  -0.507369   \n",
              "20156 2022-12-27    XOM  0.114695  0.114593  0.126005  0.127643  -0.494331   \n",
              "20157 2022-12-28    XOM  0.123698  0.108057  0.112762  0.102178  -0.533194   \n",
              "20158 2022-12-29    XOM  0.096688  0.104164  0.114043  0.113715  -0.538379   \n",
              "20159 2022-12-30    XOM  0.105410  0.115011  0.122873  0.129191  -0.499343   \n",
              "\n",
              "         Return  Volatility  Momentum  Moving_Avg  \n",
              "0      0.000000    0.000000  0.000000    0.000000  \n",
              "1     -0.099607    0.000000  0.000000    0.000000  \n",
              "2      0.042689    0.000000  0.000000    0.000000  \n",
              "3     -0.002226    0.000000  0.000000    0.000000  \n",
              "4      0.019063    0.000000  0.000000    0.000000  \n",
              "...         ...         ...       ...         ...  \n",
              "20155  0.026445    0.015932  0.038013  101.010784  \n",
              "20156  0.013894    0.015044  0.047732  100.922739  \n",
              "20157 -0.016426    0.015294  0.015840  100.768581  \n",
              "20158  0.007566    0.015311  0.010550  100.616277  \n",
              "20159  0.010073    0.015344  0.041745  100.535646  \n",
              "\n",
              "[20160 rows x 11 columns]"
            ]
          },
          "execution_count": 11,
          "metadata": {},
          "output_type": "execute_result"
        }
      ],
      "source": [
        "from sklearn.preprocessing import StandardScaler\n",
        "\n",
        "scaler = StandardScaler()\n",
        "feature_cols = ['Open', 'High', 'Low', 'Close', 'Volume']\n",
        "\n",
        "df[feature_cols] = scaler.fit_transform(df[feature_cols])\n",
        "df"
      ]
    },
    {
      "cell_type": "code",
      "execution_count": 12,
      "metadata": {
        "colab": {
          "base_uri": "https://localhost:8080/",
          "height": 564
        },
        "id": "kTyUA8WJVsWI",
        "outputId": "8f4f6b23-e288-43ca-8cc9-8ec3ce6647d6"
      },
      "outputs": [
        {
          "data": {
            "image/png": "[encoded data removed]",
            "text/plain": [
              "<Figure size 1200x600 with 1 Axes>"
            ]
          },
          "metadata": {},
          "output_type": "display_data"
        }
      ],
      "source": [
        "aapl = df[df[\"Ticker\"] == \"AAPL\"]\n",
        "plt.figure(figsize=(12, 6))\n",
        "plt.plot(aapl.index, aapl['Close'], label='Close Price')\n",
        "plt.title('AAPL Close Price (2019-2022)')\n",
        "plt.xlabel('Date')\n",
        "plt.ylabel('Price')\n",
        "plt.legend()\n",
        "plt.show()"
      ]
    },
    {
      "cell_type": "code",
      "execution_count": 13,
      "metadata": {
        "colab": {
          "base_uri": "https://localhost:8080/"
        },
        "id": "D84su0QlV6pl",
        "outputId": "8bcf957e-ddd5-41c9-9f74-e15a320d2e9c"
      },
      "outputs": [
        {
          "name": "stdout",
          "output_type": "stream",
          "text": [
            "Ticker to index mapping: {'AAPL': 0, 'AMZN': 1, 'BA': 2, 'BAC': 3, 'C': 4, 'CAT': 5, 'CVX': 6, 'DUK': 7, 'GOOGL': 8, 'JNJ': 9, 'JPM': 10, 'KO': 11, 'MRK': 12, 'MSFT': 13, 'PFE': 14, 'PG': 15, 'T': 16, 'VZ': 17, 'WMT': 18, 'XOM': 19}\n"
          ]
        }
      ],
      "source": [
        "stocks = ['AAPL', 'AMZN', 'BA', 'BAC', 'C', 'CAT', 'CVX', 'DUK', 'GOOGL', 'JNJ', 'JPM' ,'KO', 'MRK', 'MSFT', 'PFE', 'PG', 'T', 'VZ', 'WMT', 'XOM']\n",
        "\n",
        "ticker_to_idx = {ticker: idx for idx, ticker in enumerate(sorted(tickers))}\n",
        "print(\"Ticker to index mapping:\", ticker_to_idx)"
      ]
    },
    {
      "cell_type": "code",
      "execution_count": 14,
      "metadata": {
        "colab": {
          "base_uri": "https://localhost:8080/"
        },
        "id": "lwjo9VzXZY32",
        "outputId": "c36d54ea-78f2-4ebd-affa-558cafb9cecc"
      },
      "outputs": [
        {
          "name": "stdout",
          "output_type": "stream",
          "text": [
            "Hyperedge 'Tech': ['AAPL', 'GOOGL', 'MSFT', 'AMZN'] -> [0, 8, 13, 1]\n",
            "Hyperedge 'Finance': ['JPM', 'BAC', 'C'] -> [10, 3, 4]\n",
            "Hyperedge 'Healthcare': ['JNJ', 'PFE', 'MRK'] -> [9, 14, 12]\n",
            "Hyperedge 'Energy': ['XOM', 'CVX'] -> [19, 6]\n",
            "Hyperedge 'Consumer': ['WMT', 'PG', 'KO'] -> [18, 15, 11]\n",
            "Hyperedge 'Industrials': ['BA', 'CAT'] -> [2, 5]\n",
            "Hyperedge 'Communications': ['VZ', 'T'] -> [17, 16]\n",
            "Hyperedge 'Utilities': ['DUK'] -> [7]\n"
          ]
        }
      ],
      "source": [
        "hyperedge_indices = []\n",
        "for he_name, tickers in hyperedges.items():\n",
        "    indices = [ticker_to_idx[t] for t in tickers]\n",
        "    print(f\"Hyperedge '{he_name}': {tickers} -> {indices}\")\n",
        "    hyperedge_indices.append(indices)"
      ]
    },
    {
      "cell_type": "code",
      "execution_count": 15,
      "metadata": {
        "colab": {
          "base_uri": "https://localhost:8080/"
        },
        "id": "4ElUuAUBdm8X",
        "outputId": "02b776f0-d909-4ae4-f897-069b5a1f0348"
      },
      "outputs": [
        {
          "data": {
            "text/plain": [
              "[[0, 8, 13, 1],\n",
              " [10, 3, 4],\n",
              " [9, 14, 12],\n",
              " [19, 6],\n",
              " [18, 15, 11],\n",
              " [2, 5],\n",
              " [17, 16],\n",
              " [7]]"
            ]
          },
          "execution_count": 15,
          "metadata": {},
          "output_type": "execute_result"
        }
      ],
      "source": [
        "hyperedge_indices"
      ]
    },
    {
      "cell_type": "markdown",
      "metadata": {
        "id": "h9otHKV2esuF"
      },
      "source": [
        "## clique representation"
      ]
    },
    {
      "cell_type": "code",
      "execution_count": 16,
      "metadata": {
        "colab": {
          "base_uri": "https://localhost:8080/"
        },
        "id": "xD5DhdXneEpJ",
        "outputId": "6c535a58-018d-4b1c-e80c-62251c10376f"
      },
      "outputs": [
        {
          "data": {
            "text/plain": [
              "array([[0, 1, 0, 0, 0, 0, 0, 0, 1, 0, 0, 0, 0, 1, 0, 0, 0, 0, 0, 0],\n",
              "       [1, 0, 0, 0, 0, 0, 0, 0, 1, 0, 0, 0, 0, 1, 0, 0, 0, 0, 0, 0],\n",
              "       [0, 0, 0, 0, 0, 1, 0, 0, 0, 0, 0, 0, 0, 0, 0, 0, 0, 0, 0, 0],\n",
              "       [0, 0, 0, 0, 1, 0, 0, 0, 0, 0, 1, 0, 0, 0, 0, 0, 0, 0, 0, 0],\n",
              "       [0, 0, 0, 1, 0, 0, 0, 0, 0, 0, 1, 0, 0, 0, 0, 0, 0, 0, 0, 0],\n",
              "       [0, 0, 1, 0, 0, 0, 0, 0, 0, 0, 0, 0, 0, 0, 0, 0, 0, 0, 0, 0],\n",
              "       [0, 0, 0, 0, 0, 0, 0, 0, 0, 0, 0, 0, 0, 0, 0, 0, 0, 0, 0, 1],\n",
              "       [0, 0, 0, 0, 0, 0, 0, 0, 0, 0, 0, 0, 0, 0, 0, 0, 0, 0, 0, 0],\n",
              "       [1, 1, 0, 0, 0, 0, 0, 0, 0, 0, 0, 0, 0, 1, 0, 0, 0, 0, 0, 0],\n",
              "       [0, 0, 0, 0, 0, 0, 0, 0, 0, 0, 0, 0, 1, 0, 1, 0, 0, 0, 0, 0],\n",
              "       [0, 0, 0, 1, 1, 0, 0, 0, 0, 0, 0, 0, 0, 0, 0, 0, 0, 0, 0, 0],\n",
              "       [0, 0, 0, 0, 0, 0, 0, 0, 0, 0, 0, 0, 0, 0, 0, 1, 0, 0, 1, 0],\n",
              "       [0, 0, 0, 0, 0, 0, 0, 0, 0, 1, 0, 0, 0, 0, 1, 0, 0, 0, 0, 0],\n",
              "       [1, 1, 0, 0, 0, 0, 0, 0, 1, 0, 0, 0, 0, 0, 0, 0, 0, 0, 0, 0],\n",
              "       [0, 0, 0, 0, 0, 0, 0, 0, 0, 1, 0, 0, 1, 0, 0, 0, 0, 0, 0, 0],\n",
              "       [0, 0, 0, 0, 0, 0, 0, 0, 0, 0, 0, 1, 0, 0, 0, 0, 0, 0, 1, 0],\n",
              "       [0, 0, 0, 0, 0, 0, 0, 0, 0, 0, 0, 0, 0, 0, 0, 0, 0, 1, 0, 0],\n",
              "       [0, 0, 0, 0, 0, 0, 0, 0, 0, 0, 0, 0, 0, 0, 0, 0, 1, 0, 0, 0],\n",
              "       [0, 0, 0, 0, 0, 0, 0, 0, 0, 0, 0, 1, 0, 0, 0, 1, 0, 0, 0, 0],\n",
              "       [0, 0, 0, 0, 0, 0, 1, 0, 0, 0, 0, 0, 0, 0, 0, 0, 0, 0, 0, 0]])"
            ]
          },
          "execution_count": 16,
          "metadata": {},
          "output_type": "execute_result"
        }
      ],
      "source": [
        "adj_matrix = [[0 for i in range(20)] for j in range(20)]\n",
        "for hyperedge in hyperedge_indices:\n",
        "    for i in range(len(hyperedge)):\n",
        "        for j in range(i+1, len(hyperedge)):\n",
        "            adj_matrix[hyperedge[i]][hyperedge[j]] = 1\n",
        "            adj_matrix[hyperedge[j]][hyperedge[i]] = 1\n",
        "adj_matrix = np.array(adj_matrix)\n",
        "adj_matrix"
      ]
    },
    {
      "cell_type": "code",
      "execution_count": 17,
      "metadata": {
        "colab": {
          "base_uri": "https://localhost:8080/"
        },
        "id": "U_f0W1JKgzfl",
        "outputId": "8c77af39-1ad7-486e-95e8-fdbe8771a458"
      },
      "outputs": [
        {
          "data": {
            "text/plain": [
              "tensor([[ 0,  0,  0,  1,  1,  1,  2,  3,  3,  4,  4,  5,  6,  8,  8,  8,  9,  9,\n",
              "         10, 10, 11, 11, 12, 12, 13, 13, 13, 14, 14, 15, 15, 16, 17, 18, 18, 19],\n",
              "        [ 1,  8, 13,  0,  8, 13,  5,  4, 10,  3, 10,  2, 19,  0,  1, 13, 12, 14,\n",
              "          3,  4, 15, 18,  9, 14,  0,  1,  8,  9, 12, 11, 18, 17, 16, 11, 15,  6]])"
            ]
          },
          "execution_count": 17,
          "metadata": {},
          "output_type": "execute_result"
        }
      ],
      "source": [
        "import torch\n",
        "edge_index = torch.tensor(np.array(np.nonzero(adj_matrix)), dtype=torch.long)\n",
        "edge_index"
      ]
    },
    {
      "cell_type": "code",
      "execution_count": 18,
      "metadata": {
        "id": "v9iqFBTfhujB"
      },
      "outputs": [],
      "source": [
        "def get_features_for_date(df, date, tickers, feature_cols):\n",
        "    day_df = df[df['Date'] == date].set_index('Ticker')\n",
        "    day_df = day_df.reindex(tickers)\n",
        "    x = day_df[feature_cols].fillna(0).values\n",
        "    y = day_df[['Open', 'High', 'Low', 'Close', 'Volume']].fillna(0).values\n",
        "    return torch.tensor(x, dtype=torch.float), torch.tensor(y, dtype=torch.float)\n",
        "\n",
        "dates = sorted(df['Date'].unique())\n",
        "graph_snapshots = []\n",
        "tickers = sorted(df['Ticker'].unique())\n",
        "for date in dates:\n",
        "    x_t, y_t = get_features_for_date(df, date, tickers, features)\n",
        "    graph_snapshots.append((x_t, y_t))"
      ]
    },
    {
      "cell_type": "code",
      "execution_count": 19,
      "metadata": {
        "colab": {
          "base_uri": "https://localhost:8080/"
        },
        "id": "dNZnGTxCiJGz",
        "outputId": "70a7cc8b-9b60-4eb6-f206-d8dcecb49539"
      },
      "outputs": [
        {
          "data": {
            "text/plain": [
              "(tensor([[-7.6941e-01, -7.7004e-01, -7.6643e-01, -7.7201e-01,  2.5848e+00,\n",
              "          -4.1348e-03,  1.9073e-02, -2.6544e-02,  4.7313e+01],\n",
              "         [-3.1532e-02, -3.4251e-02, -1.9901e-02, -2.8748e-02,  1.1107e+00,\n",
              "           7.2123e-03,  1.4555e-02, -1.2125e-02,  9.4302e+01],\n",
              "         [ 3.8743e+00,  3.8737e+00,  3.9319e+00,  3.8686e+00, -7.5520e-01,\n",
              "          -5.6469e-05,  1.5538e-02,  5.9242e-03,  3.5717e+02],\n",
              "         [-1.0553e+00, -1.0561e+00, -1.0543e+00, -1.0574e+00,  5.0227e-01,\n",
              "          -9.9361e-03,  1.2517e-02, -1.7606e-02,  2.5418e+01],\n",
              "         [-6.3572e-01, -6.3954e-01, -6.3146e-01, -6.3947e-01, -4.0904e-01,\n",
              "          -9.3183e-03,  1.6219e-02, -1.8011e-02,  5.4581e+01],\n",
              "         [ 2.1735e-01,  2.0677e-01,  2.1742e-01,  1.9989e-01, -7.1248e-01,\n",
              "          -1.0659e-02,  1.6397e-02, -6.8610e-03,  1.1680e+02],\n",
              "         [-2.1897e-02, -3.1995e-02, -1.4466e-02, -2.8621e-02, -6.1206e-01,\n",
              "          -3.3695e-03,  1.2451e-02, -2.0937e-02,  9.2179e+01],\n",
              "         [-3.5556e-01, -3.6648e-01, -3.6662e-01, -3.7590e-01, -7.4492e-01,\n",
              "          -1.9029e-02,  9.0321e-03,  1.8401e-03,  6.9632e+01],\n",
              "         [-5.6028e-01, -5.5813e-01, -5.5315e-01, -5.6179e-01, -2.1717e-01,\n",
              "           8.3431e-04,  1.9235e-02, -4.4555e-03,  5.9443e+01],\n",
              "         [ 3.7353e-01,  3.7280e-01,  3.6878e-01,  3.4862e-01, -4.9564e-01,\n",
              "          -1.2820e-02,  7.1764e-03, -2.9772e-03,  1.1764e+02],\n",
              "         [-1.6660e-02, -2.3925e-02, -1.0601e-02, -2.5422e-02, -5.0348e-01,\n",
              "          -1.0847e-02,  1.1092e-02, -2.5416e-02,  9.5419e+01],\n",
              "         [-7.9666e-01, -8.0213e-01, -7.9756e-01, -8.0305e-01, -2.8916e-01,\n",
              "          -1.0280e-02,  9.0126e-03,  5.1175e-03,  4.0228e+01],\n",
              "         [-4.3974e-01, -4.4349e-01, -4.4304e-01, -4.5332e-01, -4.3827e-01,\n",
              "          -1.1211e-02,  1.4033e-02,  1.7495e-02,  6.1964e+01],\n",
              "         [ 4.0504e-01,  3.9943e-01,  4.1263e-01,  3.9327e-01, -1.4992e-01,\n",
              "          -6.3363e-04,  1.3677e-02, -4.7538e-04,  1.1935e+02],\n",
              "         [-9.4945e-01, -9.5038e-01, -9.4790e-01, -9.5236e-01,  6.6165e-01,\n",
              "          -1.1919e-03,  1.1345e-02,  7.4535e-03,  3.0023e+01],\n",
              "         [-1.7753e-02, -2.5866e-02, -3.2189e-02, -4.7254e-02, -6.2840e-01,\n",
              "          -2.0902e-02,  1.0915e-02, -2.6740e-02,  9.1660e+01],\n",
              "         [-1.1816e+00, -1.1829e+00, -1.1831e+00, -1.1847e+00,  1.3817e-01,\n",
              "          -1.0536e-02,  1.0888e-02, -8.0769e-03,  1.5381e+01],\n",
              "         [-7.6606e-01, -7.6552e-01, -7.6548e-01, -7.7146e-01, -1.8903e-01,\n",
              "          -9.9461e-03,  9.6083e-03, -4.7448e-03,  4.2038e+01],\n",
              "         [-9.4685e-01, -9.4684e-01, -9.4306e-01, -9.4759e-01,  8.7166e-02,\n",
              "          -2.4347e-03,  9.7741e-03,  8.8654e-03,  3.1012e+01],\n",
              "         [-5.6719e-01, -5.7605e-01, -5.7841e-01, -5.8604e-01, -4.0332e-01,\n",
              "          -2.0108e-02,  1.0709e-02, -4.3346e-02,  5.8820e+01]]),\n",
              " tensor([[-0.7694, -0.7700, -0.7664, -0.7720,  2.5848],\n",
              "         [-0.0315, -0.0343, -0.0199, -0.0287,  1.1107],\n",
              "         [ 3.8743,  3.8737,  3.9319,  3.8686, -0.7552],\n",
              "         [-1.0553, -1.0561, -1.0543, -1.0574,  0.5023],\n",
              "         [-0.6357, -0.6395, -0.6315, -0.6395, -0.4090],\n",
              "         [ 0.2174,  0.2068,  0.2174,  0.1999, -0.7125],\n",
              "         [-0.0219, -0.0320, -0.0145, -0.0286, -0.6121],\n",
              "         [-0.3556, -0.3665, -0.3666, -0.3759, -0.7449],\n",
              "         [-0.5603, -0.5581, -0.5531, -0.5618, -0.2172],\n",
              "         [ 0.3735,  0.3728,  0.3688,  0.3486, -0.4956],\n",
              "         [-0.0167, -0.0239, -0.0106, -0.0254, -0.5035],\n",
              "         [-0.7967, -0.8021, -0.7976, -0.8031, -0.2892],\n",
              "         [-0.4397, -0.4435, -0.4430, -0.4533, -0.4383],\n",
              "         [ 0.4050,  0.3994,  0.4126,  0.3933, -0.1499],\n",
              "         [-0.9495, -0.9504, -0.9479, -0.9524,  0.6616],\n",
              "         [-0.0178, -0.0259, -0.0322, -0.0473, -0.6284],\n",
              "         [-1.1816, -1.1829, -1.1831, -1.1847,  0.1382],\n",
              "         [-0.7661, -0.7655, -0.7655, -0.7715, -0.1890],\n",
              "         [-0.9468, -0.9468, -0.9431, -0.9476,  0.0872],\n",
              "         [-0.5672, -0.5761, -0.5784, -0.5860, -0.4033]]))"
            ]
          },
          "execution_count": 19,
          "metadata": {},
          "output_type": "execute_result"
        }
      ],
      "source": [
        "graph_snapshots[100]"
      ]
    },
    {
      "cell_type": "code",
      "execution_count": 20,
      "metadata": {
        "id": "2S8-JGc5jP8q"
      },
      "outputs": [],
      "source": [
        "from torch_geometric.data import Data\n",
        "\n",
        "graphs = []\n",
        "\n",
        "for x_t, y_t in graph_snapshots:\n",
        "    graph = Data(x=x_t, edge_index=edge_index, y=y_t)\n",
        "    graphs.append(graph)"
      ]
    },
    {
      "cell_type": "code",
      "execution_count": 21,
      "metadata": {
        "colab": {
          "base_uri": "https://localhost:8080/"
        },
        "id": "_dH0vSb4jY2b",
        "outputId": "9bcdca37-7679-4303-c666-ccd98f187865"
      },
      "outputs": [
        {
          "data": {
            "text/plain": [
              "Data(x=[20, 9], edge_index=[2, 36], y=[20, 5])"
            ]
          },
          "execution_count": 21,
          "metadata": {},
          "output_type": "execute_result"
        }
      ],
      "source": [
        "graphs[0]"
      ]
    },
    {
      "cell_type": "code",
      "execution_count": 22,
      "metadata": {
        "colab": {
          "base_uri": "https://localhost:8080/",
          "height": 424
        },
        "id": "K0lL4EwlzmLt",
        "outputId": "4e91666f-44bd-49f1-e573-c9e98651a7db"
      },
      "outputs": [
        {
          "data": {
            "text/html": [
              "<div>\n",
              "<style scoped>\n",
              "    .dataframe tbody tr th:only-of-type {\n",
              "        vertical-align: middle;\n",
              "    }\n",
              "\n",
              "    .dataframe tbody tr th {\n",
              "        vertical-align: top;\n",
              "    }\n",
              "\n",
              "    .dataframe thead th {\n",
              "        text-align: right;\n",
              "    }\n",
              "</style>\n",
              "<table border=\"1\" class=\"dataframe\">\n",
              "  <thead>\n",
              "    <tr style=\"text-align: right;\">\n",
              "      <th></th>\n",
              "      <th>Date</th>\n",
              "      <th>Ticker</th>\n",
              "      <th>Open</th>\n",
              "      <th>High</th>\n",
              "      <th>Low</th>\n",
              "      <th>Close</th>\n",
              "      <th>Volume</th>\n",
              "    </tr>\n",
              "  </thead>\n",
              "  <tbody>\n",
              "    <tr>\n",
              "      <th>0</th>\n",
              "      <td>2023-01-03</td>\n",
              "      <td>AAPL</td>\n",
              "      <td>128.782649</td>\n",
              "      <td>129.395518</td>\n",
              "      <td>122.742873</td>\n",
              "      <td>123.632530</td>\n",
              "      <td>112117500.0</td>\n",
              "    </tr>\n",
              "    <tr>\n",
              "      <th>1</th>\n",
              "      <td>2023-01-04</td>\n",
              "      <td>AAPL</td>\n",
              "      <td>125.431607</td>\n",
              "      <td>127.181268</td>\n",
              "      <td>123.642412</td>\n",
              "      <td>124.907700</td>\n",
              "      <td>89113600.0</td>\n",
              "    </tr>\n",
              "    <tr>\n",
              "      <th>2</th>\n",
              "      <td>2023-01-05</td>\n",
              "      <td>AAPL</td>\n",
              "      <td>125.668857</td>\n",
              "      <td>126.301500</td>\n",
              "      <td>123.326101</td>\n",
              "      <td>123.583107</td>\n",
              "      <td>80962700.0</td>\n",
              "    </tr>\n",
              "    <tr>\n",
              "      <th>3</th>\n",
              "      <td>2023-01-06</td>\n",
              "      <td>AAPL</td>\n",
              "      <td>124.561702</td>\n",
              "      <td>128.792501</td>\n",
              "      <td>123.454572</td>\n",
              "      <td>128.130203</td>\n",
              "      <td>87754700.0</td>\n",
              "    </tr>\n",
              "    <tr>\n",
              "      <th>4</th>\n",
              "      <td>2023-01-09</td>\n",
              "      <td>AAPL</td>\n",
              "      <td>128.970458</td>\n",
              "      <td>131.876670</td>\n",
              "      <td>128.397123</td>\n",
              "      <td>128.654129</td>\n",
              "      <td>70790800.0</td>\n",
              "    </tr>\n",
              "    <tr>\n",
              "      <th>...</th>\n",
              "      <td>...</td>\n",
              "      <td>...</td>\n",
              "      <td>...</td>\n",
              "      <td>...</td>\n",
              "      <td>...</td>\n",
              "      <td>...</td>\n",
              "      <td>...</td>\n",
              "    </tr>\n",
              "    <tr>\n",
              "      <th>1995</th>\n",
              "      <td>2023-12-22</td>\n",
              "      <td>XOM</td>\n",
              "      <td>98.058076</td>\n",
              "      <td>98.661898</td>\n",
              "      <td>97.588442</td>\n",
              "      <td>97.674706</td>\n",
              "      <td>12921800.0</td>\n",
              "    </tr>\n",
              "    <tr>\n",
              "      <th>1996</th>\n",
              "      <td>2023-12-26</td>\n",
              "      <td>XOM</td>\n",
              "      <td>98.470205</td>\n",
              "      <td>98.748153</td>\n",
              "      <td>97.875976</td>\n",
              "      <td>97.895142</td>\n",
              "      <td>16835100.0</td>\n",
              "    </tr>\n",
              "    <tr>\n",
              "      <th>1997</th>\n",
              "      <td>2023-12-27</td>\n",
              "      <td>XOM</td>\n",
              "      <td>97.799294</td>\n",
              "      <td>98.288101</td>\n",
              "      <td>97.128381</td>\n",
              "      <td>97.435089</td>\n",
              "      <td>14558800.0</td>\n",
              "    </tr>\n",
              "    <tr>\n",
              "      <th>1998</th>\n",
              "      <td>2023-12-28</td>\n",
              "      <td>XOM</td>\n",
              "      <td>97.176310</td>\n",
              "      <td>97.387168</td>\n",
              "      <td>95.968673</td>\n",
              "      <td>96.026184</td>\n",
              "      <td>16329300.0</td>\n",
              "    </tr>\n",
              "    <tr>\n",
              "      <th>1999</th>\n",
              "      <td>2023-12-29</td>\n",
              "      <td>XOM</td>\n",
              "      <td>96.198704</td>\n",
              "      <td>96.409555</td>\n",
              "      <td>95.479874</td>\n",
              "      <td>95.824913</td>\n",
              "      <td>17741400.0</td>\n",
              "    </tr>\n",
              "  </tbody>\n",
              "</table>\n",
              "<p>2000 rows × 7 columns</p>\n",
              "</div>"
            ],
            "text/plain": [
              "           Date Ticker        Open        High         Low       Close  \\\n",
              "0    2023-01-03   AAPL  128.782649  129.395518  122.742873  123.632530   \n",
              "1    2023-01-04   AAPL  125.431607  127.181268  123.642412  124.907700   \n",
              "2    2023-01-05   AAPL  125.668857  126.301500  123.326101  123.583107   \n",
              "3    2023-01-06   AAPL  124.561702  128.792501  123.454572  128.130203   \n",
              "4    2023-01-09   AAPL  128.970458  131.876670  128.397123  128.654129   \n",
              "...         ...    ...         ...         ...         ...         ...   \n",
              "1995 2023-12-22    XOM   98.058076   98.661898   97.588442   97.674706   \n",
              "1996 2023-12-26    XOM   98.470205   98.748153   97.875976   97.895142   \n",
              "1997 2023-12-27    XOM   97.799294   98.288101   97.128381   97.435089   \n",
              "1998 2023-12-28    XOM   97.176310   97.387168   95.968673   96.026184   \n",
              "1999 2023-12-29    XOM   96.198704   96.409555   95.479874   95.824913   \n",
              "\n",
              "           Volume  \n",
              "0     112117500.0  \n",
              "1      89113600.0  \n",
              "2      80962700.0  \n",
              "3      87754700.0  \n",
              "4      70790800.0  \n",
              "...           ...  \n",
              "1995   12921800.0  \n",
              "1996   16835100.0  \n",
              "1997   14558800.0  \n",
              "1998   16329300.0  \n",
              "1999   17741400.0  \n",
              "\n",
              "[2000 rows x 7 columns]"
            ]
          },
          "execution_count": 22,
          "metadata": {},
          "output_type": "execute_result"
        }
      ],
      "source": [
        "val_data = pd.read_csv('validation_stock_data.csv')\n",
        "val_data['Date'] = pd.to_datetime(val_data['Date'], format='%Y-%m-%d')\n",
        "val_data.sort_values(['Ticker', 'Date'], inplace=True)\n",
        "l = []\n",
        "val_tickers = sorted(val_data['Ticker'].unique())\n",
        "for ticker in val_tickers:\n",
        "    data = val_data[val_data[\"Ticker\"] == ticker]\n",
        "    valid_cols = []\n",
        "    for i in data.columns:\n",
        "        if data[i].isna().sum() == 0:\n",
        "            valid_cols.append(i)\n",
        "    a = data[valid_cols].values\n",
        "    for i in a:\n",
        "        l.append(i)\n",
        "df1 = pd.DataFrame(l, columns=[\"Date\", \"Ticker\", \"Open\", \"High\", \"Low\", \"Close\", \"Volume\"])\n",
        "df1"
      ]
    },
    {
      "cell_type": "code",
      "execution_count": 23,
      "metadata": {
        "colab": {
          "base_uri": "https://localhost:8080/",
          "height": 424
        },
        "id": "PS3gXg5cz4bl",
        "outputId": "7d8c9298-6fed-4fc7-dc4e-691dc68dfedd"
      },
      "outputs": [
        {
          "data": {
            "text/html": [
              "<div>\n",
              "<style scoped>\n",
              "    .dataframe tbody tr th:only-of-type {\n",
              "        vertical-align: middle;\n",
              "    }\n",
              "\n",
              "    .dataframe tbody tr th {\n",
              "        vertical-align: top;\n",
              "    }\n",
              "\n",
              "    .dataframe thead th {\n",
              "        text-align: right;\n",
              "    }\n",
              "</style>\n",
              "<table border=\"1\" class=\"dataframe\">\n",
              "  <thead>\n",
              "    <tr style=\"text-align: right;\">\n",
              "      <th></th>\n",
              "      <th>Date</th>\n",
              "      <th>Ticker</th>\n",
              "      <th>Open</th>\n",
              "      <th>High</th>\n",
              "      <th>Low</th>\n",
              "      <th>Close</th>\n",
              "      <th>Volume</th>\n",
              "      <th>Return</th>\n",
              "      <th>Volatility</th>\n",
              "      <th>Momentum</th>\n",
              "      <th>Moving_Avg</th>\n",
              "    </tr>\n",
              "  </thead>\n",
              "  <tbody>\n",
              "    <tr>\n",
              "      <th>0</th>\n",
              "      <td>2023-01-03</td>\n",
              "      <td>AAPL</td>\n",
              "      <td>128.782649</td>\n",
              "      <td>129.395518</td>\n",
              "      <td>122.742873</td>\n",
              "      <td>123.632530</td>\n",
              "      <td>112117500.0</td>\n",
              "      <td>0.000000</td>\n",
              "      <td>0.000000</td>\n",
              "      <td>0.000000</td>\n",
              "      <td>0.000000</td>\n",
              "    </tr>\n",
              "    <tr>\n",
              "      <th>1</th>\n",
              "      <td>2023-01-04</td>\n",
              "      <td>AAPL</td>\n",
              "      <td>125.431607</td>\n",
              "      <td>127.181268</td>\n",
              "      <td>123.642412</td>\n",
              "      <td>124.907700</td>\n",
              "      <td>89113600.0</td>\n",
              "      <td>0.010314</td>\n",
              "      <td>0.000000</td>\n",
              "      <td>0.000000</td>\n",
              "      <td>0.000000</td>\n",
              "    </tr>\n",
              "    <tr>\n",
              "      <th>2</th>\n",
              "      <td>2023-01-05</td>\n",
              "      <td>AAPL</td>\n",
              "      <td>125.668857</td>\n",
              "      <td>126.301500</td>\n",
              "      <td>123.326101</td>\n",
              "      <td>123.583107</td>\n",
              "      <td>80962700.0</td>\n",
              "      <td>-0.010605</td>\n",
              "      <td>0.000000</td>\n",
              "      <td>0.000000</td>\n",
              "      <td>0.000000</td>\n",
              "    </tr>\n",
              "    <tr>\n",
              "      <th>3</th>\n",
              "      <td>2023-01-06</td>\n",
              "      <td>AAPL</td>\n",
              "      <td>124.561702</td>\n",
              "      <td>128.792501</td>\n",
              "      <td>123.454572</td>\n",
              "      <td>128.130203</td>\n",
              "      <td>87754700.0</td>\n",
              "      <td>0.036794</td>\n",
              "      <td>0.000000</td>\n",
              "      <td>0.000000</td>\n",
              "      <td>0.000000</td>\n",
              "    </tr>\n",
              "    <tr>\n",
              "      <th>4</th>\n",
              "      <td>2023-01-09</td>\n",
              "      <td>AAPL</td>\n",
              "      <td>128.970458</td>\n",
              "      <td>131.876670</td>\n",
              "      <td>128.397123</td>\n",
              "      <td>128.654129</td>\n",
              "      <td>70790800.0</td>\n",
              "      <td>0.004089</td>\n",
              "      <td>0.000000</td>\n",
              "      <td>0.000000</td>\n",
              "      <td>0.000000</td>\n",
              "    </tr>\n",
              "    <tr>\n",
              "      <th>...</th>\n",
              "      <td>...</td>\n",
              "      <td>...</td>\n",
              "      <td>...</td>\n",
              "      <td>...</td>\n",
              "      <td>...</td>\n",
              "      <td>...</td>\n",
              "      <td>...</td>\n",
              "      <td>...</td>\n",
              "      <td>...</td>\n",
              "      <td>...</td>\n",
              "      <td>...</td>\n",
              "    </tr>\n",
              "    <tr>\n",
              "      <th>1995</th>\n",
              "      <td>2023-12-22</td>\n",
              "      <td>XOM</td>\n",
              "      <td>98.058076</td>\n",
              "      <td>98.661898</td>\n",
              "      <td>97.588442</td>\n",
              "      <td>97.674706</td>\n",
              "      <td>12921800.0</td>\n",
              "      <td>0.001769</td>\n",
              "      <td>0.011277</td>\n",
              "      <td>0.010010</td>\n",
              "      <td>97.892264</td>\n",
              "    </tr>\n",
              "    <tr>\n",
              "      <th>1996</th>\n",
              "      <td>2023-12-26</td>\n",
              "      <td>XOM</td>\n",
              "      <td>98.470205</td>\n",
              "      <td>98.748153</td>\n",
              "      <td>97.875976</td>\n",
              "      <td>97.895142</td>\n",
              "      <td>16835100.0</td>\n",
              "      <td>0.002257</td>\n",
              "      <td>0.011193</td>\n",
              "      <td>0.004820</td>\n",
              "      <td>97.870862</td>\n",
              "    </tr>\n",
              "    <tr>\n",
              "      <th>1997</th>\n",
              "      <td>2023-12-27</td>\n",
              "      <td>XOM</td>\n",
              "      <td>97.799294</td>\n",
              "      <td>98.288101</td>\n",
              "      <td>97.128381</td>\n",
              "      <td>97.435089</td>\n",
              "      <td>14558800.0</td>\n",
              "      <td>-0.004699</td>\n",
              "      <td>0.011037</td>\n",
              "      <td>-0.012914</td>\n",
              "      <td>97.799618</td>\n",
              "    </tr>\n",
              "    <tr>\n",
              "      <th>1998</th>\n",
              "      <td>2023-12-28</td>\n",
              "      <td>XOM</td>\n",
              "      <td>97.176310</td>\n",
              "      <td>97.387168</td>\n",
              "      <td>95.968673</td>\n",
              "      <td>96.026184</td>\n",
              "      <td>16329300.0</td>\n",
              "      <td>-0.014460</td>\n",
              "      <td>0.011282</td>\n",
              "      <td>-0.010665</td>\n",
              "      <td>97.668631</td>\n",
              "    </tr>\n",
              "    <tr>\n",
              "      <th>1999</th>\n",
              "      <td>2023-12-29</td>\n",
              "      <td>XOM</td>\n",
              "      <td>96.198704</td>\n",
              "      <td>96.409555</td>\n",
              "      <td>95.479874</td>\n",
              "      <td>95.824913</td>\n",
              "      <td>17741400.0</td>\n",
              "      <td>-0.002096</td>\n",
              "      <td>0.011247</td>\n",
              "      <td>-0.017202</td>\n",
              "      <td>97.551063</td>\n",
              "    </tr>\n",
              "  </tbody>\n",
              "</table>\n",
              "<p>2000 rows × 11 columns</p>\n",
              "</div>"
            ],
            "text/plain": [
              "           Date Ticker        Open        High         Low       Close  \\\n",
              "0    2023-01-03   AAPL  128.782649  129.395518  122.742873  123.632530   \n",
              "1    2023-01-04   AAPL  125.431607  127.181268  123.642412  124.907700   \n",
              "2    2023-01-05   AAPL  125.668857  126.301500  123.326101  123.583107   \n",
              "3    2023-01-06   AAPL  124.561702  128.792501  123.454572  128.130203   \n",
              "4    2023-01-09   AAPL  128.970458  131.876670  128.397123  128.654129   \n",
              "...         ...    ...         ...         ...         ...         ...   \n",
              "1995 2023-12-22    XOM   98.058076   98.661898   97.588442   97.674706   \n",
              "1996 2023-12-26    XOM   98.470205   98.748153   97.875976   97.895142   \n",
              "1997 2023-12-27    XOM   97.799294   98.288101   97.128381   97.435089   \n",
              "1998 2023-12-28    XOM   97.176310   97.387168   95.968673   96.026184   \n",
              "1999 2023-12-29    XOM   96.198704   96.409555   95.479874   95.824913   \n",
              "\n",
              "           Volume    Return  Volatility  Momentum  Moving_Avg  \n",
              "0     112117500.0  0.000000    0.000000  0.000000    0.000000  \n",
              "1      89113600.0  0.010314    0.000000  0.000000    0.000000  \n",
              "2      80962700.0 -0.010605    0.000000  0.000000    0.000000  \n",
              "3      87754700.0  0.036794    0.000000  0.000000    0.000000  \n",
              "4      70790800.0  0.004089    0.000000  0.000000    0.000000  \n",
              "...           ...       ...         ...       ...         ...  \n",
              "1995   12921800.0  0.001769    0.011277  0.010010   97.892264  \n",
              "1996   16835100.0  0.002257    0.011193  0.004820   97.870862  \n",
              "1997   14558800.0 -0.004699    0.011037 -0.012914   97.799618  \n",
              "1998   16329300.0 -0.014460    0.011282 -0.010665   97.668631  \n",
              "1999   17741400.0 -0.002096    0.011247 -0.017202   97.551063  \n",
              "\n",
              "[2000 rows x 11 columns]"
            ]
          },
          "execution_count": 23,
          "metadata": {},
          "output_type": "execute_result"
        }
      ],
      "source": [
        "import pandas as pd\n",
        "\n",
        "df1['Return'] = df1.groupby('Ticker')['Close'].pct_change()\n",
        "df1['Volatility'] = df1.groupby('Ticker')['Return'].rolling(window=30).std().reset_index(0, drop=True)\n",
        "df1['Momentum'] = df1.groupby('Ticker')['Close'].pct_change(periods=5)\n",
        "df1['Moving_Avg'] = df1.groupby('Ticker')['Close'].rolling(window=30).mean().reset_index(0, drop=True)\n",
        "\n",
        "df1.fillna(0, inplace=True)\n",
        "\n",
        "features = ['Open', 'High', 'Low', 'Close', 'Volume', 'Return', 'Volatility', 'Momentum', 'Moving_Avg']\n",
        "df1"
      ]
    },
    {
      "cell_type": "code",
      "execution_count": 70,
      "metadata": {
        "colab": {
          "base_uri": "https://localhost:8080/",
          "height": 424
        },
        "id": "eB8G-3u4-X68",
        "outputId": "f47ecb43-a305-495d-fe4c-6843c35a67a5"
      },
      "outputs": [
        {
          "data": {
            "text/html": [
              "<div>\n",
              "<style scoped>\n",
              "    .dataframe tbody tr th:only-of-type {\n",
              "        vertical-align: middle;\n",
              "    }\n",
              "\n",
              "    .dataframe tbody tr th {\n",
              "        vertical-align: top;\n",
              "    }\n",
              "\n",
              "    .dataframe thead th {\n",
              "        text-align: right;\n",
              "    }\n",
              "</style>\n",
              "<table border=\"1\" class=\"dataframe\">\n",
              "  <thead>\n",
              "    <tr style=\"text-align: right;\">\n",
              "      <th></th>\n",
              "      <th>Date</th>\n",
              "      <th>Ticker</th>\n",
              "      <th>Open</th>\n",
              "      <th>High</th>\n",
              "      <th>Low</th>\n",
              "      <th>Close</th>\n",
              "      <th>Volume</th>\n",
              "      <th>Return</th>\n",
              "      <th>Volatility</th>\n",
              "      <th>Momentum</th>\n",
              "      <th>Moving_Avg</th>\n",
              "    </tr>\n",
              "  </thead>\n",
              "  <tbody>\n",
              "    <tr>\n",
              "      <th>0</th>\n",
              "      <td>2023-01-03</td>\n",
              "      <td>AAPL</td>\n",
              "      <td>-1.419675</td>\n",
              "      <td>-1.419031</td>\n",
              "      <td>-1.422268</td>\n",
              "      <td>-1.421191</td>\n",
              "      <td>-0.863287</td>\n",
              "      <td>0.000000</td>\n",
              "      <td>0.000000</td>\n",
              "      <td>0.000000</td>\n",
              "      <td>0.000000</td>\n",
              "    </tr>\n",
              "    <tr>\n",
              "      <th>1</th>\n",
              "      <td>2023-01-04</td>\n",
              "      <td>AAPL</td>\n",
              "      <td>-1.420550</td>\n",
              "      <td>-1.419597</td>\n",
              "      <td>-1.422028</td>\n",
              "      <td>-1.420859</td>\n",
              "      <td>-0.863287</td>\n",
              "      <td>0.010314</td>\n",
              "      <td>0.000000</td>\n",
              "      <td>0.000000</td>\n",
              "      <td>0.000000</td>\n",
              "    </tr>\n",
              "    <tr>\n",
              "      <th>2</th>\n",
              "      <td>2023-01-05</td>\n",
              "      <td>AAPL</td>\n",
              "      <td>-1.420488</td>\n",
              "      <td>-1.419821</td>\n",
              "      <td>-1.422112</td>\n",
              "      <td>-1.421204</td>\n",
              "      <td>-0.863287</td>\n",
              "      <td>-0.010605</td>\n",
              "      <td>0.000000</td>\n",
              "      <td>0.000000</td>\n",
              "      <td>0.000000</td>\n",
              "    </tr>\n",
              "    <tr>\n",
              "      <th>3</th>\n",
              "      <td>2023-01-06</td>\n",
              "      <td>AAPL</td>\n",
              "      <td>-1.420778</td>\n",
              "      <td>-1.419185</td>\n",
              "      <td>-1.422078</td>\n",
              "      <td>-1.420019</td>\n",
              "      <td>-0.863287</td>\n",
              "      <td>0.036794</td>\n",
              "      <td>0.000000</td>\n",
              "      <td>0.000000</td>\n",
              "      <td>0.000000</td>\n",
              "    </tr>\n",
              "    <tr>\n",
              "      <th>4</th>\n",
              "      <td>2023-01-09</td>\n",
              "      <td>AAPL</td>\n",
              "      <td>-1.419626</td>\n",
              "      <td>-1.418398</td>\n",
              "      <td>-1.420759</td>\n",
              "      <td>-1.419882</td>\n",
              "      <td>-0.863287</td>\n",
              "      <td>0.004089</td>\n",
              "      <td>0.000000</td>\n",
              "      <td>0.000000</td>\n",
              "      <td>0.000000</td>\n",
              "    </tr>\n",
              "    <tr>\n",
              "      <th>...</th>\n",
              "      <td>...</td>\n",
              "      <td>...</td>\n",
              "      <td>...</td>\n",
              "      <td>...</td>\n",
              "      <td>...</td>\n",
              "      <td>...</td>\n",
              "      <td>...</td>\n",
              "      <td>...</td>\n",
              "      <td>...</td>\n",
              "      <td>...</td>\n",
              "      <td>...</td>\n",
              "    </tr>\n",
              "    <tr>\n",
              "      <th>1995</th>\n",
              "      <td>2023-12-22</td>\n",
              "      <td>XOM</td>\n",
              "      <td>-1.427700</td>\n",
              "      <td>-1.426877</td>\n",
              "      <td>-1.428978</td>\n",
              "      <td>-1.427958</td>\n",
              "      <td>-0.863287</td>\n",
              "      <td>0.001769</td>\n",
              "      <td>0.011277</td>\n",
              "      <td>0.010010</td>\n",
              "      <td>97.892264</td>\n",
              "    </tr>\n",
              "    <tr>\n",
              "      <th>1996</th>\n",
              "      <td>2023-12-26</td>\n",
              "      <td>XOM</td>\n",
              "      <td>-1.427592</td>\n",
              "      <td>-1.426855</td>\n",
              "      <td>-1.428901</td>\n",
              "      <td>-1.427901</td>\n",
              "      <td>-0.863287</td>\n",
              "      <td>0.002257</td>\n",
              "      <td>0.011193</td>\n",
              "      <td>0.004820</td>\n",
              "      <td>97.870862</td>\n",
              "    </tr>\n",
              "    <tr>\n",
              "      <th>1997</th>\n",
              "      <td>2023-12-27</td>\n",
              "      <td>XOM</td>\n",
              "      <td>-1.427767</td>\n",
              "      <td>-1.426973</td>\n",
              "      <td>-1.429101</td>\n",
              "      <td>-1.428021</td>\n",
              "      <td>-0.863287</td>\n",
              "      <td>-0.004699</td>\n",
              "      <td>0.011037</td>\n",
              "      <td>-0.012914</td>\n",
              "      <td>97.799618</td>\n",
              "    </tr>\n",
              "    <tr>\n",
              "      <th>1998</th>\n",
              "      <td>2023-12-28</td>\n",
              "      <td>XOM</td>\n",
              "      <td>-1.427930</td>\n",
              "      <td>-1.427203</td>\n",
              "      <td>-1.429410</td>\n",
              "      <td>-1.428388</td>\n",
              "      <td>-0.863287</td>\n",
              "      <td>-0.014460</td>\n",
              "      <td>0.011282</td>\n",
              "      <td>-0.010665</td>\n",
              "      <td>97.668631</td>\n",
              "    </tr>\n",
              "    <tr>\n",
              "      <th>1999</th>\n",
              "      <td>2023-12-29</td>\n",
              "      <td>XOM</td>\n",
              "      <td>-1.428185</td>\n",
              "      <td>-1.427452</td>\n",
              "      <td>-1.429541</td>\n",
              "      <td>-1.428440</td>\n",
              "      <td>-0.863287</td>\n",
              "      <td>-0.002096</td>\n",
              "      <td>0.011247</td>\n",
              "      <td>-0.017202</td>\n",
              "      <td>97.551063</td>\n",
              "    </tr>\n",
              "  </tbody>\n",
              "</table>\n",
              "<p>2000 rows × 11 columns</p>\n",
              "</div>"
            ],
            "text/plain": [
              "           Date Ticker      Open      High       Low     Close    Volume  \\\n",
              "0    2023-01-03   AAPL -1.419675 -1.419031 -1.422268 -1.421191 -0.863287   \n",
              "1    2023-01-04   AAPL -1.420550 -1.419597 -1.422028 -1.420859 -0.863287   \n",
              "2    2023-01-05   AAPL -1.420488 -1.419821 -1.422112 -1.421204 -0.863287   \n",
              "3    2023-01-06   AAPL -1.420778 -1.419185 -1.422078 -1.420019 -0.863287   \n",
              "4    2023-01-09   AAPL -1.419626 -1.418398 -1.420759 -1.419882 -0.863287   \n",
              "...         ...    ...       ...       ...       ...       ...       ...   \n",
              "1995 2023-12-22    XOM -1.427700 -1.426877 -1.428978 -1.427958 -0.863287   \n",
              "1996 2023-12-26    XOM -1.427592 -1.426855 -1.428901 -1.427901 -0.863287   \n",
              "1997 2023-12-27    XOM -1.427767 -1.426973 -1.429101 -1.428021 -0.863287   \n",
              "1998 2023-12-28    XOM -1.427930 -1.427203 -1.429410 -1.428388 -0.863287   \n",
              "1999 2023-12-29    XOM -1.428185 -1.427452 -1.429541 -1.428440 -0.863287   \n",
              "\n",
              "        Return  Volatility  Momentum  Moving_Avg  \n",
              "0     0.000000    0.000000  0.000000    0.000000  \n",
              "1     0.010314    0.000000  0.000000    0.000000  \n",
              "2    -0.010605    0.000000  0.000000    0.000000  \n",
              "3     0.036794    0.000000  0.000000    0.000000  \n",
              "4     0.004089    0.000000  0.000000    0.000000  \n",
              "...        ...         ...       ...         ...  \n",
              "1995  0.001769    0.011277  0.010010   97.892264  \n",
              "1996  0.002257    0.011193  0.004820   97.870862  \n",
              "1997 -0.004699    0.011037 -0.012914   97.799618  \n",
              "1998 -0.014460    0.011282 -0.010665   97.668631  \n",
              "1999 -0.002096    0.011247 -0.017202   97.551063  \n",
              "\n",
              "[2000 rows x 11 columns]"
            ]
          },
          "execution_count": 70,
          "metadata": {},
          "output_type": "execute_result"
        }
      ],
      "source": [
        "feature_cols = ['Open', 'High', 'Low', 'Close', 'Volume']\n",
        "\n",
        "df1[feature_cols] = scaler.transform(df1[feature_cols])\n",
        "df1"
      ]
    },
    {
      "cell_type": "code",
      "execution_count": 71,
      "metadata": {
        "id": "ZDKSFDdZ0JKv"
      },
      "outputs": [],
      "source": [
        "dates = sorted(df1['Date'].unique())\n",
        "val_graph_snapshots = []\n",
        "\n",
        "for date in dates:\n",
        "    x_t, y_t = get_features_for_date(df1, date, tickers, features)\n",
        "    val_graph_snapshots.append((x_t, y_t))"
      ]
    },
    {
      "cell_type": "code",
      "execution_count": 72,
      "metadata": {
        "colab": {
          "base_uri": "https://localhost:8080/"
        },
        "id": "Hsa3ba474JQ6",
        "outputId": "6b7db516-bca2-47af-c88d-89d04ab83b65"
      },
      "outputs": [
        {
          "data": {
            "text/plain": [
              "torch.Size([20, 9])"
            ]
          },
          "execution_count": 72,
          "metadata": {},
          "output_type": "execute_result"
        }
      ],
      "source": [
        "val_graph_snapshots[0][0].shape"
      ]
    },
    {
      "cell_type": "code",
      "execution_count": 73,
      "metadata": {
        "colab": {
          "base_uri": "https://localhost:8080/"
        },
        "id": "71Pj7aqh0ef8",
        "outputId": "c78fcd07-0c00-4cc0-dd08-4747a3532a81"
      },
      "outputs": [
        {
          "data": {
            "text/plain": [
              "Data(x=[20, 9], edge_index=[2, 36], y=[20, 5])"
            ]
          },
          "execution_count": 73,
          "metadata": {},
          "output_type": "execute_result"
        }
      ],
      "source": [
        "val_graphs = []\n",
        "\n",
        "for x_t, y_t in val_graph_snapshots:\n",
        "    graph = Data(x=x_t, edge_index=edge_index, y=y_t)\n",
        "    val_graphs.append(graph)\n",
        "val_graphs[0]"
      ]
    },
    {
      "cell_type": "code",
      "execution_count": 74,
      "metadata": {
        "id": "PntA7o4V1GRx"
      },
      "outputs": [],
      "source": [
        "from torch_geometric.nn import GATConv\n",
        "import torch.nn.functional as F\n",
        "\n",
        "class StockGAT(torch.nn.Module):\n",
        "    def __init__(self, in_channels, hidden_channels, out_channels=5, heads=2):\n",
        "        super().__init__()\n",
        "        self.conv1 = GATConv(in_channels, hidden_channels, heads=heads)\n",
        "        self.conv2 = GATConv(hidden_channels * heads, out_channels, heads=1)\n",
        "\n",
        "    def forward(self, x, edge_index):\n",
        "        x = F.elu(self.conv1(x, edge_index))\n",
        "        x = self.conv2(x, edge_index)\n",
        "        return x"
      ]
    },
    {
      "cell_type": "code",
      "execution_count": 75,
      "metadata": {
        "id": "g1dKmAdd1k0i"
      },
      "outputs": [],
      "source": [
        "model = StockGAT(in_channels=len(features), hidden_channels=32, out_channels=5)\n",
        "optimizer = torch.optim.Adam(model.parameters(), lr=0.0001, weight_decay=5e-4)\n",
        "loss_fn = torch.nn.MSELoss()\n",
        "scheduler = torch.optim.lr_scheduler.StepLR(optimizer, step_size=7, gamma=0.1)"
      ]
    },
    {
      "cell_type": "code",
      "execution_count": 76,
      "metadata": {
        "id": "TqjHi_Qv1n_0"
      },
      "outputs": [],
      "source": [
        "from torch_geometric.loader import DataLoader\n",
        "\n",
        "train_loader = DataLoader(graphs, batch_size=1, shuffle=True)\n",
        "val_loader = DataLoader(val_graphs, batch_size=1, shuffle=False)"
      ]
    },
    {
      "cell_type": "code",
      "execution_count": 77,
      "metadata": {
        "colab": {
          "base_uri": "https://localhost:8080/",
          "height": 841
        },
        "id": "eYYACw-22ccM",
        "outputId": "a30c3059-b562-4dc9-cc50-e87ebaea2913"
      },
      "outputs": [
        {
          "name": "stderr",
          "output_type": "stream",
          "text": [
            "                                                                        \r"
          ]
        },
        {
          "name": "stdout",
          "output_type": "stream",
          "text": [
            "Epoch 1 | Train Loss: 18.5167 | Val Loss: 2.1078\n"
          ]
        },
        {
          "name": "stderr",
          "output_type": "stream",
          "text": [
            "                                                                        \r"
          ]
        },
        {
          "name": "stdout",
          "output_type": "stream",
          "text": [
            "Epoch 2 | Train Loss: 0.7778 | Val Loss: 0.8323\n"
          ]
        },
        {
          "name": "stderr",
          "output_type": "stream",
          "text": [
            "                                                                        \r"
          ]
        },
        {
          "name": "stdout",
          "output_type": "stream",
          "text": [
            "Epoch 3 | Train Loss: 0.5717 | Val Loss: 0.8601\n"
          ]
        },
        {
          "name": "stderr",
          "output_type": "stream",
          "text": [
            "                                                                        \r"
          ]
        },
        {
          "name": "stdout",
          "output_type": "stream",
          "text": [
            "Epoch 4 | Train Loss: 0.4883 | Val Loss: 0.9137\n"
          ]
        },
        {
          "name": "stderr",
          "output_type": "stream",
          "text": [
            "                                                                        \r"
          ]
        },
        {
          "name": "stdout",
          "output_type": "stream",
          "text": [
            "Epoch 5 | Train Loss: 0.4490 | Val Loss: 0.8437\n"
          ]
        },
        {
          "name": "stderr",
          "output_type": "stream",
          "text": [
            "                                                                        \r"
          ]
        },
        {
          "name": "stdout",
          "output_type": "stream",
          "text": [
            "Epoch 6 | Train Loss: 0.4222 | Val Loss: 0.6710\n"
          ]
        },
        {
          "name": "stderr",
          "output_type": "stream",
          "text": [
            "                                                                        \r"
          ]
        },
        {
          "name": "stdout",
          "output_type": "stream",
          "text": [
            "Epoch 7 | Train Loss: 0.4051 | Val Loss: 0.5088\n"
          ]
        },
        {
          "name": "stderr",
          "output_type": "stream",
          "text": [
            "                                                                        \r"
          ]
        },
        {
          "name": "stdout",
          "output_type": "stream",
          "text": [
            "Epoch 8 | Train Loss: 0.3995 | Val Loss: 0.4829\n"
          ]
        },
        {
          "name": "stderr",
          "output_type": "stream",
          "text": [
            "                                                                        \r"
          ]
        },
        {
          "name": "stdout",
          "output_type": "stream",
          "text": [
            "Epoch 9 | Train Loss: 0.3990 | Val Loss: 0.4698\n"
          ]
        },
        {
          "name": "stderr",
          "output_type": "stream",
          "text": [
            "                                                                         \r"
          ]
        },
        {
          "name": "stdout",
          "output_type": "stream",
          "text": [
            "Epoch 10 | Train Loss: 0.3985 | Val Loss: 0.4617\n"
          ]
        },
        {
          "name": "stderr",
          "output_type": "stream",
          "text": [
            "                                                                         \r"
          ]
        },
        {
          "name": "stdout",
          "output_type": "stream",
          "text": [
            "Epoch 11 | Train Loss: 0.3981 | Val Loss: 0.4527\n"
          ]
        },
        {
          "name": "stderr",
          "output_type": "stream",
          "text": [
            "                                                                         \r"
          ]
        },
        {
          "name": "stdout",
          "output_type": "stream",
          "text": [
            "Epoch 12 | Train Loss: 0.3977 | Val Loss: 0.4482\n"
          ]
        },
        {
          "name": "stderr",
          "output_type": "stream",
          "text": [
            "                                                                         \r"
          ]
        },
        {
          "name": "stdout",
          "output_type": "stream",
          "text": [
            "Epoch 13 | Train Loss: 0.3974 | Val Loss: 0.4448\n"
          ]
        },
        {
          "name": "stderr",
          "output_type": "stream",
          "text": [
            "                                                                         \r"
          ]
        },
        {
          "name": "stdout",
          "output_type": "stream",
          "text": [
            "Epoch 14 | Train Loss: 0.3972 | Val Loss: 0.4426\n"
          ]
        },
        {
          "name": "stderr",
          "output_type": "stream",
          "text": [
            "                                                                         \r"
          ]
        },
        {
          "name": "stdout",
          "output_type": "stream",
          "text": [
            "Epoch 15 | Train Loss: 0.3970 | Val Loss: 0.4428\n"
          ]
        },
        {
          "name": "stderr",
          "output_type": "stream",
          "text": [
            "                                                                         \r"
          ]
        },
        {
          "name": "stdout",
          "output_type": "stream",
          "text": [
            "Epoch 16 | Train Loss: 0.3970 | Val Loss: 0.4426\n"
          ]
        },
        {
          "name": "stderr",
          "output_type": "stream",
          "text": [
            "                                                                         \r"
          ]
        },
        {
          "name": "stdout",
          "output_type": "stream",
          "text": [
            "Epoch 17 | Train Loss: 0.3969 | Val Loss: 0.4427\n"
          ]
        },
        {
          "name": "stderr",
          "output_type": "stream",
          "text": [
            "                                                                         \r"
          ]
        },
        {
          "name": "stdout",
          "output_type": "stream",
          "text": [
            "Epoch 18 | Train Loss: 0.3969 | Val Loss: 0.4429\n"
          ]
        },
        {
          "name": "stderr",
          "output_type": "stream",
          "text": [
            "                                                                         \r"
          ]
        },
        {
          "name": "stdout",
          "output_type": "stream",
          "text": [
            "Epoch 19 | Train Loss: 0.3969 | Val Loss: 0.4425\n"
          ]
        },
        {
          "name": "stderr",
          "output_type": "stream",
          "text": [
            "                                                                         "
          ]
        },
        {
          "name": "stdout",
          "output_type": "stream",
          "text": [
            "Epoch 20 | Train Loss: 0.3969 | Val Loss: 0.4427\n"
          ]
        },
        {
          "name": "stderr",
          "output_type": "stream",
          "text": [
            "\r"
          ]
        }
      ],
      "source": [
        "from tqdm import tqdm\n",
        "\n",
        "device = torch.device('cuda' if torch.cuda.is_available() else 'cpu')\n",
        "model = model.to(device)\n",
        "edge_index = edge_index.to(device)\n",
        "epochs = 20\n",
        "train_losses, val_losses = [], []\n",
        "\n",
        "for epoch in range(epochs):\n",
        "    model.train()\n",
        "    train_loss = 0\n",
        "    for batch in tqdm(train_loader, desc=f\"[Epoch {epoch+1}] Training\", leave=False):\n",
        "        batch = batch.to(device)\n",
        "\n",
        "        optimizer.zero_grad()\n",
        "        out = model(batch.x, batch.edge_index)\n",
        "        loss = loss_fn(out, batch.y)\n",
        "        loss.backward()\n",
        "        optimizer.step()\n",
        "        train_loss += loss.item()\n",
        "\n",
        "    train_loss /= len(train_loader)\n",
        "    train_losses.append(train_loss)\n",
        "\n",
        "    model.eval()\n",
        "    val_loss = 0\n",
        "    with torch.no_grad():\n",
        "        for batch in tqdm(val_loader, desc=f\"[Epoch {epoch+1}] Validation\", leave=False):\n",
        "            batch = batch.to(device)\n",
        "            out = model(batch.x, batch.edge_index)\n",
        "            loss = loss_fn(out, batch.y)\n",
        "            val_loss += loss.item()\n",
        "\n",
        "    val_loss /= len(val_loader)\n",
        "    val_losses.append(val_loss)\n",
        "    scheduler.step()\n",
        "    print(f\"Epoch {epoch+1} | Train Loss: {train_loss:.4f} | Val Loss: {val_loss:.4f}\")\n"
      ]
    },
    {
      "cell_type": "code",
      "execution_count": 78,
      "metadata": {
        "colab": {
          "base_uri": "https://localhost:8080/"
        },
        "id": "CZ25r_7e8LQL",
        "outputId": "c8422997-46ad-4199-f26d-a190e86b1cd5"
      },
      "outputs": [
        {
          "name": "stderr",
          "output_type": "stream",
          "text": [
            "                                                                      \r"
          ]
        }
      ],
      "source": [
        "model.eval()\n",
        "preds_list, actuals_list = [], []\n",
        "\n",
        "with torch.no_grad():\n",
        "    for batch in tqdm(val_loader, desc=\"Making Predictions\", leave=False):\n",
        "        batch = batch.to(device)\n",
        "        preds = model(batch.x, batch.edge_index)\n",
        "\n",
        "        preds_list.append(preds.cpu())\n",
        "        actuals_list.append(batch.y.cpu())"
      ]
    },
    {
      "cell_type": "code",
      "execution_count": 92,
      "metadata": {
        "id": "w9deUpRm_-hM"
      },
      "outputs": [],
      "source": [
        "import numpy as np\n",
        "\n",
        "preds = torch.cat(preds_list, dim=0)\n",
        "actuals = torch.cat(actuals_list, dim=0) \n",
        "\n",
        "mask = actuals.abs().sum(dim=1) > 0\n",
        "\n",
        "preds = preds[mask].numpy()\n",
        "actuals = actuals[mask].numpy()"
      ]
    },
    {
      "cell_type": "code",
      "execution_count": 93,
      "metadata": {
        "colab": {
          "base_uri": "https://localhost:8080/"
        },
        "id": "OoHgem1CABqa",
        "outputId": "7c804ae8-7d69-4578-c0b5-777da93fb0fe"
      },
      "outputs": [
        {
          "name": "stdout",
          "output_type": "stream",
          "text": [
            "MAE: 0.6792, RMSE: 0.5062\n"
          ]
        }
      ],
      "source": [
        "# preds = scaler.inverse_transform(preds)\n",
        "# actuals = scaler.inverse_transform(actuals)\n",
        "from sklearn.metrics import mean_absolute_error, mean_squared_error\n",
        "\n",
        "mae = mean_absolute_error(actuals, preds)\n",
        "rmse = mean_squared_error(actuals, preds)\n",
        "\n",
        "print(f\"MAE: {mae:.4f}, RMSE: {rmse:.4f}\")"
      ]
    },
    {
      "cell_type": "code",
      "execution_count": 98,
      "metadata": {
        "id": "o-TVD3YlAGkT"
      },
      "outputs": [],
      "source": [
        "a = pd.DataFrame(preds, columns=[\"Open\", \"High\", \"Low\", \"Close\", \"Volume\"])\n",
        "b = pd.DataFrame(df1[[\"Open\", \"High\", \"Low\", \"Close\", \"Volume\"]], columns=[\"Open\", \"High\", \"Low\", \"Close\", \"Volume\"])"
      ]
    },
    {
      "cell_type": "code",
      "execution_count": 99,
      "metadata": {
        "colab": {
          "base_uri": "https://localhost:8080/",
          "height": 424
        },
        "id": "-XZtvZV6ANKi",
        "outputId": "1daaa798-f99b-442c-e3b2-fa2391e8394b"
      },
      "outputs": [
        {
          "data": {
            "text/html": [
              "<div>\n",
              "<style scoped>\n",
              "    .dataframe tbody tr th:only-of-type {\n",
              "        vertical-align: middle;\n",
              "    }\n",
              "\n",
              "    .dataframe tbody tr th {\n",
              "        vertical-align: top;\n",
              "    }\n",
              "\n",
              "    .dataframe thead th {\n",
              "        text-align: right;\n",
              "    }\n",
              "</style>\n",
              "<table border=\"1\" class=\"dataframe\">\n",
              "  <thead>\n",
              "    <tr style=\"text-align: right;\">\n",
              "      <th></th>\n",
              "      <th>Open</th>\n",
              "      <th>High</th>\n",
              "      <th>Low</th>\n",
              "      <th>Close</th>\n",
              "      <th>Volume</th>\n",
              "    </tr>\n",
              "  </thead>\n",
              "  <tbody>\n",
              "    <tr>\n",
              "      <th>0</th>\n",
              "      <td>-0.414621</td>\n",
              "      <td>-0.362614</td>\n",
              "      <td>-0.331415</td>\n",
              "      <td>-0.429936</td>\n",
              "      <td>-0.148829</td>\n",
              "    </tr>\n",
              "    <tr>\n",
              "      <th>1</th>\n",
              "      <td>-0.594888</td>\n",
              "      <td>-0.669888</td>\n",
              "      <td>-0.512158</td>\n",
              "      <td>-0.610139</td>\n",
              "      <td>-0.378001</td>\n",
              "    </tr>\n",
              "    <tr>\n",
              "      <th>2</th>\n",
              "      <td>-0.963871</td>\n",
              "      <td>-1.331520</td>\n",
              "      <td>-0.894993</td>\n",
              "      <td>-0.946882</td>\n",
              "      <td>-0.880257</td>\n",
              "    </tr>\n",
              "    <tr>\n",
              "      <th>3</th>\n",
              "      <td>-0.474954</td>\n",
              "      <td>-0.464464</td>\n",
              "      <td>-0.391503</td>\n",
              "      <td>-0.491294</td>\n",
              "      <td>-0.223989</td>\n",
              "    </tr>\n",
              "    <tr>\n",
              "      <th>4</th>\n",
              "      <td>-0.476099</td>\n",
              "      <td>-0.466655</td>\n",
              "      <td>-0.393054</td>\n",
              "      <td>-0.492766</td>\n",
              "      <td>-0.223774</td>\n",
              "    </tr>\n",
              "    <tr>\n",
              "      <th>...</th>\n",
              "      <td>...</td>\n",
              "      <td>...</td>\n",
              "      <td>...</td>\n",
              "      <td>...</td>\n",
              "      <td>...</td>\n",
              "    </tr>\n",
              "    <tr>\n",
              "      <th>1995</th>\n",
              "      <td>-0.843252</td>\n",
              "      <td>-0.553690</td>\n",
              "      <td>-0.602326</td>\n",
              "      <td>-0.653665</td>\n",
              "      <td>-0.300287</td>\n",
              "    </tr>\n",
              "    <tr>\n",
              "      <th>1996</th>\n",
              "      <td>-0.826070</td>\n",
              "      <td>-0.549342</td>\n",
              "      <td>-0.596858</td>\n",
              "      <td>-0.651718</td>\n",
              "      <td>-0.305174</td>\n",
              "    </tr>\n",
              "    <tr>\n",
              "      <th>1997</th>\n",
              "      <td>-1.167381</td>\n",
              "      <td>-0.891637</td>\n",
              "      <td>-0.805128</td>\n",
              "      <td>-0.712987</td>\n",
              "      <td>-0.277171</td>\n",
              "    </tr>\n",
              "    <tr>\n",
              "      <th>1998</th>\n",
              "      <td>-1.105445</td>\n",
              "      <td>-0.708885</td>\n",
              "      <td>-0.656250</td>\n",
              "      <td>-0.608774</td>\n",
              "      <td>-0.143919</td>\n",
              "    </tr>\n",
              "    <tr>\n",
              "      <th>1999</th>\n",
              "      <td>-0.813520</td>\n",
              "      <td>-0.711964</td>\n",
              "      <td>-0.711632</td>\n",
              "      <td>-0.734080</td>\n",
              "      <td>-0.408544</td>\n",
              "    </tr>\n",
              "  </tbody>\n",
              "</table>\n",
              "<p>2000 rows × 5 columns</p>\n",
              "</div>"
            ],
            "text/plain": [
              "          Open      High       Low     Close    Volume\n",
              "0    -0.414621 -0.362614 -0.331415 -0.429936 -0.148829\n",
              "1    -0.594888 -0.669888 -0.512158 -0.610139 -0.378001\n",
              "2    -0.963871 -1.331520 -0.894993 -0.946882 -0.880257\n",
              "3    -0.474954 -0.464464 -0.391503 -0.491294 -0.223989\n",
              "4    -0.476099 -0.466655 -0.393054 -0.492766 -0.223774\n",
              "...        ...       ...       ...       ...       ...\n",
              "1995 -0.843252 -0.553690 -0.602326 -0.653665 -0.300287\n",
              "1996 -0.826070 -0.549342 -0.596858 -0.651718 -0.305174\n",
              "1997 -1.167381 -0.891637 -0.805128 -0.712987 -0.277171\n",
              "1998 -1.105445 -0.708885 -0.656250 -0.608774 -0.143919\n",
              "1999 -0.813520 -0.711964 -0.711632 -0.734080 -0.408544\n",
              "\n",
              "[2000 rows x 5 columns]"
            ]
          },
          "execution_count": 99,
          "metadata": {},
          "output_type": "execute_result"
        }
      ],
      "source": [
        "a"
      ]
    },
    {
      "cell_type": "code",
      "execution_count": 100,
      "metadata": {
        "colab": {
          "base_uri": "https://localhost:8080/",
          "height": 424
        },
        "id": "ohoDlvprANfe",
        "outputId": "caf5cfe2-1ad9-4baa-bec8-29cde2d50792"
      },
      "outputs": [
        {
          "data": {
            "text/html": [
              "<div>\n",
              "<style scoped>\n",
              "    .dataframe tbody tr th:only-of-type {\n",
              "        vertical-align: middle;\n",
              "    }\n",
              "\n",
              "    .dataframe tbody tr th {\n",
              "        vertical-align: top;\n",
              "    }\n",
              "\n",
              "    .dataframe thead th {\n",
              "        text-align: right;\n",
              "    }\n",
              "</style>\n",
              "<table border=\"1\" class=\"dataframe\">\n",
              "  <thead>\n",
              "    <tr style=\"text-align: right;\">\n",
              "      <th></th>\n",
              "      <th>Open</th>\n",
              "      <th>High</th>\n",
              "      <th>Low</th>\n",
              "      <th>Close</th>\n",
              "      <th>Volume</th>\n",
              "    </tr>\n",
              "  </thead>\n",
              "  <tbody>\n",
              "    <tr>\n",
              "      <th>0</th>\n",
              "      <td>-1.419675</td>\n",
              "      <td>-1.419031</td>\n",
              "      <td>-1.422268</td>\n",
              "      <td>-1.421191</td>\n",
              "      <td>-0.863287</td>\n",
              "    </tr>\n",
              "    <tr>\n",
              "      <th>1</th>\n",
              "      <td>-1.420550</td>\n",
              "      <td>-1.419597</td>\n",
              "      <td>-1.422028</td>\n",
              "      <td>-1.420859</td>\n",
              "      <td>-0.863287</td>\n",
              "    </tr>\n",
              "    <tr>\n",
              "      <th>2</th>\n",
              "      <td>-1.420488</td>\n",
              "      <td>-1.419821</td>\n",
              "      <td>-1.422112</td>\n",
              "      <td>-1.421204</td>\n",
              "      <td>-0.863287</td>\n",
              "    </tr>\n",
              "    <tr>\n",
              "      <th>3</th>\n",
              "      <td>-1.420778</td>\n",
              "      <td>-1.419185</td>\n",
              "      <td>-1.422078</td>\n",
              "      <td>-1.420019</td>\n",
              "      <td>-0.863287</td>\n",
              "    </tr>\n",
              "    <tr>\n",
              "      <th>4</th>\n",
              "      <td>-1.419626</td>\n",
              "      <td>-1.418398</td>\n",
              "      <td>-1.420759</td>\n",
              "      <td>-1.419882</td>\n",
              "      <td>-0.863287</td>\n",
              "    </tr>\n",
              "    <tr>\n",
              "      <th>...</th>\n",
              "      <td>...</td>\n",
              "      <td>...</td>\n",
              "      <td>...</td>\n",
              "      <td>...</td>\n",
              "      <td>...</td>\n",
              "    </tr>\n",
              "    <tr>\n",
              "      <th>1995</th>\n",
              "      <td>-1.427700</td>\n",
              "      <td>-1.426877</td>\n",
              "      <td>-1.428978</td>\n",
              "      <td>-1.427958</td>\n",
              "      <td>-0.863287</td>\n",
              "    </tr>\n",
              "    <tr>\n",
              "      <th>1996</th>\n",
              "      <td>-1.427592</td>\n",
              "      <td>-1.426855</td>\n",
              "      <td>-1.428901</td>\n",
              "      <td>-1.427901</td>\n",
              "      <td>-0.863287</td>\n",
              "    </tr>\n",
              "    <tr>\n",
              "      <th>1997</th>\n",
              "      <td>-1.427767</td>\n",
              "      <td>-1.426973</td>\n",
              "      <td>-1.429101</td>\n",
              "      <td>-1.428021</td>\n",
              "      <td>-0.863287</td>\n",
              "    </tr>\n",
              "    <tr>\n",
              "      <th>1998</th>\n",
              "      <td>-1.427930</td>\n",
              "      <td>-1.427203</td>\n",
              "      <td>-1.429410</td>\n",
              "      <td>-1.428388</td>\n",
              "      <td>-0.863287</td>\n",
              "    </tr>\n",
              "    <tr>\n",
              "      <th>1999</th>\n",
              "      <td>-1.428185</td>\n",
              "      <td>-1.427452</td>\n",
              "      <td>-1.429541</td>\n",
              "      <td>-1.428440</td>\n",
              "      <td>-0.863287</td>\n",
              "    </tr>\n",
              "  </tbody>\n",
              "</table>\n",
              "<p>2000 rows × 5 columns</p>\n",
              "</div>"
            ],
            "text/plain": [
              "          Open      High       Low     Close    Volume\n",
              "0    -1.419675 -1.419031 -1.422268 -1.421191 -0.863287\n",
              "1    -1.420550 -1.419597 -1.422028 -1.420859 -0.863287\n",
              "2    -1.420488 -1.419821 -1.422112 -1.421204 -0.863287\n",
              "3    -1.420778 -1.419185 -1.422078 -1.420019 -0.863287\n",
              "4    -1.419626 -1.418398 -1.420759 -1.419882 -0.863287\n",
              "...        ...       ...       ...       ...       ...\n",
              "1995 -1.427700 -1.426877 -1.428978 -1.427958 -0.863287\n",
              "1996 -1.427592 -1.426855 -1.428901 -1.427901 -0.863287\n",
              "1997 -1.427767 -1.426973 -1.429101 -1.428021 -0.863287\n",
              "1998 -1.427930 -1.427203 -1.429410 -1.428388 -0.863287\n",
              "1999 -1.428185 -1.427452 -1.429541 -1.428440 -0.863287\n",
              "\n",
              "[2000 rows x 5 columns]"
            ]
          },
          "execution_count": 100,
          "metadata": {},
          "output_type": "execute_result"
        }
      ],
      "source": [
        "b"
      ]
    },
    {
      "cell_type": "code",
      "execution_count": 102,
      "metadata": {
        "id": "h0-oXklrAOKS"
      },
      "outputs": [
        {
          "data": {
            "image/png": "[encoded data removed]",
            "text/plain": [
              "<Figure size 1200x500 with 1 Axes>"
            ]
          },
          "metadata": {},
          "output_type": "display_data"
        }
      ],
      "source": [
        "import matplotlib.pyplot as plt\n",
        "\n",
        "plt.figure(figsize=(12, 5))\n",
        "plt.plot(a.iloc[:, 3], label=\"Actual Close\", color=\"blue\")\n",
        "plt.plot(b.iloc[:, 3], label=\"Predicted Close\", color=\"red\", linestyle=\"dashed\")\n",
        "plt.legend()\n",
        "plt.title(\"Close Price Predictions\")\n",
        "plt.show()\n"
      ]
    },
    {
      "cell_type": "code",
      "execution_count": null,
      "metadata": {},
      "outputs": [],
      "source": []
    }
  ],
  "metadata": {
    "accelerator": "GPU",
    "colab": {
      "gpuType": "T4",
      "provenance": []
    },
    "kernelspec": {
      "display_name": "Python (myenv)",
      "language": "python",
      "name": "torch"
    },
    "language_info": {
      "codemirror_mode": {
        "name": "ipython",
        "version": 3
      },
      "file_extension": ".py",
      "mimetype": "text/x-python",
      "name": "python",
      "nbconvert_exporter": "python",
      "pygments_lexer": "ipython3",
      "version": "3.12.3"
    }
  },
  "nbformat": 4,
  "nbformat_minor": 0
}
